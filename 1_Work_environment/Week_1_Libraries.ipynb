{
 "cells": [
  {
   "cell_type": "markdown",
   "id": "8b936772-3366-4677-854a-2c396e1013fe",
   "metadata": {},
   "source": [
    "# Intro to our software toolset"
   ]
  },
  {
   "cell_type": "markdown",
   "id": "3323e807-30d6-4c9d-b183-df0a0513abf6",
   "metadata": {},
   "source": [
    "## Numpy"
   ]
  },
  {
   "cell_type": "markdown",
   "id": "200cce37-4e04-41bf-ae16-e023bb9be137",
   "metadata": {},
   "source": [
    "## Pandas"
   ]
  },
  {
   "cell_type": "markdown",
   "id": "9862575a-1e5a-4846-97b2-c635783f2c2f",
   "metadata": {},
   "source": [
    "## Matplotlib"
   ]
  },
  {
   "cell_type": "markdown",
   "id": "bdba99b8-0399-4480-a04f-3ccec0693256",
   "metadata": {},
   "source": [
    "## Scikit-learn"
   ]
  },
  {
   "cell_type": "code",
   "execution_count": null,
   "id": "84f7d46d-8c8b-48ce-bea1-03c75506f3af",
   "metadata": {},
   "outputs": [],
   "source": []
  }
 ],
 "metadata": {
  "kernelspec": {
   "display_name": "sci",
   "language": "python",
   "name": "sci"
  },
  "language_info": {
   "codemirror_mode": {
    "name": "ipython",
    "version": 3
   },
   "file_extension": ".py",
   "mimetype": "text/x-python",
   "name": "python",
   "nbconvert_exporter": "python",
   "pygments_lexer": "ipython3",
   "version": "3.8.10"
  }
 },
 "nbformat": 4,
 "nbformat_minor": 5
}
