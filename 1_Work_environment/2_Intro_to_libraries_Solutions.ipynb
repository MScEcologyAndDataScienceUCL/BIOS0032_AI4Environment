{
  "cells": [
    {
      "cell_type": "markdown",
      "id": "e4081d15-5264-466c-b087-ee47a5c75409",
      "metadata": {
        "id": "e4081d15-5264-466c-b087-ee47a5c75409"
      },
      "source": [
        "<a href=\"https://colab.research.google.com/github/MScEcologyAndDataScienceUCL/BIOS0032_AI4Environment/blob/main/1_Work_environment/2_Intro_to_libraries.ipynb\" target=\"_parent\"><img src=\"https://colab.research.google.com/assets/colab-badge.svg\" alt=\"Open In Colab\"/></a>"
      ]
    },
    {
      "cell_type": "markdown",
      "id": "8b936772-3366-4677-854a-2c396e1013fe",
      "metadata": {
        "id": "8b936772-3366-4677-854a-2c396e1013fe"
      },
      "source": [
        "# **Our software toolset**"
      ]
    },
    {
      "cell_type": "markdown",
      "id": "b5916990-668c-4601-9a84-c9c7cf44cb49",
      "metadata": {
        "id": "b5916990-668c-4601-9a84-c9c7cf44cb49"
      },
      "source": [
        "Python is a general programing language. This means you can make Python do anything a computer can do.\n",
        "\n",
        "It is also a lenient and intuitive language - compared to others - and useful for fast prototyping and exploration.\n",
        "\n",
        "Python provides a basic set of tools for code building. These are the **builtin functions**, such as `print`, and the **standard library**. With these basic tools you can build anything. \n",
        "\n",
        "However, Python has been a popular language for decades and the wide community of its users has developed amazing tools - built upon the basic set - to help write code for many tasks. These are third-party **libraries** or **packages**, and you will find a huge variety of them, from tools to do ML, create web apps, make games, make beatiful plots, do statistics, etc.\n",
        "\n",
        "The use of these third-party libraries is key if you wish to do complex stuff in Python **fast**. It is worthwhile to learn the tools in your programming niche. The popular libraries are generally well-writen, safe, efficient and tested, and so it is not advised to write your own solution, unless it does not exist, you have very good reasons to make a new one, or for educational purposes. "
      ]
    },
    {
      "cell_type": "markdown",
      "id": "67cbeffd-e8c3-499d-93a6-0a2887998718",
      "metadata": {
        "id": "67cbeffd-e8c3-499d-93a6-0a2887998718"
      },
      "source": [
        "This notebook is a brief introduction to some of the libraries we will be using across these Labs. You will learn\n",
        "\n",
        "1. How to handle file paths correctly with the standard library.\n",
        "2. The basics of **numpy**, a library to accelerate scientific computation.\n",
        "3. How to handle tabular data with **pandas**.\n",
        "4. How to make some basic plots with **matplotlib** and **seaborn**\n",
        "\n",
        "We cannot go deeply into any one, but we encourage you to seek out more information should you need to by looking into the documentation, tutorials or examples."
      ]
    },
    {
      "cell_type": "markdown",
      "id": "a7e82bf0-14d1-4e0c-89ba-b96ea4bc9e9e",
      "metadata": {
        "id": "a7e82bf0-14d1-4e0c-89ba-b96ea4bc9e9e"
      },
      "source": [
        "## 1. The Standard Library"
      ]
    },
    {
      "cell_type": "markdown",
      "id": "bc2eaec4-b0ad-4be9-8edc-4f5f10d66663",
      "metadata": {
        "id": "bc2eaec4-b0ad-4be9-8edc-4f5f10d66663"
      },
      "source": [
        "The standard library is a set of tools that comes included in any Python installation. These are over 200 tools that Python developers consider essential, such as\n",
        "\n",
        "* Exploring the filesystem\n",
        "* Reading/writing in files in basic formats (such as CSV, JSON)\n",
        "* Parallel computation\n",
        "* Executing other programs from Python\n",
        "\n",
        "And many others. Have a look at the [full list](https://docs.python.org/3/library/) if interested."
      ]
    },
    {
      "cell_type": "markdown",
      "id": "4f72425f-db95-4ef4-8a10-ab7f14e2c919",
      "metadata": {
        "id": "4f72425f-db95-4ef4-8a10-ab7f14e2c919"
      },
      "source": [
        "### `pathlib` and `os`"
      ]
    },
    {
      "cell_type": "markdown",
      "id": "5548844f-edfb-47f4-a8b8-408a855b2f40",
      "metadata": {
        "id": "5548844f-edfb-47f4-a8b8-408a855b2f40"
      },
      "source": [
        "Handling file paths is tricky, as this is OS-dependent - simple example: Windows uses the backward slash `\\`, Linux and MacOS uses the forward slash `/`.\n",
        "\n",
        "If not careful, a Python program that runs in Windows might **break** in MacOS.\n",
        "\n",
        "To avoid this use `pathlib` module (or the older `os` module)."
      ]
    },
    {
      "cell_type": "code",
      "execution_count": 1,
      "id": "4b12c393-7f0e-41d8-a0af-2eac3f0ad6b7",
      "metadata": {
        "id": "4b12c393-7f0e-41d8-a0af-2eac3f0ad6b7"
      },
      "outputs": [],
      "source": [
        "# Import Path object from pathlib. pathlib is in the standard library and will always be available\n",
        "from pathlib import Path"
      ]
    },
    {
      "cell_type": "code",
      "execution_count": 2,
      "id": "0dd7ace9-d4a5-48c1-885d-f811ced1efb6",
      "metadata": {
        "id": "0dd7ace9-d4a5-48c1-885d-f811ced1efb6"
      },
      "outputs": [],
      "source": [
        "# Create a path instance pointing to this notebook\n",
        "path = Path(\"2_Intro_to_libraries.ipynb\")"
      ]
    },
    {
      "cell_type": "code",
      "execution_count": 3,
      "id": "96e5bc85-feda-45d5-83c5-688219d9100a",
      "metadata": {
        "id": "96e5bc85-feda-45d5-83c5-688219d9100a",
        "colab": {
          "base_uri": "https://localhost:8080/"
        },
        "outputId": "8fdeee08-d166-4b6d-cb52-365cafdd209b"
      },
      "outputs": [
        {
          "output_type": "stream",
          "name": "stdout",
          "text": [
            "Full path: /content/2_Intro_to_libraries.ipynb\n"
          ]
        }
      ],
      "source": [
        "# Print the full path\n",
        "print(f\"Full path: {path.resolve()}\")"
      ]
    },
    {
      "cell_type": "code",
      "execution_count": 4,
      "id": "c94b1dda-024e-4fa0-b6e5-71eb094343d4",
      "metadata": {
        "id": "c94b1dda-024e-4fa0-b6e5-71eb094343d4",
        "colab": {
          "base_uri": "https://localhost:8080/"
        },
        "outputId": "6ccae6e2-9990-4c93-d13d-ea226f4a4232"
      },
      "outputs": [
        {
          "output_type": "stream",
          "name": "stdout",
          "text": [
            "path.exists() = False, path.is_file() = False, path.is_dir() = False\n"
          ]
        }
      ],
      "source": [
        "# Test if the file exist\n",
        "print(f\"{path.exists() = }, {path.is_file() = }, {path.is_dir() = }\")"
      ]
    },
    {
      "cell_type": "code",
      "execution_count": 5,
      "id": "28c0cc79-c8ed-48b7-84a7-3af1c7369d8e",
      "metadata": {
        "id": "28c0cc79-c8ed-48b7-84a7-3af1c7369d8e",
        "colab": {
          "base_uri": "https://localhost:8080/"
        },
        "outputId": "78c458b4-9ff3-488e-f17d-701deb21676b"
      },
      "outputs": [
        {
          "output_type": "stream",
          "name": "stdout",
          "text": [
            "Parent directory: /content\n"
          ]
        }
      ],
      "source": [
        "# Get the containing directory or folder\n",
        "parent_directory = path.parent\n",
        "print(f\"Parent directory: {parent_directory.resolve()}\")"
      ]
    },
    {
      "cell_type": "code",
      "execution_count": 6,
      "id": "c9096811-4ba5-4da2-a6ee-0cdf0130b2db",
      "metadata": {
        "id": "c9096811-4ba5-4da2-a6ee-0cdf0130b2db"
      },
      "outputs": [],
      "source": [
        "# Use path objects to navigate\n",
        "other_notebook = (\n",
        "    parent_directory / \"1_Intro_to_colab.ipynb\"\n",
        ")  # Get file in parent directory\n",
        "parent_parent_dir = parent_directory / \"..\"  # Go up one folder"
      ]
    },
    {
      "cell_type": "code",
      "execution_count": 7,
      "id": "8bd28ca5-916d-4983-8b02-e62b980a185a",
      "metadata": {
        "id": "8bd28ca5-916d-4983-8b02-e62b980a185a",
        "colab": {
          "base_uri": "https://localhost:8080/"
        },
        "outputId": "2c090af4-11bb-42c0-ba97-266ee3d5d988"
      },
      "outputs": [
        {
          "output_type": "stream",
          "name": "stdout",
          "text": [
            "temp_file.exists() = False\n",
            "temp_file.exists() = True\n",
            "Hello world!\n"
          ]
        }
      ],
      "source": [
        "temp_file = parent_directory / \"notes.txt\"\n",
        "print(f\"{temp_file.exists() = }\")\n",
        "\n",
        "# Create empty file\n",
        "temp_file.touch()\n",
        "print(f\"{temp_file.exists() = }\")\n",
        "\n",
        "# Write to file\n",
        "temp_file.write_text(\"Hello world!\")\n",
        "\n",
        "# Read file\n",
        "with temp_file.open() as fp:\n",
        "    print(fp.read())"
      ]
    },
    {
      "cell_type": "code",
      "execution_count": 8,
      "id": "e8b8bbfc-2496-49bf-9fa4-a88200e49306",
      "metadata": {
        "id": "e8b8bbfc-2496-49bf-9fa4-a88200e49306",
        "colab": {
          "base_uri": "https://localhost:8080/"
        },
        "outputId": "21b35575-79b9-4084-a1f2-b238ad831846"
      },
      "outputs": [
        {
          "output_type": "stream",
          "name": "stdout",
          "text": [
            "full_path = PosixPath('/content/2_Intro_to_libraries.ipynb')\n",
            "full_path.name = '2_Intro_to_libraries.ipynb'\n",
            "full_path.stem = '2_Intro_to_libraries'\n",
            "full_path.suffix = '.ipynb'\n",
            "full_path.root = '/'\n",
            "full_path.parent = PosixPath('/content')\n",
            "full_path.parts = ('/', 'content', '2_Intro_to_libraries.ipynb')\n"
          ]
        }
      ],
      "source": [
        "# Break path into its components\n",
        "full_path = path.absolute()\n",
        "print(f\"{full_path = }\")\n",
        "print(f\"{full_path.name = }\")\n",
        "print(f\"{full_path.stem = }\")\n",
        "print(f\"{full_path.suffix = }\")\n",
        "print(f\"{full_path.root = }\")\n",
        "print(f\"{full_path.parent = }\")\n",
        "print(f\"{full_path.parts = }\")"
      ]
    },
    {
      "cell_type": "code",
      "execution_count": 9,
      "id": "d3548ace-8a99-4f00-98fd-fe47ec19acae",
      "metadata": {
        "id": "d3548ace-8a99-4f00-98fd-fe47ec19acae",
        "colab": {
          "base_uri": "https://localhost:8080/"
        },
        "outputId": "795471e9-1e5d-4ba3-bfdd-160afdc5df55"
      },
      "outputs": [
        {
          "output_type": "stream",
          "name": "stdout",
          "text": [
            "['.config', 'notes.txt', 'sample_data']\n"
          ]
        }
      ],
      "source": [
        "# Use the os module for communication with the OS\n",
        "import os\n",
        "\n",
        "# List all files in the parent directory\n",
        "print(os.listdir(parent_directory))"
      ]
    },
    {
      "cell_type": "code",
      "execution_count": 10,
      "id": "24a0a6ad-2bec-45b4-a328-a9ee0304dcdd",
      "metadata": {
        "id": "24a0a6ad-2bec-45b4-a328-a9ee0304dcdd"
      },
      "outputs": [],
      "source": [
        "# Check if file exists\n",
        "if temp_file.exists():\n",
        "    # And remove if it does\n",
        "    os.remove(temp_file)"
      ]
    },
    {
      "cell_type": "markdown",
      "id": "3323e807-30d6-4c9d-b183-df0a0513abf6",
      "metadata": {
        "id": "3323e807-30d6-4c9d-b183-df0a0513abf6"
      },
      "source": [
        "## 2. Numpy"
      ]
    },
    {
      "cell_type": "markdown",
      "id": "4804a002-497c-490f-85c8-5103083a7a26",
      "metadata": {
        "id": "4804a002-497c-490f-85c8-5103083a7a26"
      },
      "source": [
        "Python is considered flexible and easy to write. Unfortunately, this comes at a cost as, in general, Python is not the fastest language out there.\n",
        "\n",
        "However, you **can** get fast computation if you use the right tools. In particular, `NumPy` is a **numerical computation** library for Python that can greatly increase performance. \n",
        "\n",
        "It is not part of the standard library, but it is so fundamental that all Python packages for scientific computing are built upon - or are compatible with - `numpy`.\n",
        "\n",
        "Here you will learn the basics of numpy:\n",
        "\n",
        "1. What is a numpy array?\n",
        "2. How to create arrays?\n",
        "3. How to do computation with arrays?\n",
        "\n",
        "We recomend diving into the [NumPy quickstart](https://numpy.org/doc/stable/user/quickstart.html) for more information."
      ]
    },
    {
      "cell_type": "markdown",
      "id": "cc79c172-c8fb-427f-a66c-de4eecd0d95d",
      "metadata": {
        "id": "cc79c172-c8fb-427f-a66c-de4eecd0d95d"
      },
      "source": [
        "### Numpy arrays"
      ]
    },
    {
      "cell_type": "markdown",
      "id": "255c2166-c223-4c31-98fd-f5ff85b45818",
      "metadata": {
        "id": "255c2166-c223-4c31-98fd-f5ff85b45818"
      },
      "source": [
        "Numpy provides a basic data structure for efficient computation: the numpy **array**.\n",
        "\n",
        "A numpy array is a table collection of values (usually numbers) that can be indexed by multiple non negative indices."
      ]
    },
    {
      "cell_type": "markdown",
      "id": "a35d5a41-5afa-4be6-9a57-603b83133032",
      "metadata": {
        "id": "a35d5a41-5afa-4be6-9a57-603b83133032"
      },
      "source": [
        "![numpy arrays](https://predictivehacks.com/wp-content/uploads/2020/08/numpy_arrays-1024x572.png)\n",
        "\n",
        "A graphical depiction of arrays of dimensions 1, 2 and 3"
      ]
    },
    {
      "cell_type": "code",
      "execution_count": 11,
      "id": "b3f4db6d-bbda-473a-b20a-2acfb596e210",
      "metadata": {
        "id": "b3f4db6d-bbda-473a-b20a-2acfb596e210"
      },
      "outputs": [],
      "source": [
        "# Import numpy, it should be preinstalled in a colab environment.\n",
        "import numpy as np  # Usually numpy is abreviated as np"
      ]
    },
    {
      "cell_type": "code",
      "execution_count": 12,
      "id": "bed252c6-384f-4648-9df7-225328efdfc6",
      "metadata": {
        "id": "bed252c6-384f-4648-9df7-225328efdfc6",
        "colab": {
          "base_uri": "https://localhost:8080/"
        },
        "outputId": "3ee078e5-98fa-432d-c425-6fe69feb1e88"
      },
      "outputs": [
        {
          "output_type": "stream",
          "name": "stdout",
          "text": [
            "1 4 2 0\n"
          ]
        }
      ],
      "source": [
        "# Numpy stores data in \"arrays\".\n",
        "array = np.array([1, 4, 2, 0])\n",
        "\n",
        "# Array vaues can be accesed through indices\n",
        "print(array[0], array[1], array[2], array[3])"
      ]
    },
    {
      "cell_type": "code",
      "execution_count": 13,
      "id": "373c2207-27e7-4745-90e9-27b3af83e875",
      "metadata": {
        "id": "373c2207-27e7-4745-90e9-27b3af83e875",
        "colab": {
          "base_uri": "https://localhost:8080/"
        },
        "outputId": "9ce35016-77a0-4374-cc50-caa1d47e2f42"
      },
      "outputs": [
        {
          "output_type": "stream",
          "name": "stdout",
          "text": [
            "matrix.ndim = 2, matrix.shape = (2, 2)\n"
          ]
        }
      ],
      "source": [
        "# Arrays can have multiple \"dimensions\" or \"axis\"\n",
        "matrix = np.array([[0, 1], [-1, 1]])\n",
        "print(f\"{matrix.ndim = }, {matrix.shape = }\")"
      ]
    },
    {
      "cell_type": "code",
      "execution_count": 14,
      "id": "017c076b-6441-4c8a-87cc-acb9c3c3e10e",
      "metadata": {
        "id": "017c076b-6441-4c8a-87cc-acb9c3c3e10e",
        "colab": {
          "base_uri": "https://localhost:8080/"
        },
        "outputId": "f9debcd0-ac4d-466e-ceaf-154027107dee"
      },
      "outputs": [
        {
          "output_type": "stream",
          "name": "stdout",
          "text": [
            "1\n"
          ]
        }
      ],
      "source": [
        "# Access array values using multiple indices\n",
        "print(matrix[0, 1])"
      ]
    },
    {
      "cell_type": "markdown",
      "id": "c0c926c8-6feb-426c-819a-e5184a849267",
      "metadata": {
        "id": "c0c926c8-6feb-426c-819a-e5184a849267"
      },
      "source": [
        "### Creating arrays"
      ]
    },
    {
      "cell_type": "code",
      "execution_count": 15,
      "id": "db65d86d-67c0-4480-8827-24db367a1dff",
      "metadata": {
        "id": "db65d86d-67c0-4480-8827-24db367a1dff",
        "colab": {
          "base_uri": "https://localhost:8080/"
        },
        "outputId": "d81e2559-68f0-4f1f-c337-c252f091a21d"
      },
      "outputs": [
        {
          "output_type": "execute_result",
          "data": {
            "text/plain": [
              "array([[1, 2, 3],\n",
              "       [4, 5, 6],\n",
              "       [7, 8, 9]])"
            ]
          },
          "metadata": {},
          "execution_count": 15
        }
      ],
      "source": [
        "# Create array by providing its values\n",
        "array = np.array([[1, 2, 3], [4, 5, 6], [7, 8, 9]])\n",
        "\n",
        "array"
      ]
    },
    {
      "cell_type": "code",
      "execution_count": 16,
      "id": "e24df7fc-eba1-44e7-af6d-8b11b38d327f",
      "metadata": {
        "id": "e24df7fc-eba1-44e7-af6d-8b11b38d327f",
        "colab": {
          "base_uri": "https://localhost:8080/"
        },
        "outputId": "dcbb05b9-3a57-4042-fda3-645eb72f4d8b"
      },
      "outputs": [
        {
          "output_type": "execute_result",
          "data": {
            "text/plain": [
              "array([[0., 0., 0.],\n",
              "       [0., 0., 0.],\n",
              "       [0., 0., 0.]])"
            ]
          },
          "metadata": {},
          "execution_count": 16
        }
      ],
      "source": [
        "# Create array of zeros\n",
        "zeros = np.zeros([3, 3])\n",
        "\n",
        "zeros"
      ]
    },
    {
      "cell_type": "code",
      "execution_count": 17,
      "id": "c5a42ac1-6aa4-400e-a86e-b809251e8890",
      "metadata": {
        "id": "c5a42ac1-6aa4-400e-a86e-b809251e8890",
        "colab": {
          "base_uri": "https://localhost:8080/"
        },
        "outputId": "ebb58d2e-8ed2-4def-d2c0-63bb95b85e05"
      },
      "outputs": [
        {
          "output_type": "execute_result",
          "data": {
            "text/plain": [
              "array([ 0.,  5., 10., 15., 20., 25., 30., 35., 40., 45., 50.])"
            ]
          },
          "metadata": {},
          "execution_count": 17
        }
      ],
      "source": [
        "# Create an array containing a range of values\n",
        "range_array = np.linspace(0, 50, 11)  # Array of values from 0 to 50 of length 11\n",
        "\n",
        "range_array"
      ]
    },
    {
      "cell_type": "code",
      "execution_count": 18,
      "id": "8845327b-427f-430c-9b50-6e38520f1839",
      "metadata": {
        "id": "8845327b-427f-430c-9b50-6e38520f1839"
      },
      "outputs": [],
      "source": [
        "# Numpy provides many random number generators\n",
        "# np.random.random provides random numbers between 0 and 1.\n",
        "random_array = np.random.random(size=(10, 10, 10))"
      ]
    },
    {
      "cell_type": "markdown",
      "id": "8f058e44-a8a1-4814-8db3-d67ddf67a994",
      "metadata": {
        "id": "8f058e44-a8a1-4814-8db3-d67ddf67a994"
      },
      "source": [
        "### Computing with arrays"
      ]
    },
    {
      "cell_type": "code",
      "execution_count": 19,
      "id": "d850417f-a1ce-408b-84ff-74fe4aea34fb",
      "metadata": {
        "id": "d850417f-a1ce-408b-84ff-74fe4aea34fb",
        "colab": {
          "base_uri": "https://localhost:8080/"
        },
        "outputId": "d8177646-6a47-48b1-8c65-25b5c8f5de7a"
      },
      "outputs": [
        {
          "output_type": "stream",
          "name": "stdout",
          "text": [
            "minimum = 0.0019647951440154854, maximum = 0.9963631955150065, mean = 0.5047988236152863, total_sum = 504.7988236152863,\n"
          ]
        }
      ],
      "source": [
        "# Compute the minimum, maximum, mean and total sum of array values\n",
        "minimum = random_array.min()\n",
        "maximum = random_array.max()\n",
        "mean = random_array.mean()\n",
        "total_sum = random_array.sum()\n",
        "\n",
        "print(f\"{minimum = }, {maximum = }, {mean = }, {total_sum = },\")"
      ]
    },
    {
      "cell_type": "code",
      "execution_count": 20,
      "id": "9857ac84-24c8-4f9a-8d87-b33942082404",
      "metadata": {
        "id": "9857ac84-24c8-4f9a-8d87-b33942082404",
        "colab": {
          "base_uri": "https://localhost:8080/"
        },
        "outputId": "ae1ca6c9-e1f9-4a71-93bb-0645116a54b1"
      },
      "outputs": [
        {
          "output_type": "execute_result",
          "data": {
            "text/plain": [
              "array([[ 0.54030231, -0.41614684, -0.9899925 ],\n",
              "       [-0.65364362,  0.28366219,  0.96017029],\n",
              "       [ 0.75390225, -0.14550003, -0.91113026]])"
            ]
          },
          "metadata": {},
          "execution_count": 20
        }
      ],
      "source": [
        "# Numpy provides many common mathematical functions\n",
        "x = 10\n",
        "\n",
        "square_root = np.sqrt(x)\n",
        "sine = np.sin(x)\n",
        "exponential = np.exp(x)\n",
        "logarithm = np.log(x)\n",
        "\n",
        "# Apply function to each array value\n",
        "np.cos(array)"
      ]
    },
    {
      "cell_type": "code",
      "execution_count": 21,
      "id": "e531fcef-e8ae-4104-8b2b-421a2b8c44f2",
      "metadata": {
        "id": "e531fcef-e8ae-4104-8b2b-421a2b8c44f2"
      },
      "outputs": [],
      "source": [
        "# Operate arrays\n",
        "y = array + np.sqrt(array)  # Sum\n",
        "z = 10 * array  # Multiplication\n",
        "w = z @ y  # Matrix  multiplication\n",
        "u = w >= 1000  # Comparison"
      ]
    },
    {
      "cell_type": "markdown",
      "id": "172fcfe5-0e7e-432e-8850-a21ce0a30f94",
      "metadata": {
        "id": "172fcfe5-0e7e-432e-8850-a21ce0a30f94"
      },
      "source": [
        "**Exercise**: Use google or ChatGPT to investigate how to make a histogram of the values in the `random_array`. "
      ]
    },
    {
      "cell_type": "code",
      "source": [
        "# Use numpy's histogram function\n",
        "counts, bin_edges = np.histogram(random_array)\n",
        "\n",
        "# Counts is an array that contains the number of values per\n",
        "# histogram bin\n",
        "print(\"Counts: \", counts)"
      ],
      "metadata": {
        "colab": {
          "base_uri": "https://localhost:8080/"
        },
        "id": "xz3SEifiH24a",
        "outputId": "976172ff-efa9-427e-fa0e-a13c3d950202"
      },
      "id": "xz3SEifiH24a",
      "execution_count": 69,
      "outputs": [
        {
          "output_type": "stream",
          "name": "stdout",
          "text": [
            "Counts:  [101 101  96  97  96  88 113  99  97 112]\n",
            "Bin 1 = [0.0019647951440154854, 0.10140463518111459)\n"
          ]
        }
      ]
    },
    {
      "cell_type": "code",
      "source": [
        "# Print the number of values within each bin. \n",
        "# The zip function lets you iterate over two list at the same time.\n",
        "# Iterating over zip([\"a\", \"b\"], [1, 2]) would yield (\"a\", 1) and (\"b\", 2).\n",
        "for count, edges in zip(counts, zip(bin_edges[:-1], bin_edges[1:])):\n",
        "  print(f'{count} values in the interval [{edges[0]:.2f}, {edges[1]:.2f})')"
      ],
      "metadata": {
        "colab": {
          "base_uri": "https://localhost:8080/"
        },
        "id": "5bdevw4rH-TX",
        "outputId": "e9f99170-2c5d-40c9-b2a4-ff66d514a555"
      },
      "id": "5bdevw4rH-TX",
      "execution_count": 66,
      "outputs": [
        {
          "output_type": "stream",
          "name": "stdout",
          "text": [
            "101 values in the interval [0.00, 0.10)\n",
            "101 values in the interval [0.10, 0.20)\n",
            "96 values in the interval [0.20, 0.30)\n",
            "97 values in the interval [0.30, 0.40)\n",
            "96 values in the interval [0.40, 0.50)\n",
            "88 values in the interval [0.50, 0.60)\n",
            "113 values in the interval [0.60, 0.70)\n",
            "99 values in the interval [0.70, 0.80)\n",
            "97 values in the interval [0.80, 0.90)\n",
            "112 values in the interval [0.90, 1.00)\n"
          ]
        }
      ]
    },
    {
      "cell_type": "markdown",
      "source": [
        "You can read more on string formating in Python [here](https://pyformat.info/)."
      ],
      "metadata": {
        "id": "3tvv7Pb3KVfd"
      },
      "id": "3tvv7Pb3KVfd"
    },
    {
      "cell_type": "markdown",
      "id": "200cce37-4e04-41bf-ae16-e023bb9be137",
      "metadata": {
        "id": "200cce37-4e04-41bf-ae16-e023bb9be137"
      },
      "source": [
        "## 3. Pandas"
      ]
    },
    {
      "cell_type": "markdown",
      "id": "44b3be7e-34a6-4241-8355-3bec090d0db9",
      "metadata": {
        "id": "44b3be7e-34a6-4241-8355-3bec090d0db9"
      },
      "source": [
        "**Pandas** is *the* Python library for handling **tabular data** and general **data analysis**. \n",
        "\n",
        "The basic objects provided by pandas are the `DataFrame` and `Series`. They are tables and vectors that are also indexed by column names and row indices."
      ]
    },
    {
      "cell_type": "markdown",
      "id": "6991c017-8465-424f-ad56-d90d25bd457d",
      "metadata": {
        "id": "6991c017-8465-424f-ad56-d90d25bd457d"
      },
      "source": [
        "![pandas dataframe](https://pynative.com/wp-content/uploads/2021/02/dataframe.png)\n",
        "\n",
        "Figure: Pandas table, taken from [PyNative blog entry on pandas dataframes](https://pynative.com/python-pandas-dataframe/)."
      ]
    },
    {
      "cell_type": "markdown",
      "id": "169c31bf-81ad-41b7-ab47-b3d7b123720e",
      "metadata": {
        "id": "169c31bf-81ad-41b7-ab47-b3d7b123720e"
      },
      "source": [
        "In this section you will learn how to use pandas in order to:\n",
        "\n",
        "1. Load or create a dataframe\n",
        "2. Obtain basic info of a dataframe\n",
        "3. Read and edit data in a dataframe\n",
        "4. Filter relevant values in dataframes\n",
        "5. Do computation on dataframes\n",
        "6. Do aggregation on dataframes\n",
        "\n",
        "Use the [getting started tutorials](https://pandas.pydata.org/docs/getting_started/intro_tutorials/) to learn more about **pandas**. \n",
        "\n",
        "If you are familiar with R, you will be used to handle `dataframe`s which is similar to pandas `DataFrame`. Check out this [comparison](https://pandas.pydata.org/docs/getting_started/comparison/comparison_with_r.html) for help translating concepts into **pandas**."
      ]
    },
    {
      "cell_type": "markdown",
      "id": "76dfa934-c21d-4787-be37-9d3ad321ae15",
      "metadata": {
        "id": "76dfa934-c21d-4787-be37-9d3ad321ae15"
      },
      "source": [
        "### Loading or creating dataframes"
      ]
    },
    {
      "cell_type": "code",
      "execution_count": 22,
      "id": "a9642ec2-2e0b-4d89-a4d1-dd7eb9068982",
      "metadata": {
        "id": "a9642ec2-2e0b-4d89-a4d1-dd7eb9068982"
      },
      "outputs": [],
      "source": [
        "import pandas as pd  # Pandas is usually abreviated as pd"
      ]
    },
    {
      "cell_type": "code",
      "execution_count": 23,
      "id": "fecce485-bf28-464d-b6df-dac33914eb57",
      "metadata": {
        "id": "fecce485-bf28-464d-b6df-dac33914eb57",
        "colab": {
          "base_uri": "https://localhost:8080/",
          "height": 143
        },
        "outputId": "97eb0492-2b9d-418f-a4c5-72060dfa1bc3"
      },
      "outputs": [
        {
          "output_type": "execute_result",
          "data": {
            "text/plain": [
              "   numerical categorical  boolean\n",
              "0          1           a     True\n",
              "1          2           b     True\n",
              "2          3           a    False"
            ],
            "text/html": [
              "\n",
              "  <div id=\"df-c01c74d1-8f0c-42e1-b612-40164149388d\">\n",
              "    <div class=\"colab-df-container\">\n",
              "      <div>\n",
              "<style scoped>\n",
              "    .dataframe tbody tr th:only-of-type {\n",
              "        vertical-align: middle;\n",
              "    }\n",
              "\n",
              "    .dataframe tbody tr th {\n",
              "        vertical-align: top;\n",
              "    }\n",
              "\n",
              "    .dataframe thead th {\n",
              "        text-align: right;\n",
              "    }\n",
              "</style>\n",
              "<table border=\"1\" class=\"dataframe\">\n",
              "  <thead>\n",
              "    <tr style=\"text-align: right;\">\n",
              "      <th></th>\n",
              "      <th>numerical</th>\n",
              "      <th>categorical</th>\n",
              "      <th>boolean</th>\n",
              "    </tr>\n",
              "  </thead>\n",
              "  <tbody>\n",
              "    <tr>\n",
              "      <th>0</th>\n",
              "      <td>1</td>\n",
              "      <td>a</td>\n",
              "      <td>True</td>\n",
              "    </tr>\n",
              "    <tr>\n",
              "      <th>1</th>\n",
              "      <td>2</td>\n",
              "      <td>b</td>\n",
              "      <td>True</td>\n",
              "    </tr>\n",
              "    <tr>\n",
              "      <th>2</th>\n",
              "      <td>3</td>\n",
              "      <td>a</td>\n",
              "      <td>False</td>\n",
              "    </tr>\n",
              "  </tbody>\n",
              "</table>\n",
              "</div>\n",
              "      <button class=\"colab-df-convert\" onclick=\"convertToInteractive('df-c01c74d1-8f0c-42e1-b612-40164149388d')\"\n",
              "              title=\"Convert this dataframe to an interactive table.\"\n",
              "              style=\"display:none;\">\n",
              "        \n",
              "  <svg xmlns=\"http://www.w3.org/2000/svg\" height=\"24px\"viewBox=\"0 0 24 24\"\n",
              "       width=\"24px\">\n",
              "    <path d=\"M0 0h24v24H0V0z\" fill=\"none\"/>\n",
              "    <path d=\"M18.56 5.44l.94 2.06.94-2.06 2.06-.94-2.06-.94-.94-2.06-.94 2.06-2.06.94zm-11 1L8.5 8.5l.94-2.06 2.06-.94-2.06-.94L8.5 2.5l-.94 2.06-2.06.94zm10 10l.94 2.06.94-2.06 2.06-.94-2.06-.94-.94-2.06-.94 2.06-2.06.94z\"/><path d=\"M17.41 7.96l-1.37-1.37c-.4-.4-.92-.59-1.43-.59-.52 0-1.04.2-1.43.59L10.3 9.45l-7.72 7.72c-.78.78-.78 2.05 0 2.83L4 21.41c.39.39.9.59 1.41.59.51 0 1.02-.2 1.41-.59l7.78-7.78 2.81-2.81c.8-.78.8-2.07 0-2.86zM5.41 20L4 18.59l7.72-7.72 1.47 1.35L5.41 20z\"/>\n",
              "  </svg>\n",
              "      </button>\n",
              "      \n",
              "  <style>\n",
              "    .colab-df-container {\n",
              "      display:flex;\n",
              "      flex-wrap:wrap;\n",
              "      gap: 12px;\n",
              "    }\n",
              "\n",
              "    .colab-df-convert {\n",
              "      background-color: #E8F0FE;\n",
              "      border: none;\n",
              "      border-radius: 50%;\n",
              "      cursor: pointer;\n",
              "      display: none;\n",
              "      fill: #1967D2;\n",
              "      height: 32px;\n",
              "      padding: 0 0 0 0;\n",
              "      width: 32px;\n",
              "    }\n",
              "\n",
              "    .colab-df-convert:hover {\n",
              "      background-color: #E2EBFA;\n",
              "      box-shadow: 0px 1px 2px rgba(60, 64, 67, 0.3), 0px 1px 3px 1px rgba(60, 64, 67, 0.15);\n",
              "      fill: #174EA6;\n",
              "    }\n",
              "\n",
              "    [theme=dark] .colab-df-convert {\n",
              "      background-color: #3B4455;\n",
              "      fill: #D2E3FC;\n",
              "    }\n",
              "\n",
              "    [theme=dark] .colab-df-convert:hover {\n",
              "      background-color: #434B5C;\n",
              "      box-shadow: 0px 1px 3px 1px rgba(0, 0, 0, 0.15);\n",
              "      filter: drop-shadow(0px 1px 2px rgba(0, 0, 0, 0.3));\n",
              "      fill: #FFFFFF;\n",
              "    }\n",
              "  </style>\n",
              "\n",
              "      <script>\n",
              "        const buttonEl =\n",
              "          document.querySelector('#df-c01c74d1-8f0c-42e1-b612-40164149388d button.colab-df-convert');\n",
              "        buttonEl.style.display =\n",
              "          google.colab.kernel.accessAllowed ? 'block' : 'none';\n",
              "\n",
              "        async function convertToInteractive(key) {\n",
              "          const element = document.querySelector('#df-c01c74d1-8f0c-42e1-b612-40164149388d');\n",
              "          const dataTable =\n",
              "            await google.colab.kernel.invokeFunction('convertToInteractive',\n",
              "                                                     [key], {});\n",
              "          if (!dataTable) return;\n",
              "\n",
              "          const docLinkHtml = 'Like what you see? Visit the ' +\n",
              "            '<a target=\"_blank\" href=https://colab.research.google.com/notebooks/data_table.ipynb>data table notebook</a>'\n",
              "            + ' to learn more about interactive tables.';\n",
              "          element.innerHTML = '';\n",
              "          dataTable['output_type'] = 'display_data';\n",
              "          await google.colab.output.renderOutput(dataTable, element);\n",
              "          const docLink = document.createElement('div');\n",
              "          docLink.innerHTML = docLinkHtml;\n",
              "          element.appendChild(docLink);\n",
              "        }\n",
              "      </script>\n",
              "    </div>\n",
              "  </div>\n",
              "  "
            ]
          },
          "metadata": {},
          "execution_count": 23
        }
      ],
      "source": [
        "numerical_column = [1, 2, 3]\n",
        "categorical_column = [\"a\", \"b\", \"a\"]\n",
        "boolean_column = [True, True, False]\n",
        "\n",
        "# Build dataframe by specifying the column data and column names\n",
        "dataframe = pd.DataFrame(\n",
        "    {\n",
        "        \"numerical\": numerical_column,\n",
        "        \"categorical\": categorical_column,\n",
        "        \"boolean\": boolean_column,\n",
        "    },\n",
        ")\n",
        "\n",
        "dataframe"
      ]
    },
    {
      "cell_type": "code",
      "execution_count": 24,
      "id": "f5ef7666-5f03-424f-8e8d-ee255977198a",
      "metadata": {
        "id": "f5ef7666-5f03-424f-8e8d-ee255977198a",
        "colab": {
          "base_uri": "https://localhost:8080/",
          "height": 143
        },
        "outputId": "9d2e80c2-532e-420f-9d4b-4f0757b99011"
      },
      "outputs": [
        {
          "output_type": "execute_result",
          "data": {
            "text/plain": [
              "   column_a   column_b     column_c\n",
              "0       1.3       open   10-01-2023\n",
              "1       4.2     closed   09-01-2023\n",
              "2      -9.3   semiopen   30-12-2022"
            ],
            "text/html": [
              "\n",
              "  <div id=\"df-b8ce1f7e-ea3e-4497-8c17-3dbe1c356eae\">\n",
              "    <div class=\"colab-df-container\">\n",
              "      <div>\n",
              "<style scoped>\n",
              "    .dataframe tbody tr th:only-of-type {\n",
              "        vertical-align: middle;\n",
              "    }\n",
              "\n",
              "    .dataframe tbody tr th {\n",
              "        vertical-align: top;\n",
              "    }\n",
              "\n",
              "    .dataframe thead th {\n",
              "        text-align: right;\n",
              "    }\n",
              "</style>\n",
              "<table border=\"1\" class=\"dataframe\">\n",
              "  <thead>\n",
              "    <tr style=\"text-align: right;\">\n",
              "      <th></th>\n",
              "      <th>column_a</th>\n",
              "      <th>column_b</th>\n",
              "      <th>column_c</th>\n",
              "    </tr>\n",
              "  </thead>\n",
              "  <tbody>\n",
              "    <tr>\n",
              "      <th>0</th>\n",
              "      <td>1.3</td>\n",
              "      <td>open</td>\n",
              "      <td>10-01-2023</td>\n",
              "    </tr>\n",
              "    <tr>\n",
              "      <th>1</th>\n",
              "      <td>4.2</td>\n",
              "      <td>closed</td>\n",
              "      <td>09-01-2023</td>\n",
              "    </tr>\n",
              "    <tr>\n",
              "      <th>2</th>\n",
              "      <td>-9.3</td>\n",
              "      <td>semiopen</td>\n",
              "      <td>30-12-2022</td>\n",
              "    </tr>\n",
              "  </tbody>\n",
              "</table>\n",
              "</div>\n",
              "      <button class=\"colab-df-convert\" onclick=\"convertToInteractive('df-b8ce1f7e-ea3e-4497-8c17-3dbe1c356eae')\"\n",
              "              title=\"Convert this dataframe to an interactive table.\"\n",
              "              style=\"display:none;\">\n",
              "        \n",
              "  <svg xmlns=\"http://www.w3.org/2000/svg\" height=\"24px\"viewBox=\"0 0 24 24\"\n",
              "       width=\"24px\">\n",
              "    <path d=\"M0 0h24v24H0V0z\" fill=\"none\"/>\n",
              "    <path d=\"M18.56 5.44l.94 2.06.94-2.06 2.06-.94-2.06-.94-.94-2.06-.94 2.06-2.06.94zm-11 1L8.5 8.5l.94-2.06 2.06-.94-2.06-.94L8.5 2.5l-.94 2.06-2.06.94zm10 10l.94 2.06.94-2.06 2.06-.94-2.06-.94-.94-2.06-.94 2.06-2.06.94z\"/><path d=\"M17.41 7.96l-1.37-1.37c-.4-.4-.92-.59-1.43-.59-.52 0-1.04.2-1.43.59L10.3 9.45l-7.72 7.72c-.78.78-.78 2.05 0 2.83L4 21.41c.39.39.9.59 1.41.59.51 0 1.02-.2 1.41-.59l7.78-7.78 2.81-2.81c.8-.78.8-2.07 0-2.86zM5.41 20L4 18.59l7.72-7.72 1.47 1.35L5.41 20z\"/>\n",
              "  </svg>\n",
              "      </button>\n",
              "      \n",
              "  <style>\n",
              "    .colab-df-container {\n",
              "      display:flex;\n",
              "      flex-wrap:wrap;\n",
              "      gap: 12px;\n",
              "    }\n",
              "\n",
              "    .colab-df-convert {\n",
              "      background-color: #E8F0FE;\n",
              "      border: none;\n",
              "      border-radius: 50%;\n",
              "      cursor: pointer;\n",
              "      display: none;\n",
              "      fill: #1967D2;\n",
              "      height: 32px;\n",
              "      padding: 0 0 0 0;\n",
              "      width: 32px;\n",
              "    }\n",
              "\n",
              "    .colab-df-convert:hover {\n",
              "      background-color: #E2EBFA;\n",
              "      box-shadow: 0px 1px 2px rgba(60, 64, 67, 0.3), 0px 1px 3px 1px rgba(60, 64, 67, 0.15);\n",
              "      fill: #174EA6;\n",
              "    }\n",
              "\n",
              "    [theme=dark] .colab-df-convert {\n",
              "      background-color: #3B4455;\n",
              "      fill: #D2E3FC;\n",
              "    }\n",
              "\n",
              "    [theme=dark] .colab-df-convert:hover {\n",
              "      background-color: #434B5C;\n",
              "      box-shadow: 0px 1px 3px 1px rgba(0, 0, 0, 0.15);\n",
              "      filter: drop-shadow(0px 1px 2px rgba(0, 0, 0, 0.3));\n",
              "      fill: #FFFFFF;\n",
              "    }\n",
              "  </style>\n",
              "\n",
              "      <script>\n",
              "        const buttonEl =\n",
              "          document.querySelector('#df-b8ce1f7e-ea3e-4497-8c17-3dbe1c356eae button.colab-df-convert');\n",
              "        buttonEl.style.display =\n",
              "          google.colab.kernel.accessAllowed ? 'block' : 'none';\n",
              "\n",
              "        async function convertToInteractive(key) {\n",
              "          const element = document.querySelector('#df-b8ce1f7e-ea3e-4497-8c17-3dbe1c356eae');\n",
              "          const dataTable =\n",
              "            await google.colab.kernel.invokeFunction('convertToInteractive',\n",
              "                                                     [key], {});\n",
              "          if (!dataTable) return;\n",
              "\n",
              "          const docLinkHtml = 'Like what you see? Visit the ' +\n",
              "            '<a target=\"_blank\" href=https://colab.research.google.com/notebooks/data_table.ipynb>data table notebook</a>'\n",
              "            + ' to learn more about interactive tables.';\n",
              "          element.innerHTML = '';\n",
              "          dataTable['output_type'] = 'display_data';\n",
              "          await google.colab.output.renderOutput(dataTable, element);\n",
              "          const docLink = document.createElement('div');\n",
              "          docLink.innerHTML = docLinkHtml;\n",
              "          element.appendChild(docLink);\n",
              "        }\n",
              "      </script>\n",
              "    </div>\n",
              "  </div>\n",
              "  "
            ]
          },
          "metadata": {},
          "execution_count": 24
        }
      ],
      "source": [
        "# Create a csv file\n",
        "csv_file = Path(\"table.csv\")\n",
        "\n",
        "# Write a few columns\n",
        "csv_file.write_text(\n",
        "    \"\"\"\n",
        "column_a, column_b, column_c\n",
        "1.3, open, 10-01-2023\n",
        "4.2, closed, 09-01-2023\n",
        "-9.3, semiopen, 30-12-2022\n",
        "\"\"\"\n",
        ")\n",
        "\n",
        "# Read csv with pandas\n",
        "dataframe_from_csv = pd.read_csv(csv_file)\n",
        "\n",
        "dataframe_from_csv"
      ]
    },
    {
      "cell_type": "code",
      "execution_count": 25,
      "id": "43d9b239-9a94-4f0d-816e-e633b8474e78",
      "metadata": {
        "id": "43d9b239-9a94-4f0d-816e-e633b8474e78",
        "colab": {
          "base_uri": "https://localhost:8080/"
        },
        "outputId": "a2c620a0-2101-419b-9721-208fd19c9b86"
      },
      "outputs": [
        {
          "output_type": "stream",
          "name": "stdout",
          "text": [
            ",numerical,categorical,boolean\n",
            "0,1,a,True\n",
            "1,2,b,True\n",
            "2,3,a,False\n",
            "\n"
          ]
        }
      ],
      "source": [
        "# Save a dataframe to disk\n",
        "dataframe.to_csv(\"table2.csv\")\n",
        "\n",
        "# Print the contents of the new file\n",
        "print(Path(\"table2.csv\").read_text())"
      ]
    },
    {
      "cell_type": "markdown",
      "id": "1227491c-c7b8-44bd-b4b4-3b9e0551742e",
      "metadata": {
        "id": "1227491c-c7b8-44bd-b4b4-3b9e0551742e"
      },
      "source": [
        "Pandas dataframes can be read and saved in many formats:\n",
        "* csv\n",
        "* json\n",
        "* excel\n",
        "* html\n",
        "* ...\n",
        "\n",
        "![pandas formats](https://pandas.pydata.org/docs/_images/02_io_readwrite.svg)"
      ]
    },
    {
      "cell_type": "markdown",
      "id": "2ab68bd0-0bd8-4d84-bbd2-1661cab7c6d2",
      "metadata": {
        "id": "2ab68bd0-0bd8-4d84-bbd2-1661cab7c6d2"
      },
      "source": [
        "### Basic dataframe statistics"
      ]
    },
    {
      "cell_type": "code",
      "execution_count": 26,
      "id": "d79da81c-a430-4215-ad7d-69e137937935",
      "metadata": {
        "id": "d79da81c-a430-4215-ad7d-69e137937935"
      },
      "outputs": [],
      "source": [
        "# Load dataframe from file on the internet\n",
        "iris = pd.read_csv(\n",
        "    \"https://raw.githubusercontent.com/mwaskom/seaborn-data/master/iris.csv\"\n",
        ")"
      ]
    },
    {
      "cell_type": "code",
      "execution_count": 27,
      "id": "46919630-8a2f-4ab9-a137-7aed166f6733",
      "metadata": {
        "id": "46919630-8a2f-4ab9-a137-7aed166f6733",
        "colab": {
          "base_uri": "https://localhost:8080/",
          "height": 206
        },
        "outputId": "905aa5fd-9760-46e5-f323-c9fe50097247"
      },
      "outputs": [
        {
          "output_type": "execute_result",
          "data": {
            "text/plain": [
              "   sepal_length  sepal_width  petal_length  petal_width species\n",
              "0           5.1          3.5           1.4          0.2  setosa\n",
              "1           4.9          3.0           1.4          0.2  setosa\n",
              "2           4.7          3.2           1.3          0.2  setosa\n",
              "3           4.6          3.1           1.5          0.2  setosa\n",
              "4           5.0          3.6           1.4          0.2  setosa"
            ],
            "text/html": [
              "\n",
              "  <div id=\"df-20ad26d0-bd3a-4bae-9f88-1d85489b928f\">\n",
              "    <div class=\"colab-df-container\">\n",
              "      <div>\n",
              "<style scoped>\n",
              "    .dataframe tbody tr th:only-of-type {\n",
              "        vertical-align: middle;\n",
              "    }\n",
              "\n",
              "    .dataframe tbody tr th {\n",
              "        vertical-align: top;\n",
              "    }\n",
              "\n",
              "    .dataframe thead th {\n",
              "        text-align: right;\n",
              "    }\n",
              "</style>\n",
              "<table border=\"1\" class=\"dataframe\">\n",
              "  <thead>\n",
              "    <tr style=\"text-align: right;\">\n",
              "      <th></th>\n",
              "      <th>sepal_length</th>\n",
              "      <th>sepal_width</th>\n",
              "      <th>petal_length</th>\n",
              "      <th>petal_width</th>\n",
              "      <th>species</th>\n",
              "    </tr>\n",
              "  </thead>\n",
              "  <tbody>\n",
              "    <tr>\n",
              "      <th>0</th>\n",
              "      <td>5.1</td>\n",
              "      <td>3.5</td>\n",
              "      <td>1.4</td>\n",
              "      <td>0.2</td>\n",
              "      <td>setosa</td>\n",
              "    </tr>\n",
              "    <tr>\n",
              "      <th>1</th>\n",
              "      <td>4.9</td>\n",
              "      <td>3.0</td>\n",
              "      <td>1.4</td>\n",
              "      <td>0.2</td>\n",
              "      <td>setosa</td>\n",
              "    </tr>\n",
              "    <tr>\n",
              "      <th>2</th>\n",
              "      <td>4.7</td>\n",
              "      <td>3.2</td>\n",
              "      <td>1.3</td>\n",
              "      <td>0.2</td>\n",
              "      <td>setosa</td>\n",
              "    </tr>\n",
              "    <tr>\n",
              "      <th>3</th>\n",
              "      <td>4.6</td>\n",
              "      <td>3.1</td>\n",
              "      <td>1.5</td>\n",
              "      <td>0.2</td>\n",
              "      <td>setosa</td>\n",
              "    </tr>\n",
              "    <tr>\n",
              "      <th>4</th>\n",
              "      <td>5.0</td>\n",
              "      <td>3.6</td>\n",
              "      <td>1.4</td>\n",
              "      <td>0.2</td>\n",
              "      <td>setosa</td>\n",
              "    </tr>\n",
              "  </tbody>\n",
              "</table>\n",
              "</div>\n",
              "      <button class=\"colab-df-convert\" onclick=\"convertToInteractive('df-20ad26d0-bd3a-4bae-9f88-1d85489b928f')\"\n",
              "              title=\"Convert this dataframe to an interactive table.\"\n",
              "              style=\"display:none;\">\n",
              "        \n",
              "  <svg xmlns=\"http://www.w3.org/2000/svg\" height=\"24px\"viewBox=\"0 0 24 24\"\n",
              "       width=\"24px\">\n",
              "    <path d=\"M0 0h24v24H0V0z\" fill=\"none\"/>\n",
              "    <path d=\"M18.56 5.44l.94 2.06.94-2.06 2.06-.94-2.06-.94-.94-2.06-.94 2.06-2.06.94zm-11 1L8.5 8.5l.94-2.06 2.06-.94-2.06-.94L8.5 2.5l-.94 2.06-2.06.94zm10 10l.94 2.06.94-2.06 2.06-.94-2.06-.94-.94-2.06-.94 2.06-2.06.94z\"/><path d=\"M17.41 7.96l-1.37-1.37c-.4-.4-.92-.59-1.43-.59-.52 0-1.04.2-1.43.59L10.3 9.45l-7.72 7.72c-.78.78-.78 2.05 0 2.83L4 21.41c.39.39.9.59 1.41.59.51 0 1.02-.2 1.41-.59l7.78-7.78 2.81-2.81c.8-.78.8-2.07 0-2.86zM5.41 20L4 18.59l7.72-7.72 1.47 1.35L5.41 20z\"/>\n",
              "  </svg>\n",
              "      </button>\n",
              "      \n",
              "  <style>\n",
              "    .colab-df-container {\n",
              "      display:flex;\n",
              "      flex-wrap:wrap;\n",
              "      gap: 12px;\n",
              "    }\n",
              "\n",
              "    .colab-df-convert {\n",
              "      background-color: #E8F0FE;\n",
              "      border: none;\n",
              "      border-radius: 50%;\n",
              "      cursor: pointer;\n",
              "      display: none;\n",
              "      fill: #1967D2;\n",
              "      height: 32px;\n",
              "      padding: 0 0 0 0;\n",
              "      width: 32px;\n",
              "    }\n",
              "\n",
              "    .colab-df-convert:hover {\n",
              "      background-color: #E2EBFA;\n",
              "      box-shadow: 0px 1px 2px rgba(60, 64, 67, 0.3), 0px 1px 3px 1px rgba(60, 64, 67, 0.15);\n",
              "      fill: #174EA6;\n",
              "    }\n",
              "\n",
              "    [theme=dark] .colab-df-convert {\n",
              "      background-color: #3B4455;\n",
              "      fill: #D2E3FC;\n",
              "    }\n",
              "\n",
              "    [theme=dark] .colab-df-convert:hover {\n",
              "      background-color: #434B5C;\n",
              "      box-shadow: 0px 1px 3px 1px rgba(0, 0, 0, 0.15);\n",
              "      filter: drop-shadow(0px 1px 2px rgba(0, 0, 0, 0.3));\n",
              "      fill: #FFFFFF;\n",
              "    }\n",
              "  </style>\n",
              "\n",
              "      <script>\n",
              "        const buttonEl =\n",
              "          document.querySelector('#df-20ad26d0-bd3a-4bae-9f88-1d85489b928f button.colab-df-convert');\n",
              "        buttonEl.style.display =\n",
              "          google.colab.kernel.accessAllowed ? 'block' : 'none';\n",
              "\n",
              "        async function convertToInteractive(key) {\n",
              "          const element = document.querySelector('#df-20ad26d0-bd3a-4bae-9f88-1d85489b928f');\n",
              "          const dataTable =\n",
              "            await google.colab.kernel.invokeFunction('convertToInteractive',\n",
              "                                                     [key], {});\n",
              "          if (!dataTable) return;\n",
              "\n",
              "          const docLinkHtml = 'Like what you see? Visit the ' +\n",
              "            '<a target=\"_blank\" href=https://colab.research.google.com/notebooks/data_table.ipynb>data table notebook</a>'\n",
              "            + ' to learn more about interactive tables.';\n",
              "          element.innerHTML = '';\n",
              "          dataTable['output_type'] = 'display_data';\n",
              "          await google.colab.output.renderOutput(dataTable, element);\n",
              "          const docLink = document.createElement('div');\n",
              "          docLink.innerHTML = docLinkHtml;\n",
              "          element.appendChild(docLink);\n",
              "        }\n",
              "      </script>\n",
              "    </div>\n",
              "  </div>\n",
              "  "
            ]
          },
          "metadata": {},
          "execution_count": 27
        }
      ],
      "source": [
        "# Show the first rows of the dataframe\n",
        "iris.head()"
      ]
    },
    {
      "cell_type": "code",
      "execution_count": 28,
      "id": "82f3cd44-12fe-4fa6-8f87-9c15c5652b97",
      "metadata": {
        "id": "82f3cd44-12fe-4fa6-8f87-9c15c5652b97",
        "colab": {
          "base_uri": "https://localhost:8080/"
        },
        "outputId": "74fd2501-f1ff-4100-a782-38b0ad95e854"
      },
      "outputs": [
        {
          "output_type": "stream",
          "name": "stdout",
          "text": [
            "<class 'pandas.core.frame.DataFrame'>\n",
            "RangeIndex: 150 entries, 0 to 149\n",
            "Data columns (total 5 columns):\n",
            " #   Column        Non-Null Count  Dtype  \n",
            "---  ------        --------------  -----  \n",
            " 0   sepal_length  150 non-null    float64\n",
            " 1   sepal_width   150 non-null    float64\n",
            " 2   petal_length  150 non-null    float64\n",
            " 3   petal_width   150 non-null    float64\n",
            " 4   species       150 non-null    object \n",
            "dtypes: float64(4), object(1)\n",
            "memory usage: 6.0+ KB\n"
          ]
        }
      ],
      "source": [
        "# Describe the columns\n",
        "iris.info()"
      ]
    },
    {
      "cell_type": "code",
      "execution_count": 29,
      "id": "1f1bff86-70a9-47fb-9999-2b87bd609246",
      "metadata": {
        "id": "1f1bff86-70a9-47fb-9999-2b87bd609246",
        "colab": {
          "base_uri": "https://localhost:8080/",
          "height": 300
        },
        "outputId": "fc915992-b1cf-4bf6-fd99-f70c75620b0c"
      },
      "outputs": [
        {
          "output_type": "execute_result",
          "data": {
            "text/plain": [
              "       sepal_length  sepal_width  petal_length  petal_width\n",
              "count    150.000000   150.000000    150.000000   150.000000\n",
              "mean       5.843333     3.057333      3.758000     1.199333\n",
              "std        0.828066     0.435866      1.765298     0.762238\n",
              "min        4.300000     2.000000      1.000000     0.100000\n",
              "25%        5.100000     2.800000      1.600000     0.300000\n",
              "50%        5.800000     3.000000      4.350000     1.300000\n",
              "75%        6.400000     3.300000      5.100000     1.800000\n",
              "max        7.900000     4.400000      6.900000     2.500000"
            ],
            "text/html": [
              "\n",
              "  <div id=\"df-5027af54-3434-4318-94a2-dd60d1f98481\">\n",
              "    <div class=\"colab-df-container\">\n",
              "      <div>\n",
              "<style scoped>\n",
              "    .dataframe tbody tr th:only-of-type {\n",
              "        vertical-align: middle;\n",
              "    }\n",
              "\n",
              "    .dataframe tbody tr th {\n",
              "        vertical-align: top;\n",
              "    }\n",
              "\n",
              "    .dataframe thead th {\n",
              "        text-align: right;\n",
              "    }\n",
              "</style>\n",
              "<table border=\"1\" class=\"dataframe\">\n",
              "  <thead>\n",
              "    <tr style=\"text-align: right;\">\n",
              "      <th></th>\n",
              "      <th>sepal_length</th>\n",
              "      <th>sepal_width</th>\n",
              "      <th>petal_length</th>\n",
              "      <th>petal_width</th>\n",
              "    </tr>\n",
              "  </thead>\n",
              "  <tbody>\n",
              "    <tr>\n",
              "      <th>count</th>\n",
              "      <td>150.000000</td>\n",
              "      <td>150.000000</td>\n",
              "      <td>150.000000</td>\n",
              "      <td>150.000000</td>\n",
              "    </tr>\n",
              "    <tr>\n",
              "      <th>mean</th>\n",
              "      <td>5.843333</td>\n",
              "      <td>3.057333</td>\n",
              "      <td>3.758000</td>\n",
              "      <td>1.199333</td>\n",
              "    </tr>\n",
              "    <tr>\n",
              "      <th>std</th>\n",
              "      <td>0.828066</td>\n",
              "      <td>0.435866</td>\n",
              "      <td>1.765298</td>\n",
              "      <td>0.762238</td>\n",
              "    </tr>\n",
              "    <tr>\n",
              "      <th>min</th>\n",
              "      <td>4.300000</td>\n",
              "      <td>2.000000</td>\n",
              "      <td>1.000000</td>\n",
              "      <td>0.100000</td>\n",
              "    </tr>\n",
              "    <tr>\n",
              "      <th>25%</th>\n",
              "      <td>5.100000</td>\n",
              "      <td>2.800000</td>\n",
              "      <td>1.600000</td>\n",
              "      <td>0.300000</td>\n",
              "    </tr>\n",
              "    <tr>\n",
              "      <th>50%</th>\n",
              "      <td>5.800000</td>\n",
              "      <td>3.000000</td>\n",
              "      <td>4.350000</td>\n",
              "      <td>1.300000</td>\n",
              "    </tr>\n",
              "    <tr>\n",
              "      <th>75%</th>\n",
              "      <td>6.400000</td>\n",
              "      <td>3.300000</td>\n",
              "      <td>5.100000</td>\n",
              "      <td>1.800000</td>\n",
              "    </tr>\n",
              "    <tr>\n",
              "      <th>max</th>\n",
              "      <td>7.900000</td>\n",
              "      <td>4.400000</td>\n",
              "      <td>6.900000</td>\n",
              "      <td>2.500000</td>\n",
              "    </tr>\n",
              "  </tbody>\n",
              "</table>\n",
              "</div>\n",
              "      <button class=\"colab-df-convert\" onclick=\"convertToInteractive('df-5027af54-3434-4318-94a2-dd60d1f98481')\"\n",
              "              title=\"Convert this dataframe to an interactive table.\"\n",
              "              style=\"display:none;\">\n",
              "        \n",
              "  <svg xmlns=\"http://www.w3.org/2000/svg\" height=\"24px\"viewBox=\"0 0 24 24\"\n",
              "       width=\"24px\">\n",
              "    <path d=\"M0 0h24v24H0V0z\" fill=\"none\"/>\n",
              "    <path d=\"M18.56 5.44l.94 2.06.94-2.06 2.06-.94-2.06-.94-.94-2.06-.94 2.06-2.06.94zm-11 1L8.5 8.5l.94-2.06 2.06-.94-2.06-.94L8.5 2.5l-.94 2.06-2.06.94zm10 10l.94 2.06.94-2.06 2.06-.94-2.06-.94-.94-2.06-.94 2.06-2.06.94z\"/><path d=\"M17.41 7.96l-1.37-1.37c-.4-.4-.92-.59-1.43-.59-.52 0-1.04.2-1.43.59L10.3 9.45l-7.72 7.72c-.78.78-.78 2.05 0 2.83L4 21.41c.39.39.9.59 1.41.59.51 0 1.02-.2 1.41-.59l7.78-7.78 2.81-2.81c.8-.78.8-2.07 0-2.86zM5.41 20L4 18.59l7.72-7.72 1.47 1.35L5.41 20z\"/>\n",
              "  </svg>\n",
              "      </button>\n",
              "      \n",
              "  <style>\n",
              "    .colab-df-container {\n",
              "      display:flex;\n",
              "      flex-wrap:wrap;\n",
              "      gap: 12px;\n",
              "    }\n",
              "\n",
              "    .colab-df-convert {\n",
              "      background-color: #E8F0FE;\n",
              "      border: none;\n",
              "      border-radius: 50%;\n",
              "      cursor: pointer;\n",
              "      display: none;\n",
              "      fill: #1967D2;\n",
              "      height: 32px;\n",
              "      padding: 0 0 0 0;\n",
              "      width: 32px;\n",
              "    }\n",
              "\n",
              "    .colab-df-convert:hover {\n",
              "      background-color: #E2EBFA;\n",
              "      box-shadow: 0px 1px 2px rgba(60, 64, 67, 0.3), 0px 1px 3px 1px rgba(60, 64, 67, 0.15);\n",
              "      fill: #174EA6;\n",
              "    }\n",
              "\n",
              "    [theme=dark] .colab-df-convert {\n",
              "      background-color: #3B4455;\n",
              "      fill: #D2E3FC;\n",
              "    }\n",
              "\n",
              "    [theme=dark] .colab-df-convert:hover {\n",
              "      background-color: #434B5C;\n",
              "      box-shadow: 0px 1px 3px 1px rgba(0, 0, 0, 0.15);\n",
              "      filter: drop-shadow(0px 1px 2px rgba(0, 0, 0, 0.3));\n",
              "      fill: #FFFFFF;\n",
              "    }\n",
              "  </style>\n",
              "\n",
              "      <script>\n",
              "        const buttonEl =\n",
              "          document.querySelector('#df-5027af54-3434-4318-94a2-dd60d1f98481 button.colab-df-convert');\n",
              "        buttonEl.style.display =\n",
              "          google.colab.kernel.accessAllowed ? 'block' : 'none';\n",
              "\n",
              "        async function convertToInteractive(key) {\n",
              "          const element = document.querySelector('#df-5027af54-3434-4318-94a2-dd60d1f98481');\n",
              "          const dataTable =\n",
              "            await google.colab.kernel.invokeFunction('convertToInteractive',\n",
              "                                                     [key], {});\n",
              "          if (!dataTable) return;\n",
              "\n",
              "          const docLinkHtml = 'Like what you see? Visit the ' +\n",
              "            '<a target=\"_blank\" href=https://colab.research.google.com/notebooks/data_table.ipynb>data table notebook</a>'\n",
              "            + ' to learn more about interactive tables.';\n",
              "          element.innerHTML = '';\n",
              "          dataTable['output_type'] = 'display_data';\n",
              "          await google.colab.output.renderOutput(dataTable, element);\n",
              "          const docLink = document.createElement('div');\n",
              "          docLink.innerHTML = docLinkHtml;\n",
              "          element.appendChild(docLink);\n",
              "        }\n",
              "      </script>\n",
              "    </div>\n",
              "  </div>\n",
              "  "
            ]
          },
          "metadata": {},
          "execution_count": 29
        }
      ],
      "source": [
        "# Get quick statistics on the column values\n",
        "iris.describe()\n",
        "\n",
        "# Note that only numerical columns get summarized"
      ]
    },
    {
      "cell_type": "code",
      "execution_count": 30,
      "id": "3c4a9fce-0324-4dea-8b89-b47802fd6568",
      "metadata": {
        "id": "3c4a9fce-0324-4dea-8b89-b47802fd6568"
      },
      "outputs": [],
      "source": [
        "# Extract the \"species\" column\n",
        "species = iris[\"species\"]"
      ]
    },
    {
      "cell_type": "code",
      "execution_count": 31,
      "id": "3e073cba-0429-4426-b735-e6a642fe2b6d",
      "metadata": {
        "id": "3e073cba-0429-4426-b735-e6a642fe2b6d",
        "colab": {
          "base_uri": "https://localhost:8080/"
        },
        "outputId": "badad3bf-cf88-49f2-d7b1-d1b5d1374369"
      },
      "outputs": [
        {
          "output_type": "stream",
          "name": "stdout",
          "text": [
            "type = <class 'pandas.core.series.Series'>\n"
          ]
        },
        {
          "output_type": "execute_result",
          "data": {
            "text/plain": [
              "0    setosa\n",
              "1    setosa\n",
              "2    setosa\n",
              "3    setosa\n",
              "4    setosa\n",
              "Name: species, dtype: object"
            ]
          },
          "metadata": {},
          "execution_count": 31
        }
      ],
      "source": [
        "# The \"species\" column is a pandas Series\n",
        "print(f\"type = {type(species)}\")\n",
        "\n",
        "species.head()"
      ]
    },
    {
      "cell_type": "code",
      "execution_count": 32,
      "id": "2abd418e-985b-4cb7-ba07-e918b1c0a5c5",
      "metadata": {
        "id": "2abd418e-985b-4cb7-ba07-e918b1c0a5c5",
        "colab": {
          "base_uri": "https://localhost:8080/"
        },
        "outputId": "04e0a89c-1418-499f-c85e-d17bec6f8d40"
      },
      "outputs": [
        {
          "output_type": "execute_result",
          "data": {
            "text/plain": [
              "setosa        50\n",
              "versicolor    50\n",
              "virginica     50\n",
              "Name: species, dtype: int64"
            ]
          },
          "metadata": {},
          "execution_count": 32
        }
      ],
      "source": [
        "# Count the number of entries per species\n",
        "species.value_counts()"
      ]
    },
    {
      "cell_type": "code",
      "execution_count": 33,
      "id": "b2166905-671c-4a8b-89e6-5b6b7c8b92f9",
      "metadata": {
        "id": "b2166905-671c-4a8b-89e6-5b6b7c8b92f9",
        "colab": {
          "base_uri": "https://localhost:8080/"
        },
        "outputId": "c5d4dead-cb1b-4a73-bc07-c3e9daa432cc"
      },
      "outputs": [
        {
          "output_type": "stream",
          "name": "stdout",
          "text": [
            "Minimum sepal length = 4.3; mean petal width = 1.1993333333333336\n"
          ]
        }
      ],
      "source": [
        "# Get the minimum value of a column\n",
        "min_sepal_length = iris[\"sepal_length\"].min()\n",
        "\n",
        "# The the mean value of another column\n",
        "mean_petal_width = iris[\"petal_width\"].mean()\n",
        "\n",
        "print(\n",
        "    f\"Minimum sepal length = {min_sepal_length}; mean petal width = {mean_petal_width}\"\n",
        ")"
      ]
    },
    {
      "cell_type": "code",
      "execution_count": 34,
      "id": "0bddd5d3-a2df-41e0-8a36-3db8e0ee3b7a",
      "metadata": {
        "id": "0bddd5d3-a2df-41e0-8a36-3db8e0ee3b7a",
        "colab": {
          "base_uri": "https://localhost:8080/"
        },
        "outputId": "c1059dcc-1fdc-4c25-c3ca-725ea10f815b"
      },
      "outputs": [
        {
          "output_type": "stream",
          "name": "stdout",
          "text": [
            "type = <class 'numpy.ndarray'>, shape = (150, 5) (rows, cols)\n",
            "type = <class 'numpy.ndarray'>, shape = (150,) (rows,)\n"
          ]
        }
      ],
      "source": [
        "# Note: In the background dataframe are a 2D numpy array and columns are 1D numpy arrays.\n",
        "underlying_array = iris.values\n",
        "\n",
        "print(f\"type = {type(underlying_array)}, shape = {underlying_array.shape} (rows, cols)\")\n",
        "\n",
        "species_column_array = iris[\"species\"].values\n",
        "\n",
        "print(\n",
        "    f\"type = {type(species_column_array)}, shape = {species_column_array.shape} (rows,)\"\n",
        ")"
      ]
    },
    {
      "cell_type": "markdown",
      "id": "d49768a9-b0ca-41ab-a035-9ca4627e2704",
      "metadata": {
        "id": "d49768a9-b0ca-41ab-a035-9ca4627e2704"
      },
      "source": [
        "### Accessing & editing dataframe values"
      ]
    },
    {
      "cell_type": "markdown",
      "id": "730b01db-838e-490b-b0b3-6a543d8631fd",
      "metadata": {
        "id": "730b01db-838e-490b-b0b3-6a543d8631fd"
      },
      "source": [
        "In pandas dataframes each row and column has a unique identifier or index. The indices can be used to reference particular values within the dataframe.\n",
        "\n",
        "Usually the column name is its index, and rows are indexed by the row number."
      ]
    },
    {
      "cell_type": "code",
      "execution_count": 35,
      "id": "983b5380-fe7b-4e52-8e7d-d8829b6f8cc8",
      "metadata": {
        "id": "983b5380-fe7b-4e52-8e7d-d8829b6f8cc8",
        "colab": {
          "base_uri": "https://localhost:8080/"
        },
        "outputId": "8dbba73b-2a54-4164-bae8-79ef36439b1d"
      },
      "outputs": [
        {
          "output_type": "stream",
          "name": "stdout",
          "text": [
            "True\n"
          ]
        }
      ],
      "source": [
        "# Get a specific entry in the dataframe\n",
        "\n",
        "# Get value by indices\n",
        "value = iris.loc[10, \"species\"]  # value @ row with index 10, species column\n",
        "\n",
        "# Get value by numerical position\n",
        "value2 = iris.iloc[10, 4]  # value @ 10th row, 5th column (Python is 0-indexed)\n",
        "\n",
        "# A combination of the previous approaches\n",
        "value3 = iris[\"species\"][10]  # 10th value in the species column\n",
        "\n",
        "# All are equivalent ways of retrieving the same value\n",
        "print(value == value2 == value3)"
      ]
    },
    {
      "cell_type": "code",
      "execution_count": 36,
      "id": "7f29ac8d-8ef1-4608-bd98-4ad6fcb16903",
      "metadata": {
        "id": "7f29ac8d-8ef1-4608-bd98-4ad6fcb16903"
      },
      "outputs": [],
      "source": [
        "# Edit a single entry\n",
        "iris.loc[0, \"sepal_length\"] = 10\n",
        "\n",
        "# Create a new column\n",
        "iris[\"petal_area\"] = iris[\"petal_width\"] * iris[\"petal_length\"]"
      ]
    },
    {
      "cell_type": "markdown",
      "id": "c6793d61-6b63-45aa-ad59-949bd6d854d4",
      "metadata": {
        "id": "c6793d61-6b63-45aa-ad59-949bd6d854d4"
      },
      "source": [
        "### Filtering values"
      ]
    },
    {
      "cell_type": "code",
      "execution_count": 37,
      "id": "6a7daeff-d426-4fe3-b437-c28755ed071e",
      "metadata": {
        "id": "6a7daeff-d426-4fe3-b437-c28755ed071e",
        "colab": {
          "base_uri": "https://localhost:8080/",
          "height": 206
        },
        "outputId": "588c0cc6-4cc6-4023-bb3a-113c303cef66"
      },
      "outputs": [
        {
          "output_type": "execute_result",
          "data": {
            "text/plain": [
              "   sepal_length  sepal_width  petal_length  petal_width species  petal_area\n",
              "0          10.0          3.5           1.4          0.2  setosa        0.28\n",
              "1           4.9          3.0           1.4          0.2  setosa        0.28\n",
              "2           4.7          3.2           1.3          0.2  setosa        0.26\n",
              "3           4.6          3.1           1.5          0.2  setosa        0.30\n",
              "4           5.0          3.6           1.4          0.2  setosa        0.28"
            ],
            "text/html": [
              "\n",
              "  <div id=\"df-4867462b-ec6d-4b39-a154-bfabe081b68e\">\n",
              "    <div class=\"colab-df-container\">\n",
              "      <div>\n",
              "<style scoped>\n",
              "    .dataframe tbody tr th:only-of-type {\n",
              "        vertical-align: middle;\n",
              "    }\n",
              "\n",
              "    .dataframe tbody tr th {\n",
              "        vertical-align: top;\n",
              "    }\n",
              "\n",
              "    .dataframe thead th {\n",
              "        text-align: right;\n",
              "    }\n",
              "</style>\n",
              "<table border=\"1\" class=\"dataframe\">\n",
              "  <thead>\n",
              "    <tr style=\"text-align: right;\">\n",
              "      <th></th>\n",
              "      <th>sepal_length</th>\n",
              "      <th>sepal_width</th>\n",
              "      <th>petal_length</th>\n",
              "      <th>petal_width</th>\n",
              "      <th>species</th>\n",
              "      <th>petal_area</th>\n",
              "    </tr>\n",
              "  </thead>\n",
              "  <tbody>\n",
              "    <tr>\n",
              "      <th>0</th>\n",
              "      <td>10.0</td>\n",
              "      <td>3.5</td>\n",
              "      <td>1.4</td>\n",
              "      <td>0.2</td>\n",
              "      <td>setosa</td>\n",
              "      <td>0.28</td>\n",
              "    </tr>\n",
              "    <tr>\n",
              "      <th>1</th>\n",
              "      <td>4.9</td>\n",
              "      <td>3.0</td>\n",
              "      <td>1.4</td>\n",
              "      <td>0.2</td>\n",
              "      <td>setosa</td>\n",
              "      <td>0.28</td>\n",
              "    </tr>\n",
              "    <tr>\n",
              "      <th>2</th>\n",
              "      <td>4.7</td>\n",
              "      <td>3.2</td>\n",
              "      <td>1.3</td>\n",
              "      <td>0.2</td>\n",
              "      <td>setosa</td>\n",
              "      <td>0.26</td>\n",
              "    </tr>\n",
              "    <tr>\n",
              "      <th>3</th>\n",
              "      <td>4.6</td>\n",
              "      <td>3.1</td>\n",
              "      <td>1.5</td>\n",
              "      <td>0.2</td>\n",
              "      <td>setosa</td>\n",
              "      <td>0.30</td>\n",
              "    </tr>\n",
              "    <tr>\n",
              "      <th>4</th>\n",
              "      <td>5.0</td>\n",
              "      <td>3.6</td>\n",
              "      <td>1.4</td>\n",
              "      <td>0.2</td>\n",
              "      <td>setosa</td>\n",
              "      <td>0.28</td>\n",
              "    </tr>\n",
              "  </tbody>\n",
              "</table>\n",
              "</div>\n",
              "      <button class=\"colab-df-convert\" onclick=\"convertToInteractive('df-4867462b-ec6d-4b39-a154-bfabe081b68e')\"\n",
              "              title=\"Convert this dataframe to an interactive table.\"\n",
              "              style=\"display:none;\">\n",
              "        \n",
              "  <svg xmlns=\"http://www.w3.org/2000/svg\" height=\"24px\"viewBox=\"0 0 24 24\"\n",
              "       width=\"24px\">\n",
              "    <path d=\"M0 0h24v24H0V0z\" fill=\"none\"/>\n",
              "    <path d=\"M18.56 5.44l.94 2.06.94-2.06 2.06-.94-2.06-.94-.94-2.06-.94 2.06-2.06.94zm-11 1L8.5 8.5l.94-2.06 2.06-.94-2.06-.94L8.5 2.5l-.94 2.06-2.06.94zm10 10l.94 2.06.94-2.06 2.06-.94-2.06-.94-.94-2.06-.94 2.06-2.06.94z\"/><path d=\"M17.41 7.96l-1.37-1.37c-.4-.4-.92-.59-1.43-.59-.52 0-1.04.2-1.43.59L10.3 9.45l-7.72 7.72c-.78.78-.78 2.05 0 2.83L4 21.41c.39.39.9.59 1.41.59.51 0 1.02-.2 1.41-.59l7.78-7.78 2.81-2.81c.8-.78.8-2.07 0-2.86zM5.41 20L4 18.59l7.72-7.72 1.47 1.35L5.41 20z\"/>\n",
              "  </svg>\n",
              "      </button>\n",
              "      \n",
              "  <style>\n",
              "    .colab-df-container {\n",
              "      display:flex;\n",
              "      flex-wrap:wrap;\n",
              "      gap: 12px;\n",
              "    }\n",
              "\n",
              "    .colab-df-convert {\n",
              "      background-color: #E8F0FE;\n",
              "      border: none;\n",
              "      border-radius: 50%;\n",
              "      cursor: pointer;\n",
              "      display: none;\n",
              "      fill: #1967D2;\n",
              "      height: 32px;\n",
              "      padding: 0 0 0 0;\n",
              "      width: 32px;\n",
              "    }\n",
              "\n",
              "    .colab-df-convert:hover {\n",
              "      background-color: #E2EBFA;\n",
              "      box-shadow: 0px 1px 2px rgba(60, 64, 67, 0.3), 0px 1px 3px 1px rgba(60, 64, 67, 0.15);\n",
              "      fill: #174EA6;\n",
              "    }\n",
              "\n",
              "    [theme=dark] .colab-df-convert {\n",
              "      background-color: #3B4455;\n",
              "      fill: #D2E3FC;\n",
              "    }\n",
              "\n",
              "    [theme=dark] .colab-df-convert:hover {\n",
              "      background-color: #434B5C;\n",
              "      box-shadow: 0px 1px 3px 1px rgba(0, 0, 0, 0.15);\n",
              "      filter: drop-shadow(0px 1px 2px rgba(0, 0, 0, 0.3));\n",
              "      fill: #FFFFFF;\n",
              "    }\n",
              "  </style>\n",
              "\n",
              "      <script>\n",
              "        const buttonEl =\n",
              "          document.querySelector('#df-4867462b-ec6d-4b39-a154-bfabe081b68e button.colab-df-convert');\n",
              "        buttonEl.style.display =\n",
              "          google.colab.kernel.accessAllowed ? 'block' : 'none';\n",
              "\n",
              "        async function convertToInteractive(key) {\n",
              "          const element = document.querySelector('#df-4867462b-ec6d-4b39-a154-bfabe081b68e');\n",
              "          const dataTable =\n",
              "            await google.colab.kernel.invokeFunction('convertToInteractive',\n",
              "                                                     [key], {});\n",
              "          if (!dataTable) return;\n",
              "\n",
              "          const docLinkHtml = 'Like what you see? Visit the ' +\n",
              "            '<a target=\"_blank\" href=https://colab.research.google.com/notebooks/data_table.ipynb>data table notebook</a>'\n",
              "            + ' to learn more about interactive tables.';\n",
              "          element.innerHTML = '';\n",
              "          dataTable['output_type'] = 'display_data';\n",
              "          await google.colab.output.renderOutput(dataTable, element);\n",
              "          const docLink = document.createElement('div');\n",
              "          docLink.innerHTML = docLinkHtml;\n",
              "          element.appendChild(docLink);\n",
              "        }\n",
              "      </script>\n",
              "    </div>\n",
              "  </div>\n",
              "  "
            ]
          },
          "metadata": {},
          "execution_count": 37
        }
      ],
      "source": [
        "# Check which rows have \"setosa\" in the species column\n",
        "is_setosa = iris[\"species\"] == \"setosa\"\n",
        "\n",
        "# Select the rows for which the condition \"is_setosa\" is True.\n",
        "filtered = iris[is_setosa]\n",
        "\n",
        "filtered.head()"
      ]
    },
    {
      "cell_type": "code",
      "execution_count": 38,
      "id": "3e4a7edf-4f53-4253-834a-3e4f96c5ac49",
      "metadata": {
        "id": "3e4a7edf-4f53-4253-834a-3e4f96c5ac49",
        "colab": {
          "base_uri": "https://localhost:8080/",
          "height": 112
        },
        "outputId": "87c94d8c-931e-4d21-a272-d1d1ddea1a26"
      },
      "outputs": [
        {
          "output_type": "execute_result",
          "data": {
            "text/plain": [
              "    sepal_length  sepal_width  petal_length  petal_width species  petal_area\n",
              "13           4.3          3.0           1.1          0.1  setosa        0.11\n",
              "22           4.6          3.6           1.0          0.2  setosa        0.20"
            ],
            "text/html": [
              "\n",
              "  <div id=\"df-11e3ed60-f3f0-4546-a218-754ed2a01570\">\n",
              "    <div class=\"colab-df-container\">\n",
              "      <div>\n",
              "<style scoped>\n",
              "    .dataframe tbody tr th:only-of-type {\n",
              "        vertical-align: middle;\n",
              "    }\n",
              "\n",
              "    .dataframe tbody tr th {\n",
              "        vertical-align: top;\n",
              "    }\n",
              "\n",
              "    .dataframe thead th {\n",
              "        text-align: right;\n",
              "    }\n",
              "</style>\n",
              "<table border=\"1\" class=\"dataframe\">\n",
              "  <thead>\n",
              "    <tr style=\"text-align: right;\">\n",
              "      <th></th>\n",
              "      <th>sepal_length</th>\n",
              "      <th>sepal_width</th>\n",
              "      <th>petal_length</th>\n",
              "      <th>petal_width</th>\n",
              "      <th>species</th>\n",
              "      <th>petal_area</th>\n",
              "    </tr>\n",
              "  </thead>\n",
              "  <tbody>\n",
              "    <tr>\n",
              "      <th>13</th>\n",
              "      <td>4.3</td>\n",
              "      <td>3.0</td>\n",
              "      <td>1.1</td>\n",
              "      <td>0.1</td>\n",
              "      <td>setosa</td>\n",
              "      <td>0.11</td>\n",
              "    </tr>\n",
              "    <tr>\n",
              "      <th>22</th>\n",
              "      <td>4.6</td>\n",
              "      <td>3.6</td>\n",
              "      <td>1.0</td>\n",
              "      <td>0.2</td>\n",
              "      <td>setosa</td>\n",
              "      <td>0.20</td>\n",
              "    </tr>\n",
              "  </tbody>\n",
              "</table>\n",
              "</div>\n",
              "      <button class=\"colab-df-convert\" onclick=\"convertToInteractive('df-11e3ed60-f3f0-4546-a218-754ed2a01570')\"\n",
              "              title=\"Convert this dataframe to an interactive table.\"\n",
              "              style=\"display:none;\">\n",
              "        \n",
              "  <svg xmlns=\"http://www.w3.org/2000/svg\" height=\"24px\"viewBox=\"0 0 24 24\"\n",
              "       width=\"24px\">\n",
              "    <path d=\"M0 0h24v24H0V0z\" fill=\"none\"/>\n",
              "    <path d=\"M18.56 5.44l.94 2.06.94-2.06 2.06-.94-2.06-.94-.94-2.06-.94 2.06-2.06.94zm-11 1L8.5 8.5l.94-2.06 2.06-.94-2.06-.94L8.5 2.5l-.94 2.06-2.06.94zm10 10l.94 2.06.94-2.06 2.06-.94-2.06-.94-.94-2.06-.94 2.06-2.06.94z\"/><path d=\"M17.41 7.96l-1.37-1.37c-.4-.4-.92-.59-1.43-.59-.52 0-1.04.2-1.43.59L10.3 9.45l-7.72 7.72c-.78.78-.78 2.05 0 2.83L4 21.41c.39.39.9.59 1.41.59.51 0 1.02-.2 1.41-.59l7.78-7.78 2.81-2.81c.8-.78.8-2.07 0-2.86zM5.41 20L4 18.59l7.72-7.72 1.47 1.35L5.41 20z\"/>\n",
              "  </svg>\n",
              "      </button>\n",
              "      \n",
              "  <style>\n",
              "    .colab-df-container {\n",
              "      display:flex;\n",
              "      flex-wrap:wrap;\n",
              "      gap: 12px;\n",
              "    }\n",
              "\n",
              "    .colab-df-convert {\n",
              "      background-color: #E8F0FE;\n",
              "      border: none;\n",
              "      border-radius: 50%;\n",
              "      cursor: pointer;\n",
              "      display: none;\n",
              "      fill: #1967D2;\n",
              "      height: 32px;\n",
              "      padding: 0 0 0 0;\n",
              "      width: 32px;\n",
              "    }\n",
              "\n",
              "    .colab-df-convert:hover {\n",
              "      background-color: #E2EBFA;\n",
              "      box-shadow: 0px 1px 2px rgba(60, 64, 67, 0.3), 0px 1px 3px 1px rgba(60, 64, 67, 0.15);\n",
              "      fill: #174EA6;\n",
              "    }\n",
              "\n",
              "    [theme=dark] .colab-df-convert {\n",
              "      background-color: #3B4455;\n",
              "      fill: #D2E3FC;\n",
              "    }\n",
              "\n",
              "    [theme=dark] .colab-df-convert:hover {\n",
              "      background-color: #434B5C;\n",
              "      box-shadow: 0px 1px 3px 1px rgba(0, 0, 0, 0.15);\n",
              "      filter: drop-shadow(0px 1px 2px rgba(0, 0, 0, 0.3));\n",
              "      fill: #FFFFFF;\n",
              "    }\n",
              "  </style>\n",
              "\n",
              "      <script>\n",
              "        const buttonEl =\n",
              "          document.querySelector('#df-11e3ed60-f3f0-4546-a218-754ed2a01570 button.colab-df-convert');\n",
              "        buttonEl.style.display =\n",
              "          google.colab.kernel.accessAllowed ? 'block' : 'none';\n",
              "\n",
              "        async function convertToInteractive(key) {\n",
              "          const element = document.querySelector('#df-11e3ed60-f3f0-4546-a218-754ed2a01570');\n",
              "          const dataTable =\n",
              "            await google.colab.kernel.invokeFunction('convertToInteractive',\n",
              "                                                     [key], {});\n",
              "          if (!dataTable) return;\n",
              "\n",
              "          const docLinkHtml = 'Like what you see? Visit the ' +\n",
              "            '<a target=\"_blank\" href=https://colab.research.google.com/notebooks/data_table.ipynb>data table notebook</a>'\n",
              "            + ' to learn more about interactive tables.';\n",
              "          element.innerHTML = '';\n",
              "          dataTable['output_type'] = 'display_data';\n",
              "          await google.colab.output.renderOutput(dataTable, element);\n",
              "          const docLink = document.createElement('div');\n",
              "          docLink.innerHTML = docLinkHtml;\n",
              "          element.appendChild(docLink);\n",
              "        }\n",
              "      </script>\n",
              "    </div>\n",
              "  </div>\n",
              "  "
            ]
          },
          "metadata": {},
          "execution_count": 38
        }
      ],
      "source": [
        "# Numerical comparisons\n",
        "has_short_petal = iris[\"petal_length\"] < 1.2\n",
        "\n",
        "# Combine conditions\n",
        "filtered = iris[is_setosa & has_short_petal]\n",
        "\n",
        "filtered"
      ]
    },
    {
      "cell_type": "markdown",
      "id": "5c40ec63-4a72-4df4-8cab-b6cb484730b5",
      "metadata": {
        "id": "5c40ec63-4a72-4df4-8cab-b6cb484730b5"
      },
      "source": [
        "### Compute on every row"
      ]
    },
    {
      "cell_type": "code",
      "execution_count": 39,
      "id": "5845871f-d209-42b8-af92-e9a6f87aea46",
      "metadata": {
        "id": "5845871f-d209-42b8-af92-e9a6f87aea46"
      },
      "outputs": [],
      "source": [
        "def compute_total_area(row):\n",
        "    sepal_area = row[\"sepal_length\"] * row[\"sepal_width\"]\n",
        "    petal_area = row[\"petal_length\"] * row[\"petal_width\"]\n",
        "    return sepal_area + petal_area"
      ]
    },
    {
      "cell_type": "code",
      "execution_count": 40,
      "id": "7e6b1917-c02f-4a7a-9c5f-672844b3ac8c",
      "metadata": {
        "id": "7e6b1917-c02f-4a7a-9c5f-672844b3ac8c"
      },
      "outputs": [],
      "source": [
        "# Iterate over every row\n",
        "total_area = 0\n",
        "for index, row in iris.iterrows():\n",
        "    # Sum all areas\n",
        "    total_area += compute_total_area(row)"
      ]
    },
    {
      "cell_type": "code",
      "execution_count": 41,
      "id": "212242c6-eec7-4459-81c1-82b0e9cc1d16",
      "metadata": {
        "id": "212242c6-eec7-4459-81c1-82b0e9cc1d16",
        "colab": {
          "base_uri": "https://localhost:8080/"
        },
        "outputId": "ff9cb359-c92d-4b92-948e-e46d89db27c5"
      },
      "outputs": [
        {
          "output_type": "execute_result",
          "data": {
            "text/plain": [
              "0    35.28\n",
              "1    14.98\n",
              "2    15.30\n",
              "3    14.56\n",
              "4    18.28\n",
              "dtype: float64"
            ]
          },
          "metadata": {},
          "execution_count": 41
        }
      ],
      "source": [
        "# Apply a function to each row, get a Series of results\n",
        "iris_areas = iris.apply(compute_total_area, axis=1)\n",
        "\n",
        "# See results\n",
        "iris_areas.head()"
      ]
    },
    {
      "cell_type": "code",
      "execution_count": 42,
      "id": "2bb4a6f6-63d6-4cb8-9550-b0349477c1b7",
      "metadata": {
        "id": "2bb4a6f6-63d6-4cb8-9550-b0349477c1b7",
        "colab": {
          "base_uri": "https://localhost:8080/"
        },
        "outputId": "6fec3e19-8de7-4910-ceb8-cdb8f915121c"
      },
      "outputs": [
        {
          "output_type": "stream",
          "name": "stdout",
          "text": [
            "True\n"
          ]
        }
      ],
      "source": [
        "# Test if results are equal. Numerical errors might make the results slightly different,\n",
        "# hence we test if they are close enough to be considered equal.\n",
        "print(np.isclose(total_area, iris_areas.sum()))"
      ]
    },
    {
      "cell_type": "markdown",
      "id": "ed292262-bc12-4d24-afd1-a03648a2de1c",
      "metadata": {
        "id": "ed292262-bc12-4d24-afd1-a03648a2de1c"
      },
      "source": [
        "### Grouping by values"
      ]
    },
    {
      "cell_type": "code",
      "execution_count": 43,
      "id": "38b244b6-1f74-4095-80c7-a2802d24ae2a",
      "metadata": {
        "id": "38b244b6-1f74-4095-80c7-a2802d24ae2a",
        "colab": {
          "base_uri": "https://localhost:8080/",
          "height": 174
        },
        "outputId": "0623507f-9f32-4345-94ca-75f1bf9cbba9"
      },
      "outputs": [
        {
          "output_type": "execute_result",
          "data": {
            "text/plain": [
              "            sepal_length  sepal_width  petal_length  petal_width  petal_area\n",
              "species                                                                     \n",
              "setosa          0.789461     0.379064      0.173664     0.105386    0.181155\n",
              "versicolor      0.516171     0.313798      0.469911     0.197753    1.368403\n",
              "virginica       0.635880     0.322497      0.551895     0.274650    2.157412"
            ],
            "text/html": [
              "\n",
              "  <div id=\"df-551cf013-0852-465b-909e-de4a06917101\">\n",
              "    <div class=\"colab-df-container\">\n",
              "      <div>\n",
              "<style scoped>\n",
              "    .dataframe tbody tr th:only-of-type {\n",
              "        vertical-align: middle;\n",
              "    }\n",
              "\n",
              "    .dataframe tbody tr th {\n",
              "        vertical-align: top;\n",
              "    }\n",
              "\n",
              "    .dataframe thead th {\n",
              "        text-align: right;\n",
              "    }\n",
              "</style>\n",
              "<table border=\"1\" class=\"dataframe\">\n",
              "  <thead>\n",
              "    <tr style=\"text-align: right;\">\n",
              "      <th></th>\n",
              "      <th>sepal_length</th>\n",
              "      <th>sepal_width</th>\n",
              "      <th>petal_length</th>\n",
              "      <th>petal_width</th>\n",
              "      <th>petal_area</th>\n",
              "    </tr>\n",
              "    <tr>\n",
              "      <th>species</th>\n",
              "      <th></th>\n",
              "      <th></th>\n",
              "      <th></th>\n",
              "      <th></th>\n",
              "      <th></th>\n",
              "    </tr>\n",
              "  </thead>\n",
              "  <tbody>\n",
              "    <tr>\n",
              "      <th>setosa</th>\n",
              "      <td>0.789461</td>\n",
              "      <td>0.379064</td>\n",
              "      <td>0.173664</td>\n",
              "      <td>0.105386</td>\n",
              "      <td>0.181155</td>\n",
              "    </tr>\n",
              "    <tr>\n",
              "      <th>versicolor</th>\n",
              "      <td>0.516171</td>\n",
              "      <td>0.313798</td>\n",
              "      <td>0.469911</td>\n",
              "      <td>0.197753</td>\n",
              "      <td>1.368403</td>\n",
              "    </tr>\n",
              "    <tr>\n",
              "      <th>virginica</th>\n",
              "      <td>0.635880</td>\n",
              "      <td>0.322497</td>\n",
              "      <td>0.551895</td>\n",
              "      <td>0.274650</td>\n",
              "      <td>2.157412</td>\n",
              "    </tr>\n",
              "  </tbody>\n",
              "</table>\n",
              "</div>\n",
              "      <button class=\"colab-df-convert\" onclick=\"convertToInteractive('df-551cf013-0852-465b-909e-de4a06917101')\"\n",
              "              title=\"Convert this dataframe to an interactive table.\"\n",
              "              style=\"display:none;\">\n",
              "        \n",
              "  <svg xmlns=\"http://www.w3.org/2000/svg\" height=\"24px\"viewBox=\"0 0 24 24\"\n",
              "       width=\"24px\">\n",
              "    <path d=\"M0 0h24v24H0V0z\" fill=\"none\"/>\n",
              "    <path d=\"M18.56 5.44l.94 2.06.94-2.06 2.06-.94-2.06-.94-.94-2.06-.94 2.06-2.06.94zm-11 1L8.5 8.5l.94-2.06 2.06-.94-2.06-.94L8.5 2.5l-.94 2.06-2.06.94zm10 10l.94 2.06.94-2.06 2.06-.94-2.06-.94-.94-2.06-.94 2.06-2.06.94z\"/><path d=\"M17.41 7.96l-1.37-1.37c-.4-.4-.92-.59-1.43-.59-.52 0-1.04.2-1.43.59L10.3 9.45l-7.72 7.72c-.78.78-.78 2.05 0 2.83L4 21.41c.39.39.9.59 1.41.59.51 0 1.02-.2 1.41-.59l7.78-7.78 2.81-2.81c.8-.78.8-2.07 0-2.86zM5.41 20L4 18.59l7.72-7.72 1.47 1.35L5.41 20z\"/>\n",
              "  </svg>\n",
              "      </button>\n",
              "      \n",
              "  <style>\n",
              "    .colab-df-container {\n",
              "      display:flex;\n",
              "      flex-wrap:wrap;\n",
              "      gap: 12px;\n",
              "    }\n",
              "\n",
              "    .colab-df-convert {\n",
              "      background-color: #E8F0FE;\n",
              "      border: none;\n",
              "      border-radius: 50%;\n",
              "      cursor: pointer;\n",
              "      display: none;\n",
              "      fill: #1967D2;\n",
              "      height: 32px;\n",
              "      padding: 0 0 0 0;\n",
              "      width: 32px;\n",
              "    }\n",
              "\n",
              "    .colab-df-convert:hover {\n",
              "      background-color: #E2EBFA;\n",
              "      box-shadow: 0px 1px 2px rgba(60, 64, 67, 0.3), 0px 1px 3px 1px rgba(60, 64, 67, 0.15);\n",
              "      fill: #174EA6;\n",
              "    }\n",
              "\n",
              "    [theme=dark] .colab-df-convert {\n",
              "      background-color: #3B4455;\n",
              "      fill: #D2E3FC;\n",
              "    }\n",
              "\n",
              "    [theme=dark] .colab-df-convert:hover {\n",
              "      background-color: #434B5C;\n",
              "      box-shadow: 0px 1px 3px 1px rgba(0, 0, 0, 0.15);\n",
              "      filter: drop-shadow(0px 1px 2px rgba(0, 0, 0, 0.3));\n",
              "      fill: #FFFFFF;\n",
              "    }\n",
              "  </style>\n",
              "\n",
              "      <script>\n",
              "        const buttonEl =\n",
              "          document.querySelector('#df-551cf013-0852-465b-909e-de4a06917101 button.colab-df-convert');\n",
              "        buttonEl.style.display =\n",
              "          google.colab.kernel.accessAllowed ? 'block' : 'none';\n",
              "\n",
              "        async function convertToInteractive(key) {\n",
              "          const element = document.querySelector('#df-551cf013-0852-465b-909e-de4a06917101');\n",
              "          const dataTable =\n",
              "            await google.colab.kernel.invokeFunction('convertToInteractive',\n",
              "                                                     [key], {});\n",
              "          if (!dataTable) return;\n",
              "\n",
              "          const docLinkHtml = 'Like what you see? Visit the ' +\n",
              "            '<a target=\"_blank\" href=https://colab.research.google.com/notebooks/data_table.ipynb>data table notebook</a>'\n",
              "            + ' to learn more about interactive tables.';\n",
              "          element.innerHTML = '';\n",
              "          dataTable['output_type'] = 'display_data';\n",
              "          await google.colab.output.renderOutput(dataTable, element);\n",
              "          const docLink = document.createElement('div');\n",
              "          docLink.innerHTML = docLinkHtml;\n",
              "          element.appendChild(docLink);\n",
              "        }\n",
              "      </script>\n",
              "    </div>\n",
              "  </div>\n",
              "  "
            ]
          },
          "metadata": {},
          "execution_count": 43
        }
      ],
      "source": [
        "# Group dataframe rows by species and compute the standard deviation of column values within each group.\n",
        "iris.groupby(\"species\").std()"
      ]
    },
    {
      "cell_type": "code",
      "execution_count": 44,
      "id": "3147dec7-83e6-4293-a2f2-78bccb7a76c1",
      "metadata": {
        "id": "3147dec7-83e6-4293-a2f2-78bccb7a76c1",
        "colab": {
          "base_uri": "https://localhost:8080/"
        },
        "outputId": "2a5fc7a2-8d8f-48a3-a845-ede07e069e54"
      },
      "outputs": [
        {
          "output_type": "execute_result",
          "data": {
            "text/plain": [
              "species\n",
              "setosa         898.32\n",
              "versicolor    1112.33\n",
              "virginica     1549.04\n",
              "dtype: float64"
            ]
          },
          "metadata": {},
          "execution_count": 44
        }
      ],
      "source": [
        "# Group dataframe by species and compute the mean total area for each group\n",
        "iris.groupby(\"species\").apply(\n",
        "    lambda group: group.apply(compute_total_area, axis=1).sum()\n",
        ")"
      ]
    },
    {
      "cell_type": "markdown",
      "id": "9862575a-1e5a-4846-97b2-c635783f2c2f",
      "metadata": {
        "id": "9862575a-1e5a-4846-97b2-c635783f2c2f"
      },
      "source": [
        "## 4. Matplotlib & Seaborn"
      ]
    },
    {
      "cell_type": "markdown",
      "id": "6c5cacd2-085e-41a5-8371-3a23bf91a1ef",
      "metadata": {
        "id": "6c5cacd2-085e-41a5-8371-3a23bf91a1ef"
      },
      "source": [
        "Plotting is a great tool to explore your data, validate your methods and visualize your results. \n",
        "\n",
        "Python has many plotting libraries, but the most popular, flexible and extensive library is **matplotlib**.\n",
        "\n",
        "In this section we will show some examples of how to use **matplotlib** for some basic plots. You will learn how to\n",
        "\n",
        "1. Create a basic scatter and line plot\n",
        "2. Adjust axis labels and figure titles\n",
        "3. Creating a compound figure with multiple subplots\n",
        "4. Adding text and annotations to figures\n",
        "\n",
        "We will also see some simple examples of how to use **seaborn**, a matplotlib extension designed to facilitate plotting tabular data.\n",
        "\n",
        "Matplotlib is a huge library with many plotting functions, and everything in the figures can be customized. If you wish to learn more we recommend the [official tutorials](https://matplotlib.org/stable/tutorials/index.html). Additionally, take a look at the [seaborn gallery](https://seaborn.pydata.org/examples/index.html) to get a quick overview of the type of plots **seaborn** can produce effortlessly."
      ]
    },
    {
      "cell_type": "code",
      "execution_count": 45,
      "id": "573f949f-c594-4dd1-85d6-704875aae0ee",
      "metadata": {
        "id": "573f949f-c594-4dd1-85d6-704875aae0ee"
      },
      "outputs": [],
      "source": [
        "import matplotlib.pyplot as plt  # This is the common way to import and abbreviate matplotlib"
      ]
    },
    {
      "cell_type": "markdown",
      "id": "a71c6f61-ba2f-4086-8bba-07eb39c98d6e",
      "metadata": {
        "id": "a71c6f61-ba2f-4086-8bba-07eb39c98d6e"
      },
      "source": [
        "### Creating a simple scatter and line plot"
      ]
    },
    {
      "cell_type": "code",
      "execution_count": 46,
      "id": "6f43d0c3-c52b-4c15-a81d-c6362ff560f3",
      "metadata": {
        "id": "6f43d0c3-c52b-4c15-a81d-c6362ff560f3"
      },
      "outputs": [],
      "source": [
        "# Create an independent variable, ranging from 0 to 10\n",
        "x = np.linspace(0, 10, 100)\n",
        "\n",
        "# Create a dependent variable\n",
        "y = np.cos(x)\n",
        "\n",
        "# Add some normal noise\n",
        "z = y + np.random.normal(scale=0.1, size=100)"
      ]
    },
    {
      "cell_type": "code",
      "execution_count": 47,
      "id": "0c102842-4e07-46c6-82c8-70c864e51d7c",
      "metadata": {
        "id": "0c102842-4e07-46c6-82c8-70c864e51d7c",
        "colab": {
          "base_uri": "https://localhost:8080/",
          "height": 211
        },
        "outputId": "9b7528f5-af83-4342-f40e-c37e91c37020"
      },
      "outputs": [
        {
          "output_type": "display_data",
          "data": {
            "text/plain": [
              "<Figure size 432x216 with 1 Axes>"
            ],
            "image/png": "[encoded data removed]"
          },
          "metadata": {
            "needs_background": "light"
          }
        }
      ],
      "source": [
        "# Create a new figure\n",
        "plt.figure(figsize=(6, 3))  # Adjust the size\n",
        "\n",
        "# Create a line plot\n",
        "plt.plot(x, y);"
      ]
    },
    {
      "cell_type": "code",
      "execution_count": 48,
      "id": "7d28ef58-6b6e-4109-9002-d57cb5f6de52",
      "metadata": {
        "id": "7d28ef58-6b6e-4109-9002-d57cb5f6de52",
        "colab": {
          "base_uri": "https://localhost:8080/",
          "height": 211
        },
        "outputId": "009f4c30-f62a-4bc9-d51d-ceffa739deb1"
      },
      "outputs": [
        {
          "output_type": "display_data",
          "data": {
            "text/plain": [
              "<Figure size 432x216 with 1 Axes>"
            ],
            "image/png": "[encoded data removed]"
          },
          "metadata": {
            "needs_background": "light"
          }
        }
      ],
      "source": [
        "# Create another figure\n",
        "plt.figure(figsize=(6, 3))  # Adjust the size\n",
        "\n",
        "# Create a scatter plot\n",
        "plt.scatter(x, z);"
      ]
    },
    {
      "cell_type": "code",
      "execution_count": 49,
      "id": "cb09434d-c122-45a3-83ab-dc7dd7327295",
      "metadata": {
        "id": "cb09434d-c122-45a3-83ab-dc7dd7327295",
        "colab": {
          "base_uri": "https://localhost:8080/",
          "height": 211
        },
        "outputId": "9c6262af-04c2-408e-f9ae-73f0a5dffd56"
      },
      "outputs": [
        {
          "output_type": "display_data",
          "data": {
            "text/plain": [
              "<Figure size 432x216 with 1 Axes>"
            ],
            "image/png": "[encoded data removed]"
          },
          "metadata": {
            "needs_background": "light"
          }
        }
      ],
      "source": [
        "plt.figure(figsize=(6, 3))\n",
        "\n",
        "# Create a red line plot.\n",
        "plt.plot(x, y, label=\"line plot\", color=\"red\")\n",
        "\n",
        "# Overlay the scatter plot with crosses as markers\n",
        "plt.scatter(x, z, label=\"scatter plot\", marker=\"x\")\n",
        "\n",
        "# Add legend to figure\n",
        "plt.legend();"
      ]
    },
    {
      "cell_type": "markdown",
      "id": "9ba59746-f934-4080-9445-79a6d03f3714",
      "metadata": {
        "id": "9ba59746-f934-4080-9445-79a6d03f3714"
      },
      "source": [
        "### Modifying titles and axes labels"
      ]
    },
    {
      "cell_type": "code",
      "execution_count": 50,
      "id": "553ba5f8-5969-4f09-9568-52ec526dbaee",
      "metadata": {
        "id": "553ba5f8-5969-4f09-9568-52ec526dbaee",
        "colab": {
          "base_uri": "https://localhost:8080/",
          "height": 241
        },
        "outputId": "e1c122b5-2c67-47c6-c5e1-da59e771b749"
      },
      "outputs": [
        {
          "output_type": "display_data",
          "data": {
            "text/plain": [
              "<Figure size 432x216 with 1 Axes>"
            ],
            "image/png": "[encoded data removed]"
          },
          "metadata": {
            "needs_background": "light"
          }
        }
      ],
      "source": [
        "plt.figure(figsize=(6, 3))\n",
        "\n",
        "# Create a red line plot.\n",
        "plt.plot(x, y, label=\"prediction\", color=\"red\")\n",
        "\n",
        "# Overlay the scatter plot with crosses as markers\n",
        "plt.scatter(x, z, label=\"measurements\", marker=\"x\")\n",
        "\n",
        "# Add legend to figure\n",
        "plt.legend()\n",
        "\n",
        "# Modify the label of the x-axis\n",
        "plt.xlabel(\"Time (days)\")\n",
        "\n",
        "# Modify the label of the y-axis\n",
        "plt.ylabel(\"Displacement (m)\")\n",
        "\n",
        "# Add title to the figure\n",
        "plt.title(\"Displacement time series\");"
      ]
    },
    {
      "cell_type": "markdown",
      "id": "326a0c66-c29e-480b-8667-46474a16ceec",
      "metadata": {
        "id": "326a0c66-c29e-480b-8667-46474a16ceec"
      },
      "source": [
        "### Creating compound figure"
      ]
    },
    {
      "cell_type": "code",
      "execution_count": 51,
      "id": "8e8a4765-03c0-4a6a-9431-c1de81355a18",
      "metadata": {
        "id": "8e8a4765-03c0-4a6a-9431-c1de81355a18",
        "colab": {
          "base_uri": "https://localhost:8080/",
          "height": 241
        },
        "outputId": "b24cdb02-fbef-460e-ac9b-48e781ca3807"
      },
      "outputs": [
        {
          "output_type": "display_data",
          "data": {
            "text/plain": [
              "<Figure size 864x216 with 2 Axes>"
            ],
            "image/png": "[encoded data removed]"
          },
          "metadata": {
            "needs_background": "light"
          }
        }
      ],
      "source": [
        "plt.figure(figsize=(12, 3))\n",
        "\n",
        "# Create a 1 row, 2 column, grid of subplots and select the first subplot.\n",
        "ax1 = plt.subplot(1, 2, 1)\n",
        "\n",
        "# Create line plot in subplot\n",
        "ax1.plot(x, y, label=\"prediction\", color=\"red\")\n",
        "\n",
        "# Overlay the scatter plot with crosses as markers\n",
        "ax1.scatter(x, z, label=\"measurements\", marker=\"x\")\n",
        "\n",
        "# Add legend to figure\n",
        "ax1.legend()\n",
        "\n",
        "# Modify the label of the x-axis. Note a difference?\n",
        "ax1.set_xlabel(\"Time (days)\")\n",
        "\n",
        "# Modify the label of the y-axis\n",
        "ax1.set_ylabel(\"Displacement (m)\")\n",
        "\n",
        "# Add title to the figure\n",
        "ax1.set_title(\"Displacement time series\")\n",
        "\n",
        "# Add subplot. This is the second subplot in the grid of subplots.\n",
        "ax2 = plt.subplot(1, 2, 2)\n",
        "\n",
        "# Compute the prediction error\n",
        "error = z - y\n",
        "\n",
        "# Plot a histogram of the error in the second subplot\n",
        "ax2.hist(error, label=\"Prediction error\")\n",
        "\n",
        "# Add labels to axis\n",
        "ax2.set_xlabel(\"Error (m)\")\n",
        "\n",
        "# Set subplot title\n",
        "ax2.set_title(\"Histogram of prediction errors\");"
      ]
    },
    {
      "cell_type": "markdown",
      "id": "bb38f87b-32d1-4099-93ce-1751ed6e6e2d",
      "metadata": {
        "id": "bb38f87b-32d1-4099-93ce-1751ed6e6e2d"
      },
      "source": [
        "### Adding text"
      ]
    },
    {
      "cell_type": "code",
      "execution_count": 52,
      "id": "a8d8c95c-e881-4a20-89b4-34cbe2cdbeea",
      "metadata": {
        "id": "a8d8c95c-e881-4a20-89b4-34cbe2cdbeea",
        "colab": {
          "base_uri": "https://localhost:8080/",
          "height": 211
        },
        "outputId": "0ef74d9e-5763-4ae2-ed45-567448b844c9"
      },
      "outputs": [
        {
          "output_type": "display_data",
          "data": {
            "text/plain": [
              "<Figure size 432x216 with 1 Axes>"
            ],
            "image/png": "[encoded data removed]"
          },
          "metadata": {
            "needs_background": "light"
          }
        }
      ],
      "source": [
        "plt.figure(figsize=(6, 3))\n",
        "\n",
        "# Select a single point in the data\n",
        "point = x[31], z[31]\n",
        "\n",
        "# Create a red line plot.\n",
        "plt.plot(x, y, label=\"line plot\", color=\"red\")\n",
        "\n",
        "# Overlay the scatter plot with crosses as markers\n",
        "plt.scatter(x, z, label=\"scatter plot\", marker=\"x\")\n",
        "\n",
        "# Show selected point as a large black dot\n",
        "plt.scatter(\n",
        "    [point[0]], [point[1]], label=\"test point\", marker=\"o\", s=100, color=\"black\"\n",
        ")\n",
        "\n",
        "# Add formula for the prediction. Anchor the text at the point x= 5.5, y=0.\n",
        "plt.text(5.5, 0, \"y = cos(x)\", color=\"red\")\n",
        "\n",
        "# Add text and arrow pointing to the test point\n",
        "plt.annotate(\n",
        "    \"test point\",\n",
        "    point,\n",
        "    xytext=[point[0], 0.5],\n",
        "    color=\"orange\",\n",
        "    arrowprops={\"color\": \"orange\", \"width\": 1},\n",
        ")\n",
        "\n",
        "# Add legend to figure\n",
        "plt.legend();"
      ]
    },
    {
      "cell_type": "markdown",
      "id": "d103c873-7ffb-4a9f-802c-c0b2bde8e928",
      "metadata": {
        "id": "d103c873-7ffb-4a9f-802c-c0b2bde8e928"
      },
      "source": [
        "### Seaborn"
      ]
    },
    {
      "cell_type": "markdown",
      "id": "f7bbc20d-8cd2-4c22-b35c-72bc2dda1c02",
      "metadata": {
        "id": "f7bbc20d-8cd2-4c22-b35c-72bc2dda1c02"
      },
      "source": [
        "Seaborn is a library for data visualization. It is built on top of matplotlib and integrates nicely with pandas."
      ]
    },
    {
      "cell_type": "code",
      "execution_count": 53,
      "id": "07c21af1-8d20-49b8-8e5d-147cd0207acb",
      "metadata": {
        "id": "07c21af1-8d20-49b8-8e5d-147cd0207acb"
      },
      "outputs": [],
      "source": [
        "import seaborn as sns"
      ]
    },
    {
      "cell_type": "code",
      "execution_count": 54,
      "id": "cfa566d3-e4d3-4b22-aa6c-653eb372228b",
      "metadata": {
        "id": "cfa566d3-e4d3-4b22-aa6c-653eb372228b",
        "colab": {
          "base_uri": "https://localhost:8080/",
          "height": 297
        },
        "outputId": "dcf7c914-042d-43b5-8ad0-daa01b72e108"
      },
      "outputs": [
        {
          "output_type": "execute_result",
          "data": {
            "text/plain": [
              "<matplotlib.axes._subplots.AxesSubplot at 0x7f0dc0404c10>"
            ]
          },
          "metadata": {},
          "execution_count": 54
        },
        {
          "output_type": "display_data",
          "data": {
            "text/plain": [
              "<Figure size 432x288 with 1 Axes>"
            ],
            "image/png": "[encoded data removed]"
          },
          "metadata": {
            "needs_background": "light"
          }
        }
      ],
      "source": [
        "# Plot all datapoints in the iris dataset. Use the petal length and sepal length as x and y coordinates.\n",
        "# Color the points depending on the species.\n",
        "sns.scatterplot(data=iris, x=\"petal_length\", y=\"sepal_length\", hue=\"species\")"
      ]
    },
    {
      "cell_type": "code",
      "execution_count": 55,
      "id": "b92e8e23-9005-4b65-8b45-5965879de5bb",
      "metadata": {
        "id": "b92e8e23-9005-4b65-8b45-5965879de5bb",
        "colab": {
          "base_uri": "https://localhost:8080/",
          "height": 282
        },
        "outputId": "cbddd581-5e51-46a8-c36b-d0f731dc43ce"
      },
      "outputs": [
        {
          "output_type": "display_data",
          "data": {
            "text/plain": [
              "<Figure size 432x288 with 1 Axes>"
            ],
            "image/png": "[encoded data removed]"
          },
          "metadata": {
            "needs_background": "light"
          }
        }
      ],
      "source": [
        "# Make a boxplot of the sepal width by species.\n",
        "sns.boxplot(data=iris, x=\"species\", y=\"sepal_width\");"
      ]
    },
    {
      "cell_type": "markdown",
      "id": "71dfc316-3b4c-4f9b-85e3-ec379317ad68",
      "metadata": {
        "id": "71dfc316-3b4c-4f9b-85e3-ec379317ad68"
      },
      "source": [
        "## 5. Exercise"
      ]
    },
    {
      "cell_type": "markdown",
      "id": "55ff4604-4945-4048-8bf0-c923c205e527",
      "metadata": {
        "id": "55ff4604-4945-4048-8bf0-c923c205e527"
      },
      "source": [
        "![palmer penguins](https://allisonhorst.github.io/palmerpenguins/reference/figures/lter_penguins.png)"
      ]
    },
    {
      "cell_type": "markdown",
      "id": "56b9e96c-3040-426b-8a72-64f272714c8f",
      "metadata": {
        "id": "56b9e96c-3040-426b-8a72-64f272714c8f"
      },
      "source": [
        "In this section you will download, explore and visualise the Palmer penguin dataset. This dataset contains measurements of 344 penguins collected from 3 islands in the Palmer Archipelago, Antarctica.\n",
        "\n",
        "You can find a description of the dataset [here](https://allisonhorst.github.io/palmerpenguins/)."
      ]
    },
    {
      "cell_type": "code",
      "execution_count": 70,
      "id": "5ebe6007-a129-406f-a8a3-30e8b373b9e0",
      "metadata": {
        "id": "5ebe6007-a129-406f-a8a3-30e8b373b9e0",
        "colab": {
          "base_uri": "https://localhost:8080/"
        },
        "outputId": "a9b06dbc-0c9c-4421-e73d-0c30f199c806"
      },
      "outputs": [
        {
          "output_type": "stream",
          "name": "stdout",
          "text": [
            "--2023-01-11 00:10:33--  https://gist.githubusercontent.com/slopp/ce3b90b9168f2f921784de84fa445651/raw/4ecf3041f0ed4913e7c230758733948bc561f434/penguins.csv\n",
            "Resolving gist.githubusercontent.com (gist.githubusercontent.com)... 185.199.111.133, 185.199.110.133, 185.199.108.133, ...\n",
            "Connecting to gist.githubusercontent.com (gist.githubusercontent.com)|185.199.111.133|:443... connected.\n",
            "HTTP request sent, awaiting response... 200 OK\n",
            "Length: 19263 (19K) [text/plain]\n",
            "Saving to: ‘penguins.csv’\n",
            "\n",
            "penguins.csv        100%[===================>]  18.81K  --.-KB/s    in 0.001s  \n",
            "\n",
            "2023-01-11 00:10:33 (12.5 MB/s) - ‘penguins.csv’ saved [19263/19263]\n",
            "\n"
          ]
        }
      ],
      "source": [
        "# Download the penguins csv file from\n",
        "# URL = https://gist.githubusercontent.com/slopp/ce3b90b9168f2f921784de84fa445651/raw/4ecf3041f0ed4913e7c230758733948bc561f434/penguins.csv\n",
        "!wget https://gist.githubusercontent.com/slopp/ce3b90b9168f2f921784de84fa445651/raw/4ecf3041f0ed4913e7c230758733948bc561f434/penguins.csv"
      ]
    },
    {
      "cell_type": "code",
      "execution_count": 72,
      "id": "993be2e8-02fb-43cf-ac14-dfcdfadcd2bd",
      "metadata": {
        "id": "993be2e8-02fb-43cf-ac14-dfcdfadcd2bd",
        "colab": {
          "base_uri": "https://localhost:8080/",
          "height": 206
        },
        "outputId": "8b3d77b8-1d9e-4af7-89cb-fb5fa81dbd1f"
      },
      "outputs": [
        {
          "output_type": "execute_result",
          "data": {
            "text/plain": [
              "   rowid species     island  bill_length_mm  bill_depth_mm  flipper_length_mm  \\\n",
              "0      1  Adelie  Torgersen            39.1           18.7              181.0   \n",
              "1      2  Adelie  Torgersen            39.5           17.4              186.0   \n",
              "2      3  Adelie  Torgersen            40.3           18.0              195.0   \n",
              "3      4  Adelie  Torgersen             NaN            NaN                NaN   \n",
              "4      5  Adelie  Torgersen            36.7           19.3              193.0   \n",
              "\n",
              "   body_mass_g     sex  year  \n",
              "0       3750.0    male  2007  \n",
              "1       3800.0  female  2007  \n",
              "2       3250.0  female  2007  \n",
              "3          NaN     NaN  2007  \n",
              "4       3450.0  female  2007  "
            ],
            "text/html": [
              "\n",
              "  <div id=\"df-c4287b52-00ef-4a7a-b66d-6b7c2f417b58\">\n",
              "    <div class=\"colab-df-container\">\n",
              "      <div>\n",
              "<style scoped>\n",
              "    .dataframe tbody tr th:only-of-type {\n",
              "        vertical-align: middle;\n",
              "    }\n",
              "\n",
              "    .dataframe tbody tr th {\n",
              "        vertical-align: top;\n",
              "    }\n",
              "\n",
              "    .dataframe thead th {\n",
              "        text-align: right;\n",
              "    }\n",
              "</style>\n",
              "<table border=\"1\" class=\"dataframe\">\n",
              "  <thead>\n",
              "    <tr style=\"text-align: right;\">\n",
              "      <th></th>\n",
              "      <th>rowid</th>\n",
              "      <th>species</th>\n",
              "      <th>island</th>\n",
              "      <th>bill_length_mm</th>\n",
              "      <th>bill_depth_mm</th>\n",
              "      <th>flipper_length_mm</th>\n",
              "      <th>body_mass_g</th>\n",
              "      <th>sex</th>\n",
              "      <th>year</th>\n",
              "    </tr>\n",
              "  </thead>\n",
              "  <tbody>\n",
              "    <tr>\n",
              "      <th>0</th>\n",
              "      <td>1</td>\n",
              "      <td>Adelie</td>\n",
              "      <td>Torgersen</td>\n",
              "      <td>39.1</td>\n",
              "      <td>18.7</td>\n",
              "      <td>181.0</td>\n",
              "      <td>3750.0</td>\n",
              "      <td>male</td>\n",
              "      <td>2007</td>\n",
              "    </tr>\n",
              "    <tr>\n",
              "      <th>1</th>\n",
              "      <td>2</td>\n",
              "      <td>Adelie</td>\n",
              "      <td>Torgersen</td>\n",
              "      <td>39.5</td>\n",
              "      <td>17.4</td>\n",
              "      <td>186.0</td>\n",
              "      <td>3800.0</td>\n",
              "      <td>female</td>\n",
              "      <td>2007</td>\n",
              "    </tr>\n",
              "    <tr>\n",
              "      <th>2</th>\n",
              "      <td>3</td>\n",
              "      <td>Adelie</td>\n",
              "      <td>Torgersen</td>\n",
              "      <td>40.3</td>\n",
              "      <td>18.0</td>\n",
              "      <td>195.0</td>\n",
              "      <td>3250.0</td>\n",
              "      <td>female</td>\n",
              "      <td>2007</td>\n",
              "    </tr>\n",
              "    <tr>\n",
              "      <th>3</th>\n",
              "      <td>4</td>\n",
              "      <td>Adelie</td>\n",
              "      <td>Torgersen</td>\n",
              "      <td>NaN</td>\n",
              "      <td>NaN</td>\n",
              "      <td>NaN</td>\n",
              "      <td>NaN</td>\n",
              "      <td>NaN</td>\n",
              "      <td>2007</td>\n",
              "    </tr>\n",
              "    <tr>\n",
              "      <th>4</th>\n",
              "      <td>5</td>\n",
              "      <td>Adelie</td>\n",
              "      <td>Torgersen</td>\n",
              "      <td>36.7</td>\n",
              "      <td>19.3</td>\n",
              "      <td>193.0</td>\n",
              "      <td>3450.0</td>\n",
              "      <td>female</td>\n",
              "      <td>2007</td>\n",
              "    </tr>\n",
              "  </tbody>\n",
              "</table>\n",
              "</div>\n",
              "      <button class=\"colab-df-convert\" onclick=\"convertToInteractive('df-c4287b52-00ef-4a7a-b66d-6b7c2f417b58')\"\n",
              "              title=\"Convert this dataframe to an interactive table.\"\n",
              "              style=\"display:none;\">\n",
              "        \n",
              "  <svg xmlns=\"http://www.w3.org/2000/svg\" height=\"24px\"viewBox=\"0 0 24 24\"\n",
              "       width=\"24px\">\n",
              "    <path d=\"M0 0h24v24H0V0z\" fill=\"none\"/>\n",
              "    <path d=\"M18.56 5.44l.94 2.06.94-2.06 2.06-.94-2.06-.94-.94-2.06-.94 2.06-2.06.94zm-11 1L8.5 8.5l.94-2.06 2.06-.94-2.06-.94L8.5 2.5l-.94 2.06-2.06.94zm10 10l.94 2.06.94-2.06 2.06-.94-2.06-.94-.94-2.06-.94 2.06-2.06.94z\"/><path d=\"M17.41 7.96l-1.37-1.37c-.4-.4-.92-.59-1.43-.59-.52 0-1.04.2-1.43.59L10.3 9.45l-7.72 7.72c-.78.78-.78 2.05 0 2.83L4 21.41c.39.39.9.59 1.41.59.51 0 1.02-.2 1.41-.59l7.78-7.78 2.81-2.81c.8-.78.8-2.07 0-2.86zM5.41 20L4 18.59l7.72-7.72 1.47 1.35L5.41 20z\"/>\n",
              "  </svg>\n",
              "      </button>\n",
              "      \n",
              "  <style>\n",
              "    .colab-df-container {\n",
              "      display:flex;\n",
              "      flex-wrap:wrap;\n",
              "      gap: 12px;\n",
              "    }\n",
              "\n",
              "    .colab-df-convert {\n",
              "      background-color: #E8F0FE;\n",
              "      border: none;\n",
              "      border-radius: 50%;\n",
              "      cursor: pointer;\n",
              "      display: none;\n",
              "      fill: #1967D2;\n",
              "      height: 32px;\n",
              "      padding: 0 0 0 0;\n",
              "      width: 32px;\n",
              "    }\n",
              "\n",
              "    .colab-df-convert:hover {\n",
              "      background-color: #E2EBFA;\n",
              "      box-shadow: 0px 1px 2px rgba(60, 64, 67, 0.3), 0px 1px 3px 1px rgba(60, 64, 67, 0.15);\n",
              "      fill: #174EA6;\n",
              "    }\n",
              "\n",
              "    [theme=dark] .colab-df-convert {\n",
              "      background-color: #3B4455;\n",
              "      fill: #D2E3FC;\n",
              "    }\n",
              "\n",
              "    [theme=dark] .colab-df-convert:hover {\n",
              "      background-color: #434B5C;\n",
              "      box-shadow: 0px 1px 3px 1px rgba(0, 0, 0, 0.15);\n",
              "      filter: drop-shadow(0px 1px 2px rgba(0, 0, 0, 0.3));\n",
              "      fill: #FFFFFF;\n",
              "    }\n",
              "  </style>\n",
              "\n",
              "      <script>\n",
              "        const buttonEl =\n",
              "          document.querySelector('#df-c4287b52-00ef-4a7a-b66d-6b7c2f417b58 button.colab-df-convert');\n",
              "        buttonEl.style.display =\n",
              "          google.colab.kernel.accessAllowed ? 'block' : 'none';\n",
              "\n",
              "        async function convertToInteractive(key) {\n",
              "          const element = document.querySelector('#df-c4287b52-00ef-4a7a-b66d-6b7c2f417b58');\n",
              "          const dataTable =\n",
              "            await google.colab.kernel.invokeFunction('convertToInteractive',\n",
              "                                                     [key], {});\n",
              "          if (!dataTable) return;\n",
              "\n",
              "          const docLinkHtml = 'Like what you see? Visit the ' +\n",
              "            '<a target=\"_blank\" href=https://colab.research.google.com/notebooks/data_table.ipynb>data table notebook</a>'\n",
              "            + ' to learn more about interactive tables.';\n",
              "          element.innerHTML = '';\n",
              "          dataTable['output_type'] = 'display_data';\n",
              "          await google.colab.output.renderOutput(dataTable, element);\n",
              "          const docLink = document.createElement('div');\n",
              "          docLink.innerHTML = docLinkHtml;\n",
              "          element.appendChild(docLink);\n",
              "        }\n",
              "      </script>\n",
              "    </div>\n",
              "  </div>\n",
              "  "
            ]
          },
          "metadata": {},
          "execution_count": 72
        }
      ],
      "source": [
        "# Load the penguins dataframe from the downloaded csv\n",
        "penguins = pd.read_csv(\"penguins.csv\")\n",
        "\n",
        "# Check the first rows of data\n",
        "penguins.head()"
      ]
    },
    {
      "cell_type": "code",
      "execution_count": 84,
      "id": "2317e467-0359-4f38-b296-28577b41c87d",
      "metadata": {
        "id": "2317e467-0359-4f38-b296-28577b41c87d"
      },
      "outputs": [],
      "source": [
        "# Count the number of rows per year and species\n",
        "\n",
        "# There are many ways of doing this:\n",
        "\n",
        "# Select a column and compute value_counts\n",
        "rows_per_year = penguins[\"year\"].value_counts()\n",
        "rows_per_species = penguins[\"species\"].value_counts()\n",
        "\n",
        "# Select multiple columns\n",
        "rows_per_year_and_species = penguins[[\"year\", \"species\"]].value_counts()\n",
        "\n",
        "# Group by column and compute group size\n",
        "rows_per_year = penguins.groupby(\"year\").size()\n",
        "rows_per_species = penguins.groupby(\"species\").size()\n",
        "\n",
        "# Group by multiple columns\n",
        "rows_per_year_and_species = penguins.groupby([\"year\", \"species\"]).size()"
      ]
    },
    {
      "cell_type": "code",
      "source": [
        "rows_per_year"
      ],
      "metadata": {
        "colab": {
          "base_uri": "https://localhost:8080/"
        },
        "id": "ITuNfVwnNFau",
        "outputId": "678bc797-9d43-4d02-d92b-9c6e947ad066"
      },
      "id": "ITuNfVwnNFau",
      "execution_count": 101,
      "outputs": [
        {
          "output_type": "execute_result",
          "data": {
            "text/plain": [
              "year\n",
              "2007    110\n",
              "2008    114\n",
              "2009    120\n",
              "dtype: int64"
            ]
          },
          "metadata": {},
          "execution_count": 101
        }
      ]
    },
    {
      "cell_type": "code",
      "source": [
        "rows_per_species"
      ],
      "metadata": {
        "colab": {
          "base_uri": "https://localhost:8080/"
        },
        "id": "Avq_tX9ILwyE",
        "outputId": "b503215f-e55b-43ff-a39e-16b5b9fd142d"
      },
      "id": "Avq_tX9ILwyE",
      "execution_count": 85,
      "outputs": [
        {
          "output_type": "execute_result",
          "data": {
            "text/plain": [
              "species\n",
              "Adelie       152\n",
              "Chinstrap     68\n",
              "Gentoo       124\n",
              "dtype: int64"
            ]
          },
          "metadata": {},
          "execution_count": 85
        }
      ]
    },
    {
      "cell_type": "code",
      "source": [
        "rows_per_year_and_species"
      ],
      "metadata": {
        "colab": {
          "base_uri": "https://localhost:8080/"
        },
        "id": "TzxaOJlzLWr4",
        "outputId": "54342f58-d19d-421e-cbe0-27875ca88ac5"
      },
      "id": "TzxaOJlzLWr4",
      "execution_count": 82,
      "outputs": [
        {
          "output_type": "execute_result",
          "data": {
            "text/plain": [
              "year  species  \n",
              "2007  Adelie       50\n",
              "      Chinstrap    26\n",
              "      Gentoo       34\n",
              "2008  Adelie       50\n",
              "      Chinstrap    18\n",
              "      Gentoo       46\n",
              "2009  Adelie       52\n",
              "      Chinstrap    24\n",
              "      Gentoo       44\n",
              "dtype: int64"
            ]
          },
          "metadata": {},
          "execution_count": 82
        }
      ]
    },
    {
      "cell_type": "code",
      "execution_count": 91,
      "id": "bef2a2b1-2604-4b6b-9dca-3b7d45367bda",
      "metadata": {
        "id": "bef2a2b1-2604-4b6b-9dca-3b7d45367bda"
      },
      "outputs": [],
      "source": [
        "# Compute the mean body mass by species and sex.\n",
        "mean_body_mass_by_species = penguins.groupby(\"species\")[\"body_mass_g\"].mean()\n",
        "mean_body_mass_by_sex = penguins.groupby(\"sex\")[\"body_mass_g\"].mean()\n",
        "mean_body_mass_by_sex_and_species = penguins.groupby([\"species\", \"sex\"])[\"body_mass_g\"].mean()"
      ]
    },
    {
      "cell_type": "code",
      "source": [
        "mean_body_mass_by_species"
      ],
      "metadata": {
        "colab": {
          "base_uri": "https://localhost:8080/"
        },
        "id": "zWkeZxD4NC7k",
        "outputId": "f50afe8f-48d2-4cdc-d6c6-ca6b683ada72"
      },
      "id": "zWkeZxD4NC7k",
      "execution_count": 100,
      "outputs": [
        {
          "output_type": "execute_result",
          "data": {
            "text/plain": [
              "species\n",
              "Adelie       3700.662252\n",
              "Chinstrap    3733.088235\n",
              "Gentoo       5076.016260\n",
              "Name: body_mass_g, dtype: float64"
            ]
          },
          "metadata": {},
          "execution_count": 100
        }
      ]
    },
    {
      "cell_type": "code",
      "source": [
        "mean_body_mass_by_sex"
      ],
      "metadata": {
        "colab": {
          "base_uri": "https://localhost:8080/"
        },
        "id": "AcDqxNDAMBDC",
        "outputId": "5a9c6786-d125-4947-d417-fdbf066a108d"
      },
      "id": "AcDqxNDAMBDC",
      "execution_count": 92,
      "outputs": [
        {
          "output_type": "execute_result",
          "data": {
            "text/plain": [
              "sex\n",
              "female    3862.272727\n",
              "male      4545.684524\n",
              "Name: body_mass_g, dtype: float64"
            ]
          },
          "metadata": {},
          "execution_count": 92
        }
      ]
    },
    {
      "cell_type": "code",
      "source": [
        "mean_body_mass_by_sex_and_species"
      ],
      "metadata": {
        "colab": {
          "base_uri": "https://localhost:8080/"
        },
        "id": "Ohp8VfJiMH04",
        "outputId": "c4bef0f9-7881-4477-bc70-6256b6acfeb4"
      },
      "id": "Ohp8VfJiMH04",
      "execution_count": 93,
      "outputs": [
        {
          "output_type": "execute_result",
          "data": {
            "text/plain": [
              "species    sex   \n",
              "Adelie     female    3368.835616\n",
              "           male      4043.493151\n",
              "Chinstrap  female    3527.205882\n",
              "           male      3938.970588\n",
              "Gentoo     female    4679.741379\n",
              "           male      5484.836066\n",
              "Name: body_mass_g, dtype: float64"
            ]
          },
          "metadata": {},
          "execution_count": 93
        }
      ]
    },
    {
      "cell_type": "code",
      "execution_count": 99,
      "id": "757afbfc-4132-4a30-8d9b-06850b4fa309",
      "metadata": {
        "id": "757afbfc-4132-4a30-8d9b-06850b4fa309",
        "colab": {
          "base_uri": "https://localhost:8080/",
          "height": 386
        },
        "outputId": "43542c66-4681-407f-fd96-b75623e4cc05"
      },
      "outputs": [
        {
          "output_type": "execute_result",
          "data": {
            "text/plain": [
              "<seaborn.axisgrid.FacetGrid at 0x7f0dba9ef2e0>"
            ]
          },
          "metadata": {},
          "execution_count": 99
        },
        {
          "output_type": "display_data",
          "data": {
            "text/plain": [
              "<Figure size 444.125x360 with 1 Axes>"
            ],
            "image/png": "[encoded data removed]"
          },
          "metadata": {
            "needs_background": "light"
          }
        }
      ],
      "source": [
        "# Create a plot to explore the following question: \n",
        "# How does the relation between flipper and bill length change among different penguin species.\n",
        "sns.lmplot(data=penguins, x=\"flipper_length_mm\", y=\"bill_length_mm\", hue=\"species\")"
      ]
    },
    {
      "cell_type": "markdown",
      "id": "034f7580-68bc-4f63-9c3d-e369061c3cec",
      "metadata": {
        "id": "034f7580-68bc-4f63-9c3d-e369061c3cec"
      },
      "source": [
        "## Further resources"
      ]
    },
    {
      "cell_type": "markdown",
      "id": "e68a74cb-768e-4395-be78-6150c14808a2",
      "metadata": {
        "id": "e68a74cb-768e-4395-be78-6150c14808a2"
      },
      "source": [
        "### Other libraries"
      ]
    },
    {
      "cell_type": "markdown",
      "id": "a8717cc9-1149-4114-9c03-7619b0b71f30",
      "metadata": {
        "id": "a8717cc9-1149-4114-9c03-7619b0b71f30"
      },
      "source": [
        "We have only scratched the surface of all the available tools for Scientific computing in Python. Learning to use them proficiently will take some time, but will payoff greatly as it will allow you to explore your research questions efficiently.\n",
        "\n",
        "Here is a list of libraries that we might use in future labs:\n",
        "\n",
        "* Machine Learning: Scikit-Learn, Pytorch\n",
        "* Image Manipulation: Pillow, Scikit-Image, Torchvision.\n",
        "* Audio: Librosa, Torchaudio.\n",
        "* Statistics: Statsmodels, PyStan and PyMC3\n",
        "* Geospatial: Geopandas, Shapely\n",
        "\n",
        "This is a [curated list](https://github.com/rossant/awesome-scientific-python#parallel-computing) of Python libraries for Scientific computing."
      ]
    },
    {
      "cell_type": "code",
      "execution_count": null,
      "id": "b37ccf95-1010-41d3-af6b-93e580e90a98",
      "metadata": {
        "id": "b37ccf95-1010-41d3-af6b-93e580e90a98"
      },
      "outputs": [],
      "source": []
    }
  ],
  "metadata": {
    "kernelspec": {
      "display_name": "sci",
      "language": "python",
      "name": "sci"
    },
    "language_info": {
      "codemirror_mode": {
        "name": "ipython",
        "version": 3
      },
      "file_extension": ".py",
      "mimetype": "text/x-python",
      "name": "python",
      "nbconvert_exporter": "python",
      "pygments_lexer": "ipython3",
      "version": "3.8.10"
    },
    "colab": {
      "provenance": []
    }
  },
  "nbformat": 4,
  "nbformat_minor": 5
}