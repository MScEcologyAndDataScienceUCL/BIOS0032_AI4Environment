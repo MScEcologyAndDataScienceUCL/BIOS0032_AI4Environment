{
 "cells": [
  {
   "cell_type": "markdown",
   "metadata": {},
   "source": [
    "<a href=\"https://colab.research.google.com/github/bkellenb/bios0032/blob/main/practicals/00_primer/00b_Python.ipynb\" target=\"_parent\"><img src=\"https://colab.research.google.com/assets/colab-badge.svg\" alt=\"Open In Colab\"/></a>"
   ]
  },
  {
   "cell_type": "markdown",
   "metadata": {},
   "source": [
    "# B: Introduction to Python\n",
    "\n",
    "Now that you know how to use [Google Colab](https://colab.research.google.com/) and\n",
    "[Jupyter](https://jupyter.org/) notebooks, let us get started with Python!\n",
    "\n",
    "\n",
    "## Objectives\n",
    "\n",
    "The aim of this notebook is to introduce you to some of the most important syntax of Python.\n",
    "Hopefully, it will also convince you that Python is actually a really easy language.😄\n",
    "\n",
    "\n",
    "\n",
    "## Contents\n",
    "\n",
    "1. [Basic data types](#1-basic-data-types)\n",
    "2. [Lists](#2-lists)\n",
    "3. [Dictionaries](#3-dictionaries)\n",
    "4. [If-Elif-Else](#4-if-elif-else-statements)\n",
    "5. [For-loops](#5-for-loops)\n",
    "6. [Functions](#6-functions)\n",
    "7. [Try-Except](#7-try-except-statements)\n",
    "8. [Files](#8-operations-on-files)\n",
    "9. [Extras](#9-extra-tips-and-tricks)\n",
    "10. [Conclusion and Further Reading](#10-conclusion-and-further-reading)\n",
    "\n",
    "\n",
    "\n",
    "## Notes\n",
    "\n",
    "- If a line starts with the fountain pen symbol (🖌️), it asks you to implement a code part or\n",
    "answer a question.\n",
    "- Lines starting with the light bulb symbol (💡) provide important information or tips and tricks.\n",
    "\n",
    "----"
   ]
  },
  {
   "cell_type": "markdown",
   "metadata": {},
   "source": [
    "## 1. Basic data types\n",
    "\n",
    "Like many other programming languages, Python uses a number of data types:"
   ]
  },
  {
   "cell_type": "code",
   "execution_count": null,
   "metadata": {},
   "outputs": [],
   "source": [
    "# data types\n",
    "x = 2                   # integer\n",
    "y = 3.532               # float\n",
    "s = 'Hello'             # string\n",
    "b = True                # boolean\n",
    "n = None                # special None value (NULL in R)\n",
    "\n",
    "# basic operations\n",
    "print(x + y)            # addition\n",
    "print(x - y)            # subtraction\n",
    "print(x * y)            # multiplication\n",
    "print(x / y)            # division\n",
    "print(y % x)            # modulo\n",
    "\n",
    "print(s + ' world!')    # string concatenation\n",
    "print(b and False)      # logical AND\n",
    "print(b or False)       # logical OR"
   ]
  },
  {
   "cell_type": "markdown",
   "metadata": {},
   "source": [
    "💡 The hash symbol `#` starts a comment."
   ]
  },
  {
   "cell_type": "code",
   "execution_count": null,
   "metadata": {},
   "outputs": [],
   "source": [
    "# shorthands for operations with assignment\n",
    "x += 3                  # equivalent to x = x + 3; same is available for other operators"
   ]
  },
  {
   "cell_type": "markdown",
   "metadata": {},
   "source": [
    "## 2. Lists\n",
    "\n",
    "A list in Python is a mutable, ordered sequence of values."
   ]
  },
  {
   "cell_type": "code",
   "execution_count": null,
   "metadata": {},
   "outputs": [],
   "source": [
    "my_list = ['b', 'a', 'd', 'f', 'e', 'c']\n",
    "\n",
    "print(len(my_list))     # length (number of elements)\n",
    "\n",
    "# accessing elements of a list\n",
    "print(my_list[0])       # index starts at zero!\n",
    "print(my_list[0:3])     # from...to (excluding last)\n",
    "print(my_list[-1])      # last element\n",
    "print(my_list[1:4:2])   # from..to, every 2nd"
   ]
  },
  {
   "cell_type": "markdown",
   "metadata": {},
   "source": [
    "💡 **Indices in Python start at zero**. Never forget!\n",
    "\n",
    "Since lists are mutable, we can easily add, remove and reorder elements, concatenate lists, _etc._:"
   ]
  },
  {
   "cell_type": "code",
   "execution_count": null,
   "metadata": {},
   "outputs": [],
   "source": [
    "my_list.append('g')         # append element at the end\n",
    "print(my_list)\n",
    "\n",
    "my_list.insert(1, 'ab')     # insert element at index (again: they start at zero)\n",
    "print(my_list)\n",
    "\n",
    "my_list.remove('b')         # remove element\n",
    "print(my_list)\n",
    "\n",
    "my_list.sort()              # sort in ascending order\n",
    "print(my_list)"
   ]
  },
  {
   "cell_type": "markdown",
   "metadata": {},
   "source": [
    "Built-in functions:"
   ]
  },
  {
   "cell_type": "code",
   "execution_count": null,
   "metadata": {},
   "outputs": [],
   "source": [
    "print(len(my_list))         # length of list, str, etc.; anything with more than one value\n",
    "\n",
    "print(sum([1, 2, 3]))\n",
    "print(max([4, 5, 6]))"
   ]
  },
  {
   "cell_type": "markdown",
   "metadata": {},
   "source": [
    "## 3. Dictionaries\n",
    "\n",
    "A dictionary (`dict`) contains key-value pairs, giving you instant access to a value if you know its key."
   ]
  },
  {
   "cell_type": "code",
   "execution_count": null,
   "metadata": {},
   "outputs": [],
   "source": [
    "my_dict = {\n",
    "    'Apple': 1,\n",
    "    'Banana': 2,\n",
    "    'Cabbage': 3\n",
    "}\n",
    "\n",
    "print(my_dict)\n",
    "print(len(my_dict))         # also dicts have a length\n",
    "\n",
    "# check if dict contains an element\n",
    "print('Apple' in my_dict)\n",
    "print('Pear' in my_dict)\n",
    "\n",
    "# accessing elements of a dict\n",
    "print(my_dict['Apple'])     # accessing value stored under key 'Apple'\n",
    "\n",
    "# adding a new element\n",
    "my_dict['Daikon'] = 4       # adding new value 4 under key 'Daikon'\n",
    "print(my_dict['Daikon'])\n",
    "\n",
    "# removing elements\n",
    "del my_dict['Daikon']       # deleting entry with key 'Daikon'\n",
    "print(my_dict)\n",
    "\n",
    "# replacing elements\n",
    "my_dict['Apple'] = -5       # if a key is already present, its value will be replaced with a new one\n",
    "print(my_dict)"
   ]
  },
  {
   "cell_type": "markdown",
   "metadata": {},
   "source": [
    "## 4. If-Elif-Else statements"
   ]
  },
  {
   "cell_type": "code",
   "execution_count": null,
   "metadata": {},
   "outputs": [],
   "source": [
    "if 'Daikon' in my_dict:\n",
    "    print('Cabbage salad tonight!')\n",
    "\n",
    "elif len(my_dict) > 3:\n",
    "    print('More than three items in the pantry.')\n",
    "\n",
    "else:\n",
    "    my_dict = {}\n",
    "    print('Just threw out everything from the kitchen.')"
   ]
  },
  {
   "cell_type": "markdown",
   "metadata": {},
   "source": [
    "**Note:** Python does not use curly braces (`{}`) to denote nested code blocks, but _indents_ (white\n",
    "spaces). They have to be aligned properly.\n",
    "\n",
    "💡 Tip: always use one tab per indent, this will automatically be converted to four white spaces."
   ]
  },
  {
   "cell_type": "markdown",
   "metadata": {},
   "source": [
    "## 5. For loops"
   ]
  },
  {
   "cell_type": "code",
   "execution_count": null,
   "metadata": {},
   "outputs": [],
   "source": [
    "for key in my_dict:\n",
    "    print(key + ':  ' + str(my_dict[key]))"
   ]
  },
  {
   "cell_type": "markdown",
   "metadata": {},
   "source": [
    "## 6. Functions\n",
    "\n",
    "Functions can be defined with special keyword `def`..."
   ]
  },
  {
   "cell_type": "code",
   "execution_count": null,
   "metadata": {},
   "outputs": [],
   "source": [
    "def select_positives(number_list):\n",
    "    selected_numbers = []\n",
    "    for number in number_list:\n",
    "        if number >= 0:\n",
    "            selected_numbers.append(number)\n",
    "    return selected_numbers"
   ]
  },
  {
   "cell_type": "markdown",
   "metadata": {},
   "source": [
    "...and called as follows:"
   ]
  },
  {
   "cell_type": "code",
   "execution_count": null,
   "metadata": {},
   "outputs": [],
   "source": [
    "my_list = list(range(-50, 50, 5))        # one way to define a sequence/range of numbers\n",
    "\n",
    "print('Original list:')\n",
    "print(my_list)\n",
    "\n",
    "\n",
    "# call function, store return argument into a new variable\n",
    "my_list_filtered = select_positives(my_list)\n",
    "\n",
    "print('Filtered list:')\n",
    "print(my_list_filtered)"
   ]
  },
  {
   "cell_type": "markdown",
   "metadata": {},
   "source": [
    "You can also:\n",
    "- Specify multiple input arguments\n",
    "- Give default values to them\n",
    "- Specify multiple output arguments\n",
    "\n",
    "for example:"
   ]
  },
  {
   "cell_type": "code",
   "execution_count": null,
   "metadata": {},
   "outputs": [],
   "source": [
    "def split_train_test(data,\n",
    "                     percentage_train=60,\n",
    "                     percentage_val=30,\n",
    "                     stratify_by_species=True):\n",
    "    '''\n",
    "        Receives an input dataframe and splits it into training, validation, and test sets,\n",
    "        optionally stratified by species.\n",
    "    '''\n",
    "    num_train = int(percentage_train/100 * len(data))\n",
    "    num_val = int(percentage_val/100 * len(data))\n",
    "    num_test = len(data) - num_train - num_val\n",
    "    data_train = data[0:num_train]\n",
    "    data_val = data[num_train:num_train+num_val]\n",
    "    data_test = data[-num_test:-1]\n",
    "    return data_train, data_val, data_test\n",
    "\n",
    "\n",
    "# to call the function and store all of its return values\n",
    "d_train, d_val, d_test = split_train_test(my_list,\n",
    "                                          percentage_train=70)"
   ]
  },
  {
   "cell_type": "markdown",
   "metadata": {},
   "source": [
    "* In the function above, all inputs except for `data` have a default value. This means that `data`\n",
    "must be provided when calling the function, but all the others are optional. In the example, a\n",
    "custom value for `percentage_train` is provided (`70`), but not for `percentage_val` nor\n",
    "`stratify_by_species`; for those two cases, the defaults (`60` and `True`) will be used.\n",
    "* As you can see, you can name function input arguments explicitly (`percentage_train=70`) or just provide them in order they are specified in the function definition (`data`).\n",
    "* The function returns three outputs. Accordingly, we assign the outputs to three new variables\n",
    "  (`d_train`, `d_val`, `d_test`).\n",
    "\n",
    "💡 The three quotes (`'''...'''`) denote a multi-line string in Python. Placed right below a function\n",
    "definition, these can be used to provide documentation about what the function does, what its inputs\n",
    "are, and what it returns."
   ]
  },
  {
   "cell_type": "markdown",
   "metadata": {},
   "source": [
    "## 7. Try-Except statements\n",
    "\n",
    "A try-except statement _tries_ to run a given code block. If any of the commands in that block causes an error (_e.g._, division by zero, access of the 5th element in a list of length 4), it raises an _exception_:"
   ]
  },
  {
   "cell_type": "code",
   "execution_count": null,
   "metadata": {},
   "outputs": [],
   "source": [
    "try:\n",
    "    # will try to execute this code block, line-by-line\n",
    "    index = 0\n",
    "    print(my_list[index])\n",
    "\n",
    "except Exception as e:\n",
    "    # if and only if any line above doesn't work (it raises an exception), this block is executed\n",
    "    print('An error occurred:')\n",
    "    print(e)"
   ]
  },
  {
   "cell_type": "markdown",
   "metadata": {},
   "source": [
    "🖌️ The code block above runs just fine. See what happens if you set `index = 100` in the \"try\"\n",
    "block."
   ]
  },
  {
   "cell_type": "markdown",
   "metadata": {},
   "source": [
    "## 8. Operations on files\n",
    "\n",
    "### 8.1 Creating file paths"
   ]
  },
  {
   "cell_type": "code",
   "execution_count": null,
   "metadata": {},
   "outputs": [],
   "source": [
    "import os           # os: built-in package with useful operating system-level functionality\n",
    "\n",
    "file_path = os.path.join('data', 'example_files', 'text_file.txt')  # combine paths\n",
    "print(file_path)\n",
    "\n",
    "parent_folder, file_name = os.path.split(file_path)     # split into parent folder & file name\n",
    "\n",
    "os.makedirs(parent_folder, exist_ok=True)               # create folder, don't raise an exception if it already exists"
   ]
  },
  {
   "cell_type": "markdown",
   "metadata": {},
   "source": [
    "### 8.2 Reading and writing files\n",
    "\n",
    "Basic files can be read and written in both text and binary mode."
   ]
  },
  {
   "cell_type": "code",
   "execution_count": null,
   "metadata": {},
   "outputs": [],
   "source": [
    "# write a bunch of strings to a text file\n",
    "with open(file_path, 'w') as file_handle:\n",
    "    for item in my_list:\n",
    "        file_handle.write(str(item) + '\\n')     # write each item per line\n",
    "\n",
    "\n",
    "# read file contents\n",
    "with open(file_path, 'r') as file_handle:\n",
    "    # read as a single string\n",
    "    text = file_handle.read()\n",
    "    print(text)\n",
    "\n",
    "with open(file_path, 'r') as file_handle:\n",
    "    # read as a list of strings, one per line\n",
    "    text_list = file_handle.readlines()\n",
    "    print(len(text_list))\n",
    "    for line in text_list:\n",
    "        print(line.strip())         # .strip() removes leading/trailing white spaces and \\r, \\n, etc."
   ]
  },
  {
   "cell_type": "markdown",
   "metadata": {},
   "source": [
    "Read/write modes (complete list [here](https://www.manpagez.com/man/3/fopen/)):\n",
    "- `r`: read text file\n",
    "- `w`: write to text file\n",
    "- `a`: append to text file\n",
    "- `rb`: read binary text file\n",
    "- `wb`: write binary text file\n",
    "\n",
    "💡 The `with` statement is useful to define a block on an item (_e.g._, a file handle) that needs to be closed upon completion. In the examples above, any code written under the `with` block has access to `file_handle`, but not code afterwards. This makes sure that `file_handle` automatically gets closed once reading/writing files has been completed."
   ]
  },
  {
   "cell_type": "markdown",
   "metadata": {},
   "source": [
    "## 9. Extra tips and tricks"
   ]
  },
  {
   "cell_type": "markdown",
   "metadata": {},
   "source": [
    "### 9.1 F-strings\n",
    "\n",
    "Python provides a really handy way to elegantly use formatted strings (f-strings). Anything inside\n",
    "curly braces (`{...}`) will be executed as Python code. This can be variables, code statements,\n",
    "function calls, _etc._."
   ]
  },
  {
   "cell_type": "code",
   "execution_count": null,
   "metadata": {},
   "outputs": [],
   "source": [
    "print(f'The length of my_list is {len(my_list)}.')"
   ]
  },
  {
   "cell_type": "markdown",
   "metadata": {},
   "source": [
    "You can even do things like formatting (rounding) a floating point number to _n_ decimal points:"
   ]
  },
  {
   "cell_type": "code",
   "execution_count": null,
   "metadata": {},
   "outputs": [],
   "source": [
    "pi = 3.141592653\n",
    "\n",
    "print(f'The value of pi is {pi}.\\nRounded to three decimal points, it is {pi:.3f}.')"
   ]
  },
  {
   "cell_type": "markdown",
   "metadata": {},
   "source": [
    "To use quotes within a string, remember that Python accepts both single (`'`) and double (`\"`) variants:"
   ]
  },
  {
   "cell_type": "code",
   "execution_count": null,
   "metadata": {},
   "outputs": [],
   "source": [
    "print(f'The value for key \"Apple\" in the dict is {my_dict[\"Apple\"]}.')"
   ]
  },
  {
   "cell_type": "markdown",
   "metadata": {},
   "source": [
    "💡 You can also \"escape\" quotes with a backslash (`\\`). This includes special instructions like `\\n` (print new line), `\\t` (tab), `\\\\` (print backslash) etc."
   ]
  },
  {
   "cell_type": "markdown",
   "metadata": {},
   "source": [
    "### 9.2 Other sequence types\n",
    "\n",
    "**Tuple**\n",
    "\n",
    "A tuple is an _unmodifiable_ list: you cannot add, remove, or reorder elements."
   ]
  },
  {
   "cell_type": "code",
   "execution_count": null,
   "metadata": {},
   "outputs": [],
   "source": [
    "my_tuple = ('cat', 'dog', 'parrot')     # define tuples with round braces\n",
    "\n",
    "print(len(my_tuple))                    # all static functions are the same as for list,\n",
    "print(my_tuple[-1])                     # but there are no functions like \".append\", etc.\n",
    "\n",
    "my_tuple = ('zebra',)                   # make sure to add a trailing comma for single-valued tuples\n",
    "\n",
    "my_tuple = tuple(my_list)               # you can also convert a list to a tuple and vice versa,\n",
    "                                        # using functions tuple(...) and list(...)"
   ]
  },
  {
   "cell_type": "markdown",
   "metadata": {},
   "source": [
    "💡 If you have multiple return outputs in a function (see above) and only assign them to a single\n",
    "variable, that variable will be a tuple holding all of the individual outputs."
   ]
  },
  {
   "cell_type": "markdown",
   "metadata": {},
   "source": [
    "**Set**\n",
    "\n",
    "A set is an _unordered_ collection of _unique_ values (every value appears at most once)."
   ]
  },
  {
   "cell_type": "code",
   "execution_count": null,
   "metadata": {},
   "outputs": [],
   "source": [
    "my_set = {'cat', 'cat', 'dog', 'parrot'}        # use curly braces to define a set\n",
    "print(my_set)                                   # did you notice how \"cat\" only appears once?\n",
    "\n",
    "my_new_set = set(['dog', 'zebra'])              # convert from list, tuple, etc.\n",
    "\n",
    "print(my_set.intersection(my_new_set))          # intersection: values that are present in both sets\n",
    "print(my_set.union(my_new_set))                 # union: values present in either or both sets\n",
    "print(my_set.difference(my_new_set))            # difference: values present in my_set but not my_new_set"
   ]
  },
  {
   "cell_type": "markdown",
   "metadata": {},
   "source": [
    "### 9.3 Miscellaneous tips\n",
    "\n",
    "**Enumerate**\n",
    "\n",
    "This is useful to get the value and an index when iterating over a list, tuple, _etc._."
   ]
  },
  {
   "cell_type": "code",
   "execution_count": null,
   "metadata": {},
   "outputs": [],
   "source": [
    "for index, value in enumerate(my_tuple):\n",
    "    print(f'[index {index}] value: {value}')"
   ]
  },
  {
   "cell_type": "markdown",
   "metadata": {},
   "source": [
    "**Zip**\n",
    "\n",
    "The `zip(...)` command allows iterating through multiple lists/tuples/_etc._ element-wise."
   ]
  },
  {
   "cell_type": "code",
   "execution_count": null,
   "metadata": {},
   "outputs": [],
   "source": [
    "my_tuple = ('First', 'Second', 'Third')\n",
    "my_list = ['Apple', 'Banana', 'Mango']\n",
    "\n",
    "for first, second in zip(my_tuple, my_list):\n",
    "    print(f'{first}: {second}')"
   ]
  },
  {
   "cell_type": "markdown",
   "metadata": {},
   "source": [
    "This also allows you to create dicts very quickly from lists of keys and values:"
   ]
  },
  {
   "cell_type": "code",
   "execution_count": null,
   "metadata": {},
   "outputs": [],
   "source": [
    "my_dict = dict(zip(my_tuple, my_list))\n",
    "\n",
    "print(my_dict)"
   ]
  },
  {
   "cell_type": "markdown",
   "metadata": {},
   "source": [
    "## 10. Conclusion and further reading\n",
    "\n",
    "That's all we need to know for now about Python:\n",
    "- data types: numbers (int, float), str, bool\n",
    "- list, dict, (tuple, set)\n",
    "- if / elif / else statements\n",
    "- for loops\n",
    "- functions\n",
    "- try-except statements\n",
    "- reading and writing files\n",
    "\n",
    "If you wish to dive deeper, you may want to check out the official [beginner's guide to Python](https://wiki.python.org/moin/BeginnersGuide).\n",
    "\n",
    "\n",
    "In the next notebook, we will be looking into three of the most useful libraries:\n",
    "- Numpy (for matrix operations)\n",
    "- Pandas (tabular data I/O and operations)\n",
    "- Matplotlib (plotting)"
   ]
  }
 ],
 "metadata": {
  "kernelspec": {
   "display_name": "py311",
   "language": "python",
   "name": "python3"
  },
  "language_info": {
   "codemirror_mode": {
    "name": "ipython",
    "version": 3
   },
   "file_extension": ".py",
   "mimetype": "text/x-python",
   "name": "python",
   "nbconvert_exporter": "python",
   "pygments_lexer": "ipython3",
   "version": "3.11.9"
  }
 },
 "nbformat": 4,
 "nbformat_minor": 2
}
