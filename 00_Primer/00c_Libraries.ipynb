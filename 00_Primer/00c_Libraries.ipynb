{
 "cells": [
  {
   "cell_type": "markdown",
   "metadata": {},
   "source": [
    "<a href=\"https://colab.research.google.com/github/bkellenb/bios0032/blob/main/practicals/00_primer/00c_Libraries.ipynb\" target=\"_parent\"><img src=\"https://colab.research.google.com/assets/colab-badge.svg\" alt=\"Open In Colab\"/></a>"
   ]
  },
  {
   "cell_type": "markdown",
   "metadata": {},
   "source": [
    "# C: Libraries\n",
    "\n",
    "Finally, we will be exploring three of the most popular libraries for data science:\n",
    "1. [NumPy](#1-numpy) (matrix operations)\n",
    "2. [Pandas](#2-pandas) (tabular data I/O and operations)\n",
    "3. [Matplotlib](#3-matplotlib) (plotting and visualisation)\n",
    "\n",
    "\n",
    "## Objectives\n",
    "\n",
    "This notebook will show you how to load, manipulate, visualise, and save, numerical and tabular\n",
    "data. The tools we use here are very similar in spirit to concepts you already know from BIOS0002\n",
    "Computational Methods or other, equivalent modules – just in Python.\n",
    "\n",
    "\n",
    "## Notes\n",
    "\n",
    "- If a line starts with the fountain pen symbol (🖌️), it asks you to implement a code part or\n",
    "answer a question.\n",
    "- Lines starting with the light bulb symbol (💡) provide important information or tips and tricks.\n",
    "\n",
    "\n",
    "----"
   ]
  },
  {
   "cell_type": "markdown",
   "metadata": {},
   "source": [
    "## 1. NumPy\n",
    "\n",
    "[NumPy](https://numpy.org/) is Python's matrix and number operation package (\"Numerical Python\"). It allows you to work with _n_-dimensional matrices, or arrays; `ndarray`."
   ]
  },
  {
   "cell_type": "code",
   "execution_count": null,
   "metadata": {},
   "outputs": [],
   "source": [
    "import numpy as np"
   ]
  },
  {
   "cell_type": "markdown",
   "metadata": {},
   "source": [
    "To create an ndarray from a list and print its properties (length, dimensionality, _etc._):"
   ]
  },
  {
   "cell_type": "code",
   "execution_count": null,
   "metadata": {},
   "outputs": [],
   "source": [
    "my_arr = np.array([[1,2,3], [4,5,6]])\n",
    "print(my_arr)\n",
    "print(len(my_arr))                      # length of my_arr\n",
    "print(my_arr.ndim)                      # number of dimensions of my_arr\n",
    "print(my_arr.shape)                     # shape of my_arr: includes all dimensions"
   ]
  },
  {
   "cell_type": "markdown",
   "metadata": {},
   "source": [
    "The relationship between dimensionality, shape, and length of ndarrays is shown below:\n",
    "![numpy arrays](https://predictivehacks.com/wp-content/uploads/2020/08/numpy_arrays-1024x572.png)\n",
    "\n",
    "You can access arrays via indices, exactly the same as for lists (see above):"
   ]
  },
  {
   "cell_type": "code",
   "execution_count": null,
   "metadata": {},
   "outputs": [],
   "source": [
    "print(my_arr[0])        # first element\n",
    "\n",
    "print(my_arr[0,2])      # first element in first dimension, third element in second dimension\n",
    "\n",
    "print(my_arr[1,1:3])    # second element in first dimension, second to fourth in second dimension\n",
    "\n",
    "print(my_arr[1,1:])     # second element in first dimension, second to remaining in second dim.\n",
    "\n",
    "print(my_arr[0,:2])     # first element in first dimension, all until second element in second dim."
   ]
  },
  {
   "cell_type": "markdown",
   "metadata": {},
   "source": [
    "Advanced ways to create arrays:"
   ]
  },
  {
   "cell_type": "code",
   "execution_count": null,
   "metadata": {},
   "outputs": [],
   "source": [
    "# ndarray with all-zero values of shape 3x4x5:\n",
    "print(np.zeros((3,4,5)))\n",
    "\n",
    "# ndarray filled with value 3.4 of shape 2x5x3x1:\n",
    "print(3.4 * np.ones((2,5,3,1)))\n",
    "\n",
    "# continuous range of values\n",
    "print(np.arange(1, 40, 3))              # integers from 1 to 40, in increments of 3\n",
    "\n",
    "# linearly spaced values\n",
    "print(np.linspace(0.1, 1.0, 10))        # ten values equally spaced from 0.1 to 1.0\n",
    "\n",
    "# uniform random values\n",
    "print(np.random.random((3,2)))"
   ]
  },
  {
   "cell_type": "markdown",
   "metadata": {},
   "source": [
    "NumPy has a lot of built-in functions to make computations on numbers and ndarrays. We will cover\n",
    "those in the practicals in more detail. If you want to explore these further, the best resource is\n",
    "the [official NumPy documentation](https://numpy.org/doc/stable/index.html). For the time being,\n",
    "here are some examples."
   ]
  },
  {
   "cell_type": "code",
   "execution_count": null,
   "metadata": {},
   "outputs": [],
   "source": [
    "random_array = np.random.randn(16, 3, 10, 10)       # randn: standard normal random values\n",
    "\n",
    "print(f'Min:  {random_array.min()}')\n",
    "print(f'Max:  {random_array.max()}')\n",
    "print(f'Mean: {random_array.mean()}')\n",
    "print(f'Sum:  {random_array.sum()}')\n",
    "\n",
    "# NumPy can apply functions across the entire ndarray or individual numbers\n",
    "print(f'Standard deviation of sine: {np.std(np.sin(random_array))}')\n",
    "print(f'Mean square root: {np.sqrt(random_array).mean()}')                          # note warning and output NaN: some of our values are negative...\n",
    "print(f'Mean square root (where defined): {np.nanmean(np.sqrt(random_array))}')     # np.nanmean calculates the mean of non-NaN values\n",
    "\n",
    "# matrix multiplication\n",
    "out = np.matmul(np.random.randn(12, 5), np.random.randn(5, 12))\n",
    "print(out.shape)\n",
    "\n",
    "# comparisons\n",
    "print((random_array > 0).sum())         # all values in random_array greater than zero"
   ]
  },
  {
   "cell_type": "markdown",
   "metadata": {},
   "source": [
    "----"
   ]
  },
  {
   "cell_type": "markdown",
   "metadata": {},
   "source": [
    "## 2. Pandas\n",
    "\n",
    "[Pandas](https://pandas.pydata.org/) is the most popular Python library for handling tabular data.\n",
    "It provides an interface with data frames similar to R.\n",
    "\n",
    "![pandas dataframe](https://pynative.com/wp-content/uploads/2021/02/dataframe.png)\n",
    "\n",
    "Figure: Pandas table, taken from [PyNative blog entry on pandas dataframes](https://pynative.com/python-pandas-dataframe/)."
   ]
  },
  {
   "cell_type": "code",
   "execution_count": null,
   "metadata": {},
   "outputs": [],
   "source": [
    "import pandas as pd"
   ]
  },
  {
   "cell_type": "markdown",
   "metadata": {},
   "source": [
    "### 2.1 Loading tabular data & printing summaries"
   ]
  },
  {
   "cell_type": "code",
   "execution_count": null,
   "metadata": {},
   "outputs": [],
   "source": [
    "# load dataframe from file on the internet\n",
    "iris = pd.read_csv(\n",
    "    'https://raw.githubusercontent.com/mwaskom/seaborn-data/master/iris.csv'\n",
    ")"
   ]
  },
  {
   "cell_type": "code",
   "execution_count": null,
   "metadata": {},
   "outputs": [],
   "source": [
    "# show the first rows of the dataframe\n",
    "iris.head()"
   ]
  },
  {
   "cell_type": "code",
   "execution_count": null,
   "metadata": {},
   "outputs": [],
   "source": [
    "# describe the columns\n",
    "iris.info()"
   ]
  },
  {
   "cell_type": "code",
   "execution_count": null,
   "metadata": {},
   "outputs": [],
   "source": [
    "# get quick statistics on the column values\n",
    "iris.describe()"
   ]
  },
  {
   "cell_type": "markdown",
   "metadata": {},
   "source": [
    "💡 Note that only numerical columns get summarised. \"species\" for example is not in the list."
   ]
  },
  {
   "cell_type": "markdown",
   "metadata": {},
   "source": [
    "### 2.2 Selecting subsets (rows, columns)"
   ]
  },
  {
   "cell_type": "code",
   "execution_count": null,
   "metadata": {},
   "outputs": [],
   "source": [
    "# select the \"species\" column\n",
    "species = iris['species']"
   ]
  },
  {
   "cell_type": "code",
   "execution_count": null,
   "metadata": {},
   "outputs": [],
   "source": [
    "# select multiple columns\n",
    "petal_data = iris[['petal_width', 'petal_length']]"
   ]
  },
  {
   "cell_type": "code",
   "execution_count": null,
   "metadata": {},
   "outputs": [],
   "source": [
    "# select rows by index\n",
    "first_ten_rows = iris.iloc[:10]\n",
    "\n",
    "first_ten_rows"
   ]
  },
  {
   "cell_type": "code",
   "execution_count": null,
   "metadata": {},
   "outputs": [],
   "source": [
    "# select rows by criterion\n",
    "valid = iris['sepal_width'] > 3.0\n",
    "\n",
    "print(f'Out of {len(valid)} rows, {sum(valid)} have a sepal width greater than 3.0')"
   ]
  },
  {
   "cell_type": "code",
   "execution_count": null,
   "metadata": {},
   "outputs": [],
   "source": [
    "# combined criteria\n",
    "valid = (iris['sepal_width'] > 3.0) * (iris['petal_width'] < 0.2)\n",
    "\n",
    "print(f'{sum(valid)} rows have sepal width > 3 and petal width < 0.2.')"
   ]
  },
  {
   "cell_type": "markdown",
   "metadata": {},
   "source": [
    "### 2.3 Conversion\n",
    "\n",
    "Pandas is an extension of NumPy and conversions back and forth are quite straightforward."
   ]
  },
  {
   "cell_type": "code",
   "execution_count": null,
   "metadata": {},
   "outputs": [],
   "source": [
    "# convert Pandas dataframe to NumPy array\n",
    "iris_np = iris.to_numpy()\n",
    "\n",
    "print(iris_np.shape)\n",
    "print(iris_np[:5,:])"
   ]
  },
  {
   "cell_type": "code",
   "execution_count": null,
   "metadata": {},
   "outputs": [],
   "source": [
    "# create Pandas dataframe from NumPy array\n",
    "pd.DataFrame(iris_np,\n",
    "             columns=('sepal_length', 'sepal_width', 'petal_length', 'petal_width', 'species'))"
   ]
  },
  {
   "cell_type": "markdown",
   "metadata": {},
   "source": [
    "### 2.4 Saving Pandas dataframe to file\n",
    "\n",
    "Pandas dataframes can be loaded from and saved to many different formats (see [here](https://pandas.pydata.org/docs/reference/io.html) for all of them)."
   ]
  },
  {
   "cell_type": "code",
   "execution_count": null,
   "metadata": {},
   "outputs": [],
   "source": [
    "iris.to_csv('iris.csv')             # CSV\n",
    "iris.to_csv('iris.dsv', sep='\\t')   # Tab-separated"
   ]
  },
  {
   "cell_type": "markdown",
   "metadata": {},
   "source": [
    "----"
   ]
  },
  {
   "cell_type": "markdown",
   "metadata": {},
   "source": [
    "## 3. Matplotlib\n",
    "\n",
    "Finally, we will be using [Matplotlib](https://matplotlib.org/) to visualise images, charts, plots,\n",
    "_etc._."
   ]
  },
  {
   "cell_type": "code",
   "execution_count": null,
   "metadata": {},
   "outputs": [],
   "source": [
    "import matplotlib.pyplot as plt"
   ]
  },
  {
   "cell_type": "markdown",
   "metadata": {},
   "source": [
    "### 3.1 Simple plots"
   ]
  },
  {
   "cell_type": "code",
   "execution_count": null,
   "metadata": {},
   "outputs": [],
   "source": [
    "plt.figure()\n",
    "\n",
    "x_vals = np.linspace(0, 10, 100)\n",
    "\n",
    "plt.plot(np.sin(x_vals), 'r-', label='sin')\n",
    "plt.plot(np.tan(x_vals), 'b--.', label='tan')\n",
    "plt.xlabel('Series')\n",
    "plt.ylabel('Value')\n",
    "plt.grid()\n",
    "plt.legend()\n",
    "plt.show()"
   ]
  },
  {
   "cell_type": "markdown",
   "metadata": {},
   "source": [
    "💡 The [plot](https://matplotlib.org/3.5.3/api/_as_gen/matplotlib.pyplot.plot.html) function accepts\n",
    "many arguments. Above, we've provided y values, a format specifier consisting of colour (`r`: red,\n",
    "`b`: blue) and line format (`-`: solid line, `--.`: dash-dash-dotted line), and label (shown in plot\n",
    "with `plt.legend()` command)."
   ]
  },
  {
   "cell_type": "markdown",
   "metadata": {},
   "source": [
    "### 3.2 Scatter plots"
   ]
  },
  {
   "cell_type": "code",
   "execution_count": null,
   "metadata": {},
   "outputs": [],
   "source": [
    "plt.figure()\n",
    "\n",
    "plt.scatter(iris['petal_length'],\n",
    "            iris['sepal_length'],\n",
    "            s=18,\n",
    "            alpha=0.75)\n",
    "plt.xlabel('Petal length')\n",
    "plt.ylabel('Sepal length')\n",
    "plt.show()"
   ]
  },
  {
   "cell_type": "markdown",
   "metadata": {},
   "source": [
    "💡 Also [scatter](https://matplotlib.org/3.5.3/api/_as_gen/matplotlib.pyplot.scatter.html) can be\n",
    "customised in many ways. Above, we've provided x, y, point size (`s`) and opacity (`alpha`)."
   ]
  },
  {
   "cell_type": "markdown",
   "metadata": {},
   "source": [
    "### 3.3 Matrices, rasters, images"
   ]
  },
  {
   "cell_type": "code",
   "execution_count": null,
   "metadata": {},
   "outputs": [],
   "source": [
    "var_names = ['petal_width', 'petal_length', 'sepal_width', 'sepal_length']\n",
    "\n",
    "# Pandas has a built-in correlation analysis function, returning a matrix of coefficients\n",
    "correlations = iris[var_names].corr()\n",
    "\n",
    "# let us visualise that matrix now\n",
    "plt.figure()\n",
    "plt.matshow(correlations, cmap='BrBG')\n",
    "plt.xticks(range(len(var_names)), var_names, rotation=90)\n",
    "plt.yticks(range(len(var_names)), var_names)\n",
    "plt.colorbar()\n",
    "plt.show()"
   ]
  },
  {
   "cell_type": "markdown",
   "metadata": {},
   "source": [
    "💡\n",
    "- Command `matshow` displays matrices. For images, use `imshow`.\n",
    "- Argument `cmap='BrBG'` assigned a colour map, diverging from brown to blue-green. See [here](https://matplotlib.org/stable/gallery/color/colormap_reference.html) for available colour maps."
   ]
  },
  {
   "cell_type": "markdown",
   "metadata": {},
   "source": [
    "### 3.3 Other plots\n",
    "\n",
    "As you would expect, Matplotlib allows you to create many other types of plots as well:"
   ]
  },
  {
   "cell_type": "code",
   "execution_count": null,
   "metadata": {},
   "outputs": [],
   "source": [
    "# boxplots\n",
    "plt.figure()\n",
    "plt.boxplot(iris[['petal_length', 'sepal_length']])\n",
    "plt.xticks([1, 2], ['petal length', 'sepal length'])\n",
    "plt.show()"
   ]
  },
  {
   "cell_type": "markdown",
   "metadata": {},
   "source": [
    "💡 Note how two boxplots have been drawn. This is because our input consists of two columns; Matplotlib will automatically treat each column as a series to draw."
   ]
  },
  {
   "cell_type": "code",
   "execution_count": null,
   "metadata": {},
   "outputs": [],
   "source": [
    "# the same, as violin plots\n",
    "plt.figure()\n",
    "plt.violinplot(iris[['petal_length', 'sepal_length']],\n",
    "               showmeans=True)\n",
    "plt.xticks([1, 2], ['petal length', 'sepal length'])\n",
    "plt.show()"
   ]
  },
  {
   "cell_type": "markdown",
   "metadata": {},
   "source": [
    "### 3.4 Saving figures\n",
    "\n",
    "To save a figure, add a line as follows **before** calling `plt.show()`:"
   ]
  },
  {
   "cell_type": "code",
   "execution_count": null,
   "metadata": {},
   "outputs": [],
   "source": [
    "plt.savefig('my_figure.pdf')"
   ]
  },
  {
   "cell_type": "markdown",
   "metadata": {},
   "source": [
    "## 4. Conclusion\n",
    "\n",
    "We have looked a little bit into three of the most common data I/O libraries for Python. They each offer a lot more functionality, we will see some of that in the course.\n",
    "Together, they provide the foundation for many more advanced tools and software packages, such as the following:\n",
    "- Machine learning: [Scikit-learn](https://scikit-learn.org/)\n",
    "- Deep learning: [PyTorch](https://pytorch.org/)\n",
    "- Statistical models: [Statsmodels](https://www.statsmodels.org/stable/index.html) (general statistical models); [PyStan](https://pystan.readthedocs.io/en/latest/) and [PyMC](https://www.pymc.io/welcome.html) (Bayesian inference)\n",
    "- Image manipulation: [Pillow](https://pillow.readthedocs.io/en/stable/), [Scikit-Image](https://scikit-image.org/), [Torchvision](https://pytorch.org/vision/stable/index.html)\n",
    "- Audio manipulation: [Librosa](https://librosa.org/doc/latest/index.html), [Torchaudio](https://pytorch.org/audio/)\n",
    "- Geospatial data (vector): [Geopandas](https://geopandas.org/en/stable/), [Shapely](https://shapely.readthedocs.io/en/stable/manual.html), [Fiona](https://fiona.readthedocs.io/)\n",
    "- Geospatial data (raster): [Rasterio](https://rasterio.readthedocs.io/)\n",
    "\n",
    "----\n",
    "\n",
    "**Congratulations, you have made it to the end of the primer for BIOS0032: AI for the Environment!** 😄🎉\n",
    "\n",
    "If you have understood the contents of these three notebooks, you should be ready to embark on the\n",
    "journey through the rest of the course.\n",
    "\n",
    "If there is something you did not understand or any aspect you want to learn more about, please open a thread in the [Moodle forum](https://moodle.ucl.ac.uk/mod/forum/view.php?id=6248835) or [contact the module organiser](https://moodle.ucl.ac.uk/course/section.php?id=1064182)."
   ]
  }
 ],
 "metadata": {
  "kernelspec": {
   "display_name": "py311",
   "language": "python",
   "name": "python3"
  },
  "language_info": {
   "codemirror_mode": {
    "name": "ipython",
    "version": 3
   },
   "file_extension": ".py",
   "mimetype": "text/x-python",
   "name": "python",
   "nbconvert_exporter": "python",
   "pygments_lexer": "ipython3",
   "version": "undefined.undefined.undefined"
  }
 },
 "nbformat": 4,
 "nbformat_minor": 2
}
