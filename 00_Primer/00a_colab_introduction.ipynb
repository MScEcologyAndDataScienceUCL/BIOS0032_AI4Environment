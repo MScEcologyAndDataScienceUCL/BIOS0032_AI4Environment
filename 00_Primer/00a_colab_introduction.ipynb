{
 "cells": [
  {
   "cell_type": "markdown",
   "metadata": {},
   "source": [
    "<a href=\"https://colab.research.google.com/github/bkellenb/bios0032/blob/main/practicals/00_primer/00a_colab_introduction.ipynb\" target=\"_parent\"><img src=\"https://colab.research.google.com/assets/colab-badge.svg\" alt=\"Open In Colab\"/></a>"
   ]
  },
  {
   "cell_type": "markdown",
   "metadata": {},
   "source": [
    "# A: Introduction to Google Colab\n",
    "\n",
    "Welcome to the BIOS 0032: AI for the Environment primer on Google Colab, Python, and libraries!\n",
    "\n",
    "This is an optional resource for you to brush up your Python knowledge.👨🏻‍💻\n",
    "\n",
    "If you have opened this file from the Moodle page and your browser's URL points to Google Colab ([https://colab.research.google.com/](https://colab.research.google.com/)), you can move on!\n",
    "Otherwise, click the \"Open in Colab\" button at the very top first (you need a Google account to continue).\n",
    "\n",
    "\n",
    "## Objectives\n",
    "\n",
    "In this first Notebook, we will... learn about Notebooks, and Google Colab.\n",
    "\n",
    "\n",
    "## Background\n",
    "\n",
    "Notebooks, more specifically [Jupyter Notebooks](https://jupyter.org/), are an easy\n",
    "way to implement your own code, with cells of (a.) markup and (b.) code. It's very similar to\n",
    "RMarkdown if you know that. The default programming language is Python, but you can also run R with\n",
    "an extension (we'll see that in the second half of the course).\n",
    "\n",
    "[Google Colab](https://colab.research.google.com/) is a Web/cloud-based infrastructure using Jupyter\n",
    "Notebooks (like the one you're reading now) and providing free access to compute resources for a\n",
    "limited time. This is convenient, but you don't really need Colab to run Notebooks; you can also do\n",
    "so on your own computer, another server, _etc._.\n",
    "\n",
    "\n",
    "\n",
    "## Notes\n",
    "\n",
    "- If a line starts with the fountain pen symbol (🖌️), it asks you to implement a code part or\n",
    "answer a question.\n",
    "- Lines starting with the light bulb symbol (💡) provide important information or tips and tricks.\n",
    "\n",
    "With that, let us begin!\n",
    "\n",
    "----"
   ]
  },
  {
   "cell_type": "markdown",
   "metadata": {},
   "source": [
    "## 1. Create and Save Notebooks\n",
    "\n",
    "This is just a frozen version of a notebook we created for you. Any changes you make here will **not** be saved.\n",
    "\n",
    "Instead, please create a copy of this notebook at the start of every session:\n",
    "1. Go to \"File\" > \"Save a copy in Drive\".\n",
    "2. This will save a copy into your own Google Drive folder and open it in a new window.\n"
   ]
  },
  {
   "cell_type": "markdown",
   "metadata": {},
   "source": [
    "## 2. Running simple code\n",
    "\n",
    "🖌️ Click on this cell then hit the `+ Code` button to add a new code cell below.\n",
    "\n",
    "🖌️ Copy-paste: `print(\"I am coding in Colab\")` and hit the run button. The output will appear below."
   ]
  },
  {
   "cell_type": "markdown",
   "metadata": {},
   "source": [
    "💡 You can also use the shift + enter shortcut to run code cells.\n",
    "\n",
    "Now we'll run some other simple code examples.\n",
    "\n",
    "🖌️ Some cells will print an output below your cell, others won't, can you see why this is?"
   ]
  },
  {
   "cell_type": "code",
   "execution_count": null,
   "metadata": {},
   "outputs": [],
   "source": [
    "a = 10\n",
    "a"
   ]
  },
  {
   "cell_type": "code",
   "execution_count": null,
   "metadata": {},
   "outputs": [],
   "source": [
    "b = 5"
   ]
  },
  {
   "cell_type": "code",
   "execution_count": null,
   "metadata": {},
   "outputs": [],
   "source": [
    "c = b*a"
   ]
  },
  {
   "cell_type": "code",
   "execution_count": null,
   "metadata": {},
   "outputs": [],
   "source": [
    "print(c)"
   ]
  },
  {
   "cell_type": "markdown",
   "metadata": {},
   "source": [
    "## 3. How to install and import packages\n",
    "\n",
    "You will almost always need to work with packages. Colab comes with many of the most common packages preinstalled which saves you the time needed to install these.\n",
    "\n",
    "We can see these using following command.\n",
    "\n",
    "💡 Placing an `!` before code means this will be run as a shell command (outside of Python). "
   ]
  },
  {
   "cell_type": "code",
   "execution_count": null,
   "metadata": {},
   "outputs": [],
   "source": [
    "! pip list"
   ]
  },
  {
   "cell_type": "markdown",
   "metadata": {},
   "source": [
    "To install a new package (example: [rasterio](https://rasterio.readthedocs.io/en/stable/), for reading/writing geospatial images):"
   ]
  },
  {
   "cell_type": "code",
   "execution_count": null,
   "metadata": {},
   "outputs": [],
   "source": [
    "! pip install rasterio"
   ]
  },
  {
   "cell_type": "markdown",
   "metadata": {},
   "source": [
    "Once installed, you can import packages in multiple ways.\n",
    "\n",
    "Import an entire package:"
   ]
  },
  {
   "cell_type": "code",
   "execution_count": null,
   "metadata": {},
   "outputs": [],
   "source": [
    "import rasterio"
   ]
  },
  {
   "cell_type": "markdown",
   "metadata": {},
   "source": [
    "You can also give imported packages an alias:"
   ]
  },
  {
   "cell_type": "code",
   "execution_count": null,
   "metadata": {},
   "outputs": [],
   "source": [
    "import numpy as np"
   ]
  },
  {
   "cell_type": "markdown",
   "metadata": {},
   "source": [
    "To import just a part of a package (if you don't need the rest):"
   ]
  },
  {
   "cell_type": "code",
   "execution_count": null,
   "metadata": {},
   "outputs": [],
   "source": [
    "import matplotlib.pyplot as plt\n",
    "\n",
    "# or, equivalent:\n",
    "\n",
    "from matplotlib import pyplot as plt"
   ]
  },
  {
   "cell_type": "markdown",
   "metadata": {},
   "source": [
    "Then, you can access a package based on the name you have given it during import:"
   ]
  },
  {
   "cell_type": "code",
   "execution_count": null,
   "metadata": {},
   "outputs": [],
   "source": [
    "print(np.__version__)"
   ]
  },
  {
   "cell_type": "markdown",
   "metadata": {},
   "source": [
    "## 4. Files and data\n",
    "\n",
    "Naturally, you have a file system on Colab (in the cloud, not on your computer).\n",
    "\n",
    "You can access this by clicking the folder icon in the left side panel.\n",
    "\n",
    "Google Colab comes with some sample data (under `sample_data`). We can take a look at file contents\n",
    "by double-clicking them.\n",
    "\n",
    "🖌️ Double-click the file `sample_data/README.md` to see its contents.\n",
    "\n",
    "Of course, you can also up- and download your own files:"
   ]
  },
  {
   "cell_type": "code",
   "execution_count": null,
   "metadata": {},
   "outputs": [],
   "source": [
    "! wget https://www.ucl.ac.uk/biosciences/sites/biosciences/files/styles/large_image/public/floral_olympic_park_1.png"
   ]
  },
  {
   "cell_type": "markdown",
   "metadata": {},
   "source": [
    "💡 `wget` is a command-line utility to download data from Web servers."
   ]
  },
  {
   "cell_type": "markdown",
   "metadata": {},
   "source": [
    "You can then access these files in the pane to the left, and from code directly:"
   ]
  },
  {
   "cell_type": "code",
   "execution_count": null,
   "metadata": {},
   "outputs": [],
   "source": [
    "from PIL import Image\n",
    "\n",
    "Image.open('floral_olympic_park_1.png').show()"
   ]
  },
  {
   "cell_type": "markdown",
   "metadata": {},
   "source": [
    "Again, note that files are just in a **temporary** directory on Google Colab. To keep them\n",
    "permanently, you can either download them (click the three dots) or copy them to your own Google\n",
    "Drive.\n",
    "\n",
    "To mount your Google Drive to a folder, execute the following cell:"
   ]
  },
  {
   "cell_type": "code",
   "execution_count": null,
   "metadata": {},
   "outputs": [],
   "source": [
    "from google.colab import drive\n",
    "drive.mount('/content/drive')"
   ]
  },
  {
   "cell_type": "markdown",
   "metadata": {},
   "source": [
    "## Saving your outputs\n",
    "\n",
    "You can save a copy of this notebook in your Google Drive using 'File' > 'Save a copy in Drive', or else save this to your GitHub account using 'File' > 'Save a copy in Github' - be sure to create an appropriate repository on your GitHub account where this can be saved.\n",
    "\n",
    "If you wrote any outputs to a file these will be saved in the 'Files' tab and can be downloaded from here - be sure to do this if you are quitting a session or taking an extended break as any files will be deleted when your runtime disconnects. If you saved these to a folder in your Google Drive, they will automatically be saved there. "
   ]
  },
  {
   "cell_type": "markdown",
   "metadata": {},
   "source": [
    "## Conclusion\n",
    "\n",
    "This notebook has given you a quick crash course in using Colab. We will be using Colab for all practicals in BIOS0032.\n",
    "\n",
    "You can also use Colab (and/or Jupyter notebooks) as a starting point for your own programming projects. If you prefer a more traditional code editor instead and/or would like to run notebooks _e.g._ on your local computer, check the extra document provided on the course Moodle page.\n",
    "\n",
    "\n",
    "## Further reading\n",
    "\n",
    "There are a huge number of existing Colab notebooks out there which you can look through, try out and adapt code from, here are some examples:\n",
    "- Generate images from text prompts using Stable Diffusion: https://colab.research.google.com/github/huggingface/notebooks/blob/main/diffusers/stable_diffusion.ipynb\n",
    "- Sound classification with YAMNet: \n",
    "https://www.tensorflow.org/hub/tutorials/yamnet\n",
    "- Object detection from images with YOLO: \n",
    "https://colab.research.google.com/github/ultralytics/yolov5/blob/master/tutorial.ipynb\n",
    "\n",
    "\n"
   ]
  }
 ],
 "metadata": {
  "kernelspec": {
   "display_name": "py311",
   "language": "python",
   "name": "python3"
  },
  "language_info": {
   "codemirror_mode": {
    "name": "ipython",
    "version": 3
   },
   "file_extension": ".py",
   "mimetype": "text/x-python",
   "name": "python",
   "nbconvert_exporter": "python",
   "pygments_lexer": "ipython3",
   "version": "3.11.9"
  }
 },
 "nbformat": 4,
 "nbformat_minor": 2
}
