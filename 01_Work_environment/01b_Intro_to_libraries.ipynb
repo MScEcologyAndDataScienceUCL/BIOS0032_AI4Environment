{
 "cells": [
  {
   "cell_type": "markdown",
   "id": "e4081d15-5264-466c-b087-ee47a5c75409",
   "metadata": {},
   "source": [
    "<a href=\"https://colab.research.google.com/github/MScEcologyAndDataScienceUCL/BIOS0032_AI4Environment/blob/main/01_Work_environment/01b_Intro_to_libraries.ipynb\" target=\"_parent\"><img src=\"https://colab.research.google.com/assets/colab-badge.svg\" alt=\"Open In Colab\"/></a>"
   ]
  },
  {
   "cell_type": "markdown",
   "id": "8b936772-3366-4677-854a-2c396e1013fe",
   "metadata": {},
   "source": [
    "# Week 1: B. Introduction to Libraries"
   ]
  },
  {
   "cell_type": "markdown",
   "id": "b5916990-668c-4601-9a84-c9c7cf44cb49",
   "metadata": {},
   "source": [
    "In this Notebook, we will take a look at Python and some of the most common libraries that we will be using throughout the rest of the course.\n",
    "\n",
    "Python is a general programming language; you can make Python do anything a computer can do.\n",
    "\n",
    "It is also a lenient and intuitive language - compared to others - and useful for fast prototyping and exploration.\n",
    "\n",
    "Python provides a basic set of tools for code building. These are the **builtin functions**, such as `print`, and the **standard library**. With these basic tools you can build anything.\n",
    "\n",
    "However, Python has been a popular language for decades and the wide community of its users has developed amazing tools - built upon the basic set - to help write code for many tasks. These are third-party **libraries** or **packages**, and you will find a huge variety of them, from tools to do ML, create web apps, make games, make beatiful plots, do statistics, etc.\n",
    "\n",
    "The use of these third-party libraries is key if you wish to do complex stuff in Python **fast**. It is worthwhile to learn the tools in your programming niche. The popular libraries are generally well-writen, safe, efficient and tested, and so it is not advised to write your own solution, unless it does not exist, you have very good reasons to make a new one, or for educational purposes."
   ]
  },
  {
   "cell_type": "markdown",
   "id": "67cbeffd-e8c3-499d-93a6-0a2887998718",
   "metadata": {},
   "source": [
    "This notebook is a brief introduction to some of the libraries we will be using across these Labs. You will learn\n",
    "\n",
    "1. How to handle file paths correctly with the standard library.\n",
    "2. The basics of **numpy**, a library to accelerate scientific computation.\n",
    "3. How to handle tabular data with **pandas**.\n",
    "4. How to make some basic plots with **matplotlib** and **seaborn**\n",
    "\n",
    "We cannot go deeply into any one, but we encourage you to seek out more information should you need to by looking into the documentation, tutorials or examples.\n",
    "\n",
    "## Notes\n",
    "\n",
    "- If a line starts with the fountain pen symbol (🖌️), it asks you to implement a code part or\n",
    "answer a question.\n",
    "- Lines starting with the light bulb symbol (💡) provide important information or tips and tricks.\n",
    "\n",
    "---"
   ]
  },
  {
   "cell_type": "markdown",
   "id": "a7e82bf0-14d1-4e0c-89ba-b96ea4bc9e9e",
   "metadata": {},
   "source": [
    "## 1. The Standard Library"
   ]
  },
  {
   "cell_type": "markdown",
   "id": "bc2eaec4-b0ad-4be9-8edc-4f5f10d66663",
   "metadata": {},
   "source": [
    "The standard library is a set of tools that comes included in any Python installation. These are over 200 tools that Python developers consider essential, such as\n",
    "\n",
    "* Exploring the filesystem\n",
    "* Reading/writing in files in basic formats (such as CSV, JSON)\n",
    "* Parallel computation\n",
    "* Executing other programs from Python\n",
    "\n",
    "And many others. Have a look at the [full list](https://docs.python.org/3/library/) if interested."
   ]
  },
  {
   "cell_type": "markdown",
   "id": "4f72425f-db95-4ef4-8a10-ab7f14e2c919",
   "metadata": {},
   "source": [
    "### `pathlib` and `os`"
   ]
  },
  {
   "cell_type": "markdown",
   "id": "5548844f-edfb-47f4-a8b8-408a855b2f40",
   "metadata": {},
   "source": [
    "Handling file paths is tricky, as this is OS-dependent - simple example: Windows uses the backward slash `\\`, Linux and MacOS uses the forward slash `/`.\n",
    "\n",
    "If not careful, a Python program that runs in Windows might **break** in MacOS.\n",
    "\n",
    "To avoid this use `pathlib` module (or the older `os` module)."
   ]
  },
  {
   "cell_type": "code",
   "execution_count": null,
   "id": "4b12c393-7f0e-41d8-a0af-2eac3f0ad6b7",
   "metadata": {},
   "outputs": [],
   "source": [
    "# Import Path object from pathlib. pathlib is in the standard library and will always be available\n",
    "from pathlib import Path"
   ]
  },
  {
   "cell_type": "code",
   "execution_count": null,
   "id": "0dd7ace9-d4a5-48c1-885d-f811ced1efb6",
   "metadata": {},
   "outputs": [],
   "source": [
    "# Create a path instance pointing to a file in the colab's sample data folder\n",
    "path = Path(\"sample_data/README.md\")"
   ]
  },
  {
   "cell_type": "code",
   "execution_count": null,
   "id": "96e5bc85-feda-45d5-83c5-688219d9100a",
   "metadata": {},
   "outputs": [],
   "source": [
    "# Print the full path\n",
    "print(f\"Full path: {path.resolve()}\")"
   ]
  },
  {
   "cell_type": "code",
   "execution_count": null,
   "id": "c94b1dda-024e-4fa0-b6e5-71eb094343d4",
   "metadata": {},
   "outputs": [],
   "source": [
    "# Test if the file exist\n",
    "print(f\"{path.exists() = }, {path.is_file() = }, {path.is_dir() = }\")"
   ]
  },
  {
   "cell_type": "code",
   "execution_count": null,
   "id": "28c0cc79-c8ed-48b7-84a7-3af1c7369d8e",
   "metadata": {},
   "outputs": [],
   "source": [
    "# Get the containing directory or folder\n",
    "parent_directory = path.parent\n",
    "print(f\"Parent directory: {parent_directory.resolve()}\")"
   ]
  },
  {
   "cell_type": "code",
   "execution_count": null,
   "id": "c9096811-4ba5-4da2-a6ee-0cdf0130b2db",
   "metadata": {},
   "outputs": [],
   "source": [
    "# Use path objects to navigate\n",
    "other_file = (\n",
    "    parent_directory / \"mnist_test.csv\"\n",
    ")  # Get file in parent directory\n",
    "\n",
    "# Check if you can find the mnist_test file in the 'Files' tab.\n",
    "print(other_file.exists())\n",
    "\n",
    "parent_parent_dir = parent_directory / \"..\"  # Go up one folder"
   ]
  },
  {
   "cell_type": "code",
   "execution_count": null,
   "id": "8bd28ca5-916d-4983-8b02-e62b980a185a",
   "metadata": {},
   "outputs": [],
   "source": [
    "# Create a path to a notes.txt file in the parent folder\n",
    "temp_file = parent_directory / \"notes.txt\"\n",
    "\n",
    "# Check it does not exist\n",
    "print(f\"{temp_file.exists() = }\")\n",
    "\n",
    "# Create empty file\n",
    "temp_file.touch()\n",
    "print(f\"{temp_file.exists() = }\")\n",
    "\n",
    "# Write text to file\n",
    "temp_file.write_text(\"Hello world!\")\n",
    "\n",
    "# Read file\n",
    "with temp_file.open() as fp:\n",
    "    print(fp.read())"
   ]
  },
  {
   "cell_type": "code",
   "execution_count": null,
   "id": "e8b8bbfc-2496-49bf-9fa4-a88200e49306",
   "metadata": {},
   "outputs": [],
   "source": [
    "# Break path into its components\n",
    "full_path = path.absolute()\n",
    "print(f\"{full_path = }\")\n",
    "print(f\"{full_path.name = }\")\n",
    "print(f\"{full_path.stem = }\")\n",
    "print(f\"{full_path.suffix = }\")\n",
    "print(f\"{full_path.root = }\")\n",
    "print(f\"{full_path.parent = }\")\n",
    "print(f\"{full_path.parts = }\")"
   ]
  },
  {
   "cell_type": "code",
   "execution_count": null,
   "id": "d3548ace-8a99-4f00-98fd-fe47ec19acae",
   "metadata": {},
   "outputs": [],
   "source": [
    "# Use the os module for communication with the OS\n",
    "import os\n",
    "\n",
    "# List all files in the parent directory\n",
    "print(os.listdir(parent_directory))"
   ]
  },
  {
   "cell_type": "code",
   "execution_count": null,
   "id": "24a0a6ad-2bec-45b4-a328-a9ee0304dcdd",
   "metadata": {},
   "outputs": [],
   "source": [
    "# Check if file exists\n",
    "if temp_file.exists():\n",
    "    # And remove if it does\n",
    "    os.remove(temp_file)"
   ]
  },
  {
   "cell_type": "markdown",
   "id": "3323e807-30d6-4c9d-b183-df0a0513abf6",
   "metadata": {},
   "source": [
    "## 2. Numpy"
   ]
  },
  {
   "cell_type": "markdown",
   "id": "4804a002-497c-490f-85c8-5103083a7a26",
   "metadata": {},
   "source": [
    "Python is considered flexible and easy to write. Unfortunately, this comes at a cost as, in general, Python is not the fastest language out there.\n",
    "\n",
    "However, you **can** get fast computation if you use the right tools. In particular, `NumPy` is a **numerical computation** library for Python that can greatly increase performance. \n",
    "\n",
    "It is not part of the standard library, but it is so fundamental that all Python packages for scientific computing are built upon - or are compatible with - `numpy`.\n",
    "\n",
    "Here you will learn the basics of numpy:\n",
    "\n",
    "1. What is a numpy array?\n",
    "2. How to create arrays?\n",
    "3. How to do computation with arrays?\n",
    "\n",
    "We recomend diving into the [NumPy quickstart](https://numpy.org/doc/stable/user/quickstart.html) for more information."
   ]
  },
  {
   "cell_type": "markdown",
   "id": "cc79c172-c8fb-427f-a66c-de4eecd0d95d",
   "metadata": {},
   "source": [
    "### Numpy arrays"
   ]
  },
  {
   "cell_type": "markdown",
   "id": "255c2166-c223-4c31-98fd-f5ff85b45818",
   "metadata": {},
   "source": [
    "Numpy provides a basic data structure for efficient computation: the numpy **array**.\n",
    "\n",
    "A numpy array is a table collection of values (usually numbers) that can be indexed by multiple non negative indices."
   ]
  },
  {
   "cell_type": "markdown",
   "id": "a35d5a41-5afa-4be6-9a57-603b83133032",
   "metadata": {},
   "source": [
    "![numpy arrays](https://predictivehacks.com/wp-content/uploads/2020/08/numpy_arrays-1024x572.png)\n",
    "\n",
    "A graphical depiction of arrays of dimensions 1, 2 and 3"
   ]
  },
  {
   "cell_type": "code",
   "execution_count": null,
   "id": "b3f4db6d-bbda-473a-b20a-2acfb596e210",
   "metadata": {},
   "outputs": [],
   "source": [
    "# Import numpy, it should be preinstalled in a colab environment.\n",
    "import numpy as np  # Usually numpy is abreviated as np"
   ]
  },
  {
   "cell_type": "code",
   "execution_count": null,
   "id": "bed252c6-384f-4648-9df7-225328efdfc6",
   "metadata": {},
   "outputs": [],
   "source": [
    "# Numpy stores data in \"arrays\".\n",
    "array = np.array([1, 4, 2, 0])\n",
    "\n",
    "# Array vaues can be accesed through indices\n",
    "print(array[0], array[1], array[2], array[3])"
   ]
  },
  {
   "cell_type": "code",
   "execution_count": null,
   "id": "373c2207-27e7-4745-90e9-27b3af83e875",
   "metadata": {},
   "outputs": [],
   "source": [
    "# Arrays can have multiple \"dimensions\" or \"axis\"\n",
    "matrix = np.array([[0, 1], [-1, 1]])\n",
    "print(f\"{matrix.ndim = }, {matrix.shape = }\")"
   ]
  },
  {
   "cell_type": "code",
   "execution_count": null,
   "id": "017c076b-6441-4c8a-87cc-acb9c3c3e10e",
   "metadata": {},
   "outputs": [],
   "source": [
    "# Access array values using multiple indices\n",
    "print(matrix[0, 1])"
   ]
  },
  {
   "cell_type": "markdown",
   "id": "c0c926c8-6feb-426c-819a-e5184a849267",
   "metadata": {},
   "source": [
    "### Creating arrays"
   ]
  },
  {
   "cell_type": "code",
   "execution_count": null,
   "id": "db65d86d-67c0-4480-8827-24db367a1dff",
   "metadata": {},
   "outputs": [],
   "source": [
    "# Create array by providing its values\n",
    "array = np.array([[1, 2, 3], [4, 5, 6], [7, 8, 9]])\n",
    "\n",
    "array"
   ]
  },
  {
   "cell_type": "code",
   "execution_count": null,
   "id": "e24df7fc-eba1-44e7-af6d-8b11b38d327f",
   "metadata": {},
   "outputs": [],
   "source": [
    "# Create array of zeros\n",
    "zeros = np.zeros([3, 3])\n",
    "\n",
    "zeros"
   ]
  },
  {
   "cell_type": "code",
   "execution_count": null,
   "id": "c5a42ac1-6aa4-400e-a86e-b809251e8890",
   "metadata": {},
   "outputs": [],
   "source": [
    "# Create an array containing a range of values\n",
    "range_array = np.linspace(0, 50, 11)  # Array of values from 0 to 50 of length 11\n",
    "\n",
    "range_array"
   ]
  },
  {
   "cell_type": "code",
   "execution_count": null,
   "id": "8845327b-427f-430c-9b50-6e38520f1839",
   "metadata": {},
   "outputs": [],
   "source": [
    "# Numpy provides many random number generators\n",
    "# np.random.random provides random numbers between 0 and 1.\n",
    "random_array = np.random.random(size=(10, 10, 10))"
   ]
  },
  {
   "cell_type": "markdown",
   "id": "8f058e44-a8a1-4814-8db3-d67ddf67a994",
   "metadata": {},
   "source": [
    "### Computing with arrays"
   ]
  },
  {
   "cell_type": "code",
   "execution_count": null,
   "id": "d850417f-a1ce-408b-84ff-74fe4aea34fb",
   "metadata": {},
   "outputs": [],
   "source": [
    "# Compute the minimum, maximum, mean and total sum of array values\n",
    "minimum = random_array.min()\n",
    "maximum = random_array.max()\n",
    "mean = random_array.mean()\n",
    "total_sum = random_array.sum()\n",
    "\n",
    "print(f\"{minimum = }, {maximum = }, {mean = }, {total_sum = },\")"
   ]
  },
  {
   "cell_type": "code",
   "execution_count": null,
   "id": "9857ac84-24c8-4f9a-8d87-b33942082404",
   "metadata": {},
   "outputs": [],
   "source": [
    "# Numpy provides many common mathematical functions\n",
    "x = 10\n",
    "\n",
    "square_root = np.sqrt(x)\n",
    "sine = np.sin(x)\n",
    "exponential = np.exp(x)\n",
    "logarithm = np.log(x)\n",
    "\n",
    "# Apply function to each array value\n",
    "np.cos(array)"
   ]
  },
  {
   "cell_type": "code",
   "execution_count": null,
   "id": "e531fcef-e8ae-4104-8b2b-421a2b8c44f2",
   "metadata": {},
   "outputs": [],
   "source": [
    "# Operate arrays\n",
    "y = array + np.sqrt(array)  # Sum\n",
    "z = 10 * array  # Multiplication\n",
    "w = z @ y  # Matrix  multiplication\n",
    "u = w >= 1000  # Comparison"
   ]
  },
  {
   "cell_type": "markdown",
   "id": "172fcfe5-0e7e-432e-8850-a21ce0a30f94",
   "metadata": {},
   "source": [
    "🖌️ Find out how to make a histogram of the values in the `random_array` and implement it in a new code cell below."
   ]
  },
  {
   "cell_type": "markdown",
   "id": "200cce37-4e04-41bf-ae16-e023bb9be137",
   "metadata": {},
   "source": [
    "## 3. Pandas"
   ]
  },
  {
   "cell_type": "markdown",
   "id": "44b3be7e-34a6-4241-8355-3bec090d0db9",
   "metadata": {},
   "source": [
    "**Pandas** is *the* Python library for handling **tabular data** and general **data analysis**. \n",
    "\n",
    "The basic objects provided by pandas are the `DataFrame` and `Series`. They are tables and vectors that are also indexed by column names and row indices."
   ]
  },
  {
   "cell_type": "markdown",
   "id": "6991c017-8465-424f-ad56-d90d25bd457d",
   "metadata": {},
   "source": [
    "![pandas dataframe](https://pynative.com/wp-content/uploads/2021/02/dataframe.png)\n",
    "\n",
    "Figure: Pandas table, taken from [PyNative blog entry on pandas dataframes](https://pynative.com/python-pandas-dataframe/)."
   ]
  },
  {
   "cell_type": "markdown",
   "id": "169c31bf-81ad-41b7-ab47-b3d7b123720e",
   "metadata": {},
   "source": [
    "In this section you will learn how to use pandas in order to:\n",
    "\n",
    "1. Load or create a dataframe\n",
    "2. Obtain basic info of a dataframe\n",
    "3. Read and edit data in a dataframe\n",
    "4. Filter relevant values in dataframes\n",
    "5. Do computation on dataframes\n",
    "6. Do aggregation on dataframes\n",
    "\n",
    "Use the [getting started tutorials](https://pandas.pydata.org/docs/getting_started/intro_tutorials/) to learn more about **pandas**. \n",
    "\n",
    "If you are familiar with R, you will be used to handle `dataframe`s which is similar to pandas `DataFrame`. Check out this [comparison](https://pandas.pydata.org/docs/getting_started/comparison/comparison_with_r.html) for help translating concepts into **pandas**."
   ]
  },
  {
   "cell_type": "markdown",
   "id": "76dfa934-c21d-4787-be37-9d3ad321ae15",
   "metadata": {},
   "source": [
    "### Loading or creating dataframes"
   ]
  },
  {
   "cell_type": "code",
   "execution_count": null,
   "id": "a9642ec2-2e0b-4d89-a4d1-dd7eb9068982",
   "metadata": {},
   "outputs": [],
   "source": [
    "import pandas as pd  # Pandas is usually abreviated as pd"
   ]
  },
  {
   "cell_type": "code",
   "execution_count": null,
   "id": "fecce485-bf28-464d-b6df-dac33914eb57",
   "metadata": {},
   "outputs": [],
   "source": [
    "numerical_column = [1, 2, 3]\n",
    "categorical_column = [\"a\", \"b\", \"a\"]\n",
    "boolean_column = [True, True, False]\n",
    "\n",
    "# Build dataframe by specifying the column data and column names\n",
    "dataframe = pd.DataFrame(\n",
    "    {\n",
    "        \"numerical\": numerical_column,\n",
    "        \"categorical\": categorical_column,\n",
    "        \"boolean\": boolean_column,\n",
    "    },\n",
    ")\n",
    "\n",
    "dataframe"
   ]
  },
  {
   "cell_type": "code",
   "execution_count": null,
   "id": "f5ef7666-5f03-424f-8e8d-ee255977198a",
   "metadata": {},
   "outputs": [],
   "source": [
    "# Create a csv file\n",
    "csv_file = Path(\"table.csv\")\n",
    "\n",
    "# Write a few columns\n",
    "csv_file.write_text(\n",
    "    \"\"\"\n",
    "column_a, column_b, column_c\n",
    "1.3, open, 10-01-2023\n",
    "4.2, closed, 09-01-2023\n",
    "-9.3, semiopen, 30-12-2022\n",
    "\"\"\"\n",
    ")\n",
    "\n",
    "# Read csv with pandas\n",
    "dataframe_from_csv = pd.read_csv(csv_file)\n",
    "\n",
    "dataframe_from_csv"
   ]
  },
  {
   "cell_type": "code",
   "execution_count": null,
   "id": "43d9b239-9a94-4f0d-816e-e633b8474e78",
   "metadata": {},
   "outputs": [],
   "source": [
    "# Save a dataframe to disk\n",
    "dataframe.to_csv(\"table2.csv\")\n",
    "\n",
    "# Print the contents of the new file\n",
    "print(Path(\"table2.csv\").read_text())"
   ]
  },
  {
   "cell_type": "markdown",
   "id": "1227491c-c7b8-44bd-b4b4-3b9e0551742e",
   "metadata": {},
   "source": [
    "Pandas dataframes can be read and saved in many formats:\n",
    "* csv\n",
    "* json\n",
    "* excel\n",
    "* html\n",
    "* ...\n",
    "\n",
    "![pandas formats](https://pandas.pydata.org/docs/_images/02_io_readwrite.svg)"
   ]
  },
  {
   "cell_type": "markdown",
   "id": "2ab68bd0-0bd8-4d84-bbd2-1661cab7c6d2",
   "metadata": {},
   "source": [
    "### Basic dataframe statistics"
   ]
  },
  {
   "cell_type": "code",
   "execution_count": null,
   "id": "d79da81c-a430-4215-ad7d-69e137937935",
   "metadata": {},
   "outputs": [],
   "source": [
    "# Load dataframe from file on the internet\n",
    "iris = pd.read_csv(\n",
    "    \"https://raw.githubusercontent.com/mwaskom/seaborn-data/master/iris.csv\"\n",
    ")"
   ]
  },
  {
   "cell_type": "code",
   "execution_count": null,
   "id": "46919630-8a2f-4ab9-a137-7aed166f6733",
   "metadata": {},
   "outputs": [],
   "source": [
    "# Show the first rows of the dataframe\n",
    "iris.head()"
   ]
  },
  {
   "cell_type": "code",
   "execution_count": null,
   "id": "82f3cd44-12fe-4fa6-8f87-9c15c5652b97",
   "metadata": {},
   "outputs": [],
   "source": [
    "# Describe the columns\n",
    "iris.info()"
   ]
  },
  {
   "cell_type": "code",
   "execution_count": null,
   "id": "1f1bff86-70a9-47fb-9999-2b87bd609246",
   "metadata": {},
   "outputs": [],
   "source": [
    "# Get quick statistics on the column values\n",
    "iris.describe()\n",
    "\n",
    "# Note that only numerical columns get summarized"
   ]
  },
  {
   "cell_type": "code",
   "execution_count": null,
   "id": "3c4a9fce-0324-4dea-8b89-b47802fd6568",
   "metadata": {},
   "outputs": [],
   "source": [
    "# Extract the \"species\" column\n",
    "species = iris[\"species\"]"
   ]
  },
  {
   "cell_type": "code",
   "execution_count": null,
   "id": "3e073cba-0429-4426-b735-e6a642fe2b6d",
   "metadata": {},
   "outputs": [],
   "source": [
    "# The \"species\" column is a pandas Series\n",
    "print(f\"type = {type(species)}\")\n",
    "\n",
    "species.head()"
   ]
  },
  {
   "cell_type": "code",
   "execution_count": null,
   "id": "2abd418e-985b-4cb7-ba07-e918b1c0a5c5",
   "metadata": {},
   "outputs": [],
   "source": [
    "# Count the number of entries per species\n",
    "species.value_counts()"
   ]
  },
  {
   "cell_type": "code",
   "execution_count": null,
   "id": "b2166905-671c-4a8b-89e6-5b6b7c8b92f9",
   "metadata": {},
   "outputs": [],
   "source": [
    "# Get the minimum value of a column\n",
    "min_sepal_length = iris[\"sepal_length\"].min()\n",
    "\n",
    "# The the mean value of another column\n",
    "mean_petal_width = iris[\"petal_width\"].mean()\n",
    "\n",
    "print(\n",
    "    f\"Minimum sepal length = {min_sepal_length}; mean petal width = {mean_petal_width}\"\n",
    ")"
   ]
  },
  {
   "cell_type": "code",
   "execution_count": null,
   "id": "0bddd5d3-a2df-41e0-8a36-3db8e0ee3b7a",
   "metadata": {},
   "outputs": [],
   "source": [
    "# Note: In the background dataframe are a 2D numpy array and columns are 1D numpy arrays.\n",
    "underlying_array = iris.values\n",
    "\n",
    "print(f\"type = {type(underlying_array)}, shape = {underlying_array.shape} (rows, cols)\")\n",
    "\n",
    "species_column_array = iris[\"species\"].values\n",
    "\n",
    "print(\n",
    "    f\"type = {type(species_column_array)}, shape = {species_column_array.shape} (rows,)\"\n",
    ")"
   ]
  },
  {
   "cell_type": "markdown",
   "id": "d49768a9-b0ca-41ab-a035-9ca4627e2704",
   "metadata": {},
   "source": [
    "### Accessing & editing dataframe values"
   ]
  },
  {
   "cell_type": "markdown",
   "id": "730b01db-838e-490b-b0b3-6a543d8631fd",
   "metadata": {},
   "source": [
    "In pandas dataframes each row and column has a unique identifier or index. The indices can be used to reference particular values within the dataframe.\n",
    "\n",
    "Usually the column name is its index, and rows are indexed by the row number."
   ]
  },
  {
   "cell_type": "code",
   "execution_count": null,
   "id": "983b5380-fe7b-4e52-8e7d-d8829b6f8cc8",
   "metadata": {},
   "outputs": [],
   "source": [
    "# Get a specific entry in the dataframe\n",
    "\n",
    "# Get value by indices\n",
    "value = iris.loc[10, \"species\"]  # value @ row with index 10, species column\n",
    "\n",
    "# Get value by numerical position\n",
    "value2 = iris.iloc[10, 4]  # value @ 10th row, 5th column (Python is 0-indexed)\n",
    "\n",
    "# A combination of the previous approaches\n",
    "value3 = iris[\"species\"][10]  # 10th value in the species column\n",
    "\n",
    "# All are equivalent ways of retrieving the same value\n",
    "print(value == value2 == value3)"
   ]
  },
  {
   "cell_type": "code",
   "execution_count": null,
   "id": "7f29ac8d-8ef1-4608-bd98-4ad6fcb16903",
   "metadata": {},
   "outputs": [],
   "source": [
    "# Edit a single entry\n",
    "iris.loc[0, \"sepal_length\"] = 10\n",
    "\n",
    "# Create a new column\n",
    "iris[\"petal_area\"] = iris[\"petal_width\"] * iris[\"petal_length\"]"
   ]
  },
  {
   "cell_type": "markdown",
   "id": "c6793d61-6b63-45aa-ad59-949bd6d854d4",
   "metadata": {},
   "source": [
    "### Filtering values"
   ]
  },
  {
   "cell_type": "code",
   "execution_count": null,
   "id": "6a7daeff-d426-4fe3-b437-c28755ed071e",
   "metadata": {},
   "outputs": [],
   "source": [
    "# Check which rows have \"setosa\" in the species column\n",
    "is_setosa = iris[\"species\"] == \"setosa\"\n",
    "\n",
    "# Select the rows for which the condition \"is_setosa\" is True.\n",
    "filtered = iris[is_setosa]\n",
    "\n",
    "filtered.head()"
   ]
  },
  {
   "cell_type": "code",
   "execution_count": null,
   "id": "3e4a7edf-4f53-4253-834a-3e4f96c5ac49",
   "metadata": {},
   "outputs": [],
   "source": [
    "# Numerical comparisons\n",
    "has_short_petal = iris[\"petal_length\"] < 1.2\n",
    "\n",
    "# Combine conditions\n",
    "filtered = iris[is_setosa & has_short_petal]\n",
    "\n",
    "filtered"
   ]
  },
  {
   "cell_type": "markdown",
   "id": "5c40ec63-4a72-4df4-8cab-b6cb484730b5",
   "metadata": {},
   "source": [
    "### Compute on every row"
   ]
  },
  {
   "cell_type": "code",
   "execution_count": null,
   "id": "5845871f-d209-42b8-af92-e9a6f87aea46",
   "metadata": {},
   "outputs": [],
   "source": [
    "def compute_total_area(row):\n",
    "    sepal_area = row[\"sepal_length\"] * row[\"sepal_width\"]\n",
    "    petal_area = row[\"petal_length\"] * row[\"petal_width\"]\n",
    "    return sepal_area + petal_area"
   ]
  },
  {
   "cell_type": "code",
   "execution_count": null,
   "id": "7e6b1917-c02f-4a7a-9c5f-672844b3ac8c",
   "metadata": {},
   "outputs": [],
   "source": [
    "# Iterate over every row\n",
    "total_area = 0\n",
    "for index, row in iris.iterrows():\n",
    "    # Sum all areas\n",
    "    total_area += compute_total_area(row)"
   ]
  },
  {
   "cell_type": "code",
   "execution_count": null,
   "id": "212242c6-eec7-4459-81c1-82b0e9cc1d16",
   "metadata": {},
   "outputs": [],
   "source": [
    "# Apply a function to each row, get a Series of results\n",
    "iris_areas = iris.apply(compute_total_area, axis=1)\n",
    "\n",
    "# See results\n",
    "iris_areas.head()"
   ]
  },
  {
   "cell_type": "code",
   "execution_count": null,
   "id": "2bb4a6f6-63d6-4cb8-9550-b0349477c1b7",
   "metadata": {},
   "outputs": [],
   "source": [
    "# Test if results are equal. Numerical errors might make the results slightly different,\n",
    "# hence we test if they are close enough to be considered equal.\n",
    "print(np.isclose(total_area, iris_areas.sum()))"
   ]
  },
  {
   "cell_type": "markdown",
   "id": "ed292262-bc12-4d24-afd1-a03648a2de1c",
   "metadata": {},
   "source": [
    "### Grouping by values"
   ]
  },
  {
   "cell_type": "code",
   "execution_count": null,
   "id": "38b244b6-1f74-4095-80c7-a2802d24ae2a",
   "metadata": {},
   "outputs": [],
   "source": [
    "# Group dataframe rows by species and compute the standard deviation of column values within each group.\n",
    "iris.groupby(\"species\").std()"
   ]
  },
  {
   "cell_type": "code",
   "execution_count": null,
   "id": "3147dec7-83e6-4293-a2f2-78bccb7a76c1",
   "metadata": {},
   "outputs": [],
   "source": [
    "# Group dataframe by species and compute the mean total area for each group\n",
    "iris.groupby(\"species\").apply(\n",
    "    lambda group: group.apply(compute_total_area, axis=1).sum()\n",
    ")"
   ]
  },
  {
   "cell_type": "markdown",
   "id": "9862575a-1e5a-4846-97b2-c635783f2c2f",
   "metadata": {},
   "source": [
    "## 4. Matplotlib & Seaborn"
   ]
  },
  {
   "cell_type": "markdown",
   "id": "6c5cacd2-085e-41a5-8371-3a23bf91a1ef",
   "metadata": {},
   "source": [
    "Plotting is a great tool to explore your data, validate your methods and visualize your results. \n",
    "\n",
    "Python has many plotting libraries, but the most popular, flexible and extensive library is **matplotlib**.\n",
    "\n",
    "In this section we will show some examples of how to use **matplotlib** for some basic plots. You will learn how to\n",
    "\n",
    "1. Create a basic scatter and line plot\n",
    "2. Adjust axis labels and figure titles\n",
    "3. Creating a compound figure with multiple subplots\n",
    "4. Adding text and annotations to figures\n",
    "\n",
    "We will also see some simple examples of how to use **seaborn**, a matplotlib extension designed to facilitate plotting tabular data.\n",
    "\n",
    "Matplotlib is a huge library with many plotting functions, and everything in the figures can be customized. If you wish to learn more we recommend the [official tutorials](https://matplotlib.org/stable/tutorials/index.html). Additionally, take a look at the [seaborn gallery](https://seaborn.pydata.org/examples/index.html) to get a quick overview of the type of plots **seaborn** can produce effortlessly."
   ]
  },
  {
   "cell_type": "code",
   "execution_count": null,
   "id": "573f949f-c594-4dd1-85d6-704875aae0ee",
   "metadata": {},
   "outputs": [],
   "source": [
    "import matplotlib.pyplot as plt  # This is the common way to import and abbreviate matplotlib"
   ]
  },
  {
   "cell_type": "markdown",
   "id": "a71c6f61-ba2f-4086-8bba-07eb39c98d6e",
   "metadata": {},
   "source": [
    "### Creating a simple scatter and line plot"
   ]
  },
  {
   "cell_type": "code",
   "execution_count": null,
   "id": "6f43d0c3-c52b-4c15-a81d-c6362ff560f3",
   "metadata": {},
   "outputs": [],
   "source": [
    "# Create an independent variable, ranging from 0 to 10\n",
    "x = np.linspace(0, 10, 100)\n",
    "\n",
    "# Create a dependent variable\n",
    "y = np.cos(x)\n",
    "\n",
    "# Add some normal noise\n",
    "z = y + np.random.normal(scale=0.1, size=100)"
   ]
  },
  {
   "cell_type": "code",
   "execution_count": null,
   "id": "0c102842-4e07-46c6-82c8-70c864e51d7c",
   "metadata": {},
   "outputs": [],
   "source": [
    "# Create a new figure\n",
    "plt.figure(figsize=(6, 3))  # Adjust the size\n",
    "\n",
    "# Create a line plot\n",
    "plt.plot(x, y)"
   ]
  },
  {
   "cell_type": "code",
   "execution_count": null,
   "id": "7d28ef58-6b6e-4109-9002-d57cb5f6de52",
   "metadata": {},
   "outputs": [],
   "source": [
    "# Create another figure\n",
    "plt.figure(figsize=(6, 3))  # Adjust the size\n",
    "\n",
    "# Create a scatter plot\n",
    "plt.scatter(x, z)"
   ]
  },
  {
   "cell_type": "code",
   "execution_count": null,
   "id": "cb09434d-c122-45a3-83ab-dc7dd7327295",
   "metadata": {},
   "outputs": [],
   "source": [
    "plt.figure(figsize=(6, 3))\n",
    "\n",
    "# Create a red line plot.\n",
    "plt.plot(x, y, label=\"line plot\", color=\"red\")\n",
    "\n",
    "# Overlay the scatter plot with crosses as markers\n",
    "plt.scatter(x, z, label=\"scatter plot\", marker=\"x\")\n",
    "\n",
    "# Add legend to figure\n",
    "plt.legend()"
   ]
  },
  {
   "cell_type": "markdown",
   "id": "9ba59746-f934-4080-9445-79a6d03f3714",
   "metadata": {},
   "source": [
    "### Modifying titles and axes labels"
   ]
  },
  {
   "cell_type": "code",
   "execution_count": null,
   "id": "553ba5f8-5969-4f09-9568-52ec526dbaee",
   "metadata": {},
   "outputs": [],
   "source": [
    "plt.figure(figsize=(6, 3))\n",
    "\n",
    "# Create a red line plot.\n",
    "plt.plot(x, y, label=\"prediction\", color=\"red\")\n",
    "\n",
    "# Overlay the scatter plot with crosses as markers\n",
    "plt.scatter(x, z, label=\"measurements\", marker=\"x\")\n",
    "\n",
    "# Add legend to figure\n",
    "plt.legend()\n",
    "\n",
    "# Modify the label of the x-axis\n",
    "plt.xlabel(\"Time (days)\")\n",
    "\n",
    "# Modify the label of the y-axis\n",
    "plt.ylabel(\"Displacement (m)\")\n",
    "\n",
    "# Add title to the figure\n",
    "plt.title(\"Displacement time series\")"
   ]
  },
  {
   "cell_type": "markdown",
   "id": "326a0c66-c29e-480b-8667-46474a16ceec",
   "metadata": {},
   "source": [
    "### Creating compound figure"
   ]
  },
  {
   "cell_type": "code",
   "execution_count": null,
   "id": "8e8a4765-03c0-4a6a-9431-c1de81355a18",
   "metadata": {},
   "outputs": [],
   "source": [
    "plt.figure(figsize=(12, 3))\n",
    "\n",
    "# Create a 1 row, 2 column, grid of subplots and select the first subplot.\n",
    "ax1 = plt.subplot(1, 2, 1)\n",
    "\n",
    "# Create line plot in subplot\n",
    "ax1.plot(x, y, label=\"prediction\", color=\"red\")\n",
    "\n",
    "# Overlay the scatter plot with crosses as markers\n",
    "ax1.scatter(x, z, label=\"measurements\", marker=\"x\")\n",
    "\n",
    "# Add legend to figure\n",
    "ax1.legend()\n",
    "\n",
    "# Modify the label of the x-axis. Note a difference?\n",
    "ax1.set_xlabel(\"Time (days)\")\n",
    "\n",
    "# Modify the label of the y-axis\n",
    "ax1.set_ylabel(\"Displacement (m)\")\n",
    "\n",
    "# Add title to the figure\n",
    "ax1.set_title(\"Displacement time series\")\n",
    "\n",
    "# Add subplot. This is the second subplot in the grid of subplots.\n",
    "ax2 = plt.subplot(1, 2, 2)\n",
    "\n",
    "# Compute the prediction error\n",
    "error = z - y\n",
    "\n",
    "# Plot a histogram of the error in the second subplot\n",
    "ax2.hist(error, label=\"Prediction error\")\n",
    "\n",
    "# Add labels to axis\n",
    "ax2.set_xlabel(\"Error (m)\")\n",
    "\n",
    "# Set subplot title\n",
    "ax2.set_title(\"Histogram of prediction errors\")"
   ]
  },
  {
   "cell_type": "markdown",
   "id": "bb38f87b-32d1-4099-93ce-1751ed6e6e2d",
   "metadata": {},
   "source": [
    "### Adding text"
   ]
  },
  {
   "cell_type": "code",
   "execution_count": null,
   "id": "a8d8c95c-e881-4a20-89b4-34cbe2cdbeea",
   "metadata": {},
   "outputs": [],
   "source": [
    "plt.figure(figsize=(6, 3))\n",
    "\n",
    "# Select a single point in the data\n",
    "point = x[31], z[31]\n",
    "\n",
    "# Create a red line plot.\n",
    "plt.plot(x, y, label=\"line plot\", color=\"red\")\n",
    "\n",
    "# Overlay the scatter plot with crosses as markers\n",
    "plt.scatter(x, z, label=\"scatter plot\", marker=\"x\")\n",
    "\n",
    "# Show selected point as a large black dot\n",
    "plt.scatter(\n",
    "    [point[0]], [point[1]], label=\"test point\", marker=\"o\", s=100, color=\"black\"\n",
    ")\n",
    "\n",
    "# Add formula for the prediction. Anchor the text at the point x= 5.5, y=0.\n",
    "plt.text(5.5, 0, \"y = cos(x)\", color=\"red\")\n",
    "\n",
    "# Add text and arrow pointing to the test point\n",
    "plt.annotate(\n",
    "    \"test point\",\n",
    "    point,\n",
    "    xytext=[point[0], 0.5],\n",
    "    color=\"orange\",\n",
    "    arrowprops={\"color\": \"orange\", \"width\": 1}\n",
    ")\n",
    "\n",
    "# Add legend to figure\n",
    "plt.legend()"
   ]
  },
  {
   "cell_type": "markdown",
   "id": "d103c873-7ffb-4a9f-802c-c0b2bde8e928",
   "metadata": {},
   "source": [
    "### Seaborn"
   ]
  },
  {
   "cell_type": "markdown",
   "id": "f7bbc20d-8cd2-4c22-b35c-72bc2dda1c02",
   "metadata": {},
   "source": [
    "Seaborn is a library for data visualization. It is built on top of matplotlib and integrates nicely with pandas."
   ]
  },
  {
   "cell_type": "code",
   "execution_count": null,
   "id": "07c21af1-8d20-49b8-8e5d-147cd0207acb",
   "metadata": {},
   "outputs": [],
   "source": [
    "import seaborn as sns"
   ]
  },
  {
   "cell_type": "code",
   "execution_count": null,
   "id": "cfa566d3-e4d3-4b22-aa6c-653eb372228b",
   "metadata": {},
   "outputs": [],
   "source": [
    "# Plot all datapoints in the iris dataset. Use the petal length and sepal length as x and y coordinates.\n",
    "# Color the points depending on the species.\n",
    "sns.scatterplot(data=iris, x=\"petal_length\", y=\"sepal_length\", hue=\"species\")"
   ]
  },
  {
   "cell_type": "code",
   "execution_count": null,
   "id": "b92e8e23-9005-4b65-8b45-5965879de5bb",
   "metadata": {},
   "outputs": [],
   "source": [
    "# Make a boxplot of the sepal width by species.\n",
    "sns.boxplot(data=iris, x=\"species\", y=\"sepal_width\")"
   ]
  },
  {
   "cell_type": "markdown",
   "id": "71dfc316-3b4c-4f9b-85e3-ec379317ad68",
   "metadata": {},
   "source": [
    "## 5. Exercise"
   ]
  },
  {
   "cell_type": "markdown",
   "id": "55ff4604-4945-4048-8bf0-c923c205e527",
   "metadata": {},
   "source": [
    "![palmer penguins](https://allisonhorst.github.io/palmerpenguins/reference/figures/lter_penguins.png)"
   ]
  },
  {
   "cell_type": "markdown",
   "id": "56b9e96c-3040-426b-8a72-64f272714c8f",
   "metadata": {},
   "source": [
    "In this section you will download, explore and visualise the Palmer penguin dataset. This dataset contains measurements of 344 penguins collected from 3 islands in the Palmer Archipelago, Antarctica.\n",
    "\n",
    "You can find a description of the dataset [here](https://allisonhorst.github.io/palmerpenguins/).\n",
    "\n",
    "🖌️ Complete all the code cells below."
   ]
  },
  {
   "cell_type": "code",
   "execution_count": null,
   "id": "5ebe6007-a129-406f-a8a3-30e8b373b9e0",
   "metadata": {},
   "outputs": [],
   "source": [
    "# Download the penguins csv file from\n",
    "# URL = https://gist.githubusercontent.com/slopp/ce3b90b9168f2f921784de84fa445651/raw/4ecf3041f0ed4913e7c230758733948bc561f434/penguins.csv\n"
   ]
  },
  {
   "cell_type": "code",
   "execution_count": null,
   "id": "993be2e8-02fb-43cf-ac14-dfcdfadcd2bd",
   "metadata": {},
   "outputs": [],
   "source": [
    "# Load the penguins dataframe from the downloaded csv"
   ]
  },
  {
   "cell_type": "code",
   "execution_count": null,
   "id": "2317e467-0359-4f38-b296-28577b41c87d",
   "metadata": {},
   "outputs": [],
   "source": [
    "# Count the number of rows per year and species\n"
   ]
  },
  {
   "cell_type": "code",
   "execution_count": null,
   "id": "bef2a2b1-2604-4b6b-9dca-3b7d45367bda",
   "metadata": {},
   "outputs": [],
   "source": [
    "# Compute the mean body mass by species and sex.\n"
   ]
  },
  {
   "cell_type": "code",
   "execution_count": null,
   "id": "757afbfc-4132-4a30-8d9b-06850b4fa309",
   "metadata": {},
   "outputs": [],
   "source": [
    "# Create a plot to explore the following question: \n",
    "# How does the relation between flipper and bill length change among different penguin species.\n"
   ]
  },
  {
   "cell_type": "markdown",
   "id": "034f7580-68bc-4f63-9c3d-e369061c3cec",
   "metadata": {},
   "source": [
    "## Further resources"
   ]
  },
  {
   "cell_type": "markdown",
   "id": "e68a74cb-768e-4395-be78-6150c14808a2",
   "metadata": {},
   "source": [
    "### Other libraries"
   ]
  },
  {
   "cell_type": "markdown",
   "id": "a8717cc9-1149-4114-9c03-7619b0b71f30",
   "metadata": {},
   "source": [
    "We have only scratched the surface of all the available tools for Scientific computing in Python. Learning to use them proficiently will take some time, but will payoff greatly as it will allow you to explore your research questions efficiently.\n",
    "\n",
    "Here is a list of libraries that we might use in future labs:\n",
    "- Machine learning: [Scikit-learn](https://scikit-learn.org/)\n",
    "- Deep learning: [PyTorch](https://pytorch.org/)\n",
    "- Statistical models: [Statsmodels](https://www.statsmodels.org/stable/index.html) (general statistical models); [PyStan](https://pystan.readthedocs.io/en/latest/) and [PyMC](https://www.pymc.io/welcome.html) (Bayesian inference)\n",
    "- Image manipulation: [Pillow](https://pillow.readthedocs.io/en/stable/), [Scikit-Image](https://scikit-image.org/), [Torchvision](https://pytorch.org/vision/stable/index.html)\n",
    "- Audio manipulation: [Librosa](https://librosa.org/doc/latest/index.html), [Torchaudio](https://pytorch.org/audio/)\n",
    "- Geospatial data (vector): [Geopandas](https://geopandas.org/en/stable/), [Shapely](https://shapely.readthedocs.io/en/stable/manual.html), [Fiona](https://fiona.readthedocs.io/)\n",
    "- Geospatial data (raster): [Rasterio](https://rasterio.readthedocs.io/)"
   ]
  }
 ],
 "metadata": {
  "kernelspec": {
   "display_name": "sci",
   "language": "python",
   "name": "sci"
  },
  "language_info": {
   "codemirror_mode": {
    "name": "ipython",
    "version": 3
   },
   "file_extension": ".py",
   "mimetype": "text/x-python",
   "name": "python",
   "nbconvert_exporter": "python",
   "pygments_lexer": "ipython3",
   "version": "3.8.10"
  }
 },
 "nbformat": 4,
 "nbformat_minor": 5
}
