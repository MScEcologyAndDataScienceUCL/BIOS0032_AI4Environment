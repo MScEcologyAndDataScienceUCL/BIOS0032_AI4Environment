{
 "cells": [
  {
   "cell_type": "markdown",
   "id": "8bef466d-d43c-4fad-a1f2-5201e4bb1050",
   "metadata": {},
   "source": [
    "<a href=\"https://colab.research.google.com/github/MScEcologyAndDataScienceUCL/BIOS0032_AI4Environment/blob/main/9_AItoEcologicalModels/AItoEcolMods_wk9.ipynb\" target=\"_parent\"><img src=\"https://colab.research.google.com/assets/colab-badge.svg\" alt=\"Open In Colab\"/></a>"
   ]
  },
  {
   "cell_type": "markdown",
   "id": "7e190957-f14f-4d22-b2ec-085d4c2eb099",
   "metadata": {},
   "source": [
    "# AI for the Environment: from AI to Ecological Models"
   ]
  },
  {
   "cell_type": "markdown",
   "id": "519c64dc-d37f-4b35-9bf2-639542d46c3a",
   "metadata": {},
   "source": [
    "Rory Gibb & Ella Browning"
   ]
  },
  {
   "cell_type": "markdown",
   "id": "a48ce9dd-f255-4ae7-b331-fa1d8e9872ac",
   "metadata": {},
   "source": [
    "## Morning workshop: Spatial data processing, analysis and modelling in R"
   ]
  },
  {
   "cell_type": "markdown",
   "id": "ebc027a4-6cdf-475b-9c5e-2dbd41f29e14",
   "metadata": {},
   "source": [
    "Today we’ll be exploring and analysing some camera trap data from the Masai Mara collected as part of the Biome Health project - see the lecture slides for a general summary of the data and the project. R provides an excellent set of packages for fast and reproducible GIS functionality, which we’ll be using in this morning’s workshop. Many of these functions for spatial data work are contained within the simple features (*sf*) package. There is a nice tutorial [here](https://learning.nceas.ucsb.edu/2019-11-RRCourse/spatial-vector-analysis-using-sf.htm)."
   ]
  },
  {
   "cell_type": "markdown",
   "id": "252354f4-b42c-4c91-ad09-a4c8fa5dad01",
   "metadata": {},
   "source": [
    "The goal of this morning’s session is to familiarise you with with several of these tools for data processing, analysis and visualisation, and there will be code snippets with short exercises interspersed, along with some larger extension exercises at the end if you have time."
   ]
  },
  {
   "cell_type": "markdown",
   "id": "2cf6e8af-f1ce-4adb-a67e-f4b1b22a2221",
   "metadata": {},
   "source": [
    "## Setup"
   ]
  },
  {
   "cell_type": "markdown",
   "id": "d026e501-085b-4938-91f6-babce423f9c3",
   "metadata": {},
   "source": [
    "The following cells will get you ready for the notebook. Make sure to run them before everything else. It might take from 10-15 minute."
   ]
  },
  {
   "cell_type": "code",
   "execution_count": null,
   "id": "caca18b0-c349-4448-a27b-83455906e941",
   "metadata": {},
   "outputs": [],
   "source": [
    "%%capture\n",
    "# Run the setup script that will download and install all dependencies and data\n",
    "![ ! -f \"setup.sh\" ] && wget https://raw.githubusercontent.com/MScEcologyAndDataScienceUCL/BIOS0032_AI4Environment/main/9_AItoEcologicalModels/setup.sh"
   ]
  },
  {
   "cell_type": "code",
   "execution_count": null,
   "id": "f7896d61-48d5-4cd3-85a9-17cb602dd135",
   "metadata": {},
   "outputs": [],
   "source": [
    "!bash setup.sh"
   ]
  },
  {
   "cell_type": "code",
   "execution_count": null,
   "id": "ef1ea917-7260-4ffd-9681-1152293d3ea0",
   "metadata": {},
   "outputs": [],
   "source": [
    "# Load the Jupyter extension to create R blocks in our notebooks\n",
    "%reload_ext rpy2.ipython"
   ]
  },
  {
   "cell_type": "code",
   "execution_count": null,
   "id": "be8520ca-bf8f-4bb3-b642-cd65eb375f36",
   "metadata": {},
   "outputs": [],
   "source": [
    "%%capture\n",
    "%%R\n",
    "# Load all dependencies for this notebook\n",
    "library(dplyr)\n",
    "library(magrittr)\n",
    "library(terra)\n",
    "library(rgdal)\n",
    "library(sf)\n",
    "library(ggplot2)\n",
    "library(lme4)\n",
    "library(MetBrewer)\n",
    "library(tibble)\n",
    "library(tidyr)"
   ]
  },
  {
   "cell_type": "markdown",
   "id": "c3b6266c-d5d8-4a2e-af31-af8772aaafe4",
   "metadata": {},
   "source": [
    "## Point, polygon data and mapping in *‘sf’*"
   ]
  },
  {
   "cell_type": "markdown",
   "id": "85fc5111-a5c7-4c29-80d3-83fda7895109",
   "metadata": {},
   "source": [
    "Let’s begin by looking at our camera trap survey locations - these are examples of point data (xy coordinates).We’ll read them in, look at them and turn them into an SF (simple features) object for easy spatial handling. Pay attention to the units that the coordinates are stored within (for example, metres versus degrees long-lat); when we are working with several spatial objects, we need to ensure their coordinate reference systems are harmonised so each is comparable"
   ]
  },
  {
   "cell_type": "code",
   "execution_count": null,
   "id": "1539ae06-04aa-43d7-a781-c3e09ae10a91",
   "metadata": {},
   "outputs": [],
   "source": [
    "%%R\n",
    "# read locations\n",
    "locs = read.csv(\"./data/kenya/survey/bh_camera_locations.csv\")"
   ]
  },
  {
   "cell_type": "code",
   "execution_count": null,
   "id": "a1b5cdb2-38c8-4479-8b1a-4ec687421e19",
   "metadata": {},
   "outputs": [],
   "source": [
    "%%R\n",
    "# use 'head()' and plot() to look at the data"
   ]
  },
  {
   "cell_type": "code",
   "execution_count": null,
   "id": "dbc6ef31-3684-491c-9fa2-3f37155194ab",
   "metadata": {},
   "outputs": [],
   "source": [
    "%%R\n",
    "# What are the units of the XY coordinates?"
   ]
  },
  {
   "cell_type": "code",
   "execution_count": null,
   "id": "a3cd3156-1cba-4aba-9b2f-c36f8f22ce72",
   "metadata": {},
   "outputs": [],
   "source": [
    "%%R\n",
    "# convert to an sf object by providing the XY columns as coordinates\n",
    "# initially we create an object in the WGS84 projection with a lat-lon units (CRS = 4326)\n",
    "locs = sf::st_as_sf(x = locs,\n",
    "coords = c(\"Longitude\", \"Latitude\"),\n",
    "crs = 4326)\n",
    "# for such a small area it's much easier to work in metres\n",
    "# reproject using st_transform to a metres projection\n",
    "locs = sf::st_transform(locs, crs = \"+proj=utm +zone=36 +south +datum=WGS84 +units=m +no_defs\")"
   ]
  },
  {
   "cell_type": "markdown",
   "id": "1c3c55d0-957d-4aec-a54f-f17fb28b809b",
   "metadata": {},
   "source": [
    "Now we have a “simple feature collection” with 150 points, 1 per sampling site. SF objects can be subsetted and worked with in dplyr like a data frame/tibble, but also have an additional “geometry” column that stores the geographic information (here, lat-lon point locations). We also specified a coordinate reference system when we align this to other spatial data we need to ensure these are aligned."
   ]
  },
  {
   "cell_type": "markdown",
   "id": "98cbd29f-3a2c-433c-8a6e-4b68d94ee962",
   "metadata": {},
   "source": [
    "Use `head()` to take a look at the *‘sf’* object and how it is formatted. Note: this provides information about the spatial extent, units and CRS. To plot the geometry you can call `plot(sf_object$geometry)`"
   ]
  },
  {
   "cell_type": "code",
   "execution_count": null,
   "id": "2bbd0fb3-4e98-40fd-8c0e-669743bb5bd2",
   "metadata": {},
   "outputs": [],
   "source": [
    "%%R\n",
    "# overall study area (stored as an ESRI shapefile)\n",
    "study_area = sf::st_read(\"./data/kenya/survey/shapefiles/Study_area.shp\") %>%\n",
    "    sf::st_transform(crs = sf::st_crs(locs))\n",
    "\n",
    "# nature conservancies and protected areas that the sampling was taking place within\n",
    "conservancies = sf::st_read(\"./data/kenya/survey/shapefiles/Protected_areas.shp\") %>%\n",
    "    sf::st_transform(crs = sf::st_crs(locs))"
   ]
  },
  {
   "cell_type": "code",
   "execution_count": null,
   "id": "449c12da-07ab-4cc0-af13-0bd4c10225aa",
   "metadata": {},
   "outputs": [],
   "source": [
    "%%R\n",
    "# take a look at these by calling head(); what do you notice about the geometry type?\n",
    "# plot the geometry using plot()"
   ]
  },
  {
   "cell_type": "markdown",
   "id": "279cfd61-a163-493b-af1b-dc0443c6ee69",
   "metadata": {},
   "source": [
    "*sf* is really easy to interface with *ggplot* for visualisation and mapping. We can call `geom_sf()` to plot *sf* objects, and pass them usual ggplot aesthetics."
   ]
  },
  {
   "cell_type": "markdown",
   "id": "14b8ae37-2494-4ac0-be40-eeef1dead144",
   "metadata": {},
   "source": [
    "Let’s create a map of sampling sites over space and how they correspond to the different nature conservancies in the area."
   ]
  },
  {
   "cell_type": "code",
   "execution_count": null,
   "id": "4e2470a1-835b-4fe7-a5b5-bc32bd81791e",
   "metadata": {},
   "outputs": [],
   "source": [
    "%%R\n",
    "# pass ggplot the study area, conservancies and the locations\n",
    "# ensuring everything has a harmonised CRS means everything is mapped correctly\n",
    "ggplot() +\n",
    "    geom_sf(data=study_area, fill=\"grey90\") +\n",
    "    geom_sf(data=conservancies, aes(fill=Name)) +\n",
    "    geom_sf(data=locs, color=\"black\") +\n",
    "    theme_classic()"
   ]
  },
  {
   "cell_type": "markdown",
   "id": "0ff6ce30-42ee-4228-bc58-788212357455",
   "metadata": {},
   "source": [
    "Nice! So we can see where our camera traps were located and how the study was designed spatially - this is a great start."
   ]
  },
  {
   "cell_type": "markdown",
   "id": "57e4f0d0-3e08-435c-bcfb-a36f5c7a8a06",
   "metadata": {},
   "source": [
    "## Mapping a metric of interest over space"
   ]
  },
  {
   "cell_type": "markdown",
   "id": "46b95082-5f7f-463d-a216-3b33e8e06c59",
   "metadata": {},
   "source": [
    "During camera trap studies, not every camera trap is operational for the same period of time. It depends on when they were installed, whether there were any malfunction days, and whether they were damaged in situ (e.g. by wildlife). So when we analyse camera trap data, we need to know the distribution of sampling effort - when, and for how long, each camera trap was sampling for."
   ]
  },
  {
   "cell_type": "markdown",
   "id": "c45cf452-8a5e-4023-b601-847210913d2c",
   "metadata": {},
   "source": [
    "In the ‘data’ folder is a CSV of sampling effort per camera; values of NA mean the camera was not installed; 0 means installed but not actively sampling; and 1 means actively sampling. Let’s read in the effort csv and map the distribution of effort over space."
   ]
  },
  {
   "cell_type": "code",
   "execution_count": null,
   "id": "488cba6a-a319-45b0-b22b-025997004b7b",
   "metadata": {},
   "outputs": [],
   "source": [
    "%%R\n",
    "# read csv of effort and take a look by calling head()\n",
    "effort = read.csv(\"./data/kenya/survey/bh_camera_samplingeffort.csv\")\n",
    "\n",
    "# use dplyr's filter, group_by and summarise functions\n",
    "# to keep only dates when sampling was active\n",
    "# then sum the number of days of sampling per site\n",
    "ef = effort %>%\n",
    "    dplyr::filter(effort_class == 1) %>%\n",
    "    dplyr::group_by(CT_site) %>%\n",
    "    dplyr::summarise(n_days_sampled = n_distinct(Date))"
   ]
  },
  {
   "cell_type": "code",
   "execution_count": null,
   "id": "ac730b6a-27e1-4a66-a65d-2a98eb3adfe7",
   "metadata": {},
   "outputs": [],
   "source": [
    "%%R\n",
    "# use the 'hist()' function to plot a histogram of sampling effort across sites -\n",
    "# what do you notice?"
   ]
  },
  {
   "cell_type": "code",
   "execution_count": null,
   "id": "7bb4777f-9804-4d17-afd1-1e3bb238a239",
   "metadata": {},
   "outputs": [],
   "source": [
    "%%R\n",
    "# combine with locations data using left_join (this merges data frames based on\n",
    "# shared columns), and map over space\n",
    "locs = locs %>% dplyr::left_join(ef)\n",
    "\n",
    "# use ggplot's aes() function to map the point size to the effort metrics\n",
    "# what do you notice about the spatial distribution of effort?\n",
    "ggplot() +\n",
    "    geom_sf(data=study_area, fill=\"grey90\") +\n",
    "    geom_sf(data=conservancies, aes(fill=Name)) +\n",
    "    geom_sf(data=locs, color=\"black\", aes(size=n_days_sampled), alpha=0.5) +\n",
    "    theme_classic()"
   ]
  },
  {
   "cell_type": "markdown",
   "id": "321c8713-2c89-446b-8c10-5b4604d7c4b5",
   "metadata": {},
   "source": [
    "It’s very easy to run all kinds of spatial operations using sf. As one example, we might be interested in understanding the distances between our sampling locations, i.e. how far apart were the cameras? `sf::st_distance()` allows us to generate a pairwise matrix of great circle distances between our points, which we could then use to visualise the distances between any given camera and all the others."
   ]
  },
  {
   "cell_type": "markdown",
   "id": "ae54bb53-df4c-4311-a130-9df88e6bce2d",
   "metadata": {},
   "source": [
    "**In the solutions** we’ve included an example of this, so take a look if you’d like to explore sf functionality further."
   ]
  },
  {
   "cell_type": "markdown",
   "id": "e9b41372-e985-45fd-8b7b-808c1d9831e2",
   "metadata": {},
   "source": [
    "## Processing, exploring and mapping species detection data for a study species\n"
   ]
  },
  {
   "cell_type": "markdown",
   "id": "24400ea0-15d9-46f2-8511-2b440a26b411",
   "metadata": {},
   "source": [
    "In the data folder is a CSV containing the tagged camera trap images data for a selection of species identified in the study area. This data frame contains records of individual images, which were tagged to species level - in this case, they were manually tagged by human uers, but could in other instances be automatically classified using an AI classifier. It also contains information about the site, date, species and other key metrics."
   ]
  },
  {
   "cell_type": "markdown",
   "id": "14b1e81f-9b06-40eb-83db-a142325573f7",
   "metadata": {},
   "source": [
    "If we want to look at how our species are distributed over space, we can process these to site level metrics and map them, just like we did with the sampling effort above. First, let’s read in and explore the data"
   ]
  },
  {
   "cell_type": "code",
   "execution_count": null,
   "id": "4c366e60-0972-4995-a134-d94ed042505c",
   "metadata": {},
   "outputs": [],
   "source": [
    "%%R\n",
    "# camera trapimages data\n",
    "ctd = read.csv(\"./data/kenya/survey/bh_camera_images_mara.csv\")"
   ]
  },
  {
   "cell_type": "code",
   "execution_count": null,
   "id": "065da8a3-1e81-486c-a35d-fe2ea4bd2aec",
   "metadata": {},
   "outputs": [],
   "source": [
    "%%R\n",
    "# explore the data frame using the head(), summary() and table() functions\n",
    "# to find out what the data contain\n",
    "# (e.g. how many observations per site/species?)"
   ]
  },
  {
   "cell_type": "code",
   "execution_count": null,
   "id": "6cf35bfe-f1a1-4743-aa51-e0a6a284bcba",
   "metadata": {},
   "outputs": [],
   "source": [
    "%%R\n",
    "# it's good practice to always convert temporal data columns to a time format R\n",
    "# can recognise\n",
    "# convert Date column into Date class, matching format to how the string\n",
    "# is written in the CSV\n",
    "ctd$Date = as.Date(ctd$Date, format=\"%Y-%m-%d\")\n",
    "\n",
    "# the table function, gives a quick way to summarise observations per column\n",
    "# here we tabulate species by date to look at the number of images, per species, per day\n",
    "as.data.frame(table(ctd$Species, ctd$Date)) %>%\n",
    "    dplyr::mutate(Date = as.Date(Var2)) %>%\n",
    "    ggplot() +\n",
    "        geom_line(aes(Date, Freq)) +\n",
    "        theme_minimal() +\n",
    "        facet_wrap(~Var1)"
   ]
  },
  {
   "cell_type": "markdown",
   "id": "b4b5ba2b-3c73-441c-b443-2fd157374a7c",
   "metadata": {},
   "source": [
    "Now let’s look more closely at a focal study species, the hare (Lepus capensis, the Cape hare). We’ll use the same principles as above to map the distribution of our species detections over space, looking both at the total number of images, and the number of days in which a species was detected."
   ]
  },
  {
   "cell_type": "code",
   "execution_count": null,
   "id": "5645de96-1b2e-445f-921f-0cca458814a2",
   "metadata": {},
   "outputs": [],
   "source": [
    "%%R\n",
    "# species of interest\n",
    "sp = \"hare\"\n",
    "\n",
    "# filter camera trap data to species of interest\n",
    "# group by site, then calculate the number of images and the number of unique days\n",
    "sp_det = ctd %>%\n",
    "    dplyr::filter(Species == sp) %>%\n",
    "    dplyr::group_by(CT_site) %>%\n",
    "    dplyr::summarise(\n",
    "        n_images = n_distinct(image),\n",
    "        n_days_detected = n_distinct(Date),\n",
    "        Species = head(Species, 1)\n",
    "    )"
   ]
  },
  {
   "cell_type": "code",
   "execution_count": null,
   "id": "9e15ef3f-87b4-4360-8a4f-7675b7bd4f70",
   "metadata": {},
   "outputs": [],
   "source": [
    "%%R\n",
    "# take a look at the data using head() and plot histograms of number of days\n",
    "# detected and number of images\n",
    "# What do you notice - why might they look different?"
   ]
  },
  {
   "cell_type": "markdown",
   "id": "581ddf7a-e5a3-4898-8d1f-ed22a7efd251",
   "metadata": {},
   "source": [
    "### Exercise 1"
   ]
  },
  {
   "cell_type": "markdown",
   "id": "7e4a1986-f219-4124-a419-9ef187da7954",
   "metadata": {},
   "source": [
    "* Combine the species detection data with the locations of the camera traps sf_object using `left_join()`. (Note: if there are unmatched rows between the two dataframes being combined, *dplyr* automatically sets the values to those for `NA` - you’ll need to change these to zeroes so our data contain non-detections). Modify the code above to map these two metrics over space. How similar are the spatial patterns of number of images versus number of days detected? Why might they be more different, and which is a more suitable measure of site occupancy?"
   ]
  },
  {
   "cell_type": "markdown",
   "id": "0d79eea7-bad0-468b-b741-d5fb225d640b",
   "metadata": {},
   "source": [
    "From our work so far, what do you think would be an appropriate measure to use if we were to use a model to analyse the occupancy of this species over space? Would number of days in which a species was detected be an appropriate measure to use by itself? If not, why not? *Hint: what was the distribution of sampling effort like across cameras?*"
   ]
  },
  {
   "cell_type": "markdown",
   "id": "31a8ee3d-ad8e-4600-91c4-7bc19f82b443",
   "metadata": {},
   "source": [
    "We need to account for the fact that effort differed between the cameras! Some were operational for very few days, so the number of days detected is not directly comparable between these and cameras that were active for several weeks."
   ]
  },
  {
   "cell_type": "markdown",
   "id": "a4af3d03-0daf-4c59-9c0e-d7a40812d6af",
   "metadata": {},
   "source": [
    "### Exercise 2"
   ]
  },
  {
   "cell_type": "markdown",
   "id": "6c689b43-496e-42ad-838d-143759beae14",
   "metadata": {},
   "source": [
    "* Adjust for effort by calculating the proportion of sampled days in which the species was detected in each location, and then map this metric over space. Does this effort-corrected measure of occupancy look different to the metrics that did not account for effort?"
   ]
  },
  {
   "cell_type": "markdown",
   "id": "fd0438f1-2d4e-41b4-8174-3ab4a5b03588",
   "metadata": {},
   "source": [
    "## Mapping and visualising environmental raster data using terra"
   ]
  },
  {
   "cell_type": "markdown",
   "id": "ce3534c8-27cf-4448-9e6e-542777642ee0",
   "metadata": {},
   "source": [
    "One of the nice things abut geolocated data is that it’s easy to align our species detections with associated\n",
    "environmental information from raster data."
   ]
  },
  {
   "cell_type": "markdown",
   "id": "9848040b-80bc-4eb9-a230-965a55e73952",
   "metadata": {},
   "source": [
    "For this, we’ll mainly use the “terra” package (and sometimes its predecessor, “raster”; there is a nice introduction and code examples [here](https://rspatial.org/pkg/index.html)). A raster is essentially a big matrix with geographical information associated with each grid cell. Like sf objects, it has a coordinate reference system that links each cell’s XY coordinates with a geographic location. Just like other spatial objects, these follow a particular map projection to map coordinate values to a location on the spherical earth. As in this workshop, these are stored in standardised formats such as GeoTiffs. We’ll start by reading, plotting and exploring some rasters of habitat class across the Masai Mara."
   ]
  },
  {
   "cell_type": "code",
   "execution_count": null,
   "id": "64976803-9b78-45d9-8917-0057e285f3f6",
   "metadata": {},
   "outputs": [],
   "source": [
    "%%R\n",
    "# read in habitat raster (saved as a GeoTiff file)\n",
    "hab = terra::rast(\"./data/kenya/environment/habitat/habitatfinal.tif\")"
   ]
  },
  {
   "cell_type": "code",
   "execution_count": null,
   "id": "4e7251d3-1479-435e-980b-19c125359f7d",
   "metadata": {},
   "outputs": [],
   "source": [
    "%%R\n",
    "# call \"hab\" in the console to take a look at the raster properties\n",
    "# you can look at the CRS details by calling crs(hab) - what units is the projection in?"
   ]
  },
  {
   "cell_type": "code",
   "execution_count": null,
   "id": "6e678547-e180-4344-9ab3-a260353f26a7",
   "metadata": {},
   "outputs": [],
   "source": [
    "%%R\n",
    "# try plotting using the plot() function - do you see anything?"
   ]
  },
  {
   "cell_type": "code",
   "execution_count": null,
   "id": "c63ff109-bbb6-466c-9d65-591dc33a872b",
   "metadata": {},
   "outputs": [],
   "source": [
    "%%R\n",
    "# call \"hab\" in the console and take a look\n",
    "# what properties does this object have? what do you think they mean?\n",
    "hab"
   ]
  },
  {
   "cell_type": "code",
   "execution_count": null,
   "id": "d9f60d9e-2035-49ff-94d0-94b93b41d99a",
   "metadata": {},
   "outputs": [],
   "source": [
    "%%R\n",
    "# the raster has numeric values for missing data = 300 and 500\n",
    "# so we need to replace those with NA and plot again\n",
    "terra::values(hab)[ terra::values(hab) > 200 ] = NA\n",
    "terra::plot(hab)"
   ]
  },
  {
   "cell_type": "markdown",
   "id": "167a1215-152f-4bbd-afdf-b308dc59d1ad",
   "metadata": {},
   "source": [
    "We need to ensure the coordinate reference systems are harmonised with our sf spatial objects, which we do by reprojecting the raster into the same reference CRS. This effectively overlays our current raster onto a raster projected into the new crs, and then populates the new raster with values. We need to choose a method for this; because our raster is categorical (habitat classes) we use the nearest neighbour distance. If it was continuous, it might be more appropriate to use an interpolation method."
   ]
  },
  {
   "cell_type": "code",
   "execution_count": null,
   "id": "2f906a29-6a49-4427-8e67-945921445e51",
   "metadata": {},
   "outputs": [],
   "source": [
    "%%R\n",
    "# use left_join to combine locs with the species detection data\n",
    "locs = locs %>% dplyr::left_join(sp_det)\n",
    "\n",
    "# some locations that were sampled will not show up in the image data (if there were no images)\n",
    "# make sure these are set to zeroes (rather than NAs) in the combined data\n",
    "locs = locs %>%\n",
    "    dplyr::mutate(\n",
    "        n_images = replace(n_images, is.na(n_images), 0),\n",
    "        n_days_detected = replace(n_days_detected, is.na(n_days_detected), 0)\n",
    "    )\n",
    "\n",
    "locs$prop_detected = locs$n_days_detected / locs$n_days_sampled"
   ]
  },
  {
   "cell_type": "code",
   "execution_count": null,
   "id": "006914ce-6aa6-4f46-b3c4-1d08f36c873e",
   "metadata": {},
   "outputs": [],
   "source": [
    "%%R\n",
    "# reproject raster then crop to our study area\n",
    "hab = terra::project(hab, y=crs(locs), method=\"near\")\n",
    "hab = terra::crop(hab, terra::ext(locs)+10000)\n",
    "\n",
    "# add this to our ggplot (make a dataframe from the raster, then call geom_raster())\n",
    "hab_df = as.data.frame(hab, xy=TRUE)\n",
    "ggplot() +\n",
    "    geom_raster(data = hab_df, aes(x, y, fill=factor(habitatfinal))) +\n",
    "    geom_sf(data=locs, color=\"black\", aes(size=prop_detected), alpha=0.6) +\n",
    "    scale_fill_discrete(\n",
    "        type = as.vector(MetBrewer::met.brewer(name=\"Archambault\", n=6)),\n",
    "        name=\"Habitat\") +\n",
    "    theme_classic()"
   ]
  },
  {
   "cell_type": "markdown",
   "id": "efe82392-7ef6-4bac-9a45-7e8b353faea3",
   "metadata": {},
   "source": [
    "The terra package (and its predecessor raster) also provides efficient ways to manipulate and do grid cellwise calculations across rasters. Let’s look at an example for some human population data for Kenya. We’ll read in high-resolution population per grid-cell estimates from WorldPop, which are at \\~100x100m grid cell resolution, aggregate to a coarser scale (\\~500m) then produce a raster of log population density, to visualise how this metric varies across our study area. Here we’ll read in some population data, aggregate the raster to coarser resolution, then calculate population density (in persons per square kilometre) rather than total population."
   ]
  },
  {
   "cell_type": "code",
   "execution_count": null,
   "id": "0eaf9ba2-c7c9-4399-a54b-b91a8336d032",
   "metadata": {},
   "outputs": [],
   "source": [
    "%%R\n",
    "# population raster\n",
    "pop = terra::rast(\"./data/kenya/environment/population/worldpop_ppp_mara.tif\")\n",
    "plot(pop)"
   ]
  },
  {
   "cell_type": "code",
   "execution_count": null,
   "id": "173ec284-ab15-42e5-b6a7-1d0a59a6652b",
   "metadata": {},
   "outputs": [],
   "source": [
    "%%R\n",
    "# this is at very fine scale (~100m), so let's aggregate to a coarser (500m) raster\n",
    "# aggregates by a factor of 5 (i.e. 25 cells per aggregated cell)\n",
    "# and sums the population across all the pixels in the aggregation group\n",
    "pop = terra::aggregate(pop, fact=5, fun=\"sum\", na.rm=TRUE)\n",
    "plot(pop)"
   ]
  },
  {
   "cell_type": "code",
   "execution_count": null,
   "id": "bb46eeb4-42be-4367-9bd5-6ef7ed490e8e",
   "metadata": {},
   "outputs": [],
   "source": [
    "%%R\n",
    "# calculate population density\n",
    "area_ras = terra::cellSize(pop)\n",
    "area_ras = area_ras / 10^6 # divide by 10ˆ6 to convert to kmˆ2\n",
    "popdens = pop / area_ras # calc pop dens\n",
    "popdens = log(popdens + 1) # log transform for ease of use\n",
    "names(popdens) = \"popdens_log\" # rename to population density"
   ]
  },
  {
   "cell_type": "code",
   "execution_count": null,
   "id": "68e14f0d-2707-4323-99bd-7f21f4eb0595",
   "metadata": {},
   "outputs": [],
   "source": [
    "%%R\n",
    "# plot and overlay our sampling locations\n",
    "# how does the population density vary across the sampling area, and at its margins?\n",
    "pop_df = as.data.frame(popdens, xy=TRUE)\n",
    "ggplot() +\n",
    "    geom_raster(data = pop_df, aes(x, y, fill=popdens_log)) +\n",
    "    geom_sf(data=locs, color=\"black\", aes(size=prop_detected), alpha=0.5) +\n",
    "    scale_fill_viridis_c(option=\"magma\", direction=-1) +\n",
    "    theme_classic()"
   ]
  },
  {
   "cell_type": "markdown",
   "id": "422a8c22-faf3-4d64-a87c-da29b3d9c18a",
   "metadata": {},
   "source": [
    "## Extracting environmental values at sampling locations"
   ]
  },
  {
   "cell_type": "markdown",
   "id": "b15ac727-c91a-4fa1-bc01-98941e59a972",
   "metadata": {},
   "source": [
    "As we have geographical locations of our camera traps (XY point coordinates), and georeferenced raster data in the same projection, it is now straightforward to overlay our sampling locations on the raster and extract the local environmental information. This provides an easy means to access additional geographical covariates for asking ecological questions."
   ]
  },
  {
   "cell_type": "markdown",
   "id": "85abe243-70ed-4dfb-af55-8cd107dbb7cd",
   "metadata": {},
   "source": [
    "First, let’s extract information on population density in the grid cell of each sampling site - here, we’re only extracting the value in the specific grid cell that the camera trap falls within."
   ]
  },
  {
   "cell_type": "code",
   "execution_count": null,
   "id": "d71cd4b3-23e9-43b8-bdbd-ff5c22370e33",
   "metadata": {},
   "outputs": [],
   "source": [
    "%%R\n",
    "# ensure projections match (transform the locs CRS to the same as the population raster)\n",
    "locs_reproj = sf::st_transform(locs, crs=crs(popdens))\n",
    "\n",
    "# use \"extract\" function to extract value in the grid cell that each point falls in\n",
    "locs_pd = terra::extract(popdens, locs_reproj)\n",
    "\n",
    "# add the extracted values to the \"locs\" dataframe\n",
    "locs$popdens_log = locs_pd$popdens_log\n",
    "\n",
    "# plot a histogram and map this metric over space\n",
    "# how is population distributed across the study area?"
   ]
  },
  {
   "cell_type": "markdown",
   "id": "490d692f-e107-467b-931d-9ee3b9263580",
   "metadata": {},
   "source": [
    "Next, we’ll extract information about the habitat surrounding each sampling site. Our habitat raster (`hab`) is at fine resolution (30m), so extracting the value only in the grid cell the point falls in might be less useful to describing the overall habitat conditions in surrounding area. To deal with this, we can create a buffer around each point (a circular polygon with a user-defined radius, e.g. 250 metres) and then average the habitat conditions within that local area. When we are developing our modelling pipeline, we can think about what size of buffer might be most relevant and how this maps onto our species. Experiment with the code below to see what it looks like when we change the width of the buffer around each camera trap. Note: the units of “dist” in `st_buffer` are the units of its coordinate reference system, which might be metres, or might be degrees long/lat - make sure you check this when you are doing your own projects, and plot the buffers to make sure they’re doing what you think!"
   ]
  },
  {
   "cell_type": "code",
   "execution_count": null,
   "id": "b0fc6b28-622b-4c62-819e-3d311993ba27",
   "metadata": {},
   "outputs": [],
   "source": [
    "%%R\n",
    "# plot the habitat raster - it has 6 non-NA classes\n",
    "plot(hab)"
   ]
  },
  {
   "cell_type": "code",
   "execution_count": null,
   "id": "cfe7c61a-4742-450b-83f0-6437d31ca9c9",
   "metadata": {},
   "outputs": [],
   "source": [
    "%%R\n",
    "# this table describes the class mapping, so we can easily extract what we need\n",
    "# by cross-referencing this to the raster\n",
    "hab_classes = data.frame(\n",
    "    class = 1:6,\n",
    "    type = c(\n",
    "        \"no data\",\n",
    "        \"water\",\n",
    "        \"open\",\n",
    "        \"closed\",\n",
    "        \"semi-closed\",\n",
    "        \"agriculture\"\n",
    "    )\n",
    ")\n",
    "\n",
    "# visualise individual habitat types: plot raster where class_of_interest == TRUE\n",
    "plot(hab == 6) # agriculture\n",
    "plot(hab %in% 4:5) # closed or semi-closed"
   ]
  },
  {
   "cell_type": "code",
   "execution_count": null,
   "id": "dcf91742-9541-4b9b-9c22-9fad9e09ffe2",
   "metadata": {},
   "outputs": [],
   "source": [
    "%%R\n",
    "# create buffers around each camera trap using st_buffer\n",
    "# this is set to 250m but) try different radius sizes and plot them\n",
    "locs_buf = sf::st_buffer(locs, dist=250)\n",
    "plot(locs_buf$geometry)"
   ]
  },
  {
   "cell_type": "code",
   "execution_count": null,
   "id": "d1c19d05-f815-4731-8be9-a2766a38b408",
   "metadata": {},
   "outputs": [],
   "source": [
    "%%R\n",
    "# extract the proportion of closed/semi-closed habitat in the buffer\n",
    "locs_ext = terra::extract(\n",
    "    hab %in% 4:5, # closed/semi-closed\n",
    "    locs_buf, # buffer sf\n",
    "    fun = \"mean\") # mean of 1s and 0s gives the proportion cover\n",
    "\n",
    "# the \"extract\" function gets computationally expensive quickly for large datasets\n",
    "# the \"exactextractr\" package provides a fast and flexible function to do this quickly\n",
    "# feel free to experiment with this\n",
    "# locs_ext2 = exactextractr::exact_extract(\n",
    "#    hab %in% 4:5,\n",
    "#    locs_buf,\n",
    "#    fun = 'mean')\n",
    "# plot(locs_ext$habitatfinal, locs_ext2)\n",
    "\n",
    "# add into our locations sf\n",
    "locs$closed_250m = locs_ext$habitatfinal\n",
    "\n",
    "# scatterplots against response variable and other covariates\n",
    "ggplot(locs) + geom_point(aes(popdens_log, closed_250m))\n",
    "ggplot(locs) + geom_point(aes(popdens_log, prop_detected))\n",
    "ggplot(locs) + geom_point(aes(closed_250m, prop_detected))\n",
    "\n",
    "# map\n",
    "ggplot() +\n",
    "    geom_raster(data = hab_df, aes(x, y, fill=factor(habitatfinal))) +\n",
    "    geom_sf(data=locs, color=\"black\", aes(size=closed_250m), alpha=0.6) +\n",
    "    scale_fill_discrete(\n",
    "        type = as.vector(MetBrewer::met.brewer(name=\"Archambault\", n=6)),\n",
    "        name=\"Habitat\") +\n",
    "    theme_classic()"
   ]
  },
  {
   "cell_type": "markdown",
   "id": "d6f9d338-9b13-48ac-8c0e-6669d9156100",
   "metadata": {},
   "source": [
    "### Exercise 3"
   ]
  },
  {
   "cell_type": "markdown",
   "id": "a644b490-fa55-4e73-b69f-32d2de67a9ea",
   "metadata": {},
   "source": [
    "Extract and visualise the distribution of open habitat in a 250m buffer around each camera. Use scatter plots to explore its relationship to closed habitat, to population density, and to our species of interest.\n",
    "\n",
    "* What do you notice? How might this impact how we later analyse the data?"
   ]
  },
  {
   "cell_type": "markdown",
   "id": "4cd788be-dd4f-473c-8618-d1e7d82cd9f1",
   "metadata": {},
   "source": [
    "## Extension exercises"
   ]
  },
  {
   "cell_type": "markdown",
   "id": "2f0528cc-96a8-4abe-b8ea-25661f6c52a2",
   "metadata": {},
   "source": [
    "**If you have time**, here are some other things to try."
   ]
  },
  {
   "cell_type": "markdown",
   "id": "1141581b-f4c2-43e6-9d9f-9bd49303fcc4",
   "metadata": {},
   "source": [
    "### Exercise 4"
   ]
  },
  {
   "cell_type": "markdown",
   "id": "304208c8-0510-4a83-8e69-5aaee43bf300",
   "metadata": {},
   "source": [
    "Try extracting the same habitat types with a larger buffer (e.g. 1km or 2km). How different do the values look? Why might this matter, and if you were analysing these data to answer an ecological question, how might you choose an appropriate buffer size?"
   ]
  },
  {
   "cell_type": "markdown",
   "id": "dc9cdee9-8111-46f5-ae31-0f601f535075",
   "metadata": {},
   "source": [
    "### Exercise 5"
   ]
  },
  {
   "cell_type": "markdown",
   "id": "00439603-fb74-49c2-9259-69dea121c740",
   "metadata": {},
   "source": [
    "The folder `./data/kenya/environment/chelsa_climatology/` contains a mean climatology (annual mean temperature, averaged betwen 1979 and 2010) for our study location, from CHELSA. Read in the raster, plot for the study area, and overlay points. Extract the temperature values at each location and plot them.\n",
    "\n",
    "* What do you notice? How useful do you think this covariate might be in explaining the distribution of species across our study area?"
   ]
  },
  {
   "cell_type": "markdown",
   "id": "a88fd292-6674-46b7-b073-5f72220b2174",
   "metadata": {},
   "source": [
    "### Exercise 6"
   ]
  },
  {
   "cell_type": "markdown",
   "id": "849c895e-21da-40e0-a26c-cb10a0238f2d",
   "metadata": {},
   "source": [
    "The species detections dataframe also contains data for several other species. By modifying the code above, explore the distribution of total number of images, number days detected, and proportion days detected for other species, using histograms, scatterplots and mapping.\n",
    "\n",
    "* Are there differences between species in the relationship between number of images, number of days detected, and proportion days detected? How do you think these could relate to the sampling design, and to the ecology of each species?"
   ]
  }
 ],
 "metadata": {
  "kernelspec": {
   "display_name": "R",
   "language": "python",
   "name": "r"
  },
  "language_info": {
   "codemirror_mode": {
    "name": "ipython",
    "version": 3
   },
   "file_extension": ".py",
   "mimetype": "text/x-python",
   "name": "python",
   "nbconvert_exporter": "python",
   "pygments_lexer": "ipython3",
   "version": "3.8.10"
  }
 },
 "nbformat": 4,
 "nbformat_minor": 5
}
