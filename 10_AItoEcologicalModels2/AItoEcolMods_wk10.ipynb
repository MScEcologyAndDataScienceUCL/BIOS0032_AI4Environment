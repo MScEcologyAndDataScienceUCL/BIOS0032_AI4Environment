{
 "cells": [
  {
   "cell_type": "markdown",
   "id": "6841e91a-c3ab-4461-937b-90314c3b75c0",
   "metadata": {},
   "source": [
    "<a href=\"https://colab.research.google.com/github/MScEcologyAndDataScienceUCL/BIOS0032_AI4Environment/blob/main/10_AItoEcologicalModels2/AItoEcolMods_wk10.ipynb\" target=\"_parent\"><img src=\"https://colab.research.google.com/assets/colab-badge.svg\" alt=\"Open In Colab\"/></a>"
   ]
  },
  {
   "cell_type": "markdown",
   "id": "c27c7c35-b6d7-4429-ae50-403ea5ae2e4a",
   "metadata": {},
   "source": [
    "# AI for the Environment: from AI to Ecological Models"
   ]
  },
  {
   "cell_type": "markdown",
   "id": "a2eff7e7-622d-4e56-a3c8-e6d07ecc7623",
   "metadata": {},
   "source": [
    "## Week 10"
   ]
  },
  {
   "cell_type": "markdown",
   "id": "e295fac7-308a-4b31-9a45-60dfe8579555",
   "metadata": {},
   "source": [
    "Rory Gibb & Ella Browning"
   ]
  },
  {
   "cell_type": "markdown",
   "id": "3c9f96c6-5a74-46d8-8400-bcdebaa2de6e",
   "metadata": {},
   "source": [
    "# Drivers of species occurrence across the Masai Mara"
   ]
  },
  {
   "cell_type": "markdown",
   "id": "0fb9f04c-af1e-47aa-9dcb-0826365e344b",
   "metadata": {},
   "source": [
    "Today we're exploring and analysing some camera trap data from the Masai Mara collected as part of the Biome Health project - see the week 9 lecture slides for a general summary of the data and the project, and see the week 9 workshop for an introduction to spatial data processing and GIS in R."
   ]
  },
  {
   "cell_type": "markdown",
   "id": "3a259544-ab27-4b7c-86c0-b044c62976de",
   "metadata": {},
   "source": [
    "The goal of today's session is to investigate the distribution and drivers of occupancy for our study species (the Cape hare, *Lepus capensis*) in relation to anthropogenic and environmental factors across the Masai Mara, using the camera trap data and spatial data we processed and extracted in last week's workshop. We will explore fitting and evaluating some generalised linear models, before exploring how extending our models to include nonlinear and geospatial effects can improve our ability to infer ecological drivers. There will be code snippets with short exercises interspersed, along with some larger extension exercises at the end if you have time. "
   ]
  },
  {
   "cell_type": "markdown",
   "id": "98c0c0c4-9ae7-4971-8978-ce26d0d5b6d9",
   "metadata": {},
   "source": [
    "If you are working in RStudio, all the data and environmental layers you'll need for the workshop are in the GitHub, in the \"9_AIToEcologicalModels\" folder. Please download the whole folder and set this as your working directory, then all the materials you will need are contained within the \"data\" subfolder. Alternatively, there is an iPython Notebook version of this workshop in the repository that you can run on Google Colabs."
   ]
  },
  {
   "cell_type": "code",
   "execution_count": null,
   "id": "66d84dfe-68f9-4e2a-9401-81f6504b1768",
   "metadata": {},
   "outputs": [],
   "source": [
    "%reload_ext rpy2.ipython"
   ]
  },
  {
   "cell_type": "code",
   "execution_count": null,
   "id": "dd49738a-da83-4ba2-a3b0-2f2959d96a2f",
   "metadata": {},
   "outputs": [],
   "source": [
    "%%capture\n",
    "%%R\n",
    "\n",
    "library(dplyr);\n",
    "library(magrittr);\n",
    "library(tibble)\n",
    "library(sf);\n",
    "library(ggplot2);\n",
    "library(tidyr);\n",
    "library(rstudioapi)\n",
    "library(mgcv);\n",
    "library(gratia);\n",
    "library(lme4)\n",
    "library(raster);\n",
    "library(terra) # only required for solutions"
   ]
  },
  {
   "cell_type": "markdown",
   "id": "f7b4ffbc-33a0-404b-ab22-9f939cd1c314",
   "metadata": {},
   "source": [
    "## Defining our research question "
   ]
  },
  {
   "cell_type": "markdown",
   "id": "18f7f63b-dcf2-4662-9caa-bdae3b67609b",
   "metadata": {},
   "source": [
    "Let's start with a broad question: what is the relationship between level of anthropogenic pressure and spatial occupancy of our focal species? We can define anthropogenic pressure in many ways, but here, let's focus on livestock pressure. We know that one of the major anthropogenic activities in the Mara ecosystem is livestock grazing, which influences vegetation structure and community composition. Hares generally inhabit grassland and pastoral ecosystems, so **if habitat suitability for hares is shaped by pastoral activity we might expect a positive relationship with livestock**. Alternatively, **if areas with very high levels of livestock activity are too frequently disturbed to provide amenable habitat, we might expect hare occurrence to decline where livestock pressure is highest**. So here we have two alternative, plausible hypotheses. "
   ]
  },
  {
   "cell_type": "markdown",
   "id": "f313221f-333f-4c86-ad8a-582a34b0a7b6",
   "metadata": {},
   "source": [
    "We might also need to account for other factors that may covary with our drivers of interest and also affect hare presence; here, we'll look at habitat type (proportion of agricultural and closed habitat) and distance to the nearest water body, as well as the conservancy in which the cameras were located."
   ]
  },
  {
   "cell_type": "markdown",
   "id": "b1ec9575-9dd6-497a-9746-079637154996",
   "metadata": {},
   "source": [
    "## Environmental and anthropogenic covariates at camera trap locations"
   ]
  },
  {
   "cell_type": "markdown",
   "id": "61b5b8f8-f015-4126-8759-8bd8d30ae26a",
   "metadata": {},
   "source": [
    "Last week, we used the spatial locations of the camera traps along with raster data to extract information about the environmental factors around each camera trap. We have now combined all of these together into a full dataframe of site-level covariates for modelling. *In the solutions*, you can see the full code block that we used to produce this dataframe from the raw data sources, but for this exercise we will just read in the final dataframe for our analyses. "
   ]
  },
  {
   "cell_type": "markdown",
   "id": "f1c86360-d845-4473-96c2-13e17e70e239",
   "metadata": {},
   "source": [
    "The data contain several site-level covariates: proportion of closed/semi-closed habitat or agriculture land use within a 250m radius, distance to the nearest water source, population density, conservancy, and livestock pressure. Livestock pressure was estimated from the tagged camera trap data (*see the code in the solutions*), and defined as the proportion of surveyed days in which livestock were detected."
   ]
  },
  {
   "cell_type": "code",
   "execution_count": null,
   "id": "947e3094-3b19-4f54-8957-674be9b0ff5f",
   "metadata": {},
   "outputs": [],
   "source": [
    "%%R\n",
    "# locations and transform to metres projection\n",
    "locs = read.csv(\"./data/kenya/survey/bh_camera_locations.csv\") %>%\n",
    "  sf::st_as_sf(coords = c(\"Longitude\", \"Latitude\"), crs = 4326) %>%\n",
    "  sf::st_transform(locs, crs = \"+proj=utm +zone=36 +south +datum=WGS84 +units=m +no_defs\") %>%\n",
    "  dplyr::filter(CT_site != \"MT34\")\n",
    "\n",
    "# add coordinates columns for XY locations\n",
    "locs = cbind(locs, sf::st_coordinates(locs))\n",
    "\n",
    "# extract habitat (land cover) types in a buffer of 250m around each trap\n",
    "# specify buffer size\n",
    "buffer_size = 250\n",
    "\n",
    "# run extraction\n",
    "hab = raster::raster(\"./data/kenya/environment/habitat/habitatfinal.tif\")\n",
    "raster::values(hab)[ raster::values(hab) > 200 ] = NA # missing data replace with NA\n",
    "hab = raster::projectRaster(hab, crs=raster::crs(locs), method=\"ngb\") # project to locs CRS\n",
    "hab = raster::crop(hab, raster::extent(locs)+10000) # crop to nearby area\n",
    "locs_buf = sf::st_buffer(locs, dist=buffer_size) # buffer of specified buffer size\n",
    "locs_ext1 = raster::extract(hab %in% 4:5, locs_buf,  fun = mean) # closed/semi-closed\n",
    "locs_ext2 = raster::extract(hab %in% 6, locs_buf, fun = mean) # agriculture\n",
    "locs$closed_lc = as.vector(locs_ext1)\n",
    "locs$agri_lc = as.vector(locs_ext2)\n",
    "\n",
    "# extract distance from the nearest \"water\" grid cell\n",
    "# water_ras = hab == 2 # water raster\n",
    "# water_ras[ !water_ras ] = NA # label non-water as NA\n",
    "# dist_ras = terra::distance(water_ras) # make raster of distance to nearest water\n",
    "# writeRaster(dist_ras, \"./data/kenya/environment/habitat/distance_to_water.tif\", format=\"GTiff\")\n",
    "dist_ras = raster::raster(\"./data/kenya/environment/habitat/distance_to_water.tif\")\n",
    "locs_ext = raster::extract(dist_ras, locs)\n",
    "locs$distance_to_water = as.vector(locs_ext)/1000 # convert to km\n",
    "\n",
    "# extract population density\n",
    "pop = raster::raster(\"./data/kenya/environment/population/worldpop_ppp_mara.tif\") %>%\n",
    "  raster::aggregate(fact=5, fun=\"sum\", na.rm=TRUE)\n",
    "area_ras = (raster::area(pop)) / 10^6 # creates raster with cell size in km squared\n",
    "popdens = pop / area_ras # calculate population density per km2 (divide population raster by area raster)\n",
    "popdens = log(popdens+1) \n",
    "names(popdens) = \"popdens_log\" \n",
    "locs_reproj = sf::st_transform(locs, crs=crs(popdens)) # transform location projection to pop dens raster projection\n",
    "locs_pd = raster::extract(popdens, locs_reproj) # use \"extract\" function to extract value in the grid cell that each point falls in\n",
    "locs$popdens_log = as.vector(locs_pd) # add into our \"locs\" dataframe\n",
    "\n",
    "# calculate number of days sampled per camera trap\n",
    "effort = read.csv(\"./data/kenya/survey/bh_camera_samplingeffort.csv\") %>%\n",
    "  dplyr::filter(effort_class == 1) %>%\n",
    "  dplyr::group_by(CT_site) %>%\n",
    "  dplyr::summarise(n_days_sampled = n_distinct(Date))\n",
    "locs = locs %>% left_join(effort) %>%\n",
    "  dplyr::mutate(\n",
    "    # replaces autofill NAs\n",
    "    n_days_sampled = replace(n_days_sampled, is.na(n_days_sampled), 0)\n",
    "  )\n",
    "\n",
    "# calculate livestock detections from camera trap data (n=3540 observations of livestock)\n",
    "ctd_liv = read.csv(\"./data/kenya/survey/bh_camera_images_mara.csv\") %>%\n",
    "  dplyr::filter(CT_site %in% locs$CT_site) %>% # ensure sites are in location data\n",
    "  dplyr::mutate(Date = as.Date(Date, format=\"%Y-%m-%d\")) %>%\n",
    "  dplyr::filter(Species == \"livestock\") %>%\n",
    "  dplyr::group_by(CT_site) %>%\n",
    "  dplyr::summarise(\n",
    "    n_days_livestock = n_distinct(Date)\n",
    "  )\n",
    "\n",
    "# add to locs df and calculate a livestock pressure indicator (proportion days when livestock detected)\n",
    "locs = locs %>%\n",
    "  dplyr::left_join(ctd_liv) %>%\n",
    "    dplyr::mutate(\n",
    "    n_days_livestock = replace(n_days_livestock, is.na(n_days_livestock), 0)\n",
    "  ) %>%\n",
    "  dplyr::mutate(\n",
    "    livestock_pressure = n_days_livestock / n_days_sampled\n",
    "  )\n",
    "\n",
    "# drop unnecessary columns and save covariates\n",
    "ct_data = locs %>%\n",
    "  st_drop_geometry() %>%\n",
    "  dplyr::select(-n_days_livestock) %>%\n",
    "  write.csv(\"./data/kenya/data_processed/bh_site_covariates_spatial.csv\", row.names=FALSE)"
   ]
  },
  {
   "cell_type": "code",
   "execution_count": null,
   "id": "10a0a03d-3b96-4b18-8907-254c40a9e6f9",
   "metadata": {},
   "outputs": [],
   "source": [
    "%%R\n",
    "\n",
    "# read in required data (n=178 camera traps)\n",
    "# create an SF object with the location geometry and site-level covariates \n",
    "locs = read.csv(\"./data/kenya/survey/bh_camera_locations.csv\") %>%\n",
    "  sf::st_as_sf(coords = c(\"Longitude\", \"Latitude\"), crs = 4326) %>%\n",
    "  sf::st_transform(locs, crs = \"+proj=utm +zone=36 +south +datum=WGS84 +units=m +no_defs\") %>%\n",
    "  dplyr::filter(CT_site != \"MT34\")\n",
    "\n",
    "# add coordinates columns for XY locations\n",
    "locs = cbind(locs, sf::st_coordinates(locs))\n",
    "\n",
    "# covariates for each camera trap\n",
    "covars = read.csv(\"./data/kenya/data_processed/bh_site_covariates_spatial.csv\") %>%\n",
    "  dplyr::select(-Conservancy, -X, -Y)\n",
    "\n",
    "# combine and only keep locations where camera sampled for > 0 days (n=175)\n",
    "locs = locs %>% \n",
    "  dplyr::left_join(covars) %>%\n",
    "  dplyr::filter(n_days_sampled > 0)"
   ]
  },
  {
   "cell_type": "markdown",
   "id": "21cf96a6-15e2-42c2-85b4-3f9bf4f97eaa",
   "metadata": {},
   "source": [
    "## Exercise 1"
   ]
  },
  {
   "cell_type": "markdown",
   "id": "e483039d-4f45-478d-9baa-c280ab5bdd0d",
   "metadata": {},
   "source": [
    "* Call `head()` to familiarise yourself with the data structure of *locs*.\n",
    "\n",
    "* Explore the distribution of our covariates of interest using histograms and scatterplots, and use `ggplot()` to plot boxplots of covariates of interest across different conservancies (see code below). Will all of these covariates be suitable to include in a model?\n",
    "\n",
    "* Explore mapping anthropogenic and environmental factors - how do these vary across the study area? We should remember any spatial differences between conservancies later when we are running our analyses.  "
   ]
  },
  {
   "cell_type": "code",
   "execution_count": null,
   "id": "64955cfd-8909-4194-a5bc-956a111e1498",
   "metadata": {},
   "outputs": [],
   "source": [
    "%%R\n",
    "\n",
    "# create a longitudinal dataframe of conservancy vs each covariate\n",
    "locs_longdf = locs %>% \n",
    "  sf::st_drop_geometry() %>%\n",
    "  tidyr::pivot_longer(cols = c(\"closed_lc\", \"agri_lc\", \n",
    "                               \"distance_to_water\", \"popdens_log\", \"livestock_pressure\"), \n",
    "                      names_to=\"covariate\", values_to=\"value\") \n",
    "\n",
    "# boxplots of covariates across each conservancy - what do you notice?\n",
    "ggplot(locs_longdf) + \n",
    "  geom_boxplot(aes(factor(Conservancy), value, group=Conservancy, fill=Conservancy)) + \n",
    "  theme_minimal() + \n",
    "  facet_wrap(~covariate, scales=\"free_y\") +\n",
    "  # sets the x-axis text to print at an angle and not overlapping the plot\n",
    "  theme(axis.text.x = element_text(angle = 45, hjust = 0.8)) "
   ]
  },
  {
   "cell_type": "code",
   "execution_count": null,
   "id": "0423d128-abe1-445a-857c-4900837fd471",
   "metadata": {},
   "outputs": [],
   "source": [
    "%%R\n",
    "\n",
    "# map livestock pressure across the study area\n",
    "# change this to look at other covariates!\n",
    "locs %>%\n",
    "  ggplot() + \n",
    "  geom_sf(aes(size=livestock_pressure, color=livestock_pressure)) + \n",
    "  theme_classic() + \n",
    "  scale_color_viridis_c(end=0.9, name=\"Livestock\\npressure\") +\n",
    "  scale_size(guide=\"none\")"
   ]
  },
  {
   "cell_type": "markdown",
   "id": "209967ca-c64d-4ebb-9023-558e4a0fd60b",
   "metadata": {},
   "source": [
    "## Combining environmental covariates with species detections to create a modelling dataframe"
   ]
  },
  {
   "cell_type": "markdown",
   "id": "9e8a9c27-91a4-4bb3-a879-37c35aee9338",
   "metadata": {},
   "source": [
    "Now let's incorporate survey data for our species of interest (*Lepus capensis*) from the camera trap images. As the day is our unit of sampling, we'll calculate the number of days in which the species was detected, and also the proportion of surveyed days."
   ]
  },
  {
   "cell_type": "code",
   "execution_count": null,
   "id": "42e281e9-7374-4a6f-8115-23cbf984abcb",
   "metadata": {},
   "outputs": [],
   "source": [
    "%%R\n",
    "\n",
    "# specify our species of interest\n",
    "spp = \"hare\"\n",
    "\n",
    "# number of days with hares observed per camera trap\n",
    "ctd = read.csv(\"./data/kenya/survey/bh_camera_images_mara.csv\") %>%\n",
    "  dplyr::filter(CT_site %in% locs$CT_site) %>% \n",
    "  dplyr::mutate(Date = as.Date(Date, format=\"%Y-%m-%d\")) %>%\n",
    "  dplyr::filter(Species == spp) %>%\n",
    "  dplyr::group_by(CT_site) %>%\n",
    "  dplyr::summarise(n_days_detected = n_distinct(Date))\n",
    "\n",
    "# add to \"locs\" and replace autofill NAs\n",
    "locs = locs %>%\n",
    "  dplyr::left_join(ctd) %>%\n",
    "  dplyr::mutate(n_days_detected = replace(n_days_detected, is.na(n_days_detected), 0))\n",
    "\n",
    "# calculate proportion detected and ensure ranges between 0 and 1\n",
    "locs$prop_detected = locs$n_days_detected / locs$n_days_sampled\n",
    "range(locs$prop_detected)\n",
    "\n",
    "# quick viz\n",
    "ggplot(locs) + \n",
    "  geom_sf(aes(size=prop_detected, color=prop_detected), alpha=0.8) + \n",
    "  theme_classic() + \n",
    "  scale_color_viridis_c(name=\"Hare\\noccupancy\\n(proportion\\nsampled\\ndays)\") +\n",
    "  scale_size(guide=\"none\")"
   ]
  },
  {
   "cell_type": "markdown",
   "id": "17ac2d15-00e4-4209-aacc-9ade62595bfa",
   "metadata": {},
   "source": [
    "## Exercise 2"
   ]
  },
  {
   "cell_type": "markdown",
   "id": "9f94991c-c275-4c3c-ae73-51c041128042",
   "metadata": {},
   "source": [
    "* Plot scatterplots of the relationship between our response variable (proportion hare detections, *\"prop_det\"*) and our covariates of interest, in particular livestock activity, closed habitat, distance to water and conservancy. Do you see any obvious evidence of relationships in the raw plots?"
   ]
  },
  {
   "cell_type": "markdown",
   "id": "74035813-2dd5-41d2-9889-7424dd845075",
   "metadata": {},
   "source": [
    "## Fitting logistic (binomial) regression models to estimate probability of hare occupancy"
   ]
  },
  {
   "cell_type": "markdown",
   "id": "aa653967-b38e-4c00-9ed7-22be192ea3a6",
   "metadata": {},
   "source": [
    "Let's investigate our research question using generalised linear models. Our response variable is binomial - i.e. the species either was detected or not detected, during each sampling window. Each camera trap sampled for a particular number of nights (\"trials\") with a particular number of detections (\"successes\"), and we are interested in how our covariates affect the *probability* of success. We model this using **logistic regression** with a binomial likelihood and logit link function, where we estimate the linear effects of covariates $X_1:X_n$ on the log odds of hare occurrence."
   ]
  },
  {
   "cell_type": "markdown",
   "id": "85995e32-8f39-40d5-bf91-034a907a637c",
   "metadata": {},
   "source": [
    "The model would be formulated as:\n",
    "\n",
    "$$Y_i \\sim Binom(n_i, p_i)$$\n",
    "\n",
    "$$\\log\\left( \\frac{p_i}{1-p_i}\\right) = \\beta_0 + X\\beta$$\n",
    "\n",
    "where $Y_i$ is the proportion of successful outcomes (hare detections), $n_i$ is the number of trials (the number of sampled days), and $p_i$ is the probability of success, which we are estimating as a function of covariates. $\\beta$ is a vector of slope parameters, and $X$ is a matrix of covariates."
   ]
  },
  {
   "cell_type": "markdown",
   "id": "dee20cf5-6d0c-4454-aefa-fefd23309960",
   "metadata": {},
   "source": [
    "Our covariates are all on different scales of magnitude to each other, so slope estimates are difficult to compare between covariates. To deal with this we centre and scale covariates - subtract the mean and divide by the standard deviation. This way, slope parameters always describe the change in $Y$ for 1 standard deviation change in $X$, regardless of what units $X$ was measured in."
   ]
  },
  {
   "cell_type": "code",
   "execution_count": null,
   "id": "f019a3bd-8c62-4fd8-9691-98ade13a68de",
   "metadata": {},
   "outputs": [],
   "source": [
    "%%R\n",
    "\n",
    "# scale linear covariates for comparability and save as new variables \"_s\"\n",
    "# (denoting scaled)\n",
    "locs$closed_lc_s = scale(locs$closed_lc)\n",
    "locs$livestock_pressure_s = scale(locs$livestock_pressure)\n",
    "locs$distance_to_water_s = scale(locs$distance_to_water)\n",
    "\n",
    "# plot histograms of our scaled covariates\n",
    "# what do you notice in comparison to the unscaled versions?"
   ]
  },
  {
   "cell_type": "markdown",
   "id": "58043fa7-bf36-4fc7-aa26-3732ed6dd38e",
   "metadata": {},
   "source": [
    "We use the `glm()` function to fit a generalised linear model, defining this formula as $Y \\sim covariate_1 + covariate_2 + ...$, specifying a binomial likelihood. Since the conservancies showed markedly different levels of livestock activity and habitat factors, we include conservancy as a covariate *a priori* in the model, to account for these coarse spatial differences across the study area."
   ]
  },
  {
   "cell_type": "code",
   "execution_count": null,
   "id": "a6dc21ed-aa1b-45dc-bdfb-26ed24da4a53",
   "metadata": {},
   "outputs": [],
   "source": [
    "%%R\n",
    "\n",
    "# logistic regression model with livestock and conservancy \n",
    "# response is the proportion detections\n",
    "# \"weights\" argument provides the model with number of trials\n",
    "m1 = glm(prop_detected ~ livestock_pressure_s + Conservancy, \n",
    "         family=binomial(link=\"logit\"), \n",
    "         weights = n_days_sampled,\n",
    "         data=locs)\n",
    "\n",
    "# summary information\n",
    "summary(m1)"
   ]
  },
  {
   "cell_type": "markdown",
   "id": "66e9e708-ca37-4150-b74d-ada3b4074ed8",
   "metadata": {},
   "source": [
    "* Call `summary()` on the model to see summary information including residuals and fitted parameters (coefficients table). What does the slope estimate suggest about the relationship with livestock pressure? "
   ]
  },
  {
   "cell_type": "markdown",
   "id": "71e95fa7-f8ad-40a2-b6c4-81b47caa4f3d",
   "metadata": {},
   "source": [
    "The model summary also shows some goodness-of-fit statistics based on the log-likelihood: "
   ]
  },
  {
   "cell_type": "markdown",
   "id": "c7af8a53-7102-4e0b-8acf-3547d172001a",
   "metadata": {},
   "source": [
    "* **Residual deviance**, a measure of how much of the total variation in the observed data is explained by the model (*lower values = more variation explained = better model*). A significant reduction from the null deviance supports the inclusion of covariates in the model. \n",
    "\n",
    "* **AIC (Akaike Information Criterion)** accounts for the improvement in log-likelihood provided by including more parameters, while penalising overfitting to the data (*lower values = better fitting model*). "
   ]
  },
  {
   "cell_type": "markdown",
   "id": "1cf25e0f-6d48-4533-a4c8-a5a3d2ab1873",
   "metadata": {},
   "source": [
    "We should also look at the distribution of residuals (the unexplained error not accounted for by the model) to check our model is adhering to assumptions. These plots get tricky to interpret visually for GLMs because different likelihoods make different assumptions about how error is distributed (see [here](https://bookdown.org/ltupper/340f21_notes/deviance-and-residuals.html)). Plotting the model shows the Pearson residuals; generally these should be evenly distributed around the fitted line (shown in red)."
   ]
  },
  {
   "cell_type": "code",
   "execution_count": null,
   "id": "59f5ab8d-3efb-4a18-9d74-d6240728f64c",
   "metadata": {},
   "outputs": [],
   "source": [
    "%%R\n",
    "\n",
    "# AIC\n",
    "AIC(m1)\n",
    "\n",
    "# plot model\n",
    "plot(m1)"
   ]
  },
  {
   "cell_type": "markdown",
   "id": "583ec655-6945-403a-9af7-ff3397f557e4",
   "metadata": {},
   "source": [
    "## Exercise 3"
   ]
  },
  {
   "cell_type": "markdown",
   "id": "1bdb345b-4a59-4d40-bd43-88ee1c5a7ff2",
   "metadata": {},
   "source": [
    "What other factors might be influencing hare occurrence and also covary with livestock occurrence? It may be important to include these too, in case they explain some of this relationship. \n",
    "\n",
    "* Fit another model called *m2*, also including closed habitat and distance to water as covariates. \n",
    "\n",
    "* Call *summary()* to examine the model. Compare the AIC and residual deviance; does adding these covariates improve the model?"
   ]
  },
  {
   "cell_type": "markdown",
   "id": "02e4fe0f-84dd-4c91-b538-aad82a2d68e8",
   "metadata": {},
   "source": [
    "* The function below extracts the fitted parameter estimates, calculates the 95% confidence intervals and visulises them. Use this to plot the slope estimates for *m2*. What does the model suggest about the relationship between hare occupancy, livestock and habitat metrics? What about how hare occupancy differs between conservancies?"
   ]
  },
  {
   "cell_type": "code",
   "execution_count": null,
   "id": "9a40c950-1349-4263-87e0-3b305f8d35eb",
   "metadata": {},
   "outputs": [],
   "source": [
    "%%R\n",
    "\n",
    "# Function to plot coefficients and confidence intervals. \n",
    "# The intercept is often at a different scale to the slope parameters \n",
    "# so creates a separate sub-plot for the intercept).\n",
    "\n",
    "plotFixedEffects = function(model){\n",
    "  \n",
    "  plot_df = coef(summary(model)) %>% # extract parameters table from model\n",
    "    as.data.frame() %>% # convert to df\n",
    "    tibble::rownames_to_column(var=\"param\") %>% # make column \"param\" from row names\n",
    "    # classify param as either Intercept or Slope\n",
    "    dplyr::mutate(param_type = ifelse(param == \"(Intercept)\", \"Intercept\", \"Slope\")) %>% \n",
    "    dplyr::rename(\"se\"=3) # rename std error variable because easier to work with\n",
    "    \n",
    "  plot = ggplot(plot_df) + \n",
    "    geom_point(aes(param, Estimate), size=3) + # point estimate\n",
    "    # 95% confidence interval (1.96 * standard error)\n",
    "    geom_linerange(aes(param, ymin=Estimate-(1.96*se), ymax=Estimate+(1.96*se))) + \n",
    "    geom_hline(yintercept=0, lty=2) + # horizontal line marking zero (i.e. no effect)\n",
    "    theme_minimal() + \n",
    "    facet_wrap(~param_type, scales=\"free\") + # split plot by parameter type\n",
    "    theme(axis.text = element_text(size=12), \n",
    "          axis.title = element_text(size=12),\n",
    "          strip.text = element_text(size=14)) +\n",
    "    xlab(\"Parameter\") + ylab(\"Estimate (95% confidence interval)\") +\n",
    "    coord_flip() # flip so the plot is horizontal\n",
    "  \n",
    "  return(plot)\n",
    "}"
   ]
  },
  {
   "cell_type": "markdown",
   "id": "44ee9238-fc30-475e-9478-c23ed3ab818d",
   "metadata": {},
   "source": [
    "Note that conservancy is a 4-level categorical variable, so the model is estimating how the intercept differs between each category (i.e. are hare detections on average higher or lower in each conservancy?). One of the categories is incorporated into the intercept (the base factor), and the 3 other parameters estimate the log odds difference in hare occurrence between the base factor and each of the other conservancies."
   ]
  },
  {
   "cell_type": "markdown",
   "id": "06453150-f694-454d-8948-0bce0f8dd501",
   "metadata": {},
   "source": [
    "Since there are only 4 levels, it was reasonable to include conservancy as a categorical fixed effect. An alternative, especially if there were a large number of conservancies, would be to design this as a **mixed effects (multilevel) model** and specify a *random intercept* for conservancy. In the solutions there is code which shows how you can do this."
   ]
  },
  {
   "cell_type": "markdown",
   "id": "402b236f-5fd9-4ada-aabd-cf6df4e05bee",
   "metadata": {},
   "source": [
    "* *If you like, you could also explore what happens to the slope covariates if you fit a model excluding conservancy. What does this suggest about the importance of accounting for spatially-clustered sampling within the model?*"
   ]
  },
  {
   "cell_type": "markdown",
   "id": "0e69f46b-40af-4ad5-9693-badfff6c103c",
   "metadata": {},
   "source": [
    "## Investigating nonlinear relationships between livestock pressure and hare occupancy in 'mgcv'"
   ]
  },
  {
   "cell_type": "markdown",
   "id": "71a5b7e1-c31e-444a-a384-94c0e26168b1",
   "metadata": {},
   "source": [
    "Linear models make simplifying assumptions that the relationship between covariate X and response variable Y is monotonic, which may not adequately reflect biological reality - for example, many biological processes follow hump-shaped or saturated curves. Such nonlinear interactions can occur in complex ecosystems, so our models need to be flexible enough to account for them."
   ]
  },
  {
   "cell_type": "markdown",
   "id": "91978308-24b1-4d6c-b694-bf6774855f58",
   "metadata": {},
   "source": [
    "So far, using logistic regression we found some evidence for a positive relationship between livestock pressure and the probability of hare occupancy. We earlier hypothesised that hare occupancy might either be positively or negatively related to livestock pressure. But **alternatively, what if both are partially true, and that the relationship is nonlinear, with hare occupancy peaking at intermediate livestock activity (which creates amenable habitat) and declining at very high levels (due to excessive disturbance)?**"
   ]
  },
  {
   "cell_type": "markdown",
   "id": "242e677c-59bd-42c4-b60c-b51bbe00c9c0",
   "metadata": {},
   "source": [
    "Many approaches are available for fitting nonlinear functions to data, and models that combine mixtures of linear and nonlinear terms are generally called **generalised additive models** (GAMs). We'll use the R package *mgcv*, which provides a fast and flexible framework to fit many types of nonlinear model. (For a great beginner's introduction to the principles of GAMs in mgcv, see [this chapter](https://noamross.github.io/gams-in-r-course/chapter1))."
   ]
  },
  {
   "cell_type": "markdown",
   "id": "22a6c272-c862-4777-ba00-0f99f9d8c1dd",
   "metadata": {},
   "source": [
    "We'll again fit a logistic regression model, with the only difference that we are now fitting a smooth function $f(X_1)$ of our covariate. We can still also include linear effects.\n",
    "\n",
    "$$Y_i \\sim Binom(n_i, p_i)$$\n",
    "\n",
    "$$\\log\\left( \\frac{p_i}{1-p_i} \\right) = \\beta_0 + f(X_1)$$"
   ]
  },
  {
   "cell_type": "markdown",
   "id": "a4062f7b-74ba-40b6-9373-3ff78c8c57a5",
   "metadata": {},
   "source": [
    "We can use mgcv to fit both the same linear model as above, and a model that includes a nonlinear effect of livestock pressure using a penalised thin-plate regression spline. Let's look at the difference between the two."
   ]
  },
  {
   "cell_type": "code",
   "execution_count": null,
   "id": "3705a7ad-8c2f-4228-8ee0-bbdc3cf9005a",
   "metadata": {},
   "outputs": [],
   "source": [
    "%%R\n",
    "\n",
    "# using mgcv's gam function to fit a linear model\n",
    "# (parameter estimates are almost the same as the glm)\n",
    "m4 = mgcv::gam(prop_detected ~ Conservancy + livestock_pressure_s, \n",
    "               data = locs,\n",
    "               family = binomial(link=\"logit\"),\n",
    "               weights = n_days_sampled, \n",
    "               method = \"REML\")\n",
    "\n",
    "# adding a nonlinear function of livestock occ using s()\n",
    "m5 = mgcv::gam(prop_detected ~ Conservancy + s(livestock_pressure), \n",
    "               data = locs,\n",
    "               family = binomial(link=\"logit\"),\n",
    "               weights = n_days_sampled, \n",
    "               method = \"REML\")\n",
    "\n",
    "# call summary() to look at the fitted model"
   ]
  },
  {
   "cell_type": "markdown",
   "id": "c583541f-3fa3-485b-8ee0-d609e8410729",
   "metadata": {},
   "source": [
    "* Compare the AIC of the two models; does including the nonlinear term provide a better fit to the data?"
   ]
  },
  {
   "cell_type": "markdown",
   "id": "0d6a6e6a-4bfe-4b81-a2e5-bc47b9369ce3",
   "metadata": {},
   "source": [
    "You can call `plot()` on the fitted model to visualise the fitted partial effect of livestock pressure, or alternatively the gratia package provides some great tools for visualising GAMs."
   ]
  },
  {
   "cell_type": "code",
   "execution_count": null,
   "id": "f8c8afc9-4351-431f-a052-d30182833b1d",
   "metadata": {},
   "outputs": [],
   "source": [
    "%%R\n",
    "\n",
    "# using plot\n",
    "#plot(m5)\n",
    "\n",
    "# using gratia's draw() function\n",
    "gratia::draw(m5) + theme_minimal() + geom_hline(yintercept=0, lty=2, alpha=0.5)"
   ]
  },
  {
   "cell_type": "markdown",
   "id": "37fca328-b534-404c-86ac-d1c33c948521",
   "metadata": {},
   "source": [
    "* What does your biological intuition suggest to you about how generalisable or realistic this fitted relationship is? How does this compare to what the AIC suggests about which is the better model?"
   ]
  },
  {
   "cell_type": "markdown",
   "id": "03d39d08-8c9a-40f3-9f53-a41491fa9b60",
   "metadata": {},
   "source": [
    "During fitting, the GAM function seeks to optimise the \"wiggliness\" of the fitted spline to avoid overfitting to the data. Alternatively, we can manually change parameters to determine this, through changing the number of knots (basis functions) or the smoothing parameter that penalises overfitting (which is normally optimised when we use the method='REML' argument)."
   ]
  },
  {
   "cell_type": "markdown",
   "id": "dd95d83f-0400-46e4-8cad-267a26213830",
   "metadata": {},
   "source": [
    "* *If you like, try experimenting with the code below to investigate what happens to the shape of the fitted spline when you reduce or increase the number of knots (k) from the default of 9, or when you manually increase or decrease the smoothing penalty (sp). Do these functions look more ecologically reasonable? What does the AIC suggest?*"
   ]
  },
  {
   "cell_type": "code",
   "execution_count": null,
   "id": "be00d533-f927-449d-8fd9-852bb4ca6384",
   "metadata": {},
   "outputs": [],
   "source": [
    "%%R\n",
    "\n",
    "# modify k parameter to increase/decrease knots (functional complexity)\n",
    "# modify sp parameter to increase/decrease smoothing penalty\n",
    "m5.1 = mgcv::gam(prop_detected ~ Conservancy + \n",
    "                   s(livestock_pressure, k=9, sp=0.005), \n",
    "               data = locs,\n",
    "               family = binomial(link=\"logit\"),\n",
    "               weights = n_days_sampled)\n",
    "\n",
    "# plot the function\n",
    "gratia::draw(m5.1)\n",
    "\n",
    "# compare AIC to m5 where sp was optimised\n",
    "AIC(m5); AIC(m5.1)"
   ]
  },
  {
   "cell_type": "markdown",
   "id": "e2436eba-f80a-4ad9-8401-fe259773ca92",
   "metadata": {},
   "source": [
    "## Accounting for spatial dependence among observations using geospatial models"
   ]
  },
  {
   "cell_type": "markdown",
   "id": "6fa82192-b981-465a-88aa-baaa07a9bb33",
   "metadata": {},
   "source": [
    "Why is the fitted spline unrealistically wiggly? It's possible it is picking up some residual spatial structure in the data we have not properly accounted for. *Remember*, any model only knows what we tell it explicitly, and our model currently knows nothing about the arrangement of camera trap sites beyond what conservancy they belong to."
   ]
  },
  {
   "cell_type": "markdown",
   "id": "83e8aa5b-8613-4350-988d-0687b26972df",
   "metadata": {},
   "source": [
    "Statistical models assume errors are independent, but this assumption can be violated if observations closer together in space are more closely related to each other - **spatial autocorrelation** - for example, because animals move between neighbouring cameras, or because of unmeasured covariates influencing the system. Geospatial statistics provides tools to explicitly account for such spatial dependencies."
   ]
  },
  {
   "cell_type": "markdown",
   "id": "a5a39a76-3f85-4ba1-ac07-5f6803222fdd",
   "metadata": {},
   "source": [
    "In this last section we will explore using mgcv to fit a *Gaussian process* spatial random effect across the study area, and see whether this improves our ability to infer the relationship between livestock pressure and hare occupancy. We have covered some key geospatial statistics concepts in the lectures, including Gassian processes, but the aim here is to provide a (very) brief exploration of their use in practice."
   ]
  },
  {
   "cell_type": "markdown",
   "id": "6ed48295-fedd-4461-a2ec-a898702cf852",
   "metadata": {},
   "source": [
    "First, let's map the residuals (error) from our fitted GAM across the study area. Does there seem to be any spatial clustering in the residual error that would indicate spatial autocorrelation?"
   ]
  },
  {
   "cell_type": "code",
   "execution_count": null,
   "id": "a447ecc1-d8a5-43de-9d67-55d732d1b76d",
   "metadata": {},
   "outputs": [],
   "source": [
    "%%R\n",
    "\n",
    "# extract residuals \n",
    "resid = locs %>%\n",
    "  dplyr::mutate(resid = resid(m5, \"deviance\"))\n",
    "\n",
    "# map residuals with diverging colour scale and size to absolute magnitude\n",
    "resid %>%\n",
    "  ggplot() + \n",
    "  geom_sf(aes(color=resid, size=abs(resid))) + \n",
    "  scale_color_gradient2() + \n",
    "  theme_classic() +\n",
    "  ggtitle(\"m5 residuals\")"
   ]
  },
  {
   "cell_type": "markdown",
   "id": "2bfeed4a-447b-412f-9aa0-5e489e852ccd",
   "metadata": {},
   "source": [
    "Next, we'll fit a Gaussian process two-dimensional field to the hare occupancy data in mgcv. We use the s() function, giving the X and Y coordinates, and setting the basis as \"gp\". The m argument specifies the covariance function for the Gaussian process - i.e. the shape and range of how the correlation between observations decays by distance. Here, we specify a Matern covariance function with a range of 3 kilometres (which we previously estimated as optimal for these data based on some exploratory analyses), which determines at what distance observations are considered effectively uncorrelated. "
   ]
  },
  {
   "cell_type": "markdown",
   "id": "0df62c0a-c169-4830-94de-e319509b7dee",
   "metadata": {},
   "source": [
    "* Compare the AIC between the model with spatial random effect (but no covariates) and m5 - does the spatial random effect improve the model fit?"
   ]
  },
  {
   "cell_type": "code",
   "execution_count": null,
   "id": "ab63851c-23e8-446e-b20e-af97bed6992a",
   "metadata": {},
   "outputs": [],
   "source": [
    "%%R\n",
    "\n",
    "# fit model (with no covariates for now)\n",
    "m6 = mgcv::gam(prop_detected ~ 1 + \n",
    "                 s(X, Y, bs=\"gp\", m=c(3, 3000)), # matern w/ kappa=1.5 and range=3000m\n",
    "               data = locs,\n",
    "               family = binomial(link=\"logit\"),\n",
    "               weights = n_days_sampled,\n",
    "               method = \"REML\")\n",
    "\n",
    "# call summary\n",
    "summary(m6)"
   ]
  },
  {
   "cell_type": "markdown",
   "id": "edf61353-fdc1-44cb-8922-fa302d69714b",
   "metadata": {},
   "source": [
    "To understand what is going on we can visualise the fitted spatial effect. The function below uses the model to predict the value of the Gaussian process effect in each grid cell of a template raster, and then plot it across the study area. "
   ]
  },
  {
   "cell_type": "markdown",
   "id": "c767d6ea-086a-4e76-b279-d279c84101c4",
   "metadata": {},
   "source": [
    "* Call the `plotGPSmooth()` function on the model to visualise it. What do you notice about the relationship between nearby observations?"
   ]
  },
  {
   "cell_type": "code",
   "execution_count": null,
   "id": "408a026b-d6a4-4fa4-89b1-357504395712",
   "metadata": {},
   "outputs": [],
   "source": [
    "%%R\n",
    "\n",
    "plotGPSmooth = function(model, plot.title=\"Gaussian process smooth\"){\n",
    "  \n",
    "  # grid locations to predict to with XY coordinates\n",
    "  # (based on creating a template raster of the area)\n",
    "  new_dat = read.csv(\"./data/kenya/environment/habitat/template_raster_cells.csv\")\n",
    "\n",
    "  # predict to raster locations\n",
    "  new_dat$gp_pred = predict.gam(object = model,\n",
    "                                newdata = new_dat, \n",
    "                                type = \"terms\",\n",
    "                                terms = \"s(X,Y)\",\n",
    "                                se.fit = F)\n",
    "  \n",
    "  # plot spatial field and overlay observations\n",
    "  sp_plot = new_dat %>%\n",
    "    ggplot() + \n",
    "    geom_raster(aes(X, Y, fill=gp_pred)) + \n",
    "    scale_fill_viridis_c(option=\"magma\", name=\"Partial\\neffect\") +\n",
    "    geom_sf(data=locs, aes(size=prop_detected), pch=16, alpha=0.3) +\n",
    "    theme_classic() +\n",
    "    ggtitle(plot.title) + \n",
    "    theme(plot.title = element_text(size=13, hjust=0.5)) +\n",
    "    scale_size(guide=\"none\")\n",
    "  \n",
    "  return(sp_plot)\n",
    "}"
   ]
  },
  {
   "cell_type": "code",
   "execution_count": null,
   "id": "a388748c-c5ed-4f2b-a0f9-ee0d5d85f4cf",
   "metadata": {},
   "outputs": [],
   "source": [
    "%%R\n",
    "\n",
    "# call the function on our fitted model\n",
    "plotGPSmooth(m6)"
   ]
  },
  {
   "cell_type": "markdown",
   "id": "6a923528-910a-4773-9351-fb5684e2dedc",
   "metadata": {},
   "source": [
    "Finally, let's reintroduce our livestock covariate. Does accounting for the spatial dependency among sites lead to a more ecologically plausible nonlinear relationship with hare occupancy?"
   ]
  },
  {
   "cell_type": "code",
   "execution_count": null,
   "id": "c74108f8-9e4b-4b11-895e-32aa6af5f4c6",
   "metadata": {},
   "outputs": [],
   "source": [
    "%%R\n",
    "\n",
    "# fit the model\n",
    "m7 = mgcv::gam(prop_detected ~ 1 + \n",
    "                 s(X, Y, bs=\"gp\", m=c(3, 3000)) +\n",
    "                 s(livestock_pressure), \n",
    "               data = locs,\n",
    "               family = binomial(link=\"logit\"),\n",
    "               weights = n_days_sampled,\n",
    "               method = \"REML\")\n",
    "\n",
    "# plot the fitted function\n",
    "gratia::draw(m7, select=\"s(livestock_pressure)\") + xlab(\"Livestock pressure\") + \n",
    "  geom_hline(yintercept=0, lty=2, alpha=0.5) + theme_minimal()"
   ]
  },
  {
   "cell_type": "markdown",
   "id": "3158d699-cdae-466c-9bb7-cbee88b4588b",
   "metadata": {},
   "source": [
    "## Exercise 4"
   ]
  },
  {
   "cell_type": "markdown",
   "id": "1b59038a-3448-4add-bb5e-b7128d977900",
   "metadata": {},
   "source": [
    "Do the data provide stronger evidence for a linear or a nonlinear relationship between livestock pressure and hare occupancy, after we have accounted for space? "
   ]
  },
  {
   "cell_type": "markdown",
   "id": "b763a33d-bac7-4d64-9c98-6c1e573154aa",
   "metadata": {},
   "source": [
    "* Modify the code above to fit a model with a **linear** effect of livestock pressure. Using AIC, compare between the three models, either including no effect (*m6*), a nonlinear effect (*m7*), or a linear effect - which is the best supported?"
   ]
  },
  {
   "cell_type": "markdown",
   "id": "3ae19962-bfc8-4e38-b486-d327496ecb2f",
   "metadata": {},
   "source": [
    "## Extension exercises"
   ]
  },
  {
   "cell_type": "markdown",
   "id": "d9881065-c2ff-4ccf-b2ed-dccd8f53eb1d",
   "metadata": {},
   "source": [
    "## Exercise 5"
   ]
  },
  {
   "cell_type": "markdown",
   "id": "a093f65b-ea04-47f7-b900-338319729b88",
   "metadata": {},
   "source": [
    "Within the Gaussian process model, the shape of the covariance function determines how the correlation between observations declines with distance. In particular, the *range* parameter, which is set to 3 kilometres in our models above, determines the distance at which observations become effectively uncorrelated (see the figure below for an illustration for the Matern covariance function with varying ranges). "
   ]
  },
  {
   "cell_type": "markdown",
   "id": "ab2a6e97-7707-4950-a43d-7790f58a9214",
   "metadata": {},
   "source": [
    "* Experiment with varying the range parameter in *m6* and plotting the Gaussian process smooth. What happens to the shape of the fitted spatial field when we reduce the range to a very short distance, such as 500m, or a very long distance, such as 10km? How ecologically realistic do they seem?"
   ]
  },
  {
   "cell_type": "markdown",
   "id": "dcd62529-abcd-4b08-8cd4-22ab39d23eb2",
   "metadata": {},
   "source": [
    "## Exercise 6"
   ]
  },
  {
   "cell_type": "markdown",
   "id": "cbed69da-f0dc-4b30-b5f7-a1ae43deee79",
   "metadata": {},
   "source": [
    "There are several other wildlife species included in the camera trap tagged images data frame. Try developing your own models and hypotheses based on these other species data and the available environmental and social covariates. "
   ]
  },
  {
   "cell_type": "markdown",
   "id": "8821860b-e85b-4c77-b358-dd1b989b7ffe",
   "metadata": {},
   "source": [
    "* How different are your findings for different species? Are there any consistent patterns?"
   ]
  }
 ],
 "metadata": {
  "kernelspec": {
   "display_name": "R",
   "language": "python",
   "name": "r"
  },
  "language_info": {
   "codemirror_mode": {
    "name": "ipython",
    "version": 3
   },
   "file_extension": ".py",
   "mimetype": "text/x-python",
   "name": "python",
   "nbconvert_exporter": "python",
   "pygments_lexer": "ipython3",
   "version": "3.8.10"
  }
 },
 "nbformat": 4,
 "nbformat_minor": 5
}
