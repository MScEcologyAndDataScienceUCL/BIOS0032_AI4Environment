{
 "cells": [
  {
   "cell_type": "markdown",
   "id": "ea3b8ac9-b0be-4a62-ac83-5e2f82d8fffb",
   "metadata": {},
   "source": [
    "<a href=\"\" target=\"_parent\"><img src=\"https://colab.research.google.com/assets/colab-badge.svg\" alt=\"Open in Colab\"/></a>"
   ]
  },
  {
   "cell_type": "markdown",
   "id": "414cfc19-7ceb-445c-8a01-1458c6b1eb8b",
   "metadata": {},
   "source": [
    "# Regression"
   ]
  },
  {
   "cell_type": "markdown",
   "id": "c3c1a369-5085-41c0-8a61-13f3f475b516",
   "metadata": {},
   "source": [
    "## Examples"
   ]
  },
  {
   "cell_type": "markdown",
   "id": "ee235862-66af-4264-a82a-e54aa1ab5654",
   "metadata": {},
   "source": [
    "Can we estimate the number of distinct species for a study site?"
   ]
  },
  {
   "cell_type": "markdown",
   "id": "21665ad9-5c92-43e4-b008-c47c17ed4360",
   "metadata": {},
   "source": [
    "![image of a natural environment](https://upload.wikimedia.org/wikipedia/commons/thumb/3/36/Hopetoun_falls.jpg/640px-Hopetoun_falls.jpg)\n",
    "\n",
    "(taken from wikipedia: [natural environment](https://en.wikipedia.org/wiki/Natural_environment))"
   ]
  },
  {
   "cell_type": "markdown",
   "id": "ca355355-6800-4807-a8f2-8a521113413e",
   "metadata": {},
   "source": [
    "Can we predict atmospheric $CO_2$ concentration levels in future years based on historical data?"
   ]
  },
  {
   "cell_type": "markdown",
   "id": "20ff3124-9d58-4dcc-9726-53121a29088c",
   "metadata": {},
   "source": [
    "![historic atmospheric co2 data](https://research.noaa.gov/Portals/0/EasyGalleryImages/1/864/co2_data_mlo.png)\n",
    "\n",
    "(taken from [NOAA research news](https://research.noaa.gov/article/ArtMID/587/ArticleID/2764/Coronavirus-response-barely-slows-rising-carbon-dioxide), Monday, June 7, 2021)"
   ]
  },
  {
   "cell_type": "markdown",
   "id": "5773472c-f11b-4fe8-9591-07ecb6b07848",
   "metadata": {},
   "source": [
    "## How to do regression?"
   ]
  },
  {
   "cell_type": "code",
   "execution_count": null,
   "id": "3dfc01d3-e333-4fb1-ab91-be6c73459141",
   "metadata": {},
   "outputs": [],
   "source": [
    "import matplotlib.pyplot as plt\n",
    "import numpy as np\n",
    "import seaborn as sns\n",
    "from sklearn.datasets import make_regression\n",
    "from sklearn.linear_model import LinearRegression"
   ]
  },
  {
   "cell_type": "code",
   "execution_count": null,
   "id": "4b57e64a-7edb-4b02-934e-34bacacb3a51",
   "metadata": {},
   "outputs": [],
   "source": [
    "features, target = make_regression(n_features=1, noise=10)"
   ]
  },
  {
   "cell_type": "code",
   "execution_count": null,
   "id": "88ceb98f-bc7b-4fea-b73e-9618c5836bf9",
   "metadata": {},
   "outputs": [],
   "source": [
    "ax = sns.scatterplot(x=features.flatten(), y=target)\n",
    "ax.set_xlabel(\"x = Features\")\n",
    "ax.set_ylabel(\"y = Target\");"
   ]
  },
  {
   "cell_type": "code",
   "execution_count": null,
   "id": "8053caf2-ca75-45e9-9916-4fd3aaa01663",
   "metadata": {},
   "outputs": [],
   "source": [
    "# Fit a linear model to the example data\n",
    "linear_model = LinearRegression().fit(features, target)\n",
    "\n",
    "# Plot the datapoints. x = features, y = target value\n",
    "ax = sns.scatterplot(x=features.flatten(), y=target)\n",
    "\n",
    "x_min = features.min()\n",
    "x_max = features.max()\n",
    "\n",
    "# Generate a prediction using the linear model on the example data\n",
    "pred = linear_model.predict([[x_min], [x_max]])\n",
    "y_min = pred.min()\n",
    "\n",
    "# Plot the predicted line\n",
    "ax.plot([x_min, x_max], pred, color=\"black\", linestyle=\"--\", linewidth=2)\n",
    "\n",
    "# Define a new test point at x = 2\n",
    "test_point = [2]\n",
    "\n",
    "# Use the linear model to predict its target value\n",
    "predicted_value = linear_model.predict([test_point])[0]\n",
    "\n",
    "# Draw a point at the test point with its predicted value\n",
    "plt.scatter(test_point, [predicted_value], color=\"red\")\n",
    "\n",
    "# Draw a vertical arrow from the x-axis at x = test_point to its predicted value\n",
    "ax.arrow(\n",
    "    2,\n",
    "    y_min,\n",
    "    0,\n",
    "    predicted_value - y_min,\n",
    "    color=\"red\",\n",
    "    head_width=0.1,\n",
    "    head_length=10,\n",
    "    length_includes_head=True,\n",
    ")\n",
    "\n",
    "# Draw a horizontal arrow from the point (x, y) = (test_point, predicted_value) to\n",
    "# the y-axis at y = predicted_value\n",
    "ax.arrow(\n",
    "    test_point[0],\n",
    "    predicted_value,\n",
    "    -test_point[0] + x_min,\n",
    "    0,\n",
    "    color=\"red\",\n",
    "    head_width=10,\n",
    "    head_length=0.1,\n",
    "    length_includes_head=True,\n",
    ")\n",
    "\n",
    "# Add the linear formula to the plot\n",
    "ax.text(-1, 50, \"y = mx + b\")\n",
    "\n",
    "# Add labels to axis\n",
    "ax.set_xlabel(\"x = Features\")\n",
    "ax.set_ylabel(\"y = Target\");"
   ]
  },
  {
   "cell_type": "markdown",
   "id": "a27f38e9-a36a-49a1-bc74-fff8439d4518",
   "metadata": {},
   "source": [
    "## But what about non-linear data?"
   ]
  },
  {
   "cell_type": "code",
   "execution_count": null,
   "id": "f11b6e09-413e-4c94-9e32-df2e169f457e",
   "metadata": {},
   "outputs": [],
   "source": [
    "features_a, target_a = make_regression(n_features=1, noise=10, random_state=100)\n",
    "\n",
    "features_b, target_b = make_regression(\n",
    "    n_features=1,\n",
    "    noise=10,\n",
    "    bias=100,\n",
    "    random_state=50,\n",
    ")\n",
    "\n",
    "# Make a dataset by joining two datasets\n",
    "features_c = np.r_[features_a, features_b - 3]\n",
    "target_c = np.r_[target_a, target_b]\n",
    "\n",
    "# Plot data points (x, y) = (features, target)\n",
    "sns.scatterplot(x=features_c.flatten(), y=target_c);"
   ]
  },
  {
   "cell_type": "code",
   "execution_count": null,
   "id": "3f8d01d9-c2c4-4ac2-b034-d99ecbc3b6e8",
   "metadata": {},
   "outputs": [],
   "source": [
    "# Fit a linear model to the example data\n",
    "linear_model = LinearRegression().fit(features_c, target_c)\n",
    "\n",
    "# Plot the datapoints. x = features, y = target value\n",
    "ax = sns.scatterplot(x=features_c.flatten(), y=target_c)\n",
    "\n",
    "x_min = features_c.min()\n",
    "x_max = features_c.max()\n",
    "\n",
    "# Generate a prediction using the linear model on the example data\n",
    "pred = linear_model.predict([[x_min], [x_max]])\n",
    "y_min = pred.min()\n",
    "\n",
    "# Plot the predicted line\n",
    "ax.plot([x_min, x_max], pred, color=\"black\", linestyle=\"--\", linewidth=2)\n",
    "\n",
    "# Add the linear formula to the plot\n",
    "ax.text(-3, 0, \"y = mx + b\")\n",
    "\n",
    "# Add labels to axis\n",
    "ax.set_xlabel(\"x = Features\")\n",
    "ax.set_ylabel(\"y = Target\");"
   ]
  },
  {
   "cell_type": "markdown",
   "id": "3587b3b8-c260-4e7d-982b-ace146e7bd2f",
   "metadata": {},
   "source": [
    "### Nearest neighbours again"
   ]
  },
  {
   "cell_type": "markdown",
   "id": "09408330-6d9b-4324-a963-dc3586ca26ff",
   "metadata": {},
   "source": [
    "### Multidimensional features"
   ]
  },
  {
   "cell_type": "markdown",
   "id": "468e8b5d-be6d-4bdd-b0fd-26fb22ce670d",
   "metadata": {},
   "source": [
    "## Are we doing good regression?"
   ]
  },
  {
   "cell_type": "markdown",
   "id": "7eeed9ec-5e21-469a-bd30-049efb4bcc8c",
   "metadata": {},
   "source": [
    "* Create train/validation split just like in classification!\n",
    "\n",
    "* Can’t use classification accuracy as measure\n",
    "\n",
    "* Instead, perhaps:\n",
    "    - Mean squared error\n",
    "    - Mean absolute error"
   ]
  },
  {
   "cell_type": "markdown",
   "id": "d7aad513-2962-4669-8337-2f1713a8ca09",
   "metadata": {},
   "source": [
    "# 4 Nonlinear regression\n",
    "\n",
    "Here we will compare a linear and nonlinear regressor (random forest) on a one dimensional regression task."
   ]
  },
  {
   "cell_type": "code",
   "execution_count": null,
   "id": "b87a6fe3-9b64-4086-8975-ca8bf8ac20b5",
   "metadata": {},
   "outputs": [],
   "source": [
    "# Load numeric computation library\n",
    "import numpy as np\n",
    "\n",
    "# Load the plotting library\n",
    "import seaborn as sns\n",
    "\n",
    "# Load the random forest regressor class\n",
    "from sklearn.ensemble import RandomForestRegressor\n",
    "\n",
    "# Load the linear model class\n",
    "from sklearn.linear_model import LinearRegression"
   ]
  },
  {
   "cell_type": "code",
   "execution_count": null,
   "id": "1ac4a7c2-d3ce-4cb0-8c41-856c7880eec9",
   "metadata": {},
   "outputs": [],
   "source": [
    "# create a dataset\n",
    "# here y_ideal is a nonlinear function of x\n",
    "x = np.arange(0, 100, 2.0)\n",
    "y_ideal = np.sin(x / 10) + (x / 50) ** 2"
   ]
  },
  {
   "cell_type": "code",
   "execution_count": null,
   "id": "e26f792d-77ab-4119-833a-b9b5ceef1aad",
   "metadata": {},
   "outputs": [],
   "source": [
    "# add some noise to our target variable y_ideal\n",
    "y = y_ideal + np.random.normal(size=len(y_ideal)) * 0.1"
   ]
  },
  {
   "cell_type": "code",
   "execution_count": null,
   "id": "c683bcbb-7461-409e-b7f3-cd6fe1342b05",
   "metadata": {},
   "outputs": [],
   "source": [
    "# fit linear model\n",
    "lin = LinearRegression()\n",
    "lin.fit(x.reshape(-1, 1), y)\n",
    "lin_train_fit = lin.predict(x.reshape(-1, 1))"
   ]
  },
  {
   "cell_type": "code",
   "execution_count": null,
   "id": "e36f68f6-859a-428b-83fc-dc23ff1a8e64",
   "metadata": {},
   "outputs": [],
   "source": [
    "# fit random forest\n",
    "rf = RandomForestRegressor()\n",
    "rf.fit(x.reshape(-1, 1), y)\n",
    "rf_train_fit = rf.predict(x.reshape(-1, 1))"
   ]
  },
  {
   "cell_type": "code",
   "execution_count": null,
   "id": "46070f9f-51f7-449c-9797-aea4e617a581",
   "metadata": {},
   "outputs": [],
   "source": [
    "# plot the fitted linear model and random forest\n",
    "sns.scatterplot(x=x, y=y, color=\"black\")\n",
    "sns.lineplot(x=x, y=lin_train_fit, color=\"red\", label=\"linear regression\")\n",
    "sns.lineplot(x=x, y=rf_train_fit, color=\"blue\", label=\"random forest\")"
   ]
  },
  {
   "cell_type": "code",
   "execution_count": null,
   "id": "8f994f79-39bb-46a0-85d1-344b951cbc08",
   "metadata": {},
   "outputs": [],
   "source": [
    "# genererate a random test point (sample between the min and max of x)\n",
    "rand_point = np.random.uniform(x.min(), x.max())"
   ]
  },
  {
   "cell_type": "code",
   "execution_count": null,
   "id": "91f23c76-cd78-4ee7-952b-3617dd946385",
   "metadata": {},
   "outputs": [],
   "source": [
    "# linear model\n",
    "# y = slope * x + intercept\n",
    "lm_predicted = lin.predict([[rand_point]])"
   ]
  },
  {
   "cell_type": "code",
   "execution_count": null,
   "id": "dac80411-67fe-49ec-92e7-565a3d620e5a",
   "metadata": {},
   "outputs": [],
   "source": [
    "# random forest\n",
    "rf_predicted = rf.predict([[rand_point]])"
   ]
  },
  {
   "cell_type": "code",
   "execution_count": null,
   "id": "5130221a-05ef-49b2-b2db-b47cde7fe822",
   "metadata": {},
   "outputs": [],
   "source": [
    "# plot single predictions\n",
    "sns.scatterplot(x=x, y=y, color=\"black\")\n",
    "sns.scatterplot(\n",
    "    x=[rand_point],\n",
    "    y=lm_predicted,\n",
    "    marker=\"x\",\n",
    "    color=\"red\",\n",
    "    label=\"linear regresion prediction\",\n",
    ")\n",
    "sns.scatterplot(\n",
    "    x=[rand_point],\n",
    "    y=rf_predicted,\n",
    "    marker=\"x\",\n",
    "    color=\"blue\",\n",
    "    label=\"random forest prediction\",\n",
    ")"
   ]
  }
 ],
 "metadata": {
  "kernelspec": {
   "display_name": "sci",
   "language": "python",
   "name": "sci"
  },
  "language_info": {
   "codemirror_mode": {
    "name": "ipython",
    "version": 3
   },
   "file_extension": ".py",
   "mimetype": "text/x-python",
   "name": "python",
   "nbconvert_exporter": "python",
   "pygments_lexer": "ipython3",
   "version": "3.8.10"
  }
 },
 "nbformat": 4,
 "nbformat_minor": 5
}
