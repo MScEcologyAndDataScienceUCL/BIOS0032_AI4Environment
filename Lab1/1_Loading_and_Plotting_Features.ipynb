{
 "cells": [
  {
   "cell_type": "markdown",
   "id": "89bde75f-3b38-439a-abda-5ee15e2e7cef",
   "metadata": {},
   "source": [
    "# Extracting and Plotting Features"
   ]
  },
  {
   "cell_type": "code",
   "execution_count": null,
   "id": "daffd160-3888-46f4-83fe-8cbcd770d15a",
   "metadata": {},
   "outputs": [],
   "source": [
    "# Importing library to read and manipulate tabular data\n",
    "import pandas as pd\n",
    "\n",
    "# Import library to generate plots\n",
    "import seaborn as sns\n",
    "\n",
    "from IPython.display import Image"
   ]
  },
  {
   "cell_type": "markdown",
   "id": "420353c4-d130-4a5f-9782-eca5409e2816",
   "metadata": {},
   "source": [
    "## A train/test scenario: Butterflies"
   ]
  },
  {
   "cell_type": "code",
   "execution_count": null,
   "id": "ccd74e34-e5f2-48e4-ae8b-9ce24803df86",
   "metadata": {},
   "outputs": [],
   "source": [
    "Image(\"images/butterflies_train_test.png\")"
   ]
  },
  {
   "cell_type": "markdown",
   "id": "6cc4fe29-a028-4a95-b5b6-37cad5ca96d8",
   "metadata": {},
   "source": [
    "## How to describe a butterfly?"
   ]
  },
  {
   "cell_type": "markdown",
   "id": "49262778-36d1-4394-8a7b-ebb49a861a62",
   "metadata": {},
   "source": [
    "- Colour?\n",
    "- Patterns?\n",
    "- Shape?\n",
    "- Size?\n",
    "- Location captured?\n",
    "- Number of... Spots? Antennae? Legs?"
   ]
  },
  {
   "cell_type": "code",
   "execution_count": null,
   "id": "93c09587-6f7c-43b3-88d8-37e4c330b520",
   "metadata": {},
   "outputs": [],
   "source": [
    "Image(\"images/butterfly_size_features.png\")"
   ]
  },
  {
   "cell_type": "markdown",
   "id": "9384f674-9d28-4f28-b3e9-86bc530e816d",
   "metadata": {},
   "source": [
    "Feature vector - Feature (descriptor):\n",
    "\n",
    "    x = (width, height)\n",
    "\n",
    "Target variable (label, class):\n",
    "\n",
    "    y = species name"
   ]
  },
  {
   "cell_type": "markdown",
   "id": "3f35546b-cd82-46af-b7be-f52b29cc037f",
   "metadata": {},
   "source": [
    "## Loading data"
   ]
  },
  {
   "cell_type": "code",
   "execution_count": null,
   "id": "9fc13850-ab68-46dd-8c79-5d3b3b5e549f",
   "metadata": {},
   "outputs": [],
   "source": [
    "# butterfly measurements are stored in a file with the comma separated values (csv) format. \n",
    "!head data/butterflies.csv"
   ]
  },
  {
   "cell_type": "code",
   "execution_count": null,
   "id": "7344cb3a-50d6-4a3e-a615-7630f4d6c6aa",
   "metadata": {},
   "outputs": [],
   "source": [
    "# load data from csv file into python\n",
    "butterflies = pd.read_csv(\"data/butterflies.csv\")"
   ]
  },
  {
   "cell_type": "code",
   "execution_count": null,
   "id": "33bbf298-c288-4af3-9739-d0fad3d16b91",
   "metadata": {},
   "outputs": [],
   "source": [
    "# column names\n",
    "print(butterflies.columns)"
   ]
  },
  {
   "cell_type": "code",
   "execution_count": null,
   "id": "af82944b-1f4d-4d21-aca2-0aa489724bcd",
   "metadata": {},
   "outputs": [],
   "source": [
    "# number of rows\n",
    "print(\"Number of datapoints: \", len(butterflies))"
   ]
  },
  {
   "cell_type": "code",
   "execution_count": null,
   "id": "2fd7b090-4a4b-4d8c-a19f-b082928f9a1b",
   "metadata": {},
   "outputs": [],
   "source": [
    "# first few examples\n",
    "print(butterflies.head())"
   ]
  },
  {
   "cell_type": "markdown",
   "id": "febb7d6c-068f-4600-9c8f-23fcbf626417",
   "metadata": {},
   "source": [
    "## Visualizing features"
   ]
  },
  {
   "cell_type": "code",
   "execution_count": null,
   "id": "938af280-a141-4fd7-a867-2ddbcd31a65c",
   "metadata": {},
   "outputs": [],
   "source": [
    "Image(\"images/visualizing_butterfly_features.png\")"
   ]
  },
  {
   "cell_type": "code",
   "execution_count": null,
   "id": "76fa1cc7-2627-4369-8e20-f3f8a2167d23",
   "metadata": {},
   "outputs": [],
   "source": [
    "# plot the first two dimensions (ie columns)\n",
    "butterflies.plot.scatter(x=\"Width\", y=\"Height\")"
   ]
  },
  {
   "cell_type": "code",
   "execution_count": null,
   "id": "e1f93497-3783-47dc-8981-c9a884d6e851",
   "metadata": {},
   "outputs": [],
   "source": [
    "# plot the species type in color\n",
    "sns.scatterplot(data=butterflies, x=\"Width\", y=\"Height\", hue=\"Species\")"
   ]
  },
  {
   "cell_type": "code",
   "execution_count": null,
   "id": "bfac1bf0-a1c1-4c36-82f7-5ac78fb442d1",
   "metadata": {},
   "outputs": [],
   "source": []
  }
 ],
 "metadata": {
  "kernelspec": {
   "display_name": "sci",
   "language": "python",
   "name": "sci"
  },
  "language_info": {
   "codemirror_mode": {
    "name": "ipython",
    "version": 3
   },
   "file_extension": ".py",
   "mimetype": "text/x-python",
   "name": "python",
   "nbconvert_exporter": "python",
   "pygments_lexer": "ipython3",
   "version": "3.8.10"
  }
 },
 "nbformat": 4,
 "nbformat_minor": 5
}
