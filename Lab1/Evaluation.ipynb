{
 "cells": [
  {
   "cell_type": "markdown",
   "id": "af2a28c1-3a2f-4e87-8a67-06589ece0d31",
   "metadata": {},
   "source": [
    "# Evaluating models"
   ]
  },
  {
   "cell_type": "markdown",
   "id": "edd7689e-8679-45bb-b40f-fce9ea2f1c7b",
   "metadata": {},
   "source": [
    "We'll go through some problematic behaviours of the nearest neighbor algorithm"
   ]
  },
  {
   "cell_type": "markdown",
   "id": "fe8ee3a6-70ff-4ce2-bdb5-cc961ce1adc6",
   "metadata": {},
   "source": [
    "## Problems with Nearest Neighbours"
   ]
  },
  {
   "cell_type": "code",
   "execution_count": null,
   "id": "d0fab55e-7ec4-485a-9651-33aca5b3aa5c",
   "metadata": {},
   "outputs": [],
   "source": [
    "# Import necessary libraries\n",
    "import matplotlib.pyplot as plt\n",
    "import numpy as np\n",
    "import pandas as pd\n",
    "import seaborn as sns\n",
    "from IPython import display"
   ]
  },
  {
   "cell_type": "code",
   "execution_count": null,
   "id": "c8016fbf-4d4d-45c1-8e35-bad1d901e7d8",
   "metadata": {},
   "outputs": [],
   "source": [
    "# load data the butterfly data from csv file\n",
    "butterflies = pd.read_csv(\"data/butterflies.csv\")"
   ]
  },
  {
   "cell_type": "code",
   "execution_count": null,
   "id": "955b033c-c8d2-4978-bc14-0f7aa77f9fa4",
   "metadata": {},
   "outputs": [],
   "source": [
    "# Implementation of calculation of distance between two points\n",
    "def compute_distance(point1, point2):\n",
    "    return np.sqrt((point1[0] - point2[0]) ** 2 + (point1[1] - point2[1]) ** 2)"
   ]
  },
  {
   "cell_type": "code",
   "execution_count": null,
   "id": "0f497639-4cb4-427c-9101-d19a975186bb",
   "metadata": {},
   "outputs": [],
   "source": [
    "def nearest_neighbour(test_point, train_dataset=butterflies):\n",
    "    # compute the distance from the test point to every example in the train dataset\n",
    "    distance = train_dataset.apply(\n",
    "        lambda row: compute_distance(test_point, [row[\"Width\"], row[\"Height\"]]),\n",
    "        axis=1,\n",
    "    )\n",
    "\n",
    "    # find the point in the dataset that is closest to the test point\n",
    "    closest_point = train_dataset.iloc[distance.argmin()]\n",
    "\n",
    "    # assume the test point is the same class as the datapoint it is closest to\n",
    "    predicted_species = closest_point[\"Species\"]\n",
    "\n",
    "    return predicted_species, closest_point"
   ]
  },
  {
   "cell_type": "markdown",
   "id": "59296adc-a068-4788-9ce3-626a9dfe605c",
   "metadata": {},
   "source": [
    "### Problems with Nearest Neighbours #1: Overconfidence"
   ]
  },
  {
   "cell_type": "code",
   "execution_count": null,
   "id": "ac1d2f8a-fa44-462e-9192-80cec47b6a98",
   "metadata": {},
   "outputs": [],
   "source": [
    "# New test point far from all other data points\n",
    "test_point = [10, 8]\n",
    "\n",
    "# Find the nearest point and predicted species\n",
    "predicted_species, closest_point = nearest_neighbour(test_point)\n",
    "\n",
    "plt.figure(figsize=(10, 6))\n",
    "\n",
    "# plot training dataset\n",
    "ax = sns.scatterplot(\n",
    "    data=butterflies,\n",
    "    x=\"Width\",\n",
    "    y=\"Height\",\n",
    "    hue=\"Species\",\n",
    ")\n",
    "\n",
    "# plot the test point as an 'x'\n",
    "sns.scatterplot(\n",
    "    x=[test_point[0]],\n",
    "    y=[test_point[1]],\n",
    "    marker=\"x\",\n",
    "    label=\"test point\",\n",
    "    color=\"black\",\n",
    ")\n",
    "\n",
    "# plot a ring around the nearest datapoint\n",
    "sns.scatterplot(\n",
    "    x=[closest_point[\"Width\"]],\n",
    "    y=[closest_point[\"Height\"]],\n",
    "    marker=\"o\",\n",
    "    label=\"nearest training point\",\n",
    "    edgecolor=\"black\",\n",
    "    facecolor=\"none\",\n",
    ");"
   ]
  },
  {
   "cell_type": "markdown",
   "id": "97601871-0339-4deb-bc91-afc9a5d6c7d8",
   "metadata": {},
   "source": [
    "The closest point in the training dataset is a _pyronia tithonus_ point, and points of other species are considerably further away, hence the model confidently predicts _pyronia tithonus_ for the test point.\n",
    "\n",
    "Is this a reasonable prediction?"
   ]
  },
  {
   "cell_type": "markdown",
   "id": "e28be0ff-649f-4fd3-b05e-6d9c9712dbc0",
   "metadata": {},
   "source": [
    "### Problems with Nearest Neighbours #2: Memory & speed"
   ]
  },
  {
   "cell_type": "code",
   "execution_count": null,
   "id": "7460677a-0c09-4a59-8cc3-bfe8c3806c60",
   "metadata": {},
   "outputs": [],
   "source": [
    "# Lets fake a dataset with variable size.\n",
    "def generate_synthetic_dataset(n_per_class=100, n_classes=3):\n",
    "    # There will be n_classes \"normal\" clusters with random means and variances\n",
    "    means = np.random.uniform(size=(n_classes, 2)) * np.array([8, 2])\n",
    "    variances = np.random.uniform(low=0.1, high=0.9, size=(n_classes, 2)) * np.array(\n",
    "        [2, 0.5]\n",
    "    )\n",
    "\n",
    "    # For each class, we sample N_per_class random points around the class mean.\n",
    "    points = [\n",
    "        (\n",
    "            means[i, 0] + variances[i, 0] * np.random.normal(), # x coordinate\n",
    "            means[i, 1] + variances[i, 1] * np.random.normal(), # y coordinate\n",
    "            str(i), # species\n",
    "        )\n",
    "        for j in range(n_per_class)\n",
    "        for i in range(n_classes)\n",
    "    ]\n",
    "\n",
    "    # Group into a pandas dataframe\n",
    "    synthetic_dataset = pd.DataFrame(points, columns=[\"Width\", \"Height\", \"Species\"])\n",
    "\n",
    "    return synthetic_dataset"
   ]
  },
  {
   "cell_type": "code",
   "execution_count": null,
   "id": "75093cce-e786-499c-9b5d-21e2837c471b",
   "metadata": {},
   "outputs": [],
   "source": [
    "# generate a synthetic dataset with 3 classes and 100 points per class\n",
    "synthetic_dataset = generate_synthetic_dataset(n_per_class=100, n_classes=3)\n",
    "\n",
    "# plot training dataset\n",
    "plt.figure(figsize=(10, 6))\n",
    "ax = sns.scatterplot(\n",
    "    data=synthetic_dataset,\n",
    "    x=\"Width\",\n",
    "    y=\"Height\",\n",
    "    hue=\"Species\",\n",
    ")"
   ]
  },
  {
   "cell_type": "markdown",
   "id": "9a499844-248b-43a3-a95a-34c065141d0c",
   "metadata": {},
   "source": [
    "The synthetic dataset has 300 points in total. Computing the nearest neighbor to a random point is relatively fast:"
   ]
  },
  {
   "cell_type": "code",
   "execution_count": null,
   "id": "dedae84f-2635-4155-977b-519ebe95a052",
   "metadata": {},
   "outputs": [],
   "source": [
    "%timeit nearest_neighbour(np.random.uniform(low=[0, 0], high=[8, 3], size=2), train_dataset=synthetic_dataset)"
   ]
  },
  {
   "cell_type": "markdown",
   "id": "b426dd1a-0ee2-41d2-97e5-5c134d9186b6",
   "metadata": {},
   "source": [
    "The number of distance computations and computation time grows with the amount of data points"
   ]
  },
  {
   "cell_type": "code",
   "execution_count": null,
   "id": "9786b783-b09e-4ce0-8f96-8a8a4fa49315",
   "metadata": {},
   "outputs": [],
   "source": [
    "synthetic_dataset_2 = generate_synthetic_dataset(n_per_class=1000, n_classes=3)"
   ]
  },
  {
   "cell_type": "code",
   "execution_count": null,
   "id": "cdeb825d-ddce-45ea-84b9-e79288f6a9df",
   "metadata": {},
   "outputs": [],
   "source": [
    "%timeit nearest_neighbour(np.random.uniform(low=[0, 0], high=[8, 3], size=2), train_dataset=synthetic_dataset_2)"
   ]
  },
  {
   "cell_type": "code",
   "execution_count": null,
   "id": "a73ab7da-e6d2-42f7-9875-88aec6e302e0",
   "metadata": {},
   "outputs": [],
   "source": [
    "synthetic_dataset_3 = generate_synthetic_dataset(n_per_class=1000, n_classes=30)"
   ]
  },
  {
   "cell_type": "code",
   "execution_count": null,
   "id": "8f2f2045-719a-4c2c-b1ee-b92af2edec31",
   "metadata": {},
   "outputs": [],
   "source": [
    "%timeit nearest_neighbour(np.random.uniform(low=[0, 0], high=[8, 3], size=2), train_dataset=synthetic_dataset_3)"
   ]
  },
  {
   "cell_type": "markdown",
   "id": "cba5a7ce-2376-47c4-a443-d6098ae046fd",
   "metadata": {},
   "source": [
    "What happens for a dataset with 1500 species and 1000 observations per species (not uncommon)?"
   ]
  },
  {
   "cell_type": "code",
   "execution_count": null,
   "id": "68554e7e-949c-4525-b9a1-08cbddb9a291",
   "metadata": {},
   "outputs": [],
   "source": [
    "synthetic_dataset_4 = generate_synthetic_dataset(n_per_class=1000, n_classes=1500)"
   ]
  },
  {
   "cell_type": "code",
   "execution_count": null,
   "id": "c532e058-1d10-4d6a-8e8e-f8946acc1f1d",
   "metadata": {},
   "outputs": [],
   "source": [
    "dataset_4_size_in_bytes = synthetic_dataset_4.memory_usage(index=False).sum()\n",
    "print(f\"Dataset 4 Size: {dataset_4_size_in_bytes / 1e6} MB\")"
   ]
  },
  {
   "cell_type": "code",
   "execution_count": null,
   "id": "b13f7887-4cdf-426f-9ade-bd631ac03cee",
   "metadata": {},
   "outputs": [],
   "source": [
    "%timeit nearest_neighbour(np.random.uniform(low=[0, 0], high=[8, 3], size=2), train_dataset=synthetic_dataset_4)"
   ]
  },
  {
   "cell_type": "markdown",
   "id": "928b8868-03cf-42e6-9c63-d0c9ca8d1643",
   "metadata": {},
   "source": [
    "* It does not require a large dataset to make the algorithm slow.\n",
    "\n",
    "* The whole training dataset needs to be \"memorized\" to make a single prediction."
   ]
  },
  {
   "cell_type": "markdown",
   "id": "b8ed6b06-4f26-476b-bfb4-dc36acb0bab1",
   "metadata": {},
   "source": [
    "### Problems with Nearest Neighbours #3: Noise"
   ]
  },
  {
   "cell_type": "code",
   "execution_count": null,
   "id": "5000c2b4-51d9-4e8a-8372-a89fe4cb9cf0",
   "metadata": {},
   "outputs": [],
   "source": [
    "from matplotlib.colors import ListedColormap\n",
    "from sklearn import neighbors\n",
    "from sklearn.preprocessing import LabelEncoder"
   ]
  },
  {
   "cell_type": "code",
   "execution_count": null,
   "id": "e3e7cb21-d3df-4563-998b-ca2301564e59",
   "metadata": {},
   "outputs": [],
   "source": [
    "def plot_nearest_neighbors_decision_boundary(dataset):\n",
    "    X = dataset[[\"Width\", \"Height\"]].values\n",
    "    y = dataset[\"Species\"].values\n",
    "\n",
    "    # We create an instance of Neighbours Classifier and fit the data.\n",
    "    clf = neighbors.KNeighborsClassifier(1)\n",
    "    enc = (\n",
    "        LabelEncoder()\n",
    "    )  # Note we use a label encoder to transform species names to whole numbers\n",
    "    clf.fit(X, enc.fit_transform(y))\n",
    "\n",
    "    # Create color maps\n",
    "    cmap_light = ListedColormap([\"orange\", \"cyan\", \"cornflowerblue\"])\n",
    "    cmap_bold = [\"darkorange\", \"c\", \"darkblue\"]\n",
    "\n",
    "    h = 0.1  # step size in the mesh\n",
    "\n",
    "    # Plot the decision boundary. For that, we will assign a color to each\n",
    "    # point in the mesh [x_min, x_max] x [y_min, y_max].\n",
    "    x_min, x_max = 0, 8\n",
    "    y_min, y_max = 0, 3\n",
    "    xx, yy = np.meshgrid(np.arange(x_min, x_max, h), np.arange(y_min, y_max, h))\n",
    "    Z = clf.predict(np.c_[xx.ravel(), yy.ravel()])\n",
    "\n",
    "    # Put the result into a color plot\n",
    "    Z = Z.reshape(xx.shape)\n",
    "    plt.figure(figsize=(8, 6))\n",
    "    plt.contourf(xx, yy, Z, cmap=cmap_light)\n",
    "\n",
    "    # Plot also the training points\n",
    "    sns.scatterplot(\n",
    "        data=dataset,\n",
    "        x=\"Width\",\n",
    "        y=\"Height\",\n",
    "        hue=\"Species\",\n",
    "        hue_order=enc.classes_,\n",
    "        palette=cmap_bold,\n",
    "        alpha=1.0,\n",
    "        edgecolor=\"black\",\n",
    "    );"
   ]
  },
  {
   "cell_type": "markdown",
   "id": "8bad9ce9-0457-400b-bb6f-5023875d0340",
   "metadata": {},
   "source": [
    "The decision boundary shows how different regions of the \"feature\" space would get classified by the nearest neighbor algorithm"
   ]
  },
  {
   "cell_type": "code",
   "execution_count": null,
   "id": "a5b7d84c-b998-4f8d-b4fa-0e15af578f7c",
   "metadata": {},
   "outputs": [],
   "source": [
    "plot_nearest_neighbors_decision_boundary(butterflies)"
   ]
  },
  {
   "cell_type": "markdown",
   "id": "b4a8740f-8d58-4ca9-93f4-432f82f43905",
   "metadata": {},
   "source": [
    "However, if a single mistake is introduced in the dataset the \"decision boundaries\" change a lot."
   ]
  },
  {
   "cell_type": "code",
   "execution_count": null,
   "id": "526c3ab4-aa87-4036-86a6-f4cda4a30e4d",
   "metadata": {},
   "outputs": [],
   "source": [
    "# Make a copy of the dataset\n",
    "butterflies_corrupted = butterflies.copy()\n",
    "\n",
    "# And change the label of a single entry\n",
    "butterflies_corrupted.loc[90, \"Species\"] = \"maniola jurtina\""
   ]
  },
  {
   "cell_type": "code",
   "execution_count": null,
   "id": "ac2a31b4-a375-4fa8-bef6-ed3583968be3",
   "metadata": {},
   "outputs": [],
   "source": [
    "plot_nearest_neighbors_decision_boundary(butterflies_corrupted)"
   ]
  },
  {
   "cell_type": "markdown",
   "id": "20e9c243-7fa8-40a5-928d-40febb2206de",
   "metadata": {},
   "source": [
    "* Is this model a good choice when you expect your data to be noisy?"
   ]
  },
  {
   "cell_type": "markdown",
   "id": "31cbb7b2-3619-477c-bbca-af40eb172af9",
   "metadata": {},
   "source": [
    "### Problems with Nearest Neighbours #4: Scaling"
   ]
  },
  {
   "cell_type": "markdown",
   "id": "e4191e98-65e2-4151-a716-2f652fd58b6f",
   "metadata": {},
   "source": [
    "Data points in the butterfly dataset use grams (g) and centimeter (cm) units for "
   ]
  },
  {
   "cell_type": "code",
   "execution_count": null,
   "id": "330262b3-eaed-4c11-b77d-a1937d7c7dc8",
   "metadata": {},
   "outputs": [],
   "source": [
    "test_point = [2.7, 0.7]\n",
    "\n",
    "predicted_species, closest_point = nearest_neighbour(test_point)\n",
    "\n",
    "plt.figure(figsize=(10, 6))\n",
    "\n",
    "# plot training dataset\n",
    "ax = sns.scatterplot(\n",
    "    data=butterflies,\n",
    "    x=\"Width\",\n",
    "    y=\"Height\",\n",
    "    hue=\"Species\",\n",
    ")\n",
    "\n",
    "# plot the test point as an 'x'\n",
    "sns.scatterplot(\n",
    "    x=[test_point[0]],\n",
    "    y=[test_point[1]],\n",
    "    marker=\"x\",\n",
    "    label=\"test point\",\n",
    "    color=\"black\",\n",
    ")\n",
    "\n",
    "# plot a ring around the nearest datapoint\n",
    "sns.scatterplot(\n",
    "    x=[closest_point[\"Width\"]],\n",
    "    y=[closest_point[\"Height\"]],\n",
    "    marker=\"o\",\n",
    "    label=\"nearest training point\",\n",
    "    edgecolor=\"black\",\n",
    "    facecolor=\"none\",\n",
    ")\n",
    "\n",
    "# add arrow to nearest neighbor\n",
    "ax.annotate(\n",
    "    text=f\"Nearest neighbor\",\n",
    "    xy=(closest_point[0] + 0.05, closest_point[1] - 0.02),\n",
    "    xytext=(closest_point[0] + 0.3, closest_point[1] - 0.3),\n",
    "    fontsize=12,\n",
    "    arrowprops={\n",
    "        \"width\": 0.5,\n",
    "        \"headwidth\": 4,\n",
    "        \"headlength\": 4,\n",
    "    },\n",
    ")\n",
    "\n",
    "ax.annotate(\n",
    "    text=f\"Test data\\nx = ({test_point[0]} cm, {test_point[1]} cm)\",\n",
    "    xy=(test_point[0] + 0.05, test_point[1] - 0.02),\n",
    "    xytext=(test_point[0] + 0.3, test_point[1] - 0.3),\n",
    "    fontsize=12,\n",
    "    arrowprops={\n",
    "        \"width\": 0.5,\n",
    "        \"headwidth\": 4,\n",
    "        \"headlength\": 4,\n",
    "    },\n",
    ");"
   ]
  },
  {
   "cell_type": "code",
   "execution_count": null,
   "id": "9ae74e2c-9233-4db0-9a85-4b0dfd50d7b1",
   "metadata": {},
   "outputs": [],
   "source": [
    "factor = 10\n",
    "\n",
    "scaled_dataset = butterflies.copy()\n",
    "scaled_dataset[\"Height\"] = scaled_dataset[\"Height\"] * factor\n",
    "\n",
    "test_point = [2.7, factor * 0.7]\n",
    "\n",
    "predicted_species, closest_point = nearest_neighbour(\n",
    "    test_point, train_dataset=scaled_dataset\n",
    ")\n",
    "\n",
    "plt.figure(figsize=(10, 6))\n",
    "\n",
    "# plot training dataset\n",
    "ax = sns.scatterplot(\n",
    "    data=scaled_dataset,\n",
    "    x=\"Width\",\n",
    "    y=\"Height\",\n",
    "    hue=\"Species\",\n",
    ")\n",
    "\n",
    "# plot the test point as an 'x'\n",
    "sns.scatterplot(\n",
    "    x=[test_point[0]],\n",
    "    y=[test_point[1]],\n",
    "    marker=\"x\",\n",
    "    label=\"test point\",\n",
    "    color=\"black\",\n",
    ")\n",
    "\n",
    "# plot a ring around the nearest datapoint\n",
    "sns.scatterplot(\n",
    "    x=[closest_point[\"Width\"]],\n",
    "    y=[closest_point[\"Height\"]],\n",
    "    marker=\"o\",\n",
    "    label=\"nearest training point\",\n",
    "    edgecolor=\"black\",\n",
    "    facecolor=\"none\",\n",
    ")\n",
    "\n",
    "# add arrow to nearest neighbor\n",
    "ax.annotate(\n",
    "    text=f\"Nearest neighbor\",\n",
    "    xy=(closest_point[0] + 0.05, closest_point[1] - 0.02),\n",
    "    xytext=(closest_point[0] + 0.3, closest_point[1] - 0.3),\n",
    "    fontsize=12,\n",
    "    arrowprops={\n",
    "        \"width\": 0.5,\n",
    "        \"headwidth\": 4,\n",
    "        \"headlength\": 4,\n",
    "    },\n",
    ")\n",
    "\n",
    "ax.annotate(\n",
    "    text=f\"Test data\\nx = ({test_point[0]} cm, {test_point[1]} mm)\",\n",
    "    xy=(test_point[0] + 0.05, test_point[1] - 0.02),\n",
    "    xytext=(test_point[0] + 0.3, test_point[1] - 0.3),\n",
    "    fontsize=12,\n",
    "    arrowprops={\n",
    "        \"width\": 0.5,\n",
    "        \"headwidth\": 4,\n",
    "        \"headlength\": 4,\n",
    "    },\n",
    ");"
   ]
  },
  {
   "cell_type": "markdown",
   "id": "86e39d75-960b-4bc5-b203-3e3fc64422ee",
   "metadata": {},
   "source": [
    "## Model evaluation"
   ]
  },
  {
   "cell_type": "markdown",
   "id": "3efcfc87-411f-49cb-b7eb-ce944dacc39f",
   "metadata": {},
   "source": [
    "How can we be confident about the predictions of a model, or evaluate its performance?"
   ]
  },
  {
   "cell_type": "markdown",
   "id": "bf0785f2-e39f-413a-a9cf-ba504aded5df",
   "metadata": {},
   "source": [
    "### Training / validation split"
   ]
  },
  {
   "cell_type": "code",
   "execution_count": null,
   "id": "5d9c50a9-9a12-4616-ac78-54dcc0b149c1",
   "metadata": {},
   "outputs": [],
   "source": [
    "plt.pie(\n",
    "    [15, 85],\n",
    "    labels=(\"train data\", \"validation data\"),\n",
    "    startangle=90,\n",
    ")\n",
    "plt.title(\"Full data split\");\n",
    "plt.legend();"
   ]
  },
  {
   "cell_type": "code",
   "execution_count": null,
   "id": "f6a2968a-69cb-4f4f-b996-23a806a353f3",
   "metadata": {},
   "outputs": [],
   "source": [
    "from sklearn.model_selection import train_test_split"
   ]
  },
  {
   "cell_type": "code",
   "execution_count": null,
   "id": "bba544f6-105b-4537-a526-adfbaca2fead",
   "metadata": {},
   "outputs": [],
   "source": [
    "# Use the train_test_split function to split the full dataset into disjoint subsets\n",
    "# for training and validation\n",
    "train_data, validation_data = train_test_split(butterflies, test_size=25)"
   ]
  },
  {
   "cell_type": "code",
   "execution_count": null,
   "id": "123c7c14-05d3-4d7d-a407-ecd0ef501720",
   "metadata": {},
   "outputs": [],
   "source": [
    "plt.figure(figsize=(10, 5))\n",
    "\n",
    "# Plot the train data on the left\n",
    "ax1 = plt.subplot(1, 2, 1)\n",
    "sns.scatterplot(\n",
    "    data=train_data,\n",
    "    x=\"Width\",\n",
    "    y=\"Height\",\n",
    "    hue=\"Species\",\n",
    "    ax=ax1,\n",
    ")\n",
    "ax1.set_title(\"Train data (75%)\")\n",
    "\n",
    "# Plot the validation data on the right\n",
    "ax2 = plt.subplot(1, 2, 2)\n",
    "sns.scatterplot(\n",
    "    data=validation_data,\n",
    "    x=\"Width\",\n",
    "    y=\"Height\",\n",
    "    hue=\"Species\",\n",
    "    ax=ax2,\n",
    ")\n",
    "ax2.set_title(\"Validation data (25%)\");"
   ]
  },
  {
   "cell_type": "markdown",
   "id": "715ea48c-f1bd-49c0-b95c-9966e11b2f62",
   "metadata": {},
   "source": [
    "### How good is your model?"
   ]
  },
  {
   "cell_type": "code",
   "execution_count": null,
   "id": "22af25bb-1d8f-4f1e-aeba-d3de95248cf4",
   "metadata": {},
   "outputs": [],
   "source": [
    "# The validation dataset contains the true species, or ground truth. We desire\n",
    "# to build models that accurately predict the ground truth.\n",
    "ground_truth = validation_data.Species\n",
    "ground_truth"
   ]
  },
  {
   "cell_type": "code",
   "execution_count": null,
   "id": "0566a8e8-4bd9-4c0a-9a44-91518dad5d4e",
   "metadata": {},
   "outputs": [],
   "source": [
    "from functools import partial\n",
    "\n",
    "# Use train dataset to create a nearest neighbour model\n",
    "model = partial(nearest_neighbour, train_dataset=train_data)"
   ]
  },
  {
   "cell_type": "code",
   "execution_count": null,
   "id": "8c2967f7-799d-4d77-820e-737366628192",
   "metadata": {},
   "outputs": [],
   "source": [
    "# Use the model to make inference on the validation data\n",
    "predictions = []\n",
    "for butterfly in validation_data.itertuples():\n",
    "    predicted_class, closest_point = model([butterfly.Width, butterfly.Height])\n",
    "    predictions.append({\n",
    "        \"Width\": butterfly.Width,\n",
    "        \"Height\": butterfly.Height,\n",
    "        \"ground_truth\": butterfly.Species,\n",
    "        \"prediction\": predicted_class,\n",
    "    })\n",
    "    \n",
    "# Make a dataframe from the results\n",
    "prediction_dataframe = pd.DataFrame(predictions)"
   ]
  },
  {
   "cell_type": "code",
   "execution_count": null,
   "id": "ae18f34a-c5f6-4900-8f75-84684a777513",
   "metadata": {},
   "outputs": [],
   "source": [
    "# Show the predictions dataframe\n",
    "prediction_dataframe"
   ]
  },
  {
   "cell_type": "code",
   "execution_count": null,
   "id": "52f8bf51-9736-4f22-8528-4d5eddf89a99",
   "metadata": {},
   "outputs": [],
   "source": [
    "# How many butterflies were classified correctly?\n",
    "is_correct = prediction_dataframe[\"ground_truth\"] == prediction_dataframe[\"prediction\"]\n",
    "\n",
    "is_correct.value_counts()"
   ]
  },
  {
   "cell_type": "code",
   "execution_count": null,
   "id": "7d89bd9e-a5e5-482a-9ca3-d965dff2a0b1",
   "metadata": {},
   "outputs": [],
   "source": [
    "accuracy = is_correct.mean()\n",
    "error = 1 - accuracy\n",
    "\n",
    "print(f\"Accuracy: {accuracy:.1%}\")\n",
    "print(f\"Error: {error:.1%}\")"
   ]
  },
  {
   "cell_type": "code",
   "execution_count": null,
   "id": "d17a177f-f111-4911-ade8-3df25b1c59d3",
   "metadata": {},
   "outputs": [],
   "source": []
  }
 ],
 "metadata": {
  "kernelspec": {
   "display_name": "sci",
   "language": "python",
   "name": "sci"
  },
  "language_info": {
   "codemirror_mode": {
    "name": "ipython",
    "version": 3
   },
   "file_extension": ".py",
   "mimetype": "text/x-python",
   "name": "python",
   "nbconvert_exporter": "python",
   "pygments_lexer": "ipython3",
   "version": "3.8.10"
  }
 },
 "nbformat": 4,
 "nbformat_minor": 5
}
