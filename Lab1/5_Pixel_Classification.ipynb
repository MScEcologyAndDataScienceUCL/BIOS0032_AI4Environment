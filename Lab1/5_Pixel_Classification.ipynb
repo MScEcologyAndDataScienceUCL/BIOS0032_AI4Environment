{
 "cells": [
  {
   "cell_type": "markdown",
   "id": "0a1b5819-184f-4548-b848-b2e8f6dd2d47",
   "metadata": {},
   "source": [
    "# 5 Pixel classification\n",
    "\n",
    "In this example we will classify the pixels in an image as being either 'land' or 'other'. We will use the pixel values as features to our classifier."
   ]
  },
  {
   "cell_type": "code",
   "execution_count": null,
   "id": "da09128c-ffef-4051-b5fd-40d461a61121",
   "metadata": {
    "id": "Ej3VADAX6kMx"
   },
   "outputs": [],
   "source": [
    "from IPython import display\n",
    "\n",
    "import pandas as pd\n",
    "\n",
    "import numpy as np\n",
    "\n",
    "# Import plotting libraries\n",
    "import matplotlib.pyplot as plt\n",
    "import seaborn as sns\n",
    "\n",
    "from sklearn.ensemble import RandomForestClassifier"
   ]
  },
  {
   "cell_type": "code",
   "execution_count": null,
   "id": "574337ae-92e1-4d37-8054-911551fdd426",
   "metadata": {
    "colab": {
     "base_uri": "https://localhost:8080/",
     "height": 261
    },
    "id": "R1DGrdfs6i24",
    "outputId": "81e9e2cf-fac5-4aca-988f-6378426f2622"
   },
   "outputs": [],
   "source": [
    "# Have a look at the image data/uk_ire_gray.png to see the input image.\n",
    "display.Image(\"data/uk_ire_gray.png\")"
   ]
  },
  {
   "cell_type": "code",
   "execution_count": null,
   "id": "4fe3f257-2ff5-4564-ba83-b57c43e43ff3",
   "metadata": {
    "colab": {
     "base_uri": "https://localhost:8080/"
    },
    "id": "aw4rNUB67mfJ",
    "outputId": "96b0c91c-6b3a-411d-ca65-4be4d9fafc0d"
   },
   "outputs": [],
   "source": [
    "# load the grayscale image we wish to classify from its csv file\n",
    "# 0 represents black and 255 represents white\n",
    "im = pd.read_csv(\"data/uk_ire_gray.csv\", header=None)\n",
    "height, width = im.shape\n",
    "print(\"Height in pixels:\", height)\n",
    "print(\"Width in pixels:\", width)"
   ]
  },
  {
   "cell_type": "code",
   "execution_count": null,
   "id": "0c164e50-8ecb-4125-a9a0-e52aa61b4960",
   "metadata": {
    "id": "RcLvk5gK79jE"
   },
   "outputs": [],
   "source": [
    "# create training data as DataFrame\n",
    "# pick some pixel locations in screen space that we know to be land and not land\n",
    "train_x = np.array([0.75, 0.30, 0.20, 0.95, 0.75]) * width\n",
    "train_y = np.array([0.20, 0.50, 0.70, 0.40, 0.95]) * height\n",
    "class_names = [\"land\", \"land\", \"other\", \"other\", \"other\"]"
   ]
  },
  {
   "cell_type": "code",
   "execution_count": null,
   "id": "666a7606-049c-4525-a5c1-a48090ba65ae",
   "metadata": {
    "colab": {
     "base_uri": "https://localhost:8080/",
     "height": 341
    },
    "id": "l95QM14Q9Fz8",
    "outputId": "dec32ce5-3a78-46ee-9703-9a85a79a7f5b"
   },
   "outputs": [],
   "source": [
    "# plot the input image\n",
    "plt.imshow(im, cmap=\"gray\")\n",
    "\n",
    "# plot the training datapoints as coloured circles\n",
    "sns.scatterplot(\n",
    "    x=train_x,\n",
    "    y=height - train_y,\n",
    "    hue=class_names,\n",
    ")"
   ]
  },
  {
   "cell_type": "code",
   "execution_count": null,
   "id": "e9dc7ae2-1d63-4ec7-9e3a-80435b38fa33",
   "metadata": {
    "id": "yidhAoXS_oT3"
   },
   "outputs": [],
   "source": [
    "# here we extract the pixel values at our training locations\n",
    "train_pixels = im.values[train_y.astype(int), train_x.astype(int)]"
   ]
  },
  {
   "cell_type": "code",
   "execution_count": null,
   "id": "49bbeac4-9212-43c8-9f9c-49740435bc39",
   "metadata": {
    "colab": {
     "base_uri": "https://localhost:8080/"
    },
    "id": "Ow0piwJrCs1U",
    "outputId": "0890d30a-9ef5-490d-c02d-9e2054920117"
   },
   "outputs": [],
   "source": [
    "# train classifer\n",
    "rf = RandomForestClassifier()\n",
    "rf.fit(train_pixels.reshape(-1, 1), class_names)"
   ]
  },
  {
   "cell_type": "code",
   "execution_count": null,
   "id": "fd50588c-bc05-44d8-bc66-740c80b195bb",
   "metadata": {
    "id": "Hpij9x5_Dsja"
   },
   "outputs": [],
   "source": [
    "# create test data - convert image into pixels\n",
    "test_data = im.values.reshape(-1, 1)"
   ]
  },
  {
   "cell_type": "code",
   "execution_count": null,
   "id": "2f03ba72-db52-44e6-bb0d-d6a3251184df",
   "metadata": {
    "id": "VJaQUDwNF5YD"
   },
   "outputs": [],
   "source": [
    "# perform classification on the whole image\n",
    "# here we will get the random forest to return a probability\n",
    "im_prediction = rf.predict_proba(test_data)"
   ]
  },
  {
   "cell_type": "code",
   "execution_count": null,
   "id": "79095d45-be8b-44b9-acc8-e21981821a19",
   "metadata": {
    "id": "gPwSVWbaDW-p"
   },
   "outputs": [],
   "source": [
    "# extract the prediction for land - the probability of the first class\n",
    "prob_land = im_prediction[:, 0]"
   ]
  },
  {
   "cell_type": "code",
   "execution_count": null,
   "id": "cf21f37c-363c-4192-8f64-97c34a6181b7",
   "metadata": {
    "id": "bhR44NyFGOSJ"
   },
   "outputs": [],
   "source": [
    "# convert the prediction from a vector to a matrix\n",
    "prob_land_matrix = prob_land.reshape(height, width)"
   ]
  },
  {
   "cell_type": "code",
   "execution_count": null,
   "id": "0c122b55-8763-439a-8dc5-99ca7ef3e3b1",
   "metadata": {
    "colab": {
     "base_uri": "https://localhost:8080/",
     "height": 254
    },
    "id": "2flxlH_7GYS1",
    "outputId": "709b0b4b-ec68-40d1-bdf0-df3eb0b824c7"
   },
   "outputs": [],
   "source": [
    "# plot the original image\n",
    "ax1 = plt.subplot(1, 2, 1)\n",
    "ax1.imshow(im, cmap=\"gray\")\n",
    "\n",
    "# plot the prediction as a new image on the right\n",
    "ax2 = plt.subplot(1, 2, 2)\n",
    "ax2.imshow(prob_land_matrix, cmap=\"gray\")"
   ]
  },
  {
   "cell_type": "code",
   "execution_count": null,
   "id": "85412af9-c614-43bc-996d-dc883a704592",
   "metadata": {
    "colab": {
     "base_uri": "https://localhost:8080/"
    },
    "id": "YbvbKbHOJoGR",
    "outputId": "392b3d60-c6f2-425a-d4fe-65b71c512518"
   },
   "outputs": [],
   "source": [
    "# compute the percentage of pixels that are predicted as land\n",
    "percent_land_cover = (prob_land_matrix > 0.5).mean() * 100\n",
    "print(\"Predicted percentage of land pixels (%):\", percent_land_cover)"
   ]
  }
 ],
 "metadata": {
  "kernelspec": {
   "display_name": "sci",
   "language": "python",
   "name": "sci"
  },
  "language_info": {
   "codemirror_mode": {
    "name": "ipython",
    "version": 3
   },
   "file_extension": ".py",
   "mimetype": "text/x-python",
   "name": "python",
   "nbconvert_exporter": "python",
   "pygments_lexer": "ipython3",
   "version": "3.8.10"
  }
 },
 "nbformat": 4,
 "nbformat_minor": 5
}
