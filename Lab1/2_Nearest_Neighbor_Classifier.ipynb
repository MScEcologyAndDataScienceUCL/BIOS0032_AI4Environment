{
 "cells": [
  {
   "cell_type": "markdown",
   "id": "622e4c8f-1627-4bad-981c-f7e8522645d5",
   "metadata": {},
   "source": [
    "# Nearest neighbour classifier\n",
    "\n",
    "Here we will find the nearest point in our dataset to a given test point."
   ]
  },
  {
   "cell_type": "code",
   "execution_count": 1,
   "id": "5916bd7b-01a4-495b-a5b3-98af548dbaf2",
   "metadata": {},
   "outputs": [],
   "source": [
    "import numpy as np\n",
    "import pandas as pd\n",
    "import seaborn as sns"
   ]
  },
  {
   "cell_type": "code",
   "execution_count": 2,
   "id": "267a9829-5d37-4eb5-af6c-363a70cdf043",
   "metadata": {},
   "outputs": [],
   "source": [
    "# load data from csv file\n",
    "butterflies = pd.read_csv(\"data/butterflies.csv\")"
   ]
  },
  {
   "cell_type": "code",
   "execution_count": 3,
   "id": "96c4e053-c9b6-4ee5-8647-271844b59d0f",
   "metadata": {
    "id": "o7ZGYOFL35LV"
   },
   "outputs": [],
   "source": [
    "# create new test point\n",
    "test_point = [3.2, 1.3]"
   ]
  },
  {
   "cell_type": "code",
   "execution_count": 4,
   "id": "f21efb41-cb43-447c-941a-3bb9b7bce25d",
   "metadata": {
    "colab": {
     "base_uri": "https://localhost:8080/"
    },
    "id": "BkKcvCPu3930",
    "outputId": "9b4c19a0-c5ab-4c9f-8868-5627789ee9ed"
   },
   "outputs": [
    {
     "name": "stdout",
     "output_type": "stream",
     "text": [
      "Test Width:  3.2\n",
      "Test Height:  1.3\n"
     ]
    }
   ],
   "source": [
    "# print test point values\n",
    "print(\"Test Width: \", test_point[0])\n",
    "print(\"Test Height: \", test_point[1])"
   ]
  },
  {
   "cell_type": "code",
   "execution_count": 5,
   "id": "00700e7b-ee95-48f5-9244-4c4780e266cc",
   "metadata": {
    "colab": {
     "base_uri": "https://localhost:8080/"
    },
    "id": "SVpSV94V4G8F",
    "outputId": "04efdcf4-9ad0-4cd6-84e4-32b9c0d52fe7"
   },
   "outputs": [
    {
     "data": {
      "text/plain": [
       "0      2.109502\n",
       "1      2.195450\n",
       "2      2.024846\n",
       "3      1.749286\n",
       "4      2.059126\n",
       "         ...   \n",
       "97     2.236068\n",
       "98     1.897367\n",
       "99     2.118962\n",
       "100    2.416609\n",
       "101    1.964688\n",
       "Length: 102, dtype: float64"
      ]
     },
     "execution_count": 5,
     "metadata": {},
     "output_type": "execute_result"
    }
   ],
   "source": [
    "# compute the distance from the test point to every example in the dataset\n",
    "\n",
    "def compute_distance(point1, point2):\n",
    "  return np.sqrt((point1[0] - point2[0])**2 + (point1[1] - point2[1])**2)\n",
    "\n",
    "\n",
    "distance = butterflies.apply(\n",
    "    lambda row: compute_distance(test_point, [row[\"Width\"], row[\"Height\"]]),\n",
    "    axis=1,\n",
    ")\n",
    "\n",
    "distance"
   ]
  },
  {
   "cell_type": "code",
   "execution_count": 6,
   "id": "eef7c269-fa6d-49d4-86d5-8a5c63276744",
   "metadata": {
    "colab": {
     "base_uri": "https://localhost:8080/"
    },
    "id": "QxvGkVqa4rgA",
    "outputId": "aede0aa9-781f-4ccc-871d-4628bb6c8c1a"
   },
   "outputs": [
    {
     "name": "stdout",
     "output_type": "stream",
     "text": [
      "Distance to closest point:  0.28284271247461906\n"
     ]
    }
   ],
   "source": [
    "# find the point in the dataset that is closes to the test point and record its distance\n",
    "closest_point = butterflies.iloc[distance.argmin()]\n",
    "distance_to_closest = distance.min()\n",
    "print(\"Distance to closest point: \", distance_to_closest)"
   ]
  },
  {
   "cell_type": "code",
   "execution_count": 7,
   "id": "a992f0a4-5e50-4a7d-954d-dc0d4f16e3fd",
   "metadata": {
    "colab": {
     "base_uri": "https://localhost:8080/"
    },
    "id": "YD1L-2Fq5GKo",
    "outputId": "366ccc7d-85de-4bb4-f6c5-d7d7e8aa8828"
   },
   "outputs": [
    {
     "name": "stdout",
     "output_type": "stream",
     "text": [
      "Predicted species:  maniola jurtina\n"
     ]
    }
   ],
   "source": [
    "# assume the test point is the same class as the datapoint it is closest to\n",
    "predicted_species = closest_point[\"Species\"]\n",
    "print(\"Predicted species: \", predicted_species)"
   ]
  },
  {
   "cell_type": "code",
   "execution_count": 8,
   "id": "513df7c5-a1c3-4f5c-816b-79397ee9502b",
   "metadata": {
    "colab": {
     "base_uri": "https://localhost:8080/",
     "height": 296
    },
    "id": "TDy08zst6OF3",
    "outputId": "b4287d56-6d7d-4cf2-8de0-6b8e52fcaef6"
   },
   "outputs": [
    {
     "data": {
      "text/plain": [
       "<AxesSubplot:xlabel='Width', ylabel='Height'>"
      ]
     },
     "execution_count": 8,
     "metadata": {},
     "output_type": "execute_result"
    },
    {
     "data": {
      "image/png": "[encoded data removed]",
      "text/plain": [
       "<Figure size 432x288 with 1 Axes>"
      ]
     },
     "metadata": {
      "needs_background": "light"
     },
     "output_type": "display_data"
    }
   ],
   "source": [
    "# plot training dataset\n",
    "sns.scatterplot(\n",
    "    data=butterflies,\n",
    "    x=\"Width\",\n",
    "    y=\"Height\",\n",
    "    hue=\"Species\",\n",
    ")\n",
    "\n",
    "# plot the test point as an 'x'\n",
    "sns.scatterplot(\n",
    "    x=[test_point[0]],\n",
    "    y=[test_point[1]],\n",
    "    marker=\"x\", \n",
    "    label=\"test point\",\n",
    "    color=\"black\",\n",
    ")\n",
    "\n",
    "# plot a ring around the nearest datapoint\n",
    "sns.scatterplot(\n",
    "    x=[closest_point[\"Width\"]],\n",
    "    y=[closest_point[\"Height\"]],\n",
    "    marker=\"o\",\n",
    "    label=\"nearest training point\",\n",
    "    edgecolor=\"black\",\n",
    "    facecolor=\"none\",\n",
    ")"
   ]
  },
  {
   "cell_type": "code",
   "execution_count": null,
   "id": "707455bd-3cd7-4cc3-8227-caf52249ba5e",
   "metadata": {},
   "outputs": [],
   "source": []
  }
 ],
 "metadata": {
  "kernelspec": {
   "display_name": "sci",
   "language": "python",
   "name": "sci"
  },
  "language_info": {
   "codemirror_mode": {
    "name": "ipython",
    "version": 3
   },
   "file_extension": ".py",
   "mimetype": "text/x-python",
   "name": "python",
   "nbconvert_exporter": "python",
   "pygments_lexer": "ipython3",
   "version": "3.8.10"
  }
 },
 "nbformat": 4,
 "nbformat_minor": 5
}
