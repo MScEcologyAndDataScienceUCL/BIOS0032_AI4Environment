{
 "cells": [
  {
   "cell_type": "markdown",
   "id": "622e4c8f-1627-4bad-981c-f7e8522645d5",
   "metadata": {},
   "source": [
    "# Nearest neighbour classifier"
   ]
  },
  {
   "cell_type": "code",
   "execution_count": null,
   "id": "5916bd7b-01a4-495b-a5b3-98af548dbaf2",
   "metadata": {},
   "outputs": [],
   "source": [
    "# Import necessary libraries\n",
    "import matplotlib.pyplot as plt\n",
    "import numpy as np\n",
    "import pandas as pd\n",
    "import seaborn as sns\n",
    "from IPython import display"
   ]
  },
  {
   "cell_type": "code",
   "execution_count": null,
   "id": "267a9829-5d37-4eb5-af6c-363a70cdf043",
   "metadata": {},
   "outputs": [],
   "source": [
    "# load data the butterfly data from csv file\n",
    "butterflies = pd.read_csv(\"data/butterflies.csv\")"
   ]
  },
  {
   "cell_type": "markdown",
   "id": "ca2a540d-5ac3-4f9c-96e7-151e8221f0e4",
   "metadata": {},
   "source": [
    "Here is our 2D dataset, with 3 different classes"
   ]
  },
  {
   "cell_type": "code",
   "execution_count": null,
   "id": "f558be79-0cb3-4cf0-bf35-4409ce000886",
   "metadata": {},
   "outputs": [],
   "source": [
    "# plot the species type in color\n",
    "plt.figure(figsize=(10, 6))\n",
    "sns.scatterplot(data=butterflies, x=\"Width\", y=\"Height\", hue=\"Species\")"
   ]
  },
  {
   "cell_type": "markdown",
   "id": "71284f9e-dc7e-4b2a-8f46-6d250acc3750",
   "metadata": {},
   "source": [
    "Each datapoint has some <span style=\"color: deepskyblue;\">features</span> and a <span style=\"color: coral;\">class label</span>"
   ]
  },
  {
   "cell_type": "code",
   "execution_count": null,
   "id": "2a9ea590-bba4-461c-97fb-69bba743ff6d",
   "metadata": {},
   "outputs": [],
   "source": [
    "plt.figure(figsize=(10, 6))\n",
    "\n",
    "# plot the species type in color\n",
    "ax = sns.scatterplot(\n",
    "    data=butterflies,\n",
    "    x=\"Width\",\n",
    "    y=\"Height\",\n",
    "    hue=\"Species\",\n",
    "    style=\"Species\",\n",
    "    s=50,\n",
    ")\n",
    "\n",
    "# select a single data point\n",
    "sample = butterflies.iloc[40]\n",
    "\n",
    "ax.annotate(\n",
    "    text=\"(Width, Height), (Species)\",\n",
    "    xy=(sample.Width + 0.1, sample.Height - 0.05),\n",
    "    xytext=(sample.Width + 0.5, sample.Height - 0.3),\n",
    "    fontsize=12,\n",
    "    arrowprops={\n",
    "        \"width\": 1,\n",
    "        \"headwidth\": 6,\n",
    "        \"headlength\": 6,\n",
    "        \"edgecolor\": \"black\",\n",
    "        \"facecolor\": \"black\",\n",
    "    },\n",
    ");"
   ]
  },
  {
   "cell_type": "markdown",
   "id": "d9347401-4e0d-473d-8ff7-afba3b3ebdfb",
   "metadata": {},
   "source": [
    "Given a <span style=\"color: deepskyblue;\">new</span> datapoint, how can we determine its <span style=\"color: coral\">class</span>?"
   ]
  },
  {
   "cell_type": "code",
   "execution_count": null,
   "id": "913444a6-cef1-4392-a33a-99ee895b1ef3",
   "metadata": {},
   "outputs": [],
   "source": [
    "# create new test point\n",
    "test_point = [3.8, 1.6]"
   ]
  },
  {
   "cell_type": "code",
   "execution_count": null,
   "id": "16bc2c90-c6fc-4e78-825e-e315cf27f82e",
   "metadata": {},
   "outputs": [],
   "source": [
    "# print test point values\n",
    "print(\"Test Width: \", test_point[0])\n",
    "print(\"Test Height: \", test_point[1])"
   ]
  },
  {
   "cell_type": "code",
   "execution_count": null,
   "id": "504956d6-c080-47bb-8515-ab970a293320",
   "metadata": {},
   "outputs": [],
   "source": [
    "plt.figure(figsize=(10, 6))\n",
    "\n",
    "# plot the species type in color\n",
    "ax = sns.scatterplot(\n",
    "    data=butterflies,\n",
    "    x=\"Width\",\n",
    "    y=\"Height\",\n",
    "    hue=\"Species\",\n",
    "    style=\"Species\",\n",
    "    s=50,\n",
    ")\n",
    "\n",
    "# plot the new test point\n",
    "ax.scatter(x=[test_point[0]], y=[test_point[1]], color=\"deepskyblue\")\n",
    "\n",
    "# add \"new\" text and arrow pointing at new test point\n",
    "ax.annotate(\n",
    "    text=\"New\",\n",
    "    xy=(test_point[0] - 0.05, test_point[1] + 0.02),\n",
    "    xytext=(test_point[0] - 1, test_point[1] + 0.3),\n",
    "    fontsize=12,\n",
    "    color=\"deepskyblue\",\n",
    "    arrowprops={\n",
    "        \"width\": 1,\n",
    "        \"headwidth\": 6,\n",
    "        \"headlength\": 6,\n",
    "        \"edgecolor\": \"deepskyblue\",\n",
    "        \"facecolor\": \"deepskyblue\",\n",
    "    },\n",
    ");"
   ]
  },
  {
   "cell_type": "markdown",
   "id": "a730a1e4-19ac-451e-9025-c9635059f5fc",
   "metadata": {},
   "source": [
    "Here we will find the nearest point in our dataset to a given test point."
   ]
  },
  {
   "cell_type": "code",
   "execution_count": null,
   "id": "ec9d362f-e4dd-4cea-8ad9-e68ff55d1934",
   "metadata": {},
   "outputs": [],
   "source": [
    "plt.figure(figsize=(10, 6))\n",
    "\n",
    "\n",
    "# plot the species type in color\n",
    "ax = sns.scatterplot(\n",
    "    data=butterflies,\n",
    "    x=\"Width\",\n",
    "    y=\"Height\",\n",
    "    hue=\"Species\",\n",
    "    style=\"Species\",\n",
    "    s=50,\n",
    ")\n",
    "\n",
    "# plot a line from the test point to each point in the dataset\n",
    "for butterfly in butterflies.itertuples():\n",
    "    ax.plot(\n",
    "        [test_point[0], butterfly.Width],\n",
    "        [test_point[1], butterfly.Height],\n",
    "        color=\"gray\",\n",
    "        linewidth=1,\n",
    "        alpha=0.5,\n",
    "        zorder=3,\n",
    "    )\n",
    "\n",
    "# plot the test point\n",
    "ax.scatter(x=[test_point[0]], y=[test_point[1]], color=\"deepskyblue\", s=100, zorder=1)"
   ]
  },
  {
   "cell_type": "markdown",
   "id": "df896426-4a8b-4204-862c-124af7db6807",
   "metadata": {
    "id": "o7ZGYOFL35LV"
   },
   "source": [
    "Computing \"similarity\" between two points"
   ]
  },
  {
   "cell_type": "code",
   "execution_count": null,
   "id": "c1d15dfe-621c-4d1c-8289-3115b7c68ed3",
   "metadata": {},
   "outputs": [],
   "source": [
    "display.Image(\"images/euclidean_distance.png\")"
   ]
  },
  {
   "cell_type": "code",
   "execution_count": null,
   "id": "2c91294b-b753-49d0-9f39-e6aa66564b5a",
   "metadata": {
    "colab": {
     "base_uri": "https://localhost:8080/"
    },
    "id": "SVpSV94V4G8F",
    "outputId": "04efdcf4-9ad0-4cd6-84e4-32b9c0d52fe7"
   },
   "outputs": [],
   "source": [
    "# Implementation of distance between two points\n",
    "def compute_distance(point1, point2):\n",
    "    return np.sqrt((point1[0] - point2[0]) ** 2 + (point1[1] - point2[1]) ** 2)"
   ]
  },
  {
   "cell_type": "code",
   "execution_count": null,
   "id": "ab00757d-99d3-422a-a8a6-484250adcf7a",
   "metadata": {
    "colab": {
     "base_uri": "https://localhost:8080/"
    },
    "id": "SVpSV94V4G8F",
    "outputId": "04efdcf4-9ad0-4cd6-84e4-32b9c0d52fe7"
   },
   "outputs": [],
   "source": [
    "# compute the distance from the test point to every example in the dataset\n",
    "distance = butterflies.apply(\n",
    "    lambda row: compute_distance(test_point, [row[\"Width\"], row[\"Height\"]]),\n",
    "    axis=1,\n",
    ")\n",
    "\n",
    "distance"
   ]
  },
  {
   "cell_type": "code",
   "execution_count": null,
   "id": "eef7c269-fa6d-49d4-86d5-8a5c63276744",
   "metadata": {
    "colab": {
     "base_uri": "https://localhost:8080/"
    },
    "id": "QxvGkVqa4rgA",
    "outputId": "aede0aa9-781f-4ccc-871d-4628bb6c8c1a"
   },
   "outputs": [],
   "source": [
    "# find the point in the dataset that is closes to the test point and record its distance\n",
    "closest_point = butterflies.iloc[distance.argmin()]\n",
    "distance_to_closest = distance.min()\n",
    "print(\"Distance to closest point: \", distance_to_closest)"
   ]
  },
  {
   "cell_type": "code",
   "execution_count": null,
   "id": "3c4af4c7-6dd4-4fcb-8cb7-894f6fa21a5d",
   "metadata": {},
   "outputs": [],
   "source": [
    "# plot training dataset\n",
    "sns.scatterplot(\n",
    "    data=butterflies,\n",
    "    x=\"Width\",\n",
    "    y=\"Height\",\n",
    "    hue=\"Species\",\n",
    ")\n",
    "\n",
    "# plot the test point as an 'x'\n",
    "sns.scatterplot(\n",
    "    x=[test_point[0]],\n",
    "    y=[test_point[1]],\n",
    "    marker=\"x\",\n",
    "    label=\"test point\",\n",
    "    color=\"black\",\n",
    ")\n",
    "\n",
    "# plot a ring around the nearest datapoint\n",
    "sns.scatterplot(\n",
    "    x=[closest_point[\"Width\"]],\n",
    "    y=[closest_point[\"Height\"]],\n",
    "    marker=\"o\",\n",
    "    label=\"nearest training point\",\n",
    "    edgecolor=\"black\",\n",
    "    facecolor=\"none\",\n",
    ")"
   ]
  },
  {
   "cell_type": "code",
   "execution_count": null,
   "id": "a992f0a4-5e50-4a7d-954d-dc0d4f16e3fd",
   "metadata": {
    "colab": {
     "base_uri": "https://localhost:8080/"
    },
    "id": "YD1L-2Fq5GKo",
    "outputId": "366ccc7d-85de-4bb4-f6c5-d7d7e8aa8828"
   },
   "outputs": [],
   "source": [
    "# assume the test point is the same class as the datapoint it is closest to\n",
    "predicted_species = closest_point[\"Species\"]\n",
    "print(\"Predicted species: \", predicted_species)"
   ]
  },
  {
   "cell_type": "markdown",
   "id": "4038821f-37b7-4b49-aa58-1a82b7d21533",
   "metadata": {},
   "source": [
    "# Nearest Neighbour Algorithm\n",
    "\n",
    "1. Given a test point x\n",
    "2. Compute the distance between x and every other datapoint\n",
    "3. The class of x is set as the same as the closest datapoint"
   ]
  },
  {
   "cell_type": "markdown",
   "id": "6e03efdc-c397-4992-88c5-f0d0243ca736",
   "metadata": {},
   "source": [
    "Let's implement the algorithm as a Python function"
   ]
  },
  {
   "cell_type": "code",
   "execution_count": null,
   "id": "d243cf6b-0cbc-4015-973b-5d688ec0f24b",
   "metadata": {},
   "outputs": [],
   "source": [
    "def nearest_neighbour(test_point):\n",
    "    # compute the distance from the test point to every example in the dataset\n",
    "    distance = butterflies.apply(\n",
    "        lambda row: compute_distance(test_point, [row[\"Width\"], row[\"Height\"]]),\n",
    "        axis=1,\n",
    "    )\n",
    "\n",
    "    # find the point in the dataset that is closest to the test point\n",
    "    closest_point = butterflies.iloc[distance.argmin()]\n",
    "\n",
    "    # assume the test point is the same class as the datapoint it is closest to\n",
    "    predicted_species = closest_point[\"Species\"]\n",
    "\n",
    "    return predicted_species, closest_point"
   ]
  },
  {
   "cell_type": "markdown",
   "id": "3f3516f1-53bd-47f0-8e4c-4d5e97fcf2fe",
   "metadata": {},
   "source": [
    "Let's try a different point"
   ]
  },
  {
   "cell_type": "code",
   "execution_count": null,
   "id": "3ac97f70-35b6-488e-a9dd-0c40f50237a3",
   "metadata": {},
   "outputs": [],
   "source": [
    "test_point = [2.1, 0.7]\n",
    "predicted_species, closest_point = nearest_neighbour(test_point)\n",
    "\n",
    "# plot training dataset\n",
    "ax = sns.scatterplot(\n",
    "    data=butterflies,\n",
    "    x=\"Width\",\n",
    "    y=\"Height\",\n",
    "    hue=\"Species\",\n",
    ")\n",
    "\n",
    "# plot the test point as an 'x'\n",
    "sns.scatterplot(\n",
    "    x=[test_point[0]],\n",
    "    y=[test_point[1]],\n",
    "    marker=\"x\",\n",
    "    label=\"test point\",\n",
    "    color=\"black\",\n",
    ")\n",
    "\n",
    "# plot a ring around the nearest datapoint\n",
    "sns.scatterplot(\n",
    "    x=[closest_point[\"Width\"]],\n",
    "    y=[closest_point[\"Height\"]],\n",
    "    marker=\"o\",\n",
    "    label=\"nearest training point\",\n",
    "    edgecolor=\"black\",\n",
    "    facecolor=\"none\",\n",
    ")"
   ]
  },
  {
   "cell_type": "markdown",
   "id": "47005611-99f6-45c5-9cf2-c697c0587ba6",
   "metadata": {},
   "source": [
    "For every point in the space we colour it with the class of the datapoint it is closest to."
   ]
  },
  {
   "cell_type": "code",
   "execution_count": null,
   "id": "b7a01656-707e-4e9d-96d6-fa765f54de75",
   "metadata": {},
   "outputs": [],
   "source": [
    "display.Image(\"images/nn_classification.png\")"
   ]
  },
  {
   "cell_type": "code",
   "execution_count": null,
   "id": "48922138-f20b-4efa-b65d-d5c43ef0215d",
   "metadata": {},
   "outputs": [],
   "source": []
  }
 ],
 "metadata": {
  "kernelspec": {
   "display_name": "sci",
   "language": "python",
   "name": "sci"
  },
  "language_info": {
   "codemirror_mode": {
    "name": "ipython",
    "version": 3
   },
   "file_extension": ".py",
   "mimetype": "text/x-python",
   "name": "python",
   "nbconvert_exporter": "python",
   "pygments_lexer": "ipython3",
   "version": "3.8.10"
  }
 },
 "nbformat": 4,
 "nbformat_minor": 5
}
