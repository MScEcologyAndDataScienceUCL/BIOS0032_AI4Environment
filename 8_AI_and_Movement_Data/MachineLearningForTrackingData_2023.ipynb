{
 "cells": [
  {
   "cell_type": "markdown",
   "metadata": {},
   "source": [
    "<a href=\"https://colab.research.google.com/github/MScEcologyAndDataScienceUCL/BIOS0032_AI4Environment/blob/main/8_AI_and_Movement_Data/MachineLearningForTrackingData_2023.ipynb\" target=\"_parent\"><img src=\"https://colab.research.google.com/assets/colab-badge.svg\" alt=\"Open In Colab\"/></a>"
   ]
  },
  {
   "cell_type": "markdown",
   "metadata": {
    "id": "CHp2txnDaAqm"
   },
   "source": [
    "# Machine Learning for tracking data\n",
    "\n",
    "What we will learn\n",
    "\n",
    "In this weeks practical we will explore how machine learning algorithms can be applied to data collected from tracking devices (GPS). We will learn to:\n",
    "\n",
    "* Visualise tracking data\n",
    "* Extract and visualise some useful features/metrics from tracking data (speed, tortuosity)\n",
    "* Fit an unsupervised mixture model (kmeans, GMM) to those data\n",
    "* Visualise the resulting classification on the tracking data\n",
    "\n",
    "If time permits we may also explore: \n",
    "\n",
    "* Training a Hidden Markov Model to classify tracking data\n",
    "* Using a neural network to classifying tracking data\n",
    "\n"
   ]
  },
  {
   "cell_type": "markdown",
   "metadata": {
    "id": "yCN6oxBFL9yp"
   },
   "source": [
    "We're working in `R` so install the needed version of rpy2"
   ]
  },
  {
   "cell_type": "code",
   "execution_count": null,
   "metadata": {
    "colab": {
     "base_uri": "https://localhost:8080/"
    },
    "id": "lKYT0JABcG3d",
    "outputId": "4248e0a0-a38e-4dd3-b31b-118855645e14"
   },
   "outputs": [],
   "source": [
    "## Setup\n",
    "\n",
    "!pip install rpy2==3.5.1"
   ]
  },
  {
   "cell_type": "markdown",
   "metadata": {
    "id": "MHra9bkeMDlm"
   },
   "source": [
    "Load the extension..."
   ]
  },
  {
   "cell_type": "code",
   "execution_count": null,
   "metadata": {
    "id": "rOHhfKj-cLen"
   },
   "outputs": [],
   "source": [
    "%reload_ext rpy2.ipython\n",
    "%config IPCompleter.greedy=True\n",
    "%config InlineBackend.figure_format = 'retina'"
   ]
  },
  {
   "cell_type": "markdown",
   "metadata": {
    "id": "Bd2dxU6pbqjX"
   },
   "source": [
    "## Data\n",
    "\n",
    "Lets load some data. This will download some tracking data from Browning et al (2018) and save it to your the Colab instance"
   ]
  },
  {
   "cell_type": "code",
   "execution_count": null,
   "metadata": {
    "colab": {
     "base_uri": "https://localhost:8080/"
    },
    "id": "56xd8xXhfpoX",
    "outputId": "ac94bd74-53b4-4ac5-8b9d-2617fa7f7b43"
   },
   "outputs": [],
   "source": [
    "!wget -O anon_gps_tracks_with_dive.zip https://www.dropbox.com/s/idm5zzqik7qpmwc/anon_gps_tracks_with_dive.csv.zip?dl=0"
   ]
  },
  {
   "cell_type": "code",
   "execution_count": null,
   "metadata": {
    "colab": {
     "base_uri": "https://localhost:8080/"
    },
    "id": "CyM25RwSgZ2c",
    "outputId": "f4baeaca-54c9-4e06-ad9b-c7b02e79d3f3"
   },
   "outputs": [],
   "source": [
    "!unzip anon_gps_tracks_with_dive.zip"
   ]
  },
  {
   "cell_type": "markdown",
   "metadata": {
    "id": "Smbb7vI-cZAX"
   },
   "source": [
    "Load the tracking data and make a quick plot of all the tracks..\n",
    "\n",
    "**Remember to include '%%R' at the start of a chunk when we're using R code**"
   ]
  },
  {
   "cell_type": "code",
   "execution_count": null,
   "metadata": {
    "colab": {
     "base_uri": "https://localhost:8080/"
    },
    "id": "jS564JwRcYKu",
    "outputId": "f34a0e86-6c97-4390-a0fc-4415080135ed"
   },
   "outputs": [],
   "source": [
    "%%R\n",
    "library(data.table)\n",
    "dat <- fread(\"anon_gps_tracks_with_dive.csv\")\n",
    "\n",
    "print(nrow(dat))\n",
    "head(dat)"
   ]
  },
  {
   "cell_type": "code",
   "execution_count": null,
   "metadata": {
    "colab": {
     "base_uri": "https://localhost:8080/",
     "height": 533
    },
    "id": "2dgpOzMjguYl",
    "outputId": "56d51323-7dc5-450e-98bc-38b85156dc81"
   },
   "outputs": [],
   "source": [
    "%%R\n",
    "library(ggplot2)\n",
    "\n",
    "# Quick plot of all tracks, separated by species\n",
    "ggplot(dat, aes(x=lon, y=lat, group=species, color=species)) + \n",
    "  geom_point() + facet_wrap(~species)"
   ]
  },
  {
   "cell_type": "markdown",
   "metadata": {
    "id": "igCEi7AHcqex"
   },
   "source": [
    "We've got a variety of columns including species (Guillemots [COGU], Shags [EUSH] and Razorbills [RAZO]), bird (the individual), latitude (lat), longitude (lon), altitude (alt), a unix timestamp (unix), the colony (colony2)"
   ]
  },
  {
   "cell_type": "markdown",
   "metadata": {
    "id": "bUSiiiiKnRn2"
   },
   "source": [
    "Might be nicer to see these on a map..."
   ]
  },
  {
   "cell_type": "code",
   "execution_count": null,
   "metadata": {
    "id": "XDR63tSsMb65"
   },
   "outputs": [],
   "source": [
    "%%R\n",
    "install.packages(\"mapdata\")"
   ]
  },
  {
   "cell_type": "code",
   "execution_count": null,
   "metadata": {
    "colab": {
     "base_uri": "https://localhost:8080/",
     "height": 497
    },
    "id": "lnSqEv_ym9zq",
    "outputId": "f7d5ff28-f961-44ae-b57c-7788b4836bf7"
   },
   "outputs": [],
   "source": [
    "%%R\n",
    "g <- ggplot(dat,aes(lon,lat, color = species, group = species))+\n",
    "  annotation_map(map_data(\"world\"))+ # Add the map as a base layer before the points\n",
    "  geom_point(pch=16)+\n",
    "  coord_quickmap()  # Sets aspect ratio\n",
    "plot(g)"
   ]
  },
  {
   "cell_type": "markdown",
   "metadata": {
    "id": "wyp0Vfia0um7"
   },
   "source": [
    "Or facetted by species..."
   ]
  },
  {
   "cell_type": "code",
   "execution_count": null,
   "metadata": {
    "colab": {
     "base_uri": "https://localhost:8080/",
     "height": 497
    },
    "id": "a9V9L8uInU5m",
    "outputId": "87b243b2-7b25-4545-de31-c47370e57a23"
   },
   "outputs": [],
   "source": [
    "%%R\n",
    "g <- ggplot(dat,aes(lon,lat, color = species, group = species))+\n",
    "  annotation_map(map_data(\"world\"))+ # Add the map as a base layer before the points\n",
    "  geom_point(pch=16)+\n",
    "  coord_quickmap()  + \n",
    "  facet_wrap(~species)\n",
    "plot(g)"
   ]
  },
  {
   "cell_type": "markdown",
   "metadata": {
    "id": "SuHcOTlTNR1E"
   },
   "source": [
    "How many birds are there for each species at each colony?"
   ]
  },
  {
   "cell_type": "code",
   "execution_count": null,
   "metadata": {
    "colab": {
     "base_uri": "https://localhost:8080/"
    },
    "id": "NlRKvKleMmR5",
    "outputId": "6b7d8ed7-3787-4422-fd48-47e9178d717f"
   },
   "outputs": [],
   "source": [
    "%%R\n",
    "\n",
    "library(dplyr)\n",
    "dat %>%\n",
    "  group_by(species, colony2) %>%\n",
    "  summarise(nbird = n_distinct(bird))"
   ]
  },
  {
   "cell_type": "markdown",
   "metadata": {
    "id": "QTBtCiYMd43f"
   },
   "source": [
    "## Metrics/Features\n",
    "\n",
    "## Speed\n",
    "\n",
    "One useful metric for thinking about tracking data is the speed with which an individual is moving. When moving slowly we may think it is behaving differently from when is moving quickly (e.g. resting vs commuting). Let's calculate speed for all individuals."
   ]
  },
  {
   "cell_type": "code",
   "execution_count": null,
   "metadata": {
    "id": "Th7vTRB7iOSw"
   },
   "outputs": [],
   "source": [
    "%%R\n",
    "# Install the geosphere package in order to get the distHaversine function for calculating (great circle) distances from lat/long\n",
    "install.packages(\"geosphere\")"
   ]
  },
  {
   "cell_type": "markdown",
   "metadata": {
    "id": "GrvhI-1A-OQh"
   },
   "source": [
    "Calculate speed for every individual..."
   ]
  },
  {
   "cell_type": "code",
   "execution_count": null,
   "metadata": {
    "id": "OGOF5m6EhuXZ"
   },
   "outputs": [],
   "source": [
    "%%R\n",
    "\n",
    "library(dplyr)\n",
    "\n",
    "# Function to calculate speed as dist in m / time\n",
    "haversine_speed <- function(lat2, lat1, long2, long1, time2, time1) {\n",
    "  dist_in_m = geosphere::distHaversine(cbind(long1, lat2), cbind(long2, lat2), r=6378137)\n",
    "  timediff <- time2 - time1\n",
    "  return(dist_in_m / timediff)\n",
    "}\n",
    "\n",
    "# Apply that function to each individual, arranged by time, along the lagged positions\n",
    "dat_with_speed = dat %>% \n",
    "  group_by(bird) %>%\n",
    "  arrange(bird, unix) %>% \n",
    "  mutate(speed_ms = haversine_speed(lat, lag(lat), lon, lag(lon), unix, lag(unix)))"
   ]
  },
  {
   "cell_type": "markdown",
   "metadata": {
    "id": "Rhl8V-BB-ZoW"
   },
   "source": [
    "Have a quick look at the speeds.."
   ]
  },
  {
   "cell_type": "code",
   "execution_count": null,
   "metadata": {
    "colab": {
     "base_uri": "https://localhost:8080/"
    },
    "id": "bfA-UaPQjno9",
    "outputId": "4809186e-f79a-4a61-be19-2c35ecffe76f"
   },
   "outputs": [],
   "source": [
    "%%R\n",
    "head(dat_with_speed$speed_ms)"
   ]
  },
  {
   "cell_type": "markdown",
   "metadata": {
    "id": "DgAAIXHe-cAR"
   },
   "source": [
    "Plot the speed distributions..."
   ]
  },
  {
   "cell_type": "code",
   "execution_count": null,
   "metadata": {
    "colab": {
     "base_uri": "https://localhost:8080/",
     "height": 497
    },
    "id": "mhpwD9Exd4FX",
    "outputId": "acaa01ae-0425-487c-8f07-2dd2aea780a9"
   },
   "outputs": [],
   "source": [
    "%%R \n",
    "\n",
    "m <- ggplot(dat_with_speed, aes(x=speed_ms, group=species, color = species)) + \n",
    "geom_histogram(binwidth = 0.1, alpha=0.6) \n",
    "m"
   ]
  },
  {
   "cell_type": "markdown",
   "metadata": {
    "id": "VHIth3YK-gkT"
   },
   "source": [
    "\n",
    "Might be useful to log transform data"
   ]
  },
  {
   "cell_type": "code",
   "execution_count": null,
   "metadata": {
    "colab": {
     "base_uri": "https://localhost:8080/",
     "height": 497
    },
    "id": "0a_1zS70ktNj",
    "outputId": "3ae45de3-f1ae-4270-9d41-31af542304b8"
   },
   "outputs": [],
   "source": [
    "%%R \n",
    "\n",
    "m <- ggplot(dat_with_speed, aes(x=speed_ms, group=species, fill = species)) + \n",
    "geom_histogram(binwidth = 0.1, alpha=0.6) +\n",
    "scale_x_log10()\n",
    "m"
   ]
  },
  {
   "cell_type": "markdown",
   "metadata": {
    "id": "cLC9eC51-i8Z"
   },
   "source": [
    "Or split by species"
   ]
  },
  {
   "cell_type": "code",
   "execution_count": null,
   "metadata": {
    "colab": {
     "base_uri": "https://localhost:8080/",
     "height": 497
    },
    "id": "gLiSCyL8k6rG",
    "outputId": "916e6d20-5104-4926-8aae-f944453cd0a4"
   },
   "outputs": [],
   "source": [
    "%%R\n",
    "m <- ggplot(dat_with_speed, aes(x=speed_ms, group=species, fill = species)) + \n",
    "geom_histogram(binwidth = 0.1, alpha=0.6) +\n",
    "scale_x_log10() +\n",
    "facet_wrap(~species)\n",
    "m"
   ]
  },
  {
   "cell_type": "markdown",
   "metadata": {
    "id": "mmXzvqGvn1vP"
   },
   "source": [
    "We could try plotting the tracks with speed to color the positions (to see where they are moving fast/slow)..."
   ]
  },
  {
   "cell_type": "code",
   "execution_count": null,
   "metadata": {
    "colab": {
     "base_uri": "https://localhost:8080/",
     "height": 497
    },
    "id": "IkpildjLlN3k",
    "outputId": "3c055ce8-b51f-4ac2-d587-7cb064b992c8"
   },
   "outputs": [],
   "source": [
    "%%R\n",
    "\n",
    "g <- ggplot(dat_with_speed, aes(lon, lat, color = speed_ms, group = species))+\n",
    "  annotation_map(map_data(\"world\"))+ # Add the map as a base layer before the points\n",
    "  geom_point(pch=16, alpha = 0.1)+\n",
    "  coord_quickmap()  + \n",
    "  facet_wrap(~species) + \n",
    "  scale_color_continuous(name = \"speed\", trans = \"log\")\n",
    "plot(g)"
   ]
  },
  {
   "cell_type": "markdown",
   "metadata": {
    "id": "wVQsozd6ox6I"
   },
   "source": [
    "... but it's very hard to discriminate anything at this scale - let's focus on one bird..."
   ]
  },
  {
   "cell_type": "code",
   "execution_count": null,
   "metadata": {
    "colab": {
     "base_uri": "https://localhost:8080/",
     "height": 497
    },
    "id": "BCBPpRKWo1_s",
    "outputId": "8066cf6c-d644-489b-e8fc-dc0189ef44b8"
   },
   "outputs": [],
   "source": [
    "%%R \n",
    "\n",
    "one_bird = subset(dat_with_speed, bird == 1)\n",
    "\n",
    "g <- ggplot(one_bird, aes(lon, lat, color = speed_ms, group = species))+\n",
    "  annotation_map(map_data(\"world\"))+ # Add the map as a base layer before the points\n",
    "  geom_point(pch=16, alpha = 0.1)+\n",
    "  coord_quickmap()  + \n",
    "  scale_color_continuous(name = \"speed\", trans = \"log\")\n",
    "plot(g)"
   ]
  },
  {
   "cell_type": "markdown",
   "metadata": {
    "id": "4Wgmd8o3pBU8"
   },
   "source": [
    "Here we can see some faster (lighter) locations and some slower (darker) locations, possibly where the bird is resting? "
   ]
  },
  {
   "cell_type": "markdown",
   "metadata": {
    "id": "plkzyQUuOcpS"
   },
   "source": [
    "Let's have a look at it's speed distribution"
   ]
  },
  {
   "cell_type": "code",
   "execution_count": null,
   "metadata": {
    "colab": {
     "base_uri": "https://localhost:8080/",
     "height": 497
    },
    "id": "Na4mFJDJ75oa",
    "outputId": "ec29eb8c-621f-4457-f0e7-883b9bbad7e2"
   },
   "outputs": [],
   "source": [
    "%%R\n",
    "# Might be useful to log transform data\n",
    "m <- ggplot(one_bird, aes(x=speed_ms, group=species, fill = species)) + \n",
    "geom_histogram(binwidth = 0.1, alpha=0.6) +\n",
    "scale_x_log10()\n",
    "m"
   ]
  },
  {
   "cell_type": "markdown",
   "metadata": {
    "id": "Yj5c7qJX1GdN"
   },
   "source": [
    "We could try clustering on speed, perhaps using kmeans?"
   ]
  },
  {
   "cell_type": "code",
   "execution_count": null,
   "metadata": {
    "colab": {
     "base_uri": "https://localhost:8080/"
    },
    "id": "1z69IFdu1GNO",
    "outputId": "67ac31b8-85dc-4f98-dc68-571384d516ef"
   },
   "outputs": [],
   "source": [
    "%%R\n",
    "\n",
    "kmeans_result = stats::kmeans(log10(na.omit(one_bird$speed_ms) + 1), 2, nstart = 25)\n",
    "\n",
    "print(summary(kmeans_result))\n",
    "\n",
    "print(kmeans_result$center)\n",
    "\n",
    "print(table(kmeans_result$cluster))"
   ]
  },
  {
   "cell_type": "markdown",
   "metadata": {
    "id": "ePT62VFB2WwP"
   },
   "source": [
    "Need to consider how many clusters there are..."
   ]
  },
  {
   "cell_type": "code",
   "execution_count": null,
   "metadata": {
    "colab": {
     "base_uri": "https://localhost:8080/"
    },
    "id": "72uvSeSl20Cg",
    "outputId": "9ba12da2-285b-4ea8-f220-b5af1fe19f4d"
   },
   "outputs": [],
   "source": [
    "%%R\n",
    "install.packages(\"factoextra\")"
   ]
  },
  {
   "cell_type": "markdown",
   "metadata": {
    "id": "0hngjkkoD_U0"
   },
   "source": [
    "Lets use the factoextra package to work out how many clusters are most likely...."
   ]
  },
  {
   "cell_type": "code",
   "execution_count": null,
   "metadata": {
    "colab": {
     "base_uri": "https://localhost:8080/",
     "height": 533
    },
    "id": "T7fIFNdX2WE_",
    "outputId": "11dbdffb-2f50-479b-a09a-fe2d9ce6fb5e"
   },
   "outputs": [],
   "source": [
    "%%R\n",
    "\n",
    "# Dropping NAs (here the first speed)\n",
    "one_bird$log_speed_ms_s <- scale(log10(one_bird$speed_ms + 1))\n",
    "\n",
    "library(factoextra)\n",
    "\n",
    "fviz_nbclust(na.omit(one_bird$log_speed_ms_s), kmeans, method = \"wss\") +\n",
    "geom_vline(xintercept = 3, linetype = 2)"
   ]
  },
  {
   "cell_type": "markdown",
   "metadata": {
    "id": "DbJvIbd76mhM"
   },
   "source": [
    "This suggests that (for this bird) 3 clusters might be the best fit, let's rerun kmeans with 3 centres.."
   ]
  },
  {
   "cell_type": "code",
   "execution_count": null,
   "metadata": {
    "id": "qFmUNftg6ugi"
   },
   "outputs": [],
   "source": [
    "%%R\n",
    "kmeans_result = stats::kmeans(log10(na.omit(one_bird$speed_ms) + 1), 3, nstart = 25)"
   ]
  },
  {
   "cell_type": "markdown",
   "metadata": {
    "id": "Ks0iLBet7jme"
   },
   "source": [
    "We can then apply these back to the bird data. Note the appended NA needed as the NA speed (first speed) was dropped above)"
   ]
  },
  {
   "cell_type": "code",
   "execution_count": null,
   "metadata": {
    "id": "VDGf_R8E7i-3"
   },
   "outputs": [],
   "source": [
    "%%R\n",
    "one_bird$behaviour = c(NA, kmeans_result$cluster)"
   ]
  },
  {
   "cell_type": "markdown",
   "metadata": {
    "id": "euALHRgU8Aec"
   },
   "source": [
    "And plot these behaviours on the birds track"
   ]
  },
  {
   "cell_type": "code",
   "execution_count": null,
   "metadata": {
    "colab": {
     "base_uri": "https://localhost:8080/",
     "height": 497
    },
    "id": "esmxkQgu8ADd",
    "outputId": "044abb71-598d-4307-bdc6-49ad3c238bc9"
   },
   "outputs": [],
   "source": [
    "%%R\n",
    "\n",
    "g <- ggplot(one_bird, aes(lon, lat, color = factor(behaviour), group = species))+\n",
    "  annotation_map(map_data(\"world\"))+ # Add the map as a base layer before the points\n",
    "  geom_point(pch=16)+\n",
    "  coord_quickmap()  \n",
    "plot(g)"
   ]
  },
  {
   "cell_type": "markdown",
   "metadata": {
    "id": "Bh7OixmkpqKR"
   },
   "source": [
    "## Metrics - tortuosity"
   ]
  },
  {
   "cell_type": "markdown",
   "metadata": {
    "id": "zWBO2N27QdYC"
   },
   "source": [
    "Tortuosity or straightness, can be calculated in a number of ways. Here we're going to use turning angles and step-lengths along our paths."
   ]
  },
  {
   "cell_type": "markdown",
   "metadata": {
    "id": "-e2DvA-EptRm"
   },
   "source": [
    "For this, let's lean on one of the many available R packages for analysing tracks (moveHMM)\n",
    "\n",
    "https://cran.r-project.org/web/packages/moveHMM/vignettes/moveHMM-guide.pdf"
   ]
  },
  {
   "cell_type": "code",
   "execution_count": null,
   "metadata": {
    "colab": {
     "base_uri": "https://localhost:8080/"
    },
    "id": "Cj3ejWQFtGvL",
    "outputId": "4bb23803-0858-46fe-ab2d-6094bcc36b8d"
   },
   "outputs": [],
   "source": [
    "%%R\n",
    "\n",
    "install.packages(\"moveHMM\")"
   ]
  },
  {
   "cell_type": "markdown",
   "metadata": {
    "id": "oXpHof9Uu0OM"
   },
   "source": [
    "We can use the package moveHMM to calculate step-length and turning-angle"
   ]
  },
  {
   "cell_type": "code",
   "execution_count": null,
   "metadata": {
    "colab": {
     "base_uri": "https://localhost:8080/"
    },
    "id": "vKm4iV-StKD6",
    "outputId": "c388ed5b-f55f-4b65-878d-71e1d845591a"
   },
   "outputs": [],
   "source": [
    "%%R\n",
    "library(moveHMM)\n",
    "\n",
    "data <- prepData(one_bird, type=\"LL\", coordNames=c(\"lon\", \"lat\"))"
   ]
  },
  {
   "cell_type": "markdown",
   "metadata": {
    "id": "nLpauQo9uum8"
   },
   "source": [
    "Quick plot of the track with step-length and turning-angle calculated by moveHMM"
   ]
  },
  {
   "cell_type": "code",
   "execution_count": null,
   "metadata": {
    "colab": {
     "base_uri": "https://localhost:8080/",
     "height": 977
    },
    "id": "uipq9y6Rtax1",
    "outputId": "8e777a9f-d03a-4c4f-d3b5-5cb685841411"
   },
   "outputs": [],
   "source": [
    "%%R\n",
    "\n",
    "plot(data, compact=TRUE, ask=FALSE)"
   ]
  },
  {
   "cell_type": "markdown",
   "metadata": {
    "id": "PP4a2QJYDQ_2"
   },
   "source": [
    "### Trajectory straightness index, E-max\n",
    "\n",
    "(from https://github.com/JimMcL/trajr/blob/master/R/straightness.R)\n",
    "\n",
    "Emax, the maximum expected displacement, is a single-valued measure of straightness defined by (Cheung, Zhang, Stricker, & Srinivasan, 2007). Emax-a is a dimensionless, scale-independent measure of the maximum possible expected displacement. Emax-b is \\code{Emax-a * mean step length}, and gives the maximum possible expected displacement in spatial units. Values closer to 0 are *more* sinuous, while larger values (approaching infinity) are straighter."
   ]
  },
  {
   "cell_type": "markdown",
   "metadata": {
    "id": "idcWmmUzQrvP"
   },
   "source": [
    "Calculate the strightness index (e-max) by calculating the mean cos(turning_angle) and the mean step-length within a window (here 20 samples)."
   ]
  },
  {
   "cell_type": "code",
   "execution_count": null,
   "metadata": {
    "id": "xdxe_D-LxprC"
   },
   "outputs": [],
   "source": [
    "%%R\n",
    "\n",
    "data <- data %>%\n",
    "  mutate(mean_angle = frollmean(cos(angle), n = 20, fill = NA, align = \"left\"),\n",
    "         mean_step = frollmean(step, n = 20, fill = NA, align = \"left\"),\n",
    "         emaxb = mean_step * mean_angle / (1 - mean_angle))"
   ]
  },
  {
   "cell_type": "code",
   "execution_count": null,
   "metadata": {
    "colab": {
     "base_uri": "https://localhost:8080/",
     "height": 497
    },
    "id": "vJdOePnwuTDR",
    "outputId": "39515732-6d73-44ff-9305-c7e3978ae226"
   },
   "outputs": [],
   "source": [
    "%%R\n",
    "plot(log10(data$step), log10(data$emaxb))"
   ]
  },
  {
   "cell_type": "markdown",
   "metadata": {
    "id": "UloNLM-WEF_Y"
   },
   "source": [
    "We could now apply kmean to this metric, but let's apply it to speed and straightness together."
   ]
  },
  {
   "cell_type": "code",
   "execution_count": null,
   "metadata": {
    "colab": {
     "base_uri": "https://localhost:8080/",
     "height": 497
    },
    "id": "T1xn6TkWHPwK",
    "outputId": "9f25e250-eada-44c1-cb9f-4b20208dd0b7"
   },
   "outputs": [],
   "source": [
    "%%R\n",
    "\n",
    "library(factoextra)\n",
    "\n",
    "fviz_nbclust(na.omit(cbind(log10(data$speed_ms), log10(data$emaxb))), kmeans, method = \"wss\") +\n",
    "  geom_vline(xintercept = 3, linetype = 2)"
   ]
  },
  {
   "cell_type": "code",
   "execution_count": null,
   "metadata": {
    "id": "FG1dZLtRDs5c"
   },
   "outputs": [],
   "source": [
    "%%R\n",
    "\n",
    "kmeans_result = stats::kmeans(na.omit(cbind(data$speed_ms, data$emaxb)), 3, nstart = 25)"
   ]
  },
  {
   "cell_type": "code",
   "execution_count": null,
   "metadata": {
    "id": "iLta-XHQGqnd"
   },
   "outputs": [],
   "source": [
    "%%R\n",
    "\n",
    "data$behaviour = -1 \n",
    "data$behaviour[complete.cases(data)] = kmeans_result$cluster"
   ]
  },
  {
   "cell_type": "code",
   "execution_count": null,
   "metadata": {
    "colab": {
     "base_uri": "https://localhost:8080/",
     "height": 497
    },
    "id": "w9KeAsiaGh0D",
    "outputId": "156d59d0-33bf-450a-a312-7058de575e95"
   },
   "outputs": [],
   "source": [
    "%%R\n",
    "\n",
    "g <- ggplot(data, aes(x, y, color = factor(behaviour), group = species)) +\n",
    "  annotation_map(map_data(\"world\"))+ # Add the map as a base layer before the points\n",
    "  geom_point(pch=16)+\n",
    "  coord_quickmap() \n",
    "plot(g)"
   ]
  },
  {
   "cell_type": "code",
   "execution_count": null,
   "metadata": {
    "colab": {
     "base_uri": "https://localhost:8080/"
    },
    "id": "Vpr6Umo4G-NB",
    "outputId": "8e53d9fa-77a0-43a2-8a47-77666271b859"
   },
   "outputs": [],
   "source": [
    "%%R\n",
    "kmeans_result$centers"
   ]
  },
  {
   "cell_type": "markdown",
   "metadata": {
    "id": "DRUB4Ew_USRo"
   },
   "source": [
    "# Other metrics?\n",
    "\n",
    "Can you think/calculate other metrics to include in the models?"
   ]
  },
  {
   "cell_type": "markdown",
   "metadata": {
    "id": "OwYQvRRWI71F"
   },
   "source": [
    "# Gaussian mixture models\n",
    "\n",
    "The same process can be done with a gaussian mixture model (GMM) using the `mclust` package"
   ]
  },
  {
   "cell_type": "code",
   "execution_count": null,
   "metadata": {
    "id": "DVOg5IZBI5XQ"
   },
   "outputs": [],
   "source": [
    "%%R\n",
    "\n",
    "install.packages(\"mclust\")"
   ]
  },
  {
   "cell_type": "code",
   "execution_count": null,
   "metadata": {
    "colab": {
     "base_uri": "https://localhost:8080/"
    },
    "id": "CI7b1rIuI5Ug",
    "outputId": "7af32117-2315-4ac5-9c57-eb91bb5d0a4d"
   },
   "outputs": [],
   "source": [
    "%%R\n",
    "\n",
    "library(mclust)"
   ]
  },
  {
   "cell_type": "markdown",
   "metadata": {
    "id": "D688vN_NJH7K"
   },
   "source": [
    "First we can fit a range of models to the data and see how they compare"
   ]
  },
  {
   "cell_type": "code",
   "execution_count": null,
   "metadata": {
    "colab": {
     "base_uri": "https://localhost:8080/",
     "height": 533
    },
    "id": "tggI1ybkI5R0",
    "outputId": "4d3d53a9-6aef-4859-cc61-be2866e98229"
   },
   "outputs": [],
   "source": [
    "%%R\n",
    "\n",
    "BIC <- mclustBIC(cbind(data$log_speed_ms_s, data$log_emaxb_s))\n",
    "plot(BIC)"
   ]
  },
  {
   "cell_type": "markdown",
   "metadata": {
    "id": "zKhLVXuvJN49"
   },
   "source": [
    "Then use the results of this to select a model..."
   ]
  },
  {
   "cell_type": "code",
   "execution_count": null,
   "metadata": {
    "colab": {
     "base_uri": "https://localhost:8080/"
    },
    "id": "7SrlCbT8JQV3",
    "outputId": "2e2d13bd-3c4d-4700-ed97-943462b3c0d3"
   },
   "outputs": [],
   "source": [
    "%%R\n",
    "\n",
    "mod1 <- Mclust(cbind(data$log_speed_ms_s, data$log_emaxb_s), x = BIC)\n",
    "summary(mod1, parameters = TRUE)"
   ]
  },
  {
   "cell_type": "markdown",
   "metadata": {
    "id": "zrNcBZmLJS91"
   },
   "source": [
    "And we can plot the classifications and uncertainty from this model.."
   ]
  },
  {
   "cell_type": "code",
   "execution_count": null,
   "metadata": {
    "colab": {
     "base_uri": "https://localhost:8080/",
     "height": 497
    },
    "id": "WPwBRDHMJSP3",
    "outputId": "9e8672f1-ba36-4365-cac5-f18cb907e79a"
   },
   "outputs": [],
   "source": [
    "%%R\n",
    "\n",
    "plot(mod1, what=\"classification\")"
   ]
  },
  {
   "cell_type": "code",
   "execution_count": null,
   "metadata": {
    "colab": {
     "base_uri": "https://localhost:8080/",
     "height": 497
    },
    "id": "benAZWkTJZRW",
    "outputId": "ff6058e2-b2a7-4914-b6a2-2cc442571bb0"
   },
   "outputs": [],
   "source": [
    "%%R\n",
    "\n",
    "plot(mod1, what=\"uncertainty\")"
   ]
  },
  {
   "cell_type": "markdown",
   "metadata": {
    "id": "TG3NkAzsJ4Tt"
   },
   "source": [
    "We can extract the model classifications and apply them to the trajectory..."
   ]
  },
  {
   "cell_type": "code",
   "execution_count": null,
   "metadata": {
    "id": "_C5OBzMOJhI_"
   },
   "outputs": [],
   "source": [
    "%%R\n",
    "\n",
    "data$gmm_behaviour = mod1$classification"
   ]
  },
  {
   "cell_type": "markdown",
   "metadata": {
    "id": "e1iJqtoHJs1T"
   },
   "source": [
    "And plot the resulting classifications..."
   ]
  },
  {
   "cell_type": "code",
   "execution_count": null,
   "metadata": {
    "colab": {
     "base_uri": "https://localhost:8080/",
     "height": 497
    },
    "id": "CXYdQUAxJrH7",
    "outputId": "dac45bbc-13ce-4312-dfeb-8de5b0ccaabb"
   },
   "outputs": [],
   "source": [
    "%%R\n",
    "\n",
    "g <- ggplot(data, aes(x, y, color = factor(behaviour), group = species)) +\n",
    "  annotation_map(map_data(\"world\"))+ # Add the map as a base layer before the points\n",
    "  geom_point(pch=16)+\n",
    "  coord_quickmap() \n",
    "plot(g)"
   ]
  },
  {
   "cell_type": "markdown",
   "metadata": {
    "id": "lFhecFuXUmOJ"
   },
   "source": [
    "Importantly, the GMM is a probabilistic model, we can obtain the probabilities of each sample coming from each class:"
   ]
  },
  {
   "cell_type": "code",
   "execution_count": null,
   "metadata": {
    "id": "pbsHSECvUs50"
   },
   "outputs": [],
   "source": [
    "head(mod1$z)"
   ]
  },
  {
   "cell_type": "markdown",
   "metadata": {
    "id": "CPHKEYJYEdHW"
   },
   "source": [
    "## Hidden Markov Models\n",
    "\n"
   ]
  },
  {
   "cell_type": "markdown",
   "metadata": {
    "id": "HK5QcnS1E9vA"
   },
   "source": [
    "We can also fit Hidden-markov models which better capture the temporal dymnamics of a time-series. These models (or similar 'state-space models') are now frequently used to model animal movement data. Either to capture behavioural-states (as here) or to estimate errors associated with movement states.\n",
    "\n",
    "These models simultaneously fit distributions for the metrics we care about (step-length, turning-angle) while also assuming that these distirbutions differ with the animals behaviour. We can specifiy how many of these 'states' we think there should be and fit a model.\n",
    "\n",
    "The model will estimate both parameters for the mean/sd of each state, but also the transition probabilities between them (the probability of being in state X/Y at the next iteration, when you are in state X or Y now)T"
   ]
  },
  {
   "cell_type": "code",
   "execution_count": null,
   "metadata": {
    "id": "w3lPWNS9EfUA"
   },
   "outputs": [],
   "source": [
    "%%R\n",
    "###\n",
    "# Hidden Markov Models\n",
    "###\n",
    "\n",
    "# Priors\n",
    "\n",
    "# Starting values for the step length parameters\n",
    "stepMean0 <-c (0.1, 1.0, 1.0)  # initial means (one for each state)\n",
    "stepSD0 <- c(\n",
    "    0.1, 0.7, 1.0\n",
    ")  # initial standard deviations (one for each state) stepPar0 <- c(stepMean0, stepSD0)\n",
    "stepPar0 <- c(\n",
    "    stepMean0, stepSD0\n",
    ")  ### starting values for step angle distribution parameters\n",
    "\n",
    "# zeromass0 <- c(0.1, 0.05) # step zero-mass\n",
    "angleMean0 <- c(pi, 0, pi)  # turning angle mean of each state\n",
    "kappa0 <- c(0.01, 8, 0.5)  # angle concentration\n",
    "anglePar0 <- c(\n",
    "    angleMean0, kappa0\n",
    ")  # starting values for the parameters of the turning angle distributions\n",
    "\n",
    "## call to fitting function\n",
    "# ***\n",
    "# ** One-state model, e.g. a NULL model with no transitions (should be roughtly equivalent to a GMM)\n",
    "# ***\n",
    "m_1 <- fitHMM(\n",
    "    data=data,\n",
    "    nbStates=1,\n",
    "    stepPar0=stepPar0[c(1, 4)],\n",
    "    anglePar0=anglePar0[c(1, 4)],\n",
    "    formula=~1,\n",
    ")\n",
    "\n",
    "### get info from model\n",
    "m_1"
   ]
  },
  {
   "cell_type": "markdown",
   "metadata": {
    "id": "KiGqkbyME2CK"
   },
   "source": [
    "Fit a two-state model using two parameters from the stepLength and angle priors "
   ]
  },
  {
   "cell_type": "code",
   "execution_count": null,
   "metadata": {
    "id": "SAIDyI-bEjCq"
   },
   "outputs": [],
   "source": [
    "\n",
    "\n",
    "# Note the plotting doesn't work (as 1-state model i think!)\n",
    "#plot(m_1, plotCI=TRUE, ask = F)\n",
    "\n",
    "###\n",
    "# 2-state model\n",
    "###\n",
    "\n",
    "## call to fitting function\n",
    "m_2 <- fitHMM(data=data,\n",
    "              nbStates=2,\n",
    "              stepPar0=stepPar0[c(1:2,4:5)],\n",
    "              anglePar0=anglePar0[c(1:2,4:5)],\n",
    "              formula = ~1)\n",
    "\n",
    "### get info from model\n",
    "m_2\n",
    "plot(m_2, plotCI=TRUE, ask = F)"
   ]
  },
  {
   "cell_type": "markdown",
   "metadata": {
    "id": "ZOm5pE_jEnis"
   },
   "source": [
    "Fit a three-state model using all of the parameters\n"
   ]
  },
  {
   "cell_type": "code",
   "execution_count": null,
   "metadata": {
    "id": "k8F-DwQCEkCu"
   },
   "outputs": [],
   "source": [
    "###\n",
    "# 3-state model\n",
    "###\n",
    "\n",
    "## call to fitting function\n",
    "m_3 <- fitHMM(data=data, nbStates=3, stepPar0=stepPar0, anglePar0=anglePar0, formula=~1)\n",
    "\n",
    "### get info from model\n",
    "m_3\n",
    "plot(m_3, plotCI=TRUE, ask=F)"
   ]
  },
  {
   "cell_type": "markdown",
   "metadata": {
    "id": "eD_kjdprElBP"
   },
   "source": [
    "And compare the AIC of each model (lower is better)"
   ]
  },
  {
   "cell_type": "code",
   "execution_count": null,
   "metadata": {
    "id": "HYppOmfjEkr1"
   },
   "outputs": [],
   "source": [
    "# Compare AICs - here a 2-state model is favoured\n",
    "AIC(m_1, m_2, m_3)"
   ]
  },
  {
   "cell_type": "markdown",
   "metadata": {
    "id": "EJMKYCmvJZ6H"
   },
   "source": [
    "## How could we use these probabilities?"
   ]
  },
  {
   "cell_type": "markdown",
   "metadata": {
    "id": "qlOJ4vezKA1o"
   },
   "source": [
    "## Some further things to try\n",
    "\n",
    "\n",
    "\n",
    "### Other birds\n",
    "* Can you apply a classification to all of the individuals from one colony/species?\n",
    "** How do the number of states differ between individuals (does this change if run the models across all of them individually/together?)\n",
    "\n",
    "### HMMs on haggis\n",
    "There's a walk through of how to apply an HMM to 'Haggis' tracks here:\n",
    "https://cran.r-project.org/web/packages/moveHMM/vignettes/moveHMM-example.pdf\n",
    "\n",
    "### Accleration data\n",
    "* You could try applying these to the acceleration data we collected on Wed, that data is here: https://www.dropbox.com/s/8p1v0xzvuy1q0qf/all_csv_data_msc_datascience_2023.csv.zip?dl=0 (45Mb compressed, uncompresses to 700Mb)\n",
    "\n",
    "### Deep learning\n",
    "* In Browning et al (2018), we were able to predict dives using just the lat/lon data - can you predict dives using these data?\n",
    "** To constuct matrices for predictions, we used an embedding matrix (a matrix where each row is from a different time point across a rolling window). In `r`, you can construct these using `embed`\n",
    "** Can you predict `species` using the movement data?"
   ]
  }
 ],
 "metadata": {
  "colab": {
   "provenance": []
  },
  "gpuClass": "standard",
  "kernelspec": {
   "display_name": "Python 3 (ipykernel)",
   "language": "python",
   "name": "python3"
  },
  "language_info": {
   "codemirror_mode": {
    "name": "ipython",
    "version": 3
   },
   "file_extension": ".py",
   "mimetype": "text/x-python",
   "name": "python",
   "nbconvert_exporter": "python",
   "pygments_lexer": "ipython3",
   "version": "3.10.9"
  }
 },
 "nbformat": 4,
 "nbformat_minor": 4
}
